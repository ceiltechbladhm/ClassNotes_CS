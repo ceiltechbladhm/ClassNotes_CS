{
 "cells": [
  {
   "cell_type": "markdown",
   "metadata": {},
   "source": [
    "# Exam 1"
   ]
  },
  {
   "cell_type": "markdown",
   "metadata": {},
   "source": [
    "## Lecture 1"
   ]
  },
  {
   "cell_type": "markdown",
   "metadata": {},
   "source": [
    "Terms to know:\n",
    "\n",
    "* Anterior-Posterior\n",
    "* Rostral-caudal\n",
    "* Dorsal-ventral\n",
    "* Superior-Inferior\n",
    "* Coronal - slices through the middle (through arms in body, acorss central sulcus in the brain)\n",
    "* Sagittal - Slices along central fissure\n",
    "* Horizontal - slices through gut\n",
    "* Medial - Towards middle\n",
    "* Lateral - Towards sides\n",
    "* Cerebral Cortex (and all the lobes) - frontal cortex\n",
    "* Dermatome - area of skin that is mainly supplied by a single spinal nerve"
   ]
  },
  {
   "cell_type": "markdown",
   "metadata": {},
   "source": [
    "## Lecture 2"
   ]
  },
  {
   "cell_type": "markdown",
   "metadata": {},
   "source": [
    "* Zygote \n",
    "* Gastrulation - begins with the local invagination of a subset of cells in the very early embryo. Sets up body axis. In 18 days, gastrulation is complete. Then begin neurulation.\n",
    "* Germ Layers - three layers of cells within the early embryo. \n",
    "    * Ectoderm - Nervous system, skin\n",
    "    * Mesoderm - bones\n",
    "    * Endoderm - gut\n",
    "* Organizer - initially dorsal lip. Directs cells to become 1 of 3 germ layers.\n",
    "* Nerurulation - after gastulation. Nervious system beings to develop. Initially directed by notochord. \n",
    "* Neural Plate - Becomes CNS. From portions of ectoderm where primitive streak was. \n",
    "* Neural Fold - anterior end of neural tube. \n",
    "* Neural Tube - Becomes spine.\n",
    "* Neural Crest - Becomes PNS, dorsal root ganglia, adrenal medulla\n",
    "* Anencephaly - absence of major portions of brain/skull\n",
    "* Spina bifida - incomplete closure of spine due to defects in neural tube development. Prevented by follic acid (Vitamin B9)\n",
    "* Prosencephalon - balloons from the cephalic flexure, will eventually turn into the forebrain, optic, diencephalon\n",
    "* Mesencephalon - will form the midbrain forms as a bulge above the cephalic flexure.\n",
    "* rhobencephalon - will form the hind brain. Will form from the long straingt stretch between the cephalic flrexure. brain stem\n",
    "* telencephalon - lateral aspects of the rostral prosencephalon. Formation will cause it to baloon outwards. These bumps are telencephalon. Encorperates some ventricals. Will become cerebral cortex, olfactory bulb.\n",
    "    * Optic cup - neural portion of the retina will form\n",
    "* Diencephalon - more caudal portion of the prosencephalon. A balloon underneath the telencephalon. Contains rudiments ofthe thalamos and hypothalamus. Also contains the optic cups.\n",
    "* Metencephalon - Comes from the rostral part of the rhombencephalon. Gives rise to the cerebellum and pons.\n",
    "* Myelencephalon - Comes from caudal part of the rhombencephalon. Gives rise to the medulla\n",
    "* Morphogens - molecule whose concentration gives rise to cell fate determination. Organizer. A secreted signalling molecule which acts directly on the cell (not through serial induction) to produce specific responses which depend on morphagen concentration.\n",
    "* TGF-$\\beta$ family\n",
    "* BMP - Bone Morphogenic Protiens. Important for neural induction and differentiation. Can differentiate between cells turning into skin or neuron.\n",
    "* BMP inhibitor - Noggin and Chortin. Bind to BMP receptors to prevent BMP uptake into cell, preventing differentiation.\n",
    "* retinoic acid\n",
    "* FGF\n",
    "* Wnts\n",
    "* regionalization\n",
    "* segmentation\n",
    "* rostral-caudal patterning\n",
    "* dorsal-ventral patterning"
   ]
  },
  {
   "cell_type": "markdown",
   "metadata": {},
   "source": [
    "Notes as I go\n",
    "\n",
    "The formation of the notochord is from mesodermal cells.  Located inferior to the neural tube.\n",
    "Notochord - disappears after early deveolpment. specifies basic topography of embryo, determines position of nervous system.\n",
    "\n",
    "Primitive pit -> Primitive streak\n",
    "\n",
    "The ectoderm which is above the notochord is called the neuroectoderm\n",
    "\n",
    "\n",
    "Cephalic flexure - a knobule which lies between the mesencephalin and the rhombencephalon. It is at the end of the handle nearest the sharpest bend.\n",
    "\n",
    "Early nurulation - notochord forms by invagination of the mesoderm in the place of the primitive streak. The ectoderm overlying the notochord \n",
    "\n",
    "Dorsal lip - early formation of a buldge. \n",
    "\n",
    "Hypoblast - becomes tropoblast, which becomes placenta\n",
    "\n",
    "Epiblast\n",
    "\n",
    "Convergence - the neural tube forms (20 days). Neural crests form, move to close the tube. \n",
    "\n",
    "Neuromere - repeating segments along neural tube. Led to discovery of segmentation."
   ]
  },
  {
   "cell_type": "markdown",
   "metadata": {
    "collapsed": true
   },
   "source": [
    "## Lecture 3"
   ]
  },
  {
   "cell_type": "markdown",
   "metadata": {},
   "source": [
    " Terms to know:\n",
    " \n",
    "* neurogenesis - process by which neurons are generated.\n",
    "* neuronal morphology\n",
    "    * axon\n",
    "    * dendrite\n",
    "    * unipolar\n",
    "    * bipolar\n",
    "    * pseudo-unipolar\n",
    "    * multipolar\n",
    "* gliogenesis\n",
    "    * astroglia\n",
    "    * oligodendrocytes\n",
    "* microglia\n",
    "* Delta/Notch signaling - interactions between these two things cause differentiation of neuron types.\n",
    "* gliogenesis\n",
    "* radial migration\n",
    "* cortical layering\n",
    "* tangential migration"
   ]
  },
  {
   "cell_type": "markdown",
   "metadata": {},
   "source": [
    "## Lectures 4+5"
   ]
  },
  {
   "cell_type": "markdown",
   "metadata": {},
   "source": [
    "* Membrane Potential - voltage of the cell membrane. Usually between -40 to -90 mV. Class will use -80 mV for problems. \n",
    "* Voltage - Electric potential caused by a difference in charges (or ion concentration in a specific case)\n",
    "* Ion Current - Ions flowing. Follows positive ions; positive ion flowing out, current goes out. Negative ion flows out, current goes in.\n",
    "* Membrane permeability - How well ions can move across\n",
    "* Depolarization - membrane potential becomes more positive than the resting potential.\n",
    "* Hyperpolarization - Membrane potential becomes more negative than the resting potential\n",
    "* Threshold - if the membrane potential becomes lower than this, an action potential (signal) is sent\n",
    "* Passive resonse - Hyperpolarization occurs - no signal is sent, the membrane potential merely gets more negative.\n",
    "* Active Response - \n",
    "* Inward Current - positive ions flowing into the cell\n",
    "* Outward Current - positive ionds flowing out of the cell\n",
    "* Nernest Equation - \n",
    "* Goldman Equation\n",
    "* Voltage-gated ion channel\n",
    "* Ion transporter\n",
    "* Driving Force\n",
    "* Concentration gradient\n",
    "* Electrical gradient\n",
    "* Electrochemical Gradient\n",
    "* Conductance\n",
    "* Current\n",
    "* Equilibrium Potential"
   ]
  },
  {
   "cell_type": "markdown",
   "metadata": {},
   "source": [
    "## Lectures 6+7"
   ]
  },
  {
   "cell_type": "markdown",
   "metadata": {},
   "source": [
    "* Action Potential -a self-regenerating wave of electricity across the membrane of a cell\n",
    "* All-or-none - A cell will fire \n",
    "* AP frequency - One way in which \n",
    "* AP amplitude\n",
    "* Rising phase\n",
    "* Overshoot\n",
    "* Falling phase\n",
    "* Myelination - A wrapping of the axons in insulative material to make signals propagate faster. In the cns, this is done by oligodendrocytes; one oligodendrocyte is attached to multiple axons, and it also requires multiple oligodendrocytes to cover a single axon. In the PNS, Schwann cells myelinate the axons; one Schwann cell covers part of one axon, and it requires multiple Schwann cells to cover each axon. \n",
    "* Saltatory propagation - action potentials propagate along the myelated axons, being regenerated by the Nodes of Ranvier. This is faster than normal propagation \n",
    "* Nodes of Ranvier - the area between mylinated portions of the axon. Here, additional voltage gated channels open, thus regenerating the action potential."
   ]
  },
  {
   "cell_type": "markdown",
   "metadata": {},
   "source": [
    "## Lectures 8+9"
   ]
  },
  {
   "cell_type": "markdown",
   "metadata": {},
   "source": [
    "* Patch clamp - A method of recording neurons by suctioning onto them with a glass pippette\n",
    "* Whole cell recording - attaching to the membrane of the nerve cell allows the current through the whole cell to be recorded.\n",
    "* Single channel recording\n",
    "* Probability of channel opening\n",
    "* Conductance of channel\n",
    "* Single Channel conductance\n",
    "* Whole cell current\n",
    "* Depolarization/rising phase\n",
    "* Repolarization/falling phase\n",
    "* hyperpolarization\n",
    "* Refractory period\n",
    "* Alpha helix\n",
    "* Membrane spanning\n",
    "* Pore loop\n",
    "* Voltage sensor\n",
    "* Voltage-gated channels\n",
    "* Ligand-gated channels\n",
    "* Mutational analysis"
   ]
  },
  {
   "cell_type": "markdown",
   "metadata": {},
   "source": [
    "# Exam 2"
   ]
  },
  {
   "cell_type": "markdown",
   "metadata": {},
   "source": [
    "## Lecture 11 + 12"
   ]
  },
  {
   "cell_type": "markdown",
   "metadata": {},
   "source": [
    "* Neuron vs reticular network theory\n",
    "* synapse hypothesis\n",
    "* Synaptic vesicle hypothesis\n",
    "* Electronic synapse\n",
    "* Chemical Synapse\n",
    "* Gap junciton\n",
    "* Pre-synaptic membrane\n",
    "* Post-synaptic Membrane\n",
    "* Synaptic cleft - small space between neuron synapses\n",
    "* Neurotransmitter - chemical messengers which pass messages between neurons\n",
    "* Synaptic vesicle\n",
    "* Action Potential\n",
    "* Neuromuscular Junction\n",
    "* End plate potential\n",
    "* Stimulated/evoked release\n",
    "* Spontaneous release\n",
    "* Mini-end plate potential - small potentials on the end plate of the Neuromuscular Junction. \n",
    "* Quantal content\n",
    "* Calcium chelator\n",
    "* Cadmium\n",
    "\n",
    "Notes as I go:\n",
    "\n",
    "ACh causes ion channels to open in the muscle fiber. \n",
    "\n",
    "Calcium influx on pre-synaptic side leads to vesicle release. "
   ]
  },
  {
   "cell_type": "markdown",
   "metadata": {},
   "source": [
    "# Lectures 15-17"
   ]
  },
  {
   "cell_type": "markdown",
   "metadata": {},
   "source": [
    "* Pumps vs transporter vs co-transporter\n",
    "* Properties that define a NM\n",
    "* conventional vs unconventional NT\n",
    "* NT synthesis\n",
    "* Small molecule neurotransmitters - smaller than neuropeptides; glutamate and GABA (both amino acids) and ACh, serotonin, and histamine.\n",
    "* Peptide NT\n",
    "* Co-transmitter\n",
    "* Ligan-gated receptor\n",
    "* Metabotropic receptor\n",
    "* G-protein\n",
    "* Receptor subunits\n",
    "* Receptor architecture\n",
    "* Factors that regulate receptor function\n",
    "* Vesicular transporters\n",
    "* Re-uptake transporters\n",
    "* Enzymatic degradation\n",
    "* REtrograde signaling\n",
    "* Excitotoxicity - glutamate (and other NTs) left in the synaptic cleft for too long and literally excite a neuron to death.\n",
    "\n",
    "Neuropeptide - relatively large transmitter moledules. Smaller, such\n",
    "\n",
    "ACh - excitatory, removed by acetylcholineesterase (AChE). Made in terminal. VAChT transports molecules into each vesicle. Used in NMJ, vagus nerve and cardiac muscle fibers. ACh is decomposed into choline and acetate; choline is reuptaken through cotransport with Na+\n",
    "\n",
    "Sarin - inhibit AChE, allowing ACh to accumulate in the synaptic cleft\n",
    "\n",
    "Post synaptic actions of ACh modulated by nicotinic ACh receptor. Passes Na+ and K+. Generate excitatory post-synapic responses. Requires 2 ACh molecules to activate -> requires high ACh concentration. \n",
    "\n",
    "Musacarinic ACh receptors (mAChRs), mediate most of the effects of ACh in the bain. 5 subtypes; found in hippocampus, ganglia, and PNS. mediate heart rate and smooth muscles.\n",
    "\n",
    "\n",
    "Glutamate - most important for normal brain function. Almost all cells in CNS are glutamatergic. Glutamate is taken into glial cells through the EAAT, turned intoglutamine, output by SN1, then taken back into the presynaptic terminal through SAT2. Glu\n",
    "\n",
    "Receptors (all pass Na+ and K+)\n",
    "* AMPA - large and quick response\n",
    "* NMDA - low and slow. Also allows Ca+2. Blocked by Mg+2, but becomes unblocked when a voltage threshold is passed. Therefore, usually requires the presence of both glutamate and a depolarization to fire.\n",
    "* Kainate - low and slowest (although close to NMDA)\n",
    "\n",
    "GABA and Glycine\n",
    "Generally inhibitors. \n",
    "\n",
    "\n",
    "\n",
    "Receptors:\n",
    "* ACh\n",
    "    * nAChR - nicotinic acetylcholine receptors (ligand gated ion channel). \n",
    "        * Agonists: acetylcholine, nicotine\n",
    "        * Antagonists: Mecamylamine (car sickness medicine)\n",
    "    * mAChR - muscarinic acetylcholine receptor (GPCR) (7 transmember domains - typical number)\n",
    "        * Agonist: acetylcholine, Muscrarine\n",
    "        * Agonists: Atropine, scopolamine\n",
    "        * slows down heart when ACh applied from vagal nerve\n",
    "* S\n",
    "\n",
    "Precursors:\n",
    "* ACh - Choline Acetyltransferase (CHAT)\n",
    "* Glutamate - Glutamine -> Glutaminase -> Glutamate\n",
    "* GABA - glucose -> Glutamate -> GABA\n",
    "\n",
    "Removal:\n",
    "* ACh - acetylcholinesterase (degredation). Choline then undergoes reupdate through a Na+ exchanger. Target of insecticides and Sarin..\n",
    "* Glutamate - EAATs (excitatory amino acid transporters). Taken into the glial cell, turned into glutamine, then placed back into presynaptic terminal.\n",
    "* GABA - Co-transporters with Na+ (called GAT). Degredation occurs through GABA transaminase and succinic semialdehyde dehydrogenase\n",
    "\n",
    "Packaging:\n",
    "* ACh - VAChT \n",
    "* Glutamate - VGLUT (vesicular glutamate transporters)\n",
    "* GABA - VIAAT (vesivular inhibitory amino acid transporter)\n",
    "\n"
   ]
  },
  {
   "cell_type": "markdown",
   "metadata": {},
   "source": [
    "# Rewatching lectures"
   ]
  },
  {
   "cell_type": "markdown",
   "metadata": {
    "heading_collapsed": true
   },
   "source": [
    "## 10-11-17"
   ]
  },
  {
   "cell_type": "markdown",
   "metadata": {
    "hidden": true
   },
   "source": [
    "Anterograde transport - move down axon\n",
    "presynaptic side-  active zone; postsynaptic - density\n",
    "\n",
    "synthesis of peptide neurotransmitters. make from proteins in soma. Large; dense core vesicles. Near synapse, but not at the active zone. Because of position, causes a higher frequency of stimulation compared to the small ones. VG Ca+2 channels near active zone. Peptides - part of paraphrine signalling.\n",
    "\n",
    "Receptors, ligand gated. Nt binds and directly causes ion flow. and g-protein - GPCR, not an ion channel. Coupled with a G-protein, affects and effector protein.\n",
    "\n",
    "Glutamade receptors, AMPA, NMDA< Kainate. \n",
    "\n",
    "5 subunits or 4 subunits for a successful channel. AMPA-R (R for receptor. No voltage gated channel. \n",
    "\n",
    "Metabotropic receptors. Most act as monomers, some heterodimers. GPCR. 7 transmember domains, (1 more to bind extracellular region, and 1 more to associate with G-protein). Not always associated with GP. Trimeric G protein, three domains, alpha, beta, gamma. Gs - activates AC. Gi inhibits AC. AC converts ATP to cAMP -> PKA. Gq - phospholipase C, converts PIP2 to DAG (PKC) and IP3, which releases Ca+2. Can exploit this with CNO. Designer Receptors Activated by Designer Drugs (DREADDs)."
   ]
  },
  {
   "cell_type": "markdown",
   "metadata": {},
   "source": [
    "## Lecture 10-13-17"
   ]
  },
  {
   "cell_type": "markdown",
   "metadata": {},
   "source": [
    "Need to know synthesization, enzyme, transported (dense core vs reserve pool and ready releasable pool), trigger vesicle release, diffusion\n",
    "\n",
    "ACh receptor (nAChRs) diseases - Myasthenai, targets eye. Decrease quantal content of the MEPPs. \n",
    "\n",
    "Glutamate. Made from Glial cell. VGLUT - puts in cell. Astrocytes take up by EAATs. SN1 - glutamine out of glia. SAT2 - glutamine into neuronens. \n",
    "\n",
    "3 major types of receptors.\n",
    "AMPA - pass Na/K/Ca, Antagoist - CNQX. If it doesn't have GluA2, Ca+2 is permeable. Can change codons in RNA. When it has the Q subunit, passes Ca. R, no Ca+2. \n",
    "NMDa - bind Mg. Have depolarization. Must hae glycine (brain) or D-serine (spinal cord) as a coagonist. Antagonist - APV. \n",
    "\n",
    "\n",
    "\n"
   ]
  },
  {
   "cell_type": "markdown",
   "metadata": {},
   "source": [
    "## Lecture 10-23-17"
   ]
  },
  {
   "cell_type": "markdown",
   "metadata": {},
   "source": [
    "Dopamine receptors. Add together a lot of things.\n",
    "\n",
    "D1, Gs. D2, Gi.\n",
    "\n",
    "D1 -> Gs -> Ac -> ATP ->  -> PKA (activate) ->\n",
    "\n",
    "D2. Inhibits AC. \n",
    "\n",
    "Phosphotase dephosphorolates proteins. Kinase and phosphatase work in combination. \n",
    "\n",
    "cAMP and cGMP broken down by their respective phosphordiesterases\n",
    "\n",
    "CA+2 gets into the cell through the VG channels, liganda gated, NMDA and AMPA. IP3 from the ER, or the Rayonide. In cytoplasm, we call it free Ca+2. Can be pumped by a proton pump. Into or out of cell. Number of proteins which bind proteins. also Ca+2 buffering proteins. Calmodulin is a buffering. \n",
    "\n",
    "Gs activates AC. Activated, ATP -> cAMP. can bind to PKA or activate a cyclic nucleotide gated channel. same with cGMP, except it actvates guanylyl.\n",
    "\n",
    "PIP2 produces PLC (phospholipase C). the head domain remains in the PM. the Tail goes into the cycoplastm to activate IP3 receptor. DAG still in PM. Kinase binds to ATP. causes a conformational change. \n",
    "\n",
    "PKA, starts as dimer. Fold inactive and active. Inactive, have 2 regulatory domains, 2 catalytic domains. Separate proteins. 4 molecules of cAMP, binds to regulatory region, causes chante, catalytic domains are active. Take away cAMP, turns it off. \n",
    "\n",
    "PKC folds on itself, autoinhibition. Takes Ca and Calmodulin. Have both otgether, interacts with regulatory domain, catalytic free.\n",
    "\n",
    "PKC (Ca+2). 2 second messangers, DAG and Ca_2, plus PS (phosphotidyl serine). Always in PM. Active whne it interacts with them all, only active around PM due to DAG and PS.\n",
    "\n",
    "CREB. promoter of gene transcription. Monomeric G protein. pCREB is active version. Activated by may types of kinases. \n",
    "\n",
    "Facilitation. 2 action potentials less than 20 ms apart. Increase in level of Ca. \n",
    "\n",
    "Depression and Augmentation. Depression. Active zone, vesicles ready to be released. Can exhaust supply. \n",
    "Augmentation. No known mechanizm. Increased Ca+2 means vesicles are easier to release. \n",
    "\n",
    "Potentiation. Lasts seconds - hours. Low frequency stim, then HF stim, then switch to low stim. The second round of low stim is now much more potent. \n",
    "\n"
   ]
  },
  {
   "cell_type": "markdown",
   "metadata": {},
   "source": [
    "## Lecture 10-25-17"
   ]
  },
  {
   "cell_type": "markdown",
   "metadata": {},
   "source": [
    "Two major catecoreies of learning. Declaritive, explicit. Procedure, implicit. \n",
    "\n",
    "Basic circuitry of the hippocampus. Denate gyrus, send out to CA3. CA3 to CA1. Axons from CA3 to CA1 have good organization. can stimulate. Called Schaffer collaterals. monitering what happens in the CA1 neurons.\n",
    "\n",
    "Pavlovian fear conditioning. Can moitor how long it freezes up. Absence of freezing.\n",
    "Novel Object recognition. Equal quality to mouse, equal amount of time exploring. \n",
    "\n",
    "Testing the schaffer collaterals. HF stim, record CA1, CA1 responds differently. HF burst, much more LTP.  LTP may be what happens.\n",
    "\n",
    "Somewhat reverse, LTD. Low frequency over extended period of time.  Decreased performance.\n",
    "\n",
    "Two tests to determine if LTP is important. Specificity. Stim axons in pW1, PW2. Look at same post-synaptic neuron. PW1 undergoes LTP, PW2 does not. Specificity is for active synapses. PW1 undergoes Both pathways active at the same time strengthened. Hebbian Plasticity. Meet two.\n",
    "\n",
    "Most glutamatergic synapses. NT receptors are there. Receptors kept in place. \n",
    "\n",
    "Signaling molecules. Anchored in place by things like PSD95 and stargazin. Logs of signalling molecules. Kinases, phosphatases, G-protein, and Ca+2. Actin cytoskeletin.\n",
    "\n",
    "Spines change shapes with LTP and LTD. big head means more receptors. Can make more spines. Reason for spines, maybe serves as a microdomain for Ca+2 where neck serves as a diffusion barrier.\n",
    "\n",
    "Follow small changes in Ca+2. Ca+2 comes in. Quickly pumped out of cell. Specific LTP\n",
    "\n",
    "CaMKII do? Must have NMDA receptors. \n",
    "\n",
    "Follow shape of spines. LTP or LDT. Follow size or current through AMPA receptors and compare to neighbors. More AMPA with LTP and more size. Neighbors do not chang.e \n",
    "\n",
    "Follow transient changes in Ca+2. Loot at LTP, se see get specifit LTP. LOok at CaMKII. Transient activity. \n",
    "\n",
    "What does CaMKII do? NMDA receptors (critical for LTP). calmodulin to calmoduline kinase. Phosphate. directly phosphoorlate the stargazin, which cluster ampa receptors, which pass more current. Get rid of CampKII, increase or decrease LTP. More CaMPII, smarter (better ability to form LTP). Also change gene expression.\n",
    "\n",
    "Activated NMDA receptors. Activation of Calmodulin. Additional AMPA receptors are trafficked to surface of membrane. Both chagnes are due to activation of Ca+2 depednent kinases. Long lasting LTP, change gene expression through CREB (through PKA, making pCREB). Long lasting LTP lasts for more than an hour.\n",
    "\n",
    "In ms, AMPA and NMDA, Ca+2 influx. Wait over minuts, induce CREB. Making of synapses.\n",
    "\n",
    "Post-synaptic NMDA receptors. If we knowk them out, no LTP. Presynaptic LTP happens too. A sustained depoaliration entry of Ca+2, activate PKA. Activation of PKA. Increase ability of vesicles to fuse. Can increase quantal content too. \n",
    "\n",
    "CREB is a number of kinases. Metabotropic channels. \n",
    "\n",
    "Silent synapse; some have only NMDA receptors. Not enough by itself; also needs AMPA receptors.\n",
    "\n",
    "LTD is lf. Increase Ca+2. Calcineuren. Ca+2 dependent phosphatase. Leads to endocytosis of AMPA receptors (make them fewer). \n",
    "\n",
    "Also have. Metabotropic receptors can lead to internalization of AMPA receptors. Endocannabinoid recetpors. Binding to CB1 receptors. Presynaptic neuron could be releasing glutamate. Downregulate the vesicles. "
   ]
  },
  {
   "cell_type": "markdown",
   "metadata": {},
   "source": [
    "# Exam 2 Notes"
   ]
  },
  {
   "cell_type": "markdown",
   "metadata": {},
   "source": [
    "Vesicle formation\n",
    "* Budding - endocytosis from endosome\n",
    "* Docking moving close to the synapse\n",
    "* Priming - ready to release\n",
    "* Fusion - release NT by binding with NT\n",
    "* Budding - Recapture NT by endocytosis\n",
    "Brings it back \n",
    "\n",
    "Peptide NT vs Small Molecule\n",
    "Small Molecule\n",
    "* Precursors are synthesized in cell body, transported via slow axonal transport. Enzymes change them in the synapse to NT, packaged in the synapse, released, then reabsorbed.\n",
    "\n",
    "Peptide\n",
    "* Enzymes and propeptides made in cell body, transported byfast-axonal transport, enzymed modify precursors to produce peptide NT, NT diffuses away and is degraded by further enzymes \n"
   ]
  },
  {
   "cell_type": "markdown",
   "metadata": {},
   "source": [
    "## Terms to know\n",
    "\n",
    "* propetide - percursor to the peptides\n",
    "* Neuropeptides - relatively large\n",
    "* Small-molecule NTs - category which includes biogenic Amines and Amino Acids\n",
    "* Biogenic Amines - similary chamical properties and post0synaptic actions\n",
    "    * dopamine,\n",
    "    * norepinephrine\n",
    "    * epinephrine\n",
    "    * serotonin\n",
    "    * histamine\n",
    "* Amino Acids\n",
    "    * glutamate \n",
    "    * GABA\n",
    "    \n",
    "* Catecholamies\n",
    "    * dopamine\n",
    "    * Norepinephrine\n",
    "    * Epinephrine \n",
    "    \n",
    "Myasthenia Gravis: Autoimmune disease of NMJ. interferes with transmission betwen motor neurons and muscle fibers\n",
    "\n",
    "Dopamine - Produced by DOPA. \n",
    "\n",
    "Two types of receptor proteins: ligand-gated ion channels, then metabotropic receptors (these use the G-proteins).99"
   ]
  },
  {
   "cell_type": "markdown",
   "metadata": {},
   "source": [
    "# Exam 3"
   ]
  },
  {
   "cell_type": "markdown",
   "metadata": {},
   "source": [
    "## Auditory system"
   ]
  },
  {
   "cell_type": "markdown",
   "metadata": {},
   "source": [
    "Causes of hearing loss:\n",
    "* Trauma\n",
    "* Inner ear infection\n",
    "* Ototoxic drugs\n",
    "* presbyacusis - loss of hearing with age, due to hardening of arteries (atherosclerotic )\n",
    "\n",
    "Tonotopy - localization of frequencies within the cochlea\n",
    "\n",
    "Superior Olivary Complex - initial part of system which allows localization of sounds\n",
    "\n",
    "Pinna, concha, and auditory meatus - responsible for gathering sounds. Naturally amplifies 2-5 kHz range.\n",
    "\n",
    "Oval window - site where bones of middle ear are connected to the inner ear\n",
    "\n",
    "Ossicles - three bones of the middle ear\n",
    "\n",
    "Hair Cell - contains stereocillia, with one central kinocillium\n",
    "\n",
    "Tip links - joins nearby stereocillia together\n",
    "\n",
    "Endolymph - 80 mv, maintains high K+ though pumps in the strai vascularis\n",
    "perilymph - -45 mv\n",
    "\n",
    "Basilar membrane - responds to vibration selectivity.\n",
    "Vibration of the Basilar membrane leads to shearing force of the tectorial membrane.\n",
    "\n",
    "Enters in medulla (rostral). Each ear travels to both sides of cortex, one more synapse for contralateral side. Pons, up to medulla. Inferior colliculus. Rostral midbrain, auditory cortex.\n",
    "\n",
    "Inner hair cells actually send signals. Outer cells - preamplifier.\n",
    "\n",
    " "
   ]
  },
  {
   "cell_type": "markdown",
   "metadata": {},
   "source": [
    "# Visual system"
   ]
  },
  {
   "cell_type": "markdown",
   "metadata": {},
   "source": [
    "Aqueous humor - provides nutrients, made in the posterior chamber. Glaucoma - too high pressure from the AH.\n",
    "\n",
    "Vitreous humor - 80% of eyeball. Takes care of \"floating debris\" within eye which can cast shadow onto eye.\n",
    "\n",
    "Cateracts - opacities in the lens. Lens does not have great refractive power. Changes called accomodation.\n",
    "\n",
    "Ciliary muscles - focus lens. By itself, lens is spherical; ciliary muscles attached by zonule fibers pull the lens flat. \n",
    "\n",
    "Pupil - slit, prevents optical abberations.\n",
    "\n",
    "Optic disk - blind spot; fundus - inner area of retina\n",
    "\n",
    "Macula lutea - small 3mm size spot with great visual acuity. Fovea at center, highest acuity within area (and entire eye), made up of a small dip.\n",
    "\n",
    "Vision - contains 3 pathways. Rod/cone to bipolar cells to ganglion. Process called phototransduction\n",
    "\n",
    "Two more types of cells. Horizontal cells tie together other rods/cones. Amacrine cells play other functions, not well defined, but post-synaptic to bipolar cells"
   ]
  },
  {
   "cell_type": "markdown",
   "metadata": {},
   "source": [
    "# Touch"
   ]
  },
  {
   "cell_type": "markdown",
   "metadata": {},
   "source": [
    "Cells in the dorsal root ganglia are pseudounipolar - siglans propagare from the axons to the dendrytes bypassing the cell bodies.\n",
    "\n",
    "Receptor potential - depolarization which occurs in proportion to level of stimulation\n",
    "\n",
    "If sensors have a capsule, they are called mechanoreceptors. If they do not, they are free nerve endings, and are important for pain and tempurature\n",
    "\n",
    "Diameter matters for axons; larger= faster. Roman numerals -> Alphabet -> greek characters\n",
    "\n",
    "two-point discrimination - minimum distance between two different points which nerves can distinguish\n",
    "\n",
    "Rapidly adapting afferents - quickly stop firing after stimulation\n",
    "\n",
    "Pain and touch can take parallel pathways; \n",
    "\n",
    "Stereogenesis - getting an objects properties through touch\n",
    "\n",
    "Merkel Cells - slowly adapting, at edge of dermis and epidermis. Highest spatial resolution. Fastest signalling.\n",
    "\n",
    "Meissner - Low frequency vibrations; highest density, but capsule size prevents being the highest spatial resolution.\n",
    "\n",
    "Parcinian - Rapidly adapting, detects vibrations primairly\n",
    "\n",
    "Ruffini - Slowly adapting, detects stretching, least well understood\n",
    "\n",
    "Ia - rapidly adapting changes. II - constant stimulation for muscle length\n",
    "\n",
    "Proprioception - Ia, II. Largest and fastest\n",
    "Touch - A$\\beta$\n",
    "Pain and Temp - A$\\delta$, C\n",
    "\n",
    "DRG - part of peripheral nervous system. From neural crest. NGF leads the axons. The growth cone senses these neurotrophins and decides where to go.\n",
    "\n",
    "4 types of neurotrophins\n",
    "Nt4,5 - hair cells\n",
    "BDNF (Brain Derived Neurotrophic Factor) - merkel disk\n",
    "Nt3 - muscle spindle\n",
    "NGF (neural growth factor) - Free Nerve ending\n",
    "\n",
    "TrkA - NGF\n",
    "TrkB - BDNF and NT4/5\n",
    "TrkC - NT3\n",
    "\n",
    "VPLN - Nucleus in the brain. \n",
    "\n",
    "TRPV1 - heat in jalapenos.\n",
    "\n",
    "Hyperaglasia - hypersensitivity to non-pain signals which are now painful. (PNS)\n",
    "Allodynia - central pain (not having to do with PNS)\n",
    "\n",
    "NaV1.7 and Nav1.8. Nav1.8 mutation in mouse ignores the pain."
   ]
  },
  {
   "cell_type": "markdown",
   "metadata": {},
   "source": [
    "# Vestibular"
   ]
  },
  {
   "cell_type": "markdown",
   "metadata": {},
   "source": [
    "COWS - cold opposite, warm same (turning the head)\n",
    "\n",
    "For unconscious patients:\n",
    "Brainstem intact - only slow eye movements occur.\n",
    "MLF lesion (medial longitunional fascilicus) - one eye moves\n",
    "Lower brainstem lesion - no eye movement\n",
    "\n",
    "Oscillopsia - bounsing vision (eyes move) when VOR is lost"
   ]
  },
  {
   "cell_type": "markdown",
   "metadata": {},
   "source": [
    "# Exam 4"
   ]
  },
  {
   "cell_type": "markdown",
   "metadata": {},
   "source": [
    "## Muscles"
   ]
  },
  {
   "cell_type": "markdown",
   "metadata": {},
   "source": [
    "Slow motor unit, low threshold, therefore tonic activity.  Lots of mitochondria.\n",
    "\n",
    "Fast Fatigable\n",
    "relatively few mitochondria and blood vessels.\n",
    "\n",
    "Lower motor neurons - found grey matter of ventral spinal horn. For face, found in brain stem\n",
    "\n",
    "Difference between alpha and gamma\n",
    " - gamma needed for dexterity, also innervates spindles, determines stretch???\n",
    " - alpha - force generator\n",
    " \n",
    "Muscle spindles - associated with gamma unit stretch. 1a fiber\n",
    " \n",
    "Golgi tedong - senses alpha unit contraction, negative feedback loop. Associated with 1b fibers."
   ]
  },
  {
   "cell_type": "markdown",
   "metadata": {},
   "source": [
    "## Rewatching lecture 11-17-2017\n",
    "\n",
    "Motor neuron pool\n",
    "\n",
    "single motor neuron can control multiple fibers. All fibers controller by a single neuron called a motor unit\n",
    "\n",
    "Larger muscle usually corresponds to larger alpha neuron cell body. Also higher threshold. \n",
    "\n",
    "Two key proprioceptice organs. Golgi Tendon Organ. \n",
    "\n",
    "Contraction, spindle goes slack. gamma motor neurons cause the slack to get tighter again.\n",
    "\n",
    "What is the basal ganglia? series of different nuclei. Striatum and globus pallidus."
   ]
  },
  {
   "cell_type": "markdown",
   "metadata": {},
   "source": [
    "## Lower Motor Nuron Circuit and Motor Control"
   ]
  },
  {
   "cell_type": "markdown",
   "metadata": {},
   "source": [
    "Lower motor neurons - make up gray matter within spine (I think), controls movement.\n",
    "\n",
    "Upper motor neurons - cell bodies lie in the cortex/brain stem. \n",
    "\n",
    "Cerebellum - determines \"motor error\"\n",
    "\n",
    "Basal ganglia - suppress unwanted movement and prepare for initiation of movement. Associated with Parkinson's\n",
    "\n",
    "There is a topogrophic map of the musculature within the spinal cord; neurons which control distal limbs are located distally within the spine. \n",
    "\n",
    "Medial axons from Upper neurons are often long, span several vertabrea, and cross over to both sides. Lower motor neurons and local circuits, laterally placed, are shorter, and unilateral. \n",
    "\n",
    "$\\gamma$ motor neurons determine lenght.\n",
    "\n",
    "Motor unit - alpha motor neuron and the muscle fibers it innervates\n",
    "\n",
    "Slow motor unit, fast fatigable motor unit, and fast fatigue resistant motor unit. \n",
    "\n",
    "Slow motor units have a low threshold, and are tonically active\n",
    "\n",
    "Size principle - smaller motor units are recruited for a task before larger ones\n",
    "\n",
    "Faster firing equals more force. lowest stimulation is around 8 Hz\n",
    "\n",
    "Asynchronous firing of muscle units averages out what would normally be a jerky movement\n",
    "\n",
    "Nerves Ia afferent are dynamic - measure velocity of stretch. II measure static stretch.\n",
    "\n",
    "Reciprocal innervation - stretch sensors which activate one muscle also inhibit the antagonist muscle (e.g. stretch in tricep would inhibit bicep)\n",
    "\n",
    "Muscle spindles maintain the stretch reflex arc through a negative feedback loop\n",
    "\n",
    "$\\gamma$ neurons fire for more precise, difficult movements. \n",
    "\n",
    "Golgi tendon organs are sensitive to muscle stretch.  Innervated by 1b.\n",
    "\n",
    "Important difference: spindles maintain length and golgi tendons maintain force. Negative feedback with same muscle for alpha neuron maintains force despite fatigue.\n",
    "\n",
    "1b neurons also controlled by many other forces, including joint recetptors signalling hyperextensions\n",
    "\n"
   ]
  },
  {
   "cell_type": "markdown",
   "metadata": {},
   "source": [
    "## Upper Motor Neuron Control"
   ]
  },
  {
   "cell_type": "markdown",
   "metadata": {},
   "source": [
    "Cortical layer 5 pyramidal neurons make up the upper motor neurons. From primary motor cortex.\n",
    "\n",
    "Two tracts - corticospinal and corticobulbar. Axons terminate in the spinal cord and brainstem respectively.\n",
    "\n",
    "medial circuits - long, multiple segments, bilateral connections, posture adjustment\n",
    "\n",
    "lateral circuits - few segments, ipsilateral, fine control of limbs"
   ]
  },
  {
   "cell_type": "markdown",
   "metadata": {},
   "source": [
    "## Basal Ganglia"
   ]
  },
  {
   "cell_type": "markdown",
   "metadata": {},
   "source": [
    "Main Points: \n",
    "\n",
    "1. Interactions, inputs/outputs, and functions of various portions of the basal ganglia\n",
    "    a. Caudate\n",
    "        i. D1 receptors\n",
    "    b. Putamen\n",
    "        i. D2 receptors (and some D1)\n",
    "    c. Substantia Nigra pars compacta\n",
    "    d. Subthalamic nucleus\n",
    "    e. Globus Pallidus\n",
    "    f. Substantia nigra pars reticulata\n",
    "    g. Thalamus\n",
    "    h. Superior Colliculus\n",
    "2. Direct/Indirect pathways\n",
    "3. Diseases\n",
    "    a. Parkinsons\n",
    "        i. Symptoms\n",
    "        ii. \n",
    "    b. Huntingtons\n",
    "\n",
    "Things to note:\n",
    "Disinhibition\n",
    "Motor and Nonmotor loops\n",
    "\n",
    "Medium spiny neurons:\n",
    " - dendritic spines: glutamate and dopamine\n",
    " - dendritic shafts: glutamate, GABA and ACh\n",
    "\n",
    "\n",
    "\n",
    "Rewatching Lecture:\n",
    "Caudate - direct, D1, to GPi\n",
    "Putamen - indirect (and some direct), D2, GPe then eventually to GPi\n",
    "\n",
    "Local interneurons - ACh and GABA\n",
    "Cortex (medium spiny neurons) - glutamate\n",
    "GPe and GPi - GABA\n",
    "SNc - dopamine\n",
    "\n",
    "GPe  inhibits the STN, which normally activates the GPi. The GPi then should decrease, allowing more movement.\n",
    "\n",
    "Reading:\n",
    "\n",
    "Summary: basal ganglia indirectly controls movement. Structures of interest are the striatum (made up of caudate and putamen) and the globus palladus. Additional inputs are received from the substantia nigra in the brain stem \n",
    "\n",
    "Corpus striatum - made up of caudate and putamen. Serves as the \n",
    "pallidum - includes the globus pallidus and the substantia nigra pars reticulata. Serves as output of basal ganglia.\n",
    "\n",
    "Corticostriatal pathway - all areas of the cortex extend to the basal ganglia\n",
    "\n",
    "The topology of the brain is reflected within the striatum; overlap between things in the cortex also overlap within the striatum\n",
    "\n",
    "Compartmental organization of the striatum reveals that highly parallel and segregated pathways from the cortex exist\n",
    "\n",
    "Cortex neurons are glutamatergic w.r.t. striatum (and in general too I think).\n",
    "\n",
    "Medium spiny neurons are modulated by inputs from the substantia nigra pars compacta, which are dopaminergic. Additionally, they synapse close to the soma of the nerve to modulate the effectiveness of inputs from cortical axons.\n",
    "\n",
    "Caudate - eye movement. Putament - trunk and limb movement. Cortical neurons increase firing rate right before movement.\n",
    "\n",
    "Caudate and putamen spiny neurons give rise to GABA signalling (largely they inhibit)\n",
    "\n",
    "Internal segment - output back to the cortex to influence movement. Reaches motor cortex via VA/VL (Ventral Anterior, Ventral Lateral) pathways. The Substantia nigra pars reticula synapses directly onto the superior colliculus.\n",
    "\n",
    "The reticula and the global pallidus are both GABA outputs. Serve to tonically inhibit the thalamus (VA/VL nuclei). This tonic inhibition serves to inhibit spontaneous inputs.\n",
    "\n",
    "OH MY GOSH THIS IS COOL!!! You know how spontantous movements are typically unwanted in the body?! Well, not in the eyes. These small, spontaneous movements actually allow us to see, and are thus desired. The efferent axons from the reticula bypass the tonically inhibited thalamus, meaning that the small signals are not filtered out as they are with the rest of the body. AND GUESS WHERE THESE AXONS GO?! The superior collicolus (aka, the things which control the eyes).\n",
    "\n",
    "The external segment is an output of the basal ganglia, and is part of the indirect pathway. The indirect pathway antagonizes the direct pathway.\n",
    "\n",
    "D1 increase cAMP, D2 decrease cAMP\n",
    "\n",
    "Stimulation of indirect pathways INHIBITS movement\n",
    "Stimulation of direct pathway ALLOWS movement\n",
    "\n",
    "Parkinson - failure of disinhibition. Death of dopaminergic neurons in the SNc.\n",
    "\n",
    "Exposure of MPTP leads to PK-like symptoms. Rapid onset can cause freeze\n",
    "\n",
    "PK - hypokinetic\n",
    "Huntington - hyperkinetic \n",
    "\n",
    "Huntington, MSMs which project onto the GPe degenerate; since this nominally inhibits the pathway to the GPi (allowing for movement), spontaneous, concontrolled movements occur\n"
   ]
  },
  {
   "cell_type": "markdown",
   "metadata": {
    "collapsed": true
   },
   "source": [
    "## Cerebellum"
   ]
  },
  {
   "cell_type": "markdown",
   "metadata": {},
   "source": [
    "Big Picture:\n",
    "\n",
    "1. How does the cerebellum interact with other systems\n",
    "2. Anatomy and organization:\n",
    "    a. Superior - almost entirely efferent. Connects to the motor neurons in the thalamus and in the motor cortex. Connected to the deep cerebellar nuclei.\n",
    "    b. Middle - connected to the pontine nuclei, largely afferent. \n",
    "    c. Inferior - connected to brainstem and spinal cord.\n",
    "    d. Cerebrocerebellum\n",
    "    e. Spinocerebellum - receives direct input from spinal cord (only part to do so)\n",
    "    f. Vestibulocerebellum - flocculus and nodulus (roles unspecified). Contributes to vestibuloccular reflex.\n",
    "    g. Pontine nuclei\n",
    "    h. Red nuclei\n",
    "    i. Mesenphalic nucleus - proprioceptive info from the face\n",
    "3. Inputs and outputs to the sytem\n",
    "\n",
    "Lecture:\n",
    "\n",
    "Cerebrocerebellum - rgulate motor planning. output via dentate nuclei, back to motor cortex. Info into VL gets relayed. \n",
    "Green - spinocerebellum. info from Clarke's column, trigeminal, auditory, vestibular. \n",
    "Spinocerebelum - intermediate - output to interposed. Lateral descending system. Vermis - outupts via fastigal nucleus. Bilateral. medial descending system.\n",
    "\n",
    "Mossy fibers from pontine nuclei middle cerebellum penucle. mostly from. \n",
    "climbing fibers, from olivary nucleus, into cerebellum inferior penuncle. Come in via .\n",
    "\n",
    "efferents from cerebellar cortex, purkinje neurons, to Deep celeral nuclei. \n",
    "\n",
    "Inter neruons.\n",
    "Basket cells, golgi cells, stallate. \n",
    "\n",
    "pontine nuclei - input. mossy fiber connects to granule cell, bifurcated axons, parallel. Synapses to purkinje cell. Climbing fiber other major input. wraps around purkinje neurons. Mossy, granule, climbing, excitatory, glutamate. Branch and also onto deep cerebellar nuclei. Thus forms two loops. Deep excitatyr loop or the cortical inhibitory loop. Inhibiting b/c purkinje is gabaurgic. \n",
    "\n",
    "interneurons all inhibitory. Basket column inhibit neighboring columns. Golgi shuts off local granule cell.  \n",
    "\n",
    "Bands of activity. Exciting purkinje neurons, basket cells shut off neighbors. \n",
    "\n",
    "Purkinje fire two types. Excited by mossy fibers, simple spike, main frequency. Climbing fiber, complex spike. \n",
    "\n",
    "Blimbing fiber and parallel onto a purkinje, decrease firing of purkinge neurons in long term. LTD. \n",
    "\n",
    "Hypotonia - decreased resistance to passive limb movement. Due to decrease muscle tone.\n",
    "\n",
    "Ataxia - dosorders.\n",
    "\n",
    "Action termor - same thing over and over very difficult.\n",
    "\n",
    "Mossy fibers - from pontine nucleus, and other types of **inputs**. Connect to deep cerebellar nuclei and granule cells.\n",
    "\n",
    "Purkinje cells - receive input from many parallel fibers. GABAergic. Project to the deep cerebellar nuclei. Only output of the cerebellum.\n",
    "\n",
    "Climbing fibers - from olivary nucleus. Modulate Purkinje cells\n",
    "\n",
    "Deep cerebellar nuclei - receive input from mossy fibers, climing fibers, and purkinje cells. "
   ]
  }
 ],
 "metadata": {
  "anaconda-cloud": {},
  "kernelspec": {
   "display_name": "Python [default]",
   "language": "python",
   "name": "python3"
  },
  "language_info": {
   "codemirror_mode": {
    "name": "ipython",
    "version": 3
   },
   "file_extension": ".py",
   "mimetype": "text/x-python",
   "name": "python",
   "nbconvert_exporter": "python",
   "pygments_lexer": "ipython3",
   "version": "3.5.2"
  },
  "latex_envs": {
   "LaTeX_envs_menu_present": true,
   "bibliofile": "biblio.bib",
   "cite_by": "apalike",
   "current_citInitial": 1,
   "eqLabelWithNumbers": true,
   "eqNumInitial": 1,
   "labels_anchors": false,
   "latex_user_defs": false,
   "report_style_numbering": false,
   "user_envs_cfg": false
  },
  "toc": {
   "colors": {
    "hover_highlight": "#DAA520",
    "running_highlight": "#FF0000",
    "selected_highlight": "#FFD700"
   },
   "moveMenuLeft": true,
   "nav_menu": {
    "height": "66px",
    "width": "252px"
   },
   "navigate_menu": true,
   "number_sections": true,
   "sideBar": true,
   "threshold": 4,
   "toc_cell": false,
   "toc_section_display": "block",
   "toc_window_display": false
  }
 },
 "nbformat": 4,
 "nbformat_minor": 1
}
