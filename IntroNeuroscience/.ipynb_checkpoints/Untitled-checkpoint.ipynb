{
 "cells": [
  {
   "cell_type": "markdown",
   "metadata": {
    "collapsed": true,
    "heading_collapsed": true
   },
   "source": [
    "# Lecture 2 - Early development and pattering of the nervous system"
   ]
  },
  {
   "cell_type": "markdown",
   "metadata": {
    "hidden": true
   },
   "source": [
    "Assignment 2 - due 9/11 by 8\n",
    "\n",
    "Actually has some material.\n",
    "\n",
    "Tophat - Can write down the answers on paper and turn it in after class.\n",
    "\n",
    "A quick look at the anatomy that we will encounter in future lectures.\n",
    "\n",
    "Caudate \n",
    "Putamen\n",
    "\n",
    "What the basal ganglia looks like in depends on the section. Take Rostral section through more forebrain rather than caudal. \n",
    "\n",
    "Terminology for the parts of the brain which aren't part of the forebrain. The core which is left is.\n",
    "\n",
    "Cranial nerves stick out of brain stem. 12 nerves. We need to memorize names. From 1-12\n",
    "\n",
    "On Old Olymous Towering Top A Finn And German Viewed Some  Hops\n",
    "\n",
    "1. Olfactory\n",
    "2. Optic Oculomotor\n",
    "3. Trochlear\n",
    "4. Trigeminal\n",
    "5. Abducens\n",
    "6. Facial\n",
    "7. Auditory\n",
    "8. Glossopharyngeal\n",
    "9. Vagus\n",
    "10. Spinal Accessory\n",
    "11. Hypoglossal\n",
    "\n",
    "Ventircular system of the human brain\n",
    "Cerebral Spinal Fluid (CSF) comes through. CSF flows from lateral to 3rd to 4th to central canal. The red things. The CSF takes away toxins. By taking a spinal tap, we get access to CSF, can test for things like infections.\n",
    "\n",
    "Blood brain barrier. Without this, we'd get lots of infections. Made up of Astrocytes. All of the blood vessels will be surrounded.\n",
    "\n",
    "The meninges. This is a series of membranes which surround the entire brain.\n",
    "* Dura mater\n",
    "* Arachnoid mater\n",
    "* Pia mater\n",
    "\n",
    "** Watch videos on Moodle **\n",
    "\n",
    "The neural axis.\n",
    "\n",
    "Gastrulation (ectoderm \n",
    "neurulation - set up body axis. Begins at rostral and ends at caudal.\n",
    "regionlaziation and segmentation. Refine rostral, dorsal axis.\n",
    "\n",
    "Holes are rarely filled with air; most likely a fluid. \n",
    "\n",
    "All new protiens make from mRNA. If the mother has a bad mutation, because it uses mRNA. Sometime around the early Basula.\n",
    "sygotic mRNA are made first in the blastocysts\n",
    "The induction (a process by which a group of cells called an organizer directs the development of neighboring cells) takes over and gastrulation begins. \n",
    "\n",
    "Neural plate becomes central cernous system.\n",
    "\n",
    "All the way into early Bastula is because we use mRNA. Because there isn't much transcription going on yet. These get translated into new protiens.\n",
    "\n",
    "Cell Fate. We don't have ectoderm, mesoderm, endoderm. We are looking at early development. In the mammals, we have a grouping of cells. Rostral on the left (for amphibians in pictures). The grouping of cells was first discovered in the from. They could see that a buldge formed in the from, then becan to envaginate. They call it the dorsal lip. All of the cells migrate, and move inward. This is what makes the germ layers. \n",
    "\n",
    "At the dorsal lip, the cells move in. As they move in through the dorsal lip, it acts as the orgainizer and changes them as they move by. The ectoderm is on the outside, mesoderm, endoderm is inside. Some of the cells on the dorsal part  change shape and become neural plate. End of gastulation, beginning of neurulation. Nervous system develope from ectoderm. Called neural ectoderm. In mammals,  when the frog develops, the yolk sack.\n",
    "\n",
    "The inner cell mass has 2 layers: epiblast and hypoblast. Hypoblast becomes the tropoblast, then the placenta. Not all of the early embryo becomes part of the animal. In the embryos, instead of having a dorsal lip, we was ha long straight line. This forms a primitive streak. Start with one layer of cells, then form endoderm then form mesoderm.\n",
    "\n",
    "Look inside the cell mass. The primitive node is the wides part of the groove. The cells go inward then under. The hypoblast.\n",
    "\n",
    "None of the ectoderm, mesoderm or endoderm become gametes. The ectoderm (focus on the most) gives rise to the skin, the neurons (central and periferial) and pigment cells. Some types of problems of pigmentation go along with problems with the nervous system. \n",
    "\n",
    "By 18 days, gastrulation competed, becing neurolation. In neuralation, change shape and thicken. Through changing shape and moving, cells begin to move down and form a groove. Cells which were originally lateral now become more dorsal. Begin somewhere in the hind brain. The anterior most part still hasn't closed. All of the caudal part still hasn't gone neuralation. \n",
    "\n",
    "Then begin segmentation and virulzation??? They form \"bumps\", outpouching the cellular layer of the epithelium. All things are still 1 cellular layer thick.\n",
    "\n",
    "The ectoderm. The neural plate is where the primitive streak was, has become neural groove. The changes in cell shape and movement. Stage one is convergment, then fusion, then becomes a closed neural tube. At the peak of the convergence, the green cells separate, and the neural crests give rise to the peripheral nervous system. All this driven by signals from the mesoderm. Stage 1 was the lip; now the mesoderm is sending signals. Somites. Notocord play very important roles in signaling neural development.\n",
    "\n",
    "The nucleus pulposus and disc anulus.\n",
    "\n",
    "Bone comes from mesoderm. The dorsal lip becomes the organizer. This was revealed by a cool experiment. He took the equivelant of the tissue at the dorsal lip, then transplants it into anywhere of the frog of a different color. A second body axis formed within the first frog. Almost all of the cells from both frogs. One tiny tissue in from induced and entire another neural axis. \n",
    "\n",
    "Dorsal lip in anphibians, shield zebra fish, node in mammals. Never been able to do experiment within a mouse. \n",
    "\n",
    "Molecules released by the orgainizers are called morphogens. This term is used for specific meaning in developmental biology. a secreted signalling molecule that acts directly on the cell (not through serial induction). to produce specific responses which depend on morphogen concentration.\n",
    "\n",
    "Noggin was found to be a neurla inducer. Other researches found follistatin and chordin play a similar role. As we undergo gastrulation, where we see these things in the embryo changes. \n",
    "\n",
    "Left (rostral) becomes head in artist depictions. The head expresses Chordin, Noggin, and follistatin"
   ]
  },
  {
   "cell_type": "markdown",
   "metadata": {},
   "source": [
    "# Lecture 3"
   ]
  },
  {
   "cell_type": "markdown",
   "metadata": {},
   "source": [
    "Ventral horns are larger for the motor neurons to come through. \n",
    "\n",
    "We left off talking about noggin and follistatin and chordin (BMP inhibitors). When gastulation begins, all the cells will move past the organizers. As they move past, they go inside the embryo and form the germ layers. Ectoderm, mesoderm, endoderm. The organizer secretes molecules. Segreted by the ectoderm. Most of these are protiens. Rhetonoric acid is actually an acid. Must induce genes which express this acid.\n",
    "\n",
    "After gastrulation in the embryo. Morphagin is a molecule which directly turns genes on and off. The site of the organizer. How did they discover this? They removed the animal cap from a frog blastocyst. It became epidermis (skin). This suggests the default is skin. Then they pulled the cells apart from each other; they then became neural cells. Conclusion: in the absence of cell-cell signaling, ectodermal cells will adopt a neural fate. If BMP receptors are blocked, the intact cap, the cells become neural. If BMP is added to disociated celld, they become epidermal. Concludsion: Neural induction occurs.\n",
    "\n",
    "BMP is a small protien, transcribed, translated, and secreted. If if gets intercepted by Noggin/chordin, it cannot bbind to the receptor. If it binds to the receptors, it produces a cascade. Phosphorolates the SMAD protien, which is a transcripton factor which goes into nucleus and transcripts other genes.\n",
    "\n",
    "The basic process of neurolation.\n",
    "* Regionalization: the division of the animal into dissimilar regions. (e.g. head vs trunk, forbrain vs midbrain).\n",
    "* Segmentation: organization of body into a series of similar units or segments (eg cervical vs thoratic spinal cord).\n",
    "ONe does not depend on the other. Bothe processes are initiated by morphogens that in turn induce regional expression of transcription factor genes.\n",
    "\n",
    "Notochord (from mesoderm). The closure of the neural tube doesn't begin at the rostral end. It begins in the middle, where the brain stem will form. The rostral and caudal part are still open when the tube begins to close. This means that the development of cells where it is closed first beings to develop quicker. It is rarely a comlete faulure to close the tube. Spina bifida is prevented by follic acid (vitamin B9). This is why you use prenatal vitamins. Neural axis divided into three segments. Telencephalon, Diencephalon, Hindbrain (rhombencephalon). Also midbrain. \n",
    "\n",
    "Single cell layer of epithelium. Due to movement of cells and hcange in shape, we would go from being an elongated tube. We can divide into telencephalon, prosencephalon, and rhombencephalon. The Prosencephalon, gives rise to the brain, optic, and diencephalon. The Telencephalon gives rise to the cerebral cortex, olfactory bublb. Rhombencephalon goes to brain stem. Spinal cord is separate from these segments. The neural grest becomes the dorsal root ganglia, adrenal medull, and peripheral nerve glia.\n",
    "\n",
    "Regionalization of the CNS. \n",
    "\n",
    "One of the molecules is important for determining dorsal caudal axis is  the Retinoic acid (RA). Top of the neural tube (called roof plate). Also in the ventral side of neural tube (floor plate). This is very permeable. Synthecized in one cell, gets into another cell. Somehow affects gene transcription. High to low dorsal to ventral gradient of concentration; also low to high raustral to caudal concentration. The concentrations are the highest where the spinal cord meets the brain stem. Because it crosses the membrane, and acts at super low levels of concentration, very powerful; can easily cause mutations. If we add more to a tadpole, we lose more brain structures. What we are doing on top of the onese the embryo is already expressing, we are now spreading out the area which thinks it should become the boundary between the hindbrain and the spinal cord. RA is very common in acne medicines (Accutane).\n",
    "\n",
    "BMP is important. Dorsalin also important. All part of the TGF-$/beta$ family. Noggin. All from dorsal.\n",
    "RA, sonic hedgehod (SHH) and chordin from the ventral (also noggin too). Usually cells repsond w.r.t. gradients of 2 or more molecules at the same time.\n",
    "\n",
    "The dorsal mode neurons will express one set of transcription factos based on they get RA and BMPs. The ventral will express FOXA2 because they get sonic hedgehog. \n",
    "\n",
    "Dont have to memorize the pathways. Something is secreted. They all have roles in the mature organism. Segmentation, refers to segments of our spinal cord. The sementation applies. The HOX genes were discovered. Humans have 4 chromosomes which have this gene. These HOX genes are organized occurding to where they are expressed in the embryo. 5' caudal, 3' raustral (distal to proximal). Called the master regulators. Work in combinations. Affected by multile genes. In the hind brain, the rhombecephalon. Each rhombomere will express a subset of the HOX gene. muatations in a single HOX genes will affect a segment of the spine and the nerves which innovate it. The HOX genes have functions in the mature adult. \n",
    "\n",
    "HOX genes - changed where they were expressed. Legs sprouted from where the antenna were (no nerves to innervate, didn't work). Mutations in this can occur in humans too. Microtia (small ears). HOXC13 mutation can cause weird hair folecule development, and underdevelopment of toe nails. One more notable is the HOXD13 cluster. MOst distal part of the hands, leads to 2 extra digits in hands or toes."
   ]
  },
  {
   "cell_type": "markdown",
   "metadata": {},
   "source": [
    "## Moving onto Lecture 3 slides"
   ]
  },
  {
   "cell_type": "markdown",
   "metadata": {},
   "source": [
    "Neruoephithilim - single cell layer, all cells will form from that. Gasturation, induction centers.  Nervious system will make neurons then glia. Without the neurons, we can't make glia. Also makes astrocytes before oligodendrocytes. \n",
    "\n",
    "Astrocytes look like stars, synapse formulation. Oligodendrocytes formed from ectoderm, mylination. Microglial cells from mesoderm. Give us the \"immune protection\".\n",
    "\n",
    "Basic types of neurons. Multipolar neruon - lots of dendrytes from cell body. Bipolar neruon - only single dendryte from cell body. Pseudo-unipolar neuron. ONe process from cell body. Unipolar - one process from cell body as well, but cell body at one extreme end of cell.\n",
    "\n",
    "The purkinje cell - multipolar. "
   ]
  }
 ],
 "metadata": {
  "anaconda-cloud": {},
  "kernelspec": {
   "display_name": "Python [conda root]",
   "language": "python",
   "name": "conda-root-py"
  },
  "language_info": {
   "codemirror_mode": {
    "name": "ipython",
    "version": 3
   },
   "file_extension": ".py",
   "mimetype": "text/x-python",
   "name": "python",
   "nbconvert_exporter": "python",
   "pygments_lexer": "ipython3",
   "version": "3.5.2"
  },
  "latex_envs": {
   "LaTeX_envs_menu_present": true,
   "bibliofile": "biblio.bib",
   "cite_by": "apalike",
   "current_citInitial": 1,
   "eqLabelWithNumbers": true,
   "eqNumInitial": 1,
   "labels_anchors": false,
   "latex_user_defs": false,
   "report_style_numbering": false,
   "user_envs_cfg": false
  },
  "toc": {
   "colors": {
    "hover_highlight": "#DAA520",
    "running_highlight": "#FF0000",
    "selected_highlight": "#FFD700"
   },
   "moveMenuLeft": true,
   "nav_menu": {
    "height": "12px",
    "width": "252px"
   },
   "navigate_menu": true,
   "number_sections": true,
   "sideBar": true,
   "threshold": 4,
   "toc_cell": false,
   "toc_section_display": "block",
   "toc_window_display": false
  }
 },
 "nbformat": 4,
 "nbformat_minor": 1
}
