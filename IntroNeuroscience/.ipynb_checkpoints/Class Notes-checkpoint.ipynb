{
 "cells": [
  {
   "cell_type": "markdown",
   "metadata": {
    "collapsed": true,
    "heading_collapsed": true
   },
   "source": [
    "# Lecture 2 - Early development and pattering of the nervous system"
   ]
  },
  {
   "cell_type": "markdown",
   "metadata": {
    "hidden": true
   },
   "source": [
    "Assignment 2 - due 9/11 by 8\n",
    "\n",
    "Actually has some material.\n",
    "\n",
    "Tophat - Can write down the answers on paper and turn it in after class.\n",
    "\n",
    "A quick look at the anatomy that we will encounter in future lectures.\n",
    "\n",
    "Caudate \n",
    "Putamen\n",
    "\n",
    "What the basal ganglia looks like in depends on the section. Take Rostral section through more forebrain rather than caudal. \n",
    "\n",
    "Terminology for the parts of the brain which aren't part of the forebrain. The core which is left is.\n",
    "\n",
    "Cranial nerves stick out of brain stem. 12 nerves. We need to memorize names. From 1-12\n",
    "\n",
    "On Old Olymous Towering Top A Finn And German Viewed Some  Hops\n",
    "\n",
    "1. Olfactory\n",
    "2. Optic Oculomotor\n",
    "3. Trochlear\n",
    "4. Trigeminal\n",
    "5. Abducens\n",
    "6. Facial\n",
    "7. Auditory\n",
    "8. Glossopharyngeal\n",
    "9. Vagus\n",
    "10. Spinal Accessory\n",
    "11. Hypoglossal\n",
    "\n",
    "Ventircular system of the human brain\n",
    "Cerebral Spinal Fluid (CSF) comes through. CSF flows from lateral to 3rd to 4th to central canal. The red things. The CSF takes away toxins. By taking a spinal tap, we get access to CSF, can test for things like infections.\n",
    "\n",
    "Blood brain barrier. Without this, we'd get lots of infections. Made up of Astrocytes. All of the blood vessels will be surrounded.\n",
    "\n",
    "The meninges. This is a series of membranes which surround the entire brain.\n",
    "* Dura mater\n",
    "* Arachnoid mater\n",
    "* Pia mater\n",
    "\n",
    "** Watch videos on Moodle **\n",
    "\n",
    "The neural axis.\n",
    "\n",
    "Gastrulation (ectoderm \n",
    "neurulation - set up body axis. Begins at rostral and ends at caudal.\n",
    "regionlaziation and segmentation. Refine rostral, dorsal axis.\n",
    "\n",
    "Holes are rarely filled with air; most likely a fluid. \n",
    "\n",
    "All new protiens make from mRNA. If the mother has a bad mutation, because it uses mRNA. Sometime around the early Basula.\n",
    "sygotic mRNA are made first in the blastocysts\n",
    "The induction (a process by which a group of cells called an organizer directs the development of neighboring cells) takes over and gastrulation begins. \n",
    "\n",
    "Neural plate becomes central cernous system.\n",
    "\n",
    "All the way into early Bastula is because we use mRNA. Because there isn't much transcription going on yet. These get translated into new protiens.\n",
    "\n",
    "Cell Fate. We don't have ectoderm, mesoderm, endoderm. We are looking at early development. In the mammals, we have a grouping of cells. Rostral on the left (for amphibians in pictures). The grouping of cells was first discovered in the from. They could see that a buldge formed in the from, then becan to envaginate. They call it the dorsal lip. All of the cells migrate, and move inward. This is what makes the germ layers. \n",
    "\n",
    "At the dorsal lip, the cells move in. As they move in through the dorsal lip, it acts as the orgainizer and changes them as they move by. The ectoderm is on the outside, mesoderm, endoderm is inside. Some of the cells on the dorsal part  change shape and become neural plate. End of gastulation, beginning of neurulation. Nervous system develope from ectoderm. Called neural ectoderm. In mammals,  when the frog develops, the yolk sack.\n",
    "\n",
    "The inner cell mass has 2 layers: epiblast and hypoblast. Hypoblast becomes the tropoblast, then the placenta. Not all of the early embryo becomes part of the animal. In the embryos, instead of having a dorsal lip, we was ha long straight line. This forms a primitive streak. Start with one layer of cells, then form endoderm then form mesoderm.\n",
    "\n",
    "Look inside the cell mass. The primitive node is the wides part of the groove. The cells go inward then under. The hypoblast.\n",
    "\n",
    "None of the ectoderm, mesoderm or endoderm become gametes. The ectoderm (focus on the most) gives rise to the skin, the neurons (central and periferial) and pigment cells. Some types of problems of pigmentation go along with problems with the nervous system. \n",
    "\n",
    "By 18 days, gastrulation competed, becing neurolation. In neuralation, change shape and thicken. Through changing shape and moving, cells begin to move down and form a groove. Cells which were originally lateral now become more dorsal. Begin somewhere in the hind brain. The anterior most part still hasn't closed. All of the caudal part still hasn't gone neuralation. \n",
    "\n",
    "Then begin segmentation and virulzation??? They form \"bumps\", outpouching the cellular layer of the epithelium. All things are still 1 cellular layer thick.\n",
    "\n",
    "The ectoderm. The neural plate is where the primitive streak was, has become neural groove. The changes in cell shape and movement. Stage one is convergment, then fusion, then becomes a closed neural tube. At the peak of the convergence, the green cells separate, and the neural crests give rise to the peripheral nervous system. All this driven by signals from the mesoderm. Stage 1 was the lip; now the mesoderm is sending signals. Somites. Notocord play very important roles in signaling neural development.\n",
    "\n",
    "The nucleus pulposus and disc anulus.\n",
    "\n",
    "Bone comes from mesoderm. The dorsal lip becomes the organizer. This was revealed by a cool experiment. He took the equivelant of the tissue at the dorsal lip, then transplants it into anywhere of the frog of a different color. A second body axis formed within the first frog. Almost all of the cells from both frogs. One tiny tissue in from induced and entire another neural axis. \n",
    "\n",
    "Dorsal lip in anphibians, shield zebra fish, node in mammals. Never been able to do experiment within a mouse. \n",
    "\n",
    "Molecules released by the orgainizers are called morphogens. This term is used for specific meaning in developmental biology. a secreted signalling molecule that acts directly on the cell (not through serial induction). to produce specific responses which depend on morphogen concentration.\n",
    "\n",
    "Noggin was found to be a neurla inducer. Other researches found follistatin and chordin play a similar role. As we undergo gastrulation, where we see these things in the embryo changes. \n",
    "\n",
    "Left (rostral) becomes head in artist depictions. The head expresses Chordin, Noggin, and follistatin"
   ]
  },
  {
   "cell_type": "markdown",
   "metadata": {
    "heading_collapsed": true
   },
   "source": [
    "# Lecture 3"
   ]
  },
  {
   "cell_type": "markdown",
   "metadata": {
    "hidden": true
   },
   "source": [
    "Ventral horns are larger for the motor neurons to come through. \n",
    "\n",
    "We left off talking about noggin and follistatin and chordin (BMP inhibitors). When gastulation begins, all the cells will move past the organizers. As they move past, they go inside the embryo and form the germ layers. Ectoderm, mesoderm, endoderm. The organizer secretes molecules. Segreted by the ectoderm. Most of these are protiens. Rhetonoric acid is actually an acid. Must induce genes which express this acid.\n",
    "\n",
    "After gastrulation in the embryo. Morphagin is a molecule which directly turns genes on and off. The site of the organizer. How did they discover this? They removed the animal cap from a frog blastocyst. It became epidermis (skin). This suggests the default is skin. Then they pulled the cells apart from each other; they then became neural cells. Conclusion: in the absence of cell-cell signaling, ectodermal cells will adopt a neural fate. If BMP receptors are blocked, the intact cap, the cells become neural. If BMP is added to disociated celld, they become epidermal. Concludsion: Neural induction occurs.\n",
    "\n",
    "BMP is a small protien, transcribed, translated, and secreted. If if gets intercepted by Noggin/chordin, it cannot bbind to the receptor. If it binds to the receptors, it produces a cascade. Phosphorolates the SMAD protien, which is a transcripton factor which goes into nucleus and transcripts other genes.\n",
    "\n",
    "The basic process of neurolation.\n",
    "* Regionalization: the division of the animal into dissimilar regions. (e.g. head vs trunk, forbrain vs midbrain).\n",
    "* Segmentation: organization of body into a series of similar units or segments (eg cervical vs thoratic spinal cord).\n",
    "ONe does not depend on the other. Bothe processes are initiated by morphogens that in turn induce regional expression of transcription factor genes.\n",
    "\n",
    "Notochord (from mesoderm). The closure of the neural tube doesn't begin at the rostral end. It begins in the middle, where the brain stem will form. The rostral and caudal part are still open when the tube begins to close. This means that the development of cells where it is closed first beings to develop quicker. It is rarely a comlete faulure to close the tube. Spina bifida is prevented by follic acid (vitamin B9). This is why you use prenatal vitamins. Neural axis divided into three segments. Telencephalon, Diencephalon, Hindbrain (rhombencephalon). Also midbrain. \n",
    "\n",
    "Single cell layer of epithelium. Due to movement of cells and hcange in shape, we would go from being an elongated tube. We can divide into telencephalon, prosencephalon, and rhombencephalon. The Prosencephalon, gives rise to the brain, optic, and diencephalon. The Telencephalon gives rise to the cerebral cortex, olfactory bublb. Rhombencephalon goes to brain stem. Spinal cord is separate from these segments. The neural grest becomes the dorsal root ganglia, adrenal medull, and peripheral nerve glia.\n",
    "\n",
    "Regionalization of the CNS. \n",
    "\n",
    "One of the molecules is important for determining dorsal caudal axis is  the Retinoic acid (RA). Top of the neural tube (called roof plate). Also in the ventral side of neural tube (floor plate). This is very permeable. Synthecized in one cell, gets into another cell. Somehow affects gene transcription. High to low dorsal to ventral gradient of concentration; also low to high raustral to caudal concentration. The concentrations are the highest where the spinal cord meets the brain stem. Because it crosses the membrane, and acts at super low levels of concentration, very powerful; can easily cause mutations. If we add more to a tadpole, we lose more brain structures. What we are doing on top of the onese the embryo is already expressing, we are now spreading out the area which thinks it should become the boundary between the hindbrain and the spinal cord. RA is very common in acne medicines (Accutane).\n",
    "\n",
    "BMP is important. Dorsalin also important. All part of the TGF-$/beta$ family. Noggin. All from dorsal.\n",
    "RA, sonic hedgehod (SHH) and chordin from the ventral (also noggin too). Usually cells repsond w.r.t. gradients of 2 or more molecules at the same time.\n",
    "\n",
    "The dorsal mode neurons will express one set of transcription factos based on they get RA and BMPs. The ventral will express FOXA2 because they get sonic hedgehog. \n",
    "\n",
    "Dont have to memorize the pathways. Something is secreted. They all have roles in the mature organism. Segmentation, refers to segments of our spinal cord. The sementation applies. The HOX genes were discovered. Humans have 4 chromosomes which have this gene. These HOX genes are organized occurding to where they are expressed in the embryo. 5' caudal, 3' raustral (distal to proximal). Called the master regulators. Work in combinations. Affected by multile genes. In the hind brain, the rhombecephalon. Each rhombomere will express a subset of the HOX gene. muatations in a single HOX genes will affect a segment of the spine and the nerves which innovate it. The HOX genes have functions in the mature adult. \n",
    "\n",
    "HOX genes - changed where they were expressed. Legs sprouted from where the antenna were (no nerves to innervate, didn't work). Mutations in this can occur in humans too. Microtia (small ears). HOXC13 mutation can cause weird hair folecule development, and underdevelopment of toe nails. One more notable is the HOXD13 cluster. MOst distal part of the hands, leads to 2 extra digits in hands or toes."
   ]
  },
  {
   "cell_type": "markdown",
   "metadata": {
    "hidden": true
   },
   "source": [
    "## Moving onto Lecture 3 slides"
   ]
  },
  {
   "cell_type": "markdown",
   "metadata": {
    "hidden": true
   },
   "source": [
    "Neruoephithilim - single cell layer, all cells will form from that. Gasturation, induction centers.  Nervious system will make neurons then glia. Without the neurons, we can't make glia. Also makes astrocytes before oligodendrocytes. \n",
    "\n",
    "Astrocytes look like stars, synapse formulation. Oligodendrocytes formed from ectoderm, mylination. Microglial cells from mesoderm. Give us the \"immune protection\".\n",
    "\n",
    "Basic types of neurons. Multipolar neruon - lots of dendrytes from cell body. Bipolar neruon - only single dendryte from cell body. Pseudo-unipolar neuron. ONe process from cell body. Unipolar - one process from cell body as well, but cell body at one extreme end of cell.\n",
    "\n",
    "The purkinje cell - multipolar. "
   ]
  },
  {
   "cell_type": "markdown",
   "metadata": {
    "heading_collapsed": true
   },
   "source": [
    "# Lecture 4"
   ]
  },
  {
   "cell_type": "markdown",
   "metadata": {
    "hidden": true
   },
   "source": [
    "Lectures 5,6,7,8, the first two lectures we cover ion flow, how it creates voltage and current. How relate to membrane potential. Next, how biological protiens (ion channels open and close).\n",
    "\n",
    "Pyramidal neuron. Recording difference in ion concentration within the cell vs outside the cell. Overall makeup is different than outside the cell. These ions by definition, positive or negatively charged. If you stick recording electrode in the cell, there is a reference electrode. Record difference in voltage. Must have a difference in charge across a barrier. If ions flow equally across, no difference in charge. Most neurons, the inside is more negative than the outside. Polarized (difference in charge). Also use polarity to talk about number of axons. More generally, one side different than the other. Compare inside to outside.\n",
    "\n",
    "Membrane potential when no large change is called resting potential. Are we talking about net flow of ions. AT resting membrane potential, there will be ions moving across the membrane; it's just that the net flow means no net change in charge. If we record from neurons while ions are flowing, we see a plot of time (in ms) vs potential. mv = millivolts. Vm = membrane potential. Use a probe to stimulate a sensory neuron under skin. From dorsal root ganglia, in dorsal horn (sensory!!!). Stimulating one neuron. Change in membrane potential. goes from -60mV to -52 mV. If we stimulate a single synapse, and record the change in the post synaptic neuron, when we stimulate very few, the change in potential isn't much. The depolarization is actually the slowest. By convention: we define depolarization and hyperpolarization w.r.t rest, NOT to 0 mV.\n",
    "\n",
    "Best describes membrane potential Vm? Inside vs outside. Series of exercises. Concentration gradient. Molecules in solution move from high to low when allowed. Difference in charge. In biology, electrical gradient is the same as electric potential. Point out, concentration gradient is for a single ion; electical gradient is for the population.\n",
    "\n",
    "$$ \\begin{matrix} & A & B & C \\\\ CG & \\rightarrow & \\rightarrow & \\begin{matrix} K+ \\rightarrow \\\\ Ca+2 \\leftarrow \\end{matrix} \\\\ EG & None & \\rightarrow & \\leftarrow  \\\\ DF & \\rightarrow & \\rightarrow x2 & ??? Opposing each other  \\end{matrix} $$\n",
    "\n",
    "We don't know inherently which is stronger (without more info): electrical vs concentration gradient. Current = flow of electrical charge. Current can rise from concentration gradient or voltage. Need 2 compartments deparated by a barrier. Charged molecules must be on at least 1 side. Can have a voltage and a driving force without current (because current requires permeability). To get current, barrier must be selectively permeable. \n",
    "\n",
    "Determien direction of everything:\n",
    "\n",
    "For potassium\n",
    "$$ \\begin{matrix} & K^+ & Ca^{+2} \\\\ CG & \\rightarrow & \\leftarrow \\\\ EG & \\leftarrow & \\leftarrow \\\\ DF & ??? & \\leftarrow \\end{matrix} $$\n",
    "\n",
    "K+ is more negative w.r.t Ca+2. We know for Ca because both concentration gradient and voltage drive it to the left. EG and CG are in conflict for k+.\n",
    "\n",
    "Conductance is the same as permeability. Current is net movement of ions. In biology, we don't get linear graph for current. Current, in neuroscience, is not linear; due to protien channels. Biological impede flow. In beaker, current is linear over long period ot time. Conductance: how well ion can pass through membrane.  Talking about single channel, either open or closed (0 or 1) for single cell. Looking at population, we have have in-between conductance. Think of driving force as how much ion wants to move. \n",
    "\n",
    "$$ \\begin{matrix}\n",
    "& K^+ & Cl- \\\\\n",
    "CG & \\rightarrow & \\rightarrow \\\\\n",
    "EG & 0 & 0 \\\\\n",
    "DF & \\rightarrow & \\rightarrow\n",
    "\\end{matrix} $$\n",
    "\n",
    "After Equillibrium\n",
    "\n",
    "$$ \\begin{matrix}\n",
    "   & K^+ & Cl- \\\\\n",
    "CG & \\rightarrow & \\rightarrow \\\\\n",
    "EG & \\rightarrow & \\leftarrow \\\\\n",
    "DF & \\rightarrow x2 & 0\n",
    "\\end{matrix} $$\n",
    "\n",
    "Remmeber, no driving force at equillibrium. \n",
    "\n",
    "If barrier remains open, come to equilibrium eventually. Potential remains stable (at rest).\n",
    "\n",
    "Introduce concept of Nerst Equation. \n",
    "$$ E_x = \\dfrac{RT}{zF} \\log \\dfrac{[x]_o}{[x]_i} $$\n",
    "E - equilibrium potential in mV\n",
    "R - the gas constant\n",
    "T - absolute temp K\n",
    "F - Faraday Constant\n",
    "\n",
    "$RT/F = 58 mV$ for these examples"
   ]
  },
  {
   "cell_type": "code",
   "execution_count": null,
   "metadata": {
    "collapsed": true,
    "hidden": true
   },
   "outputs": [],
   "source": []
  },
  {
   "cell_type": "markdown",
   "metadata": {
    "heading_collapsed": true
   },
   "source": [
    "# Lecture 5"
   ]
  },
  {
   "cell_type": "markdown",
   "metadata": {
    "hidden": true
   },
   "source": [
    "Going over the quiz:\n",
    "\n",
    "Question 5: \n",
    "\n",
    "6: About Hox gene - hox gene depends on other gene\n",
    "\n",
    "Organizer does not secrete transcription factors. ONly act in the nucleus. Not secreted proteins. The BMP comes from the rest of the ecoderm. Secreted from multiple places.\n",
    "\n",
    "Conductance - how well an ion can pass through the membane. Most cells will have a po;ulation of channels. Some can be open and closed. Can be intermediate values (not necessairly open or closed. \n",
    "\n",
    "$I = DC \\cdot g$\n",
    "g - conductance\n",
    "I - current\n",
    "DF - driving force\n",
    "\n",
    "Driving Force: $DF = CG  +  EG$. When channels are not open.\n",
    "\n",
    "Has directionality. Current and Driving Force have direction. \n",
    "\n",
    "Spend time going through a tquestion on the top hat.\n",
    "\n",
    "Remember that the Electical gradient is the same as membrane potential (EG, VM). \n",
    "\n",
    "Only permeable to CA+2. Comfortable with properties at start and equilibrium potential. Can look at Electrical gradient, Concentration Gradient, and DRiving force. Start by looking at calcium and Chloride. Starting gor every one Ca+2, two Cl-. No net charge on either side. \n",
    "\n",
    "\n",
    "\n",
    "$$ \\begin{matrix} & Start & & & Equilibrium & \\\\ & Ca_2 & Cl- \\\\ EG & 0 & 0 \\\\ CG \\rightarrow & \\rightarrow \\\\ DF & \\rightarrow & \\rightarrow \\end{matrix}  $$\n",
    "\n",
    "The electrical gradient for chloride is negative, so it wants to go right. None moved, so ocncnetration didn't change. DF is greater then. Start when high on the right, then high on the left. Go through this example. May bring own scratch to exams.\n",
    "\n",
    "Each ion has its own concentration gradient. The concentration gradient stays the same because the electrical gradient contradicted it. Assume the barrier is only.\n",
    "\n",
    "Chloride can't move. Two ion questions what happens is the impermeable one always maintains its concentration gradient, and it gets an electrical gradient. This makes the driving force go up. By definition: at equilibrium, concentration gradient and electrical gradient are opposite and equal. For the nonpermeable ion, we will see an increase in the driving force on the nonpermeable ion. Electrical gradient at the start is none; no net charge at the start.\n",
    "\n",
    "$ E_x = -\\dfrac{RT}{zF} \\log \\dfrac{[x]_o}{[x]_i} $\n",
    "\n",
    "Nernst equation. Determine concentration for single ion. Two constants: gas and Faraday. Usually assume 19 degrees celcius. At 19, we can simplify to:\n",
    "\n",
    "$ E_x = -\\dfrac{58}{z} \\log \\dfrac{[x]_o}{[x]_i} $\n",
    "\n",
    "**Include the valance, z** Super important apparently. recall:\n",
    "\n",
    "* logX = Y\n",
    "* log1 = 0\n",
    "* log 10 = 1\n",
    "* log 100 = 2\n",
    "* log 0.1 = -1\n",
    "\n",
    "Also $I = DF \\cdot g$\n",
    "\n",
    "Go back to the simulator. Origninally -58. Look at potassium. If we put K+ to 10,we now have an equilibrium potential of 0. It has increased because we have increasesd the ratio. Now we decrease the outside to 1, goes backto -58. Because same ratio. Now set k+O =1 and  K+i = 100, new voltage is -115.9 mV. A couple different examples are:\n",
    "\n",
    "Start $[k]_o=1$. , $[K]_i = 10$\n",
    "\n",
    "$$ K_k = \\dfrac{58}{z} \\log \\dfrac{1}{10} = 58 \\log 0.1 = -58 $$\n",
    "\n",
    "Now change $[K]_o$ to 10.\n",
    "\n",
    "$$ 58 \\log \\dfrac{10}{10} = 58\\cdot 0 = 0 $$\n",
    "\n",
    "What we've seen here is when we know the starting inside and outside concentration. For every 10 fold change, we have a 58 mV change in the potential. If valence was 2, such as with calcium, we would only get 26 mV change.\n",
    "\n",
    "\n",
    "example 2: $[Ca^{+2}]_o$ increases by 10 fold. Don't need to know internal concentration to know that the voltage would change by 26 mV.\n",
    "\n",
    "We can test this experimnetally. If we do this with different concentration ratios: when 100x more K on inside than outside, Vm is -2. This is the 10 fold rule. For every 10 fold change in [ion], causes a change in Ex of $\\dfrac{58}{z}$.\n",
    "\n",
    "If we let it come to equilibrium, then we would have aconcentration gradient. We canforce this by turning on the battery. \n",
    "\n",
    "The membrane potential is less than the equilibrium potential (dark part of graph). For positive ion, VM < Ek, talking about membrane potential (defined as inside/outside), the ion will move into the cell. If Vm>Ek, ion will move out. At equilibrium potential, no net movement. We're thinking about this relationsihp. What happens to the ion potential> What happens to VM as ion concentration increases>? Depends onthe charge of the ion and on which side the concnetration increases. What must happen to the ion ans the ion potentail changes? Something has to move.\n",
    "\n",
    "Plot of membrane potential as direction flow. Above Vm, ions flow out.  If Vm > Ex, there will be a new flow of current ouside. When Vm < Ex, there will be a net flow of current from outside to inside. Sodium: much higher concentration.\n",
    "\n",
    "K: higher concentratoin inside.\n",
    "CA mostly outside\n",
    "Cl: Mostly outside. \n",
    "\n",
    "Given the values:\n",
    "\n",
    "* vrest = -80 mV\n",
    "For a positvie ion, when VM < Ex+, we define the current as inward. Inward current: flow of positive ion into cell. Outward current: flow of positive ion out. \n",
    "\n",
    "When VM > Ex, net outward current).\n",
    "\n",
    "For negative ion, wiv Vm < Ex-, inward current (neg. ion flows out of cell)."
   ]
  },
  {
   "cell_type": "markdown",
   "metadata": {
    "heading_collapsed": true
   },
   "source": [
    "# Lecture 6 "
   ]
  },
  {
   "cell_type": "markdown",
   "metadata": {
    "hidden": true
   },
   "source": [
    "Some review.\n",
    "\n",
    "The quiz will only cover materis from 4-5. Assignment due wed at 8 am.\n",
    "\n",
    "Nerst equation deals only with equillibrium potential for a single ion. It does not tell you how membrane potential changes with an ion. When we are at an equilibrium.\n",
    "\n",
    "$$ E_x = \\dfrac{RT}{zF} \\log \\dfrac{out}{in} $$\n",
    "\n",
    "Tells us the gradient when it is zero for an ion. Only tells us something about potential for an ion. For DF = 0. \n",
    "\n",
    "See a version of figure 4. This was a thinking experiment turnied into actual experiment. The average axon potential was -65 mV. Why is resting membrane potential not zero, why negative, why -65 mV? At rest (rest in neuroscience, means no action potential (AP)).  Change the potassium concentration outside the cell reduces membrrane poten tial. No change when they added sodium. If cell is only permeable to potassium. \n",
    "\n",
    "Goldman equation. Tells about membrane potential for a cell. Nerst equillibrium for an ion. No valence for Goldman.\n",
    "\n",
    "$$ Vm = \\dfrac{RT}{F}\\log \\left[\\dfrac{ P_K [K]_o + P_{Na}[Na]_o + P_{Cl}[Cl]_i }{P_K [K]_{i} + P_{Na}[Na]_i + P_{Cl}[Cl]_o}right] $$\n",
    "\n",
    "p - permeability for conductance. Note, flip negative ions.\n",
    "\n",
    "Smaple values for inside vs outside. Sodium much higher outside, sodium much higher inside. Always concnetration outside over inside. Always taking log value. If [outside] > [inside], log will be positive. If [outside]<[inside], log will be negative. If the value contributed  by an ion > 1, anytime we increase the [ion], then 2we increase the membrane potential.  Increase permeability. If [outside] > [inside], increasing permeability will increase membrane potential (if ion is +). \n",
    "\n",
    "$$ outside & inside & Vm $$\n",
    "\n",
    "inside is more negative than outside.\n",
    "\n",
    "Look at concentration gradient for sodium. Assume resting membrane potential. Vrest = -65 mV. For Na at rest, CG (outside to inside), EG (because it is positively charged) so goes from outside to inside. We get an inward current. So we can determine the direction of driving force. Try to do this for potassium. At rest, the CG will be from inside to outside. EG will be outside to inside. Just from this relationship, the DF is unknown since EG and CG oppose each other. At rest, the rest is -65. Vrest > Ek. Therefore, direction of current is outward. If we increase permeability of an ion, incresae current. Increasing permeability for K+ gives more outward current.\n",
    "\n",
    "Assignment 3. $E_k = \\frac{58}{z} \\log \\frac{o}{i}$. Using golden simulator, changing outside or inside by 10fold. does Vm change by 58 mV. Answer was very close to but not exactly. Because other ions contribute to change in membrane potential. But other ionds contribute.  The \n",
    "\n",
    "Using goldman simulator, how does Vm change when permeability is increased from 5 to 50 to 500. It did not change by anything close to 58 mV. B/C permeability is very low at rest. Change concentration of sodium. Permeability of sodium is low. Changing permeability has relatively low. Increasing permeability of K doesn't affect it much. B/C  already pretty high. As we increse permeability for K, we decrease membrane potential.  \n",
    "\n",
    "Whuy does changing PNa have opposite effecto f changing Pk+. Because [Na]o > [Na]i. We get an inward current. Vm < ENa.  Does Vm hcnage 10 fild with each 10 fold change in PNa or Pk. With K, it comes close, not so with sodium. The temperature is important. As temperature decreases, membrane potential increases. Reason is thatwe look at -RT/F, the negative is super important. Running a fever\n",
    "\n",
    "Review Nernst and Goldman equations:\n",
    "\n",
    "*  Nernst - equilibrium potential for a single ion $E_x$ single ion = Vm @ DF = 0 (no driving force)\n",
    "* $= \\dfrac{RT}{zF} \\log \\dfrac{[o]}{[i]}$\n",
    "* Goldman Vm due to all ions\n",
    "\n",
    "Whenever we talk about membrane potential. If the ionds are positively charged"
   ]
  },
  {
   "cell_type": "markdown",
   "metadata": {
    "hidden": true
   },
   "source": [
    "## Next part"
   ]
  },
  {
   "cell_type": "markdown",
   "metadata": {
    "hidden": true
   },
   "source": [
    "On the top, we see current being injected over time. Stable amount of current over time. Rememver, negative current is positive ions flowing in (pretty sure???). When the membrane potential decreases, we call that hyperpolarization. W.R.T Vrest. At rest, has potential to -65 mV. Depolarized, Vm > Vrest. Hyperpolarization, Vm < Vrest. Passive current is when change in current is proportional to change in Vm. When something happens which is not proportional, that is an active change. Currently due to permeability of channels in membrane. The same signal can have portions be passive and active. Each action potentil is the same (all-or-none). The shape for each action potential is the same. More current inject, more action potential we get.\n",
    "\n",
    "Examine early experiments. To understand this, undserstand concentration, current, and permabiliity. Be able to make reliable measurements. Manipulate concnetrations of ions. See how ion flow changes with membrane potential. Use squid axons. This is the experiment. Within biologically \"normal\" ragne. slope approaches 58 mV.  Since membrane potenatial changes with [k], k+ must affect membrane potential. k plays a large roll in determining Vm. Membrane must also be permeable to K+.\n",
    "\n",
    "Threshold for firing an action potential is 50 mV. Notice that Vm is constant. Use drugs to block channels. Different kinds of channels. Voltage gated k+. Sometiems its temperature. Other time it is voltage itself. They increase [Na]o stepwise. Cell not permeable to [Na]+. However, after firing an AP, [Na]o affects potential. [Na] not permeable at rest, but very important in determining peak of action potential. "
   ]
  },
  {
   "cell_type": "markdown",
   "metadata": {
    "heading_collapsed": true
   },
   "source": [
    "# Lecture 7"
   ]
  },
  {
   "cell_type": "markdown",
   "metadata": {
    "hidden": true
   },
   "source": [
    "Quiz 3 on Friday. Covers Lecture s6-7. Covers the Goldman equation. \n",
    "\n",
    "Cannot know without having to determine the outside or the inside concentrations. Question 9 on the quiz. Another question (Q 10), the potential value.\n",
    "\n",
    "RElationship betwewen equilibrium potential. Driving force is what ion wants. Further equilibrium potential is from membrane potential, the stronger the driving force. \n",
    "\n",
    "$$ \\begin{matrix} E_x > \\text{Vm & ion moves to make Vm=Ex. For + ion, this means ion moves into cell} \\\\\n",
    "   \\Downarrow & \\\\\n",
    "   Ex = Vm & DF_x = 0, I_x = 0\\\\\n",
    "   \\Uparrow & \\\\\n",
    "   E_x < Vm & \\text{Ion moves to make VM = E_x. For + ion, this means ion moves out of cell}\n",
    "   \\end{matrix}$$\n",
    "   \n",
    "   $DF = |V_m - E_x |$\n",
    "   \n",
    "Pumps! Theyse are active. The \"magic pores\" are now channels. Complex protiens. Transmembrane protiens (span the membrane). The difference is that a channel opens, and ions move according to the driving force. Passive. Channels have more of an affect than transporters and pumps. Active transporters: $10^4$ ions/s. Channels: $10^7$ ions/s. Under normal physiological conditions, the concentration gradient of ions remains effectively unchanged. Changes in the electrical gradient of the cell are negligible.  Driving force is essentially constant. Ion flow will largely be determined by conductance. There are lots of different channel types. We can modicy how a channel functions. This is a large part of synaptic plasticity. These channels are voltage-gated (open at some potenatials and closed at others). Main ones we care about is Na+ and K+. If Vrest = -40mV, and soldium channel opens, the Vm < ENa. So positive ions flow in (inward current). With potassium at rest, Vm < Ek. Thus, it leaves the cell. Calcium flow in (Vm < Eca+2). Cloride flows in. Because it is a negative ion, Vm < Ecl and makes an outward current. \n",
    "\n",
    "* $E_{Na} = 50$\n",
    "* $E_k = -80$\n",
    "* $V_{rest} = -40$\n",
    "\n",
    "Resting potential: pk >> PNa\n",
    "Action potential Pna >> Pk\n",
    "REpolarization Pk >> Pna (due to K+ going out)\n",
    "\n",
    "In order to have a rise and fall, we must have chagnes in permability for both Na+ and K+. Often peak of action potential is very near ENa. If we had a membrane potential at 100, sodium would also flow out. Not all potentials have the same shape. Difference in shapes is due to properties of channels. Voltage Gated Channels (VGC). Also types of ion channels. For now, we simply have general definitions.\n",
    "\n",
    "Rising phase (initial)\n",
    "Overshoot phase (part above 0)\n",
    "Falling phase\n",
    "Undershoot phase (beneath Vrest) \n",
    "Depolarized (anytime that Vm > Vrest)\n",
    "Hyperpolarized (anytime that Vm < Vrest)\n",
    "\n",
    "During rising phase, Na enters the cell. During falling phase, lots of K is leaving, very little Na entering. Hyperpolarization occurs because K+ keeps leaving the cell. All depends on property of channel. We look at what hppens iwth channels. Starting with Na. There is an inactivation domain/loop. Used to inactivate the channel. Passive changes Occur before Vm reaches threshold. At threshold, VGC start to opoen.  Sodium opens and comes into cell. Quickly, inactivation occurs, quickly shutting of Na+ flow. Pore is still open, but simply blocked. A closed channel is different than inactivated channel. Another confirmational change occurs.  \n",
    "\n",
    "Potassium slightly different. Takes a while to change shape. About the time we inactivate the the Na+ channels, the K+ channels open.\n",
    "\n",
    "We will attempt to plot a ton of stuff. Population \n",
    "\n",
    "Max conductance for Na+: 0 mV. Vrest = -40. Ek = -80. Threshold = -50 mV. \n",
    "Driving force. For an ion, when Ena = Vm, DF = 0, and I = 0. It is linear. Vm > Ena, outward current. Vm < Ena, inward. Recall relationship $I = DF*g$. \n",
    "\n",
    "Inward current will increase. As we get closer to Ena, driving force goes down. During this time, Vm < Ena. Makes inward current. At equilibrium potential, no net current. Above Ena, we get outward current. \n",
    "\n",
    "Next, we do potassium. Remember, this is the voltage gated channels. Again, we know what the threshold is (-50 mV). Look at conductance. cincreases. The driving force. At Ek, DF = 0. Above, K+ moves out. Below, it moves in. In biology, we will rarely experience inward current for K+. When we draw current, no current when conductance is 0. when channels open, $I = DF * g$. We get current proportional to driving force. The contribution of conductance at a max at 0 mV. \n",
    "\n",
    "Ena = 50 mV\n",
    "Ek = -70 mV\n",
    "\n",
    "If inactivation phase of Na last longer, action potential grows longer"
   ]
  },
  {
   "cell_type": "markdown",
   "metadata": {
    "heading_collapsed": true
   },
   "source": [
    "# Lecture 7"
   ]
  },
  {
   "cell_type": "markdown",
   "metadata": {
    "collapsed": true,
    "hidden": true
   },
   "source": [
    "Tophat questions. Normal bilogical conditions, can move to -150 mV. None of the abive. The quilibrium potential for K+ (for the quiz) was -85 mV. \n",
    "\n",
    "In a typical neuron, which manipulation would produce largest increase in resting membrane potential. INcrease the outside concentration of K+ 10x. At resting membrane potential, for which ion is the driving force the greatest? Na+. \n",
    "\n",
    "Two properties of theAP. Once it starts down an axon, it doesn't go backward (called backward propagation). Not possible. due to voltage-gated K+ channel being opened and causing hyperpolarization. Not a lot of VGC on cell body, which is ehy the AP doesn't propagate left even from the origination. Another problem: similar to electricity propagating down wire due to dissapation of current. Two mechanixms evolve. Make axons really big. large diameter is one solution (increases conductivity). The other is to insulate (as with higher vertebrates). Insulation comes from myelin, made from special glial cell. In between these cells, exist the Nodes of Ranvier, there is no mylin and are a high concentration of Na+ and K+ channels.\n",
    "\n",
    "Differenty types of cells in the CNS.\n",
    "Oligodendrocytes responsible for myelin sheaths. Come from ectoderm. 1 oligodencrocyte can wrap around many axons, but takes many oligodendrovytes to fully mylenate a single axon.  Provides some redundancy. \n",
    "Astrocytes - blood brain barrier\n",
    "Microglia - scavengers. Come from endoderm. May also be important for blood brain barrier. \n",
    "\n",
    "In PNS:\n",
    "Schwann cells can only wrap one axon. Multiple schwann cells required for a single axon. Still has Nodes of Ranvier. \n",
    "\n",
    "\n",
    "\n",
    "\n",
    "\n",
    "\n",
    "\n",
    "\n",
    "Now we look at properties of specific channels. Understand how they relate to others as well. \n",
    "\n",
    "Instantaneous relationship: Inward, depolarizing. Outward is hyperpolarizing. Regardless of ion charge, because current is flipped with opposite charges. \n",
    "AP relationship.  Rising phase, PNa > Pk.  Falling phase, Pk > PNa. Overshoot Pk >> PNa.\n",
    "\n",
    "Patch clam is a form of voltage clamping, just much smaller. Idea: have very small recording pipette rather than a giant electrode. We can do one of two things. We can suction a part of the cell into the pippette. Now the cell is continuous to the inside of the pippete. As long as it is attached, we cann see what happens within the whole cell. We can also remove a small portion of the membrane and leave it in the pippette. Now can record what happens on individual channel. Dont do it in neurons usually. Often, they use frog oocytes. Put in plasmid DNA which expresses your channel. ONce we get the DNA in (called transection), DNA ->transcription to  mRNA -> translation to protien. \n",
    "\n",
    "Patch claming Na_ channels. Block K_ channels with TEA. Brief depolarization causes small inward current that disappear right away. Get pA of current. TTS will block the Na+ channel. Patch clamp thevoltage above zero. Microscopic current - current through one or very few channels. Max probability ~0.8. Early\n",
    "\n",
    "Patch claming K_ channels. Add tetrodotoxin to block Na_ channel.s Depolarization pulses cause outward currents. Once a channel opens (usually with delay) it repains open for the duration of the pulse. The probability of opening depends on the channel. Put patch clamp on at 50 mV. Most channels have delay before passing current. Most stay open so long as we apply clamp. Averaged microscopic currents. Look at macroscopic current, the shape of the curve is the same, but amplitude is different. Max probability of opening ~0.6. Outward current for potassium. Amplitude changes with number of VGC which are open. Duration as long as we are clamped. Delayed, sustained as long as voltage is sustained. Comparing probability curve"
   ]
  },
  {
   "cell_type": "markdown",
   "metadata": {
    "heading_collapsed": true
   },
   "source": [
    "# Lecture"
   ]
  },
  {
   "cell_type": "markdown",
   "metadata": {
    "hidden": true
   },
   "source": [
    "A new type of voltage gated solduim channel has been discoered. This channel opens at a membrane voltage of +50 mV. Which of the following might occur if this was the only tpe of sodium channel in a neuron (all other properties of the neuron being \"typical\"). Driving force is not dependent on conductance.\n",
    "\n",
    "Membrane depolarization would always cause an inward sodium current.\n",
    "\n",
    "Only talked about known channels. The first thing is to look at scorption toxin. Scorpion $\\alpha$ toxin prolongs Na+ currents. Current is early and inward, but it is also sustained. Elongates the action potential.\n",
    "\n",
    "Scorption $\\beta$ toxin. Worse. Shifts the conductance curve for Sodium to the left towards lower membrane voltages (aka, the sodium channels fire sooner at a lower threshold). Basically, the channels are always open. Lots of firing, short IS.\n",
    "\n",
    "There are a lot more channels. In general, the channels are either voltage gated or ligand gated. Voltage gated pass 1 ype of ion. Ligand gated channels can be outside the cell or intracellular. Glutamate, for example, has glutamate on the outside. Ca+2 or cyclic cAMP (gAMP?) are triggered on the inside. Can pass More than 1 type of ion. ALL PASS IN THE DIRECTION OF THE DRIVING FORCE!!! Never happens with a channel. Cell units are from a different protien. When we call something $\\alpha$ and $\\beta$, that means the yare different genes making different protiens. N and C refer to the ??? of the protien. All the channels, we need to know the number of protiens to make a functional channel. How they get voltage dependence. What the ion selectivity it is, and whether they have a regulatory subunit. The diagrams come from x-ray crystalographers. Transmembrane domain is the part within the membrane. T1 domain - intracellular. the $\\beta$ subunit. Many subunit genes, therefore many protiens. We could have a heterotetromer (red blue and green could be from different protiens). Subunit and funcitonal protiens are different! Know difference. The $\\beta$ subunit is regulatory. the $\\alpha$ is required. Can make a channel that passes ions using only the $\\alpha$ subunits alone. $\\beta$ can change properties. Voltage gated channel domains are lined with charged aminio acids. Domain - part of molecule with specific function. These molecules will more slightly with change in membrane potential. Movements cause a conformational change in the shape of the protien. This is responsible for opening/closing the channel.\n",
    "\n",
    "First we look at are the K+ channel.s Must know their names. Each subunit has 6 transmembrane domains. We draw them as little barrels in the pictures. The tertiary structure is an $\\alpha$ helix. The green one is a voltage sensor. 4 subunits in a funciton protien (4 voltage sensors in a funciton channel). 6 membrane spanning helices/subunits, meaning there are 24 transmamebane domains in a funcitonal channel. The selectivity in these channels comes from a pore loop. This is show in pink. If the pore loop is sticking out, (really is right at the center of channel). Determines what type of ions can pass thorugh. The beta subunit is regulatory (simply modifies the function). Direction of channel depends on DF.\n",
    "\n",
    "If we do a patch clamp experiment, if we patch clamp at -120, closed. patch at +50, we get current. Delay and sustained. The Kv 4.1 has the same conductance curve (and thus the same threshold), however, this one opens and closes. It is delayed and transient (and outward). The HERG channel can cast current, but non passes until we release the clamp. It only opens when we go from above to below threshold (super nifty!!!). Then has a tansient current. \n",
    "\n",
    "$\\alpha$ and $\\beta$ subunits are coded by different genes. Requires 4 $\\alpha$ subunits to make a functional protien. Many $\\alpha$ subunit genes, can have a homotetromer or heterotetromer. Can come from the same or different places. \n",
    "\n",
    "Now we get to some potassium channels. Passes current inward much better than outward. Only passes K+ when Vm < Ek. Not voltage sensitive. This channel will kick into action whenverer the cell is hyperpolarized. Usually not because of K+ moving out, but Chloride moging in. At the Ek, the  conductance becomes appreciable. Ca+2 channels. The one may look like it has a $\\beta$ subunit, but it is all 1 protien. 4 subunits of each protien to form a functional channel. 7 membrane spanning helices/subunits. Type we are showing in the book are voltage sensitive. htey only pass K+, but they are Ca+2 gated. It opens the channel so that it then passes K+. If we do the voltage clamp experiments for this channel,it doesn't pass any current at -120. Will pass Ca+2 at 50 mV. Amount of current that passes also depends on the amount of Ca+2. That is still current for K+. This is achieved by altering the conductance.  Or by increasing the number of channels that open. The Ca+2 does this. At 0 mV, we have current because we have conductance from K+ at 0mv. Affected by bothvoltage and Ca+2.\n",
    "\n",
    "Next channel 2-P channel. Dont ask why it is named this. Leak channels! Keep resting membrane potential near Ek. Takes 2 subunits of each protien required to form a funciton al channel = 8. 4 membrane spanning helices. Sensitive to both pH and mechanical stress. Not voltage sensitive. pH - close to 8. Means these channels are always open at normal pH.\n",
    "\n",
    "We looked at Na+ units. Our voltage cated Na+ and Ca+2 channels are made from 1 gigantic protein. Gets broken down into 4 things, each kind of like the $\\alpha$ subunit of the voltage gated k+ channel. Each poriton is voltage sensitive. 24 membrane spanning helices. There is an inactivation loop for Na+. Another way of looking at the protein. TTX blocks the channel from opening. $\\beta$ toxin shifts the threshold. $\\alpha$ toxin changes the inactivation. Finally, the inactivation loop. There are litarlly thousands of drugs to attack these channels. "
   ]
  },
  {
   "cell_type": "markdown",
   "metadata": {
    "heading_collapsed": true
   },
   "source": [
    "# Lecture "
   ]
  },
  {
   "cell_type": "markdown",
   "metadata": {
    "hidden": true
   },
   "source": []
  },
  {
   "cell_type": "markdown",
   "metadata": {
    "heading_collapsed": true
   },
   "source": [
    "# Lecture "
   ]
  },
  {
   "cell_type": "markdown",
   "metadata": {
    "hidden": true
   },
   "source": [
    "Electrical synapse - used in nimals for relesase of hormones. Studies in crayfish. Fastest of the synapses. Molecuses diffuse accross molecules which directly connect the two synapses.Look at two cells connected by an electrical synapse. \n",
    "\n",
    "Chemical synapses are the most common one. Chemicals travel through the extracellular space to another cell. gap between cells is larger than the electrical synapse. Voltage gated channel. Pore size is smaller than the electrical. In this case, stuff has to diffuse through the extracellular space. ONly ions diffuse. They have only one direction (pre -> post) (there are also exceptions). Chemical synapses are fast, but slower than the electrical. Modulation. Lots of purposes.\n",
    "\n",
    "How did we figure out there was a synapse without continuous connections? An experiment was done by connecting two solutions , one with the vagus nerve stimulated and one without. Substances could diffuse between the hearts. The vagus nerve slows the heart beat. When we stimulate the first heart to slow, the second slows as well. The conclusion can be drawn that there was a substance which was releasted which diffused to the other heart and slowed it too. Now we are left with the question, how does this happen?\n",
    "\n",
    "How are neurotransmitters contained inside the cell? We couldn't visualize through microscopy. Used the neuromuscular junction (NMJ). Disect the muscle. They leave the axon intact. The axon of a motor neuron is in the ventral horn of the spinal cord. It is myelinated. One motor neuron will branch and connect to an area on the muscle. This area is called the end plate (post-synaptic). With this prep, they could stimulate the axon and record from the muscle. Muscle response kind of like a neuron; has a threshold. Where the endplate is, ther eis lots of invagination (crevices) with lots of receptors. This is to increase surface area. Back to experiment. Minis. Start by block the ap in axon, then record the EPP. We wait and see. Every once in a while, they saw very tiny increases in the post-synaptic potentials. Because they were so small, called them Mini End Plate Potentials (MEPP). Used to think it was an accident, BUT THEY WERE WRONG! :) If we stimulate the axon, but plot the ability to record the axon potential, they become more synchronous. Very often, we will get the potentials which are lined up. Plot area under MEEPs, see histogram. We see that we never see minis of 0.2 mV. Instead, they alwasy came in multiples of 0.4 mV. Quantal content. Suggests that vesicles have a quantal content and that this, when released, causes 0.4 mV of MEPP. This supported the vesicle hypothesis.\n",
    "\n",
    "The final supporting evidence of vesicles came from electron microscopy. Because all the vesicles are so nicely ligned up, it is easy to predict where we would find them. See before and after stimulation. The little bumps are groups of Ca+2 channels. This blocks VG K+ channels. Therefore, when we incrase the concnetration of 4AP, the action potential lasts longer. The longer the action potentail lasts, the more neurotransmitters which are released. The vesicle is partially fused. The little pits look at a fused synaptic potential. Conclusion: synaptic vesicles fuse and release one quantal content of neurotransmitters.\n",
    "\n",
    "Ribbon synapse - all the vesicles line up very neatly in a row. Not the case in most kinds of synapses. 4AP blocks VG K+. More 4AP, longer action potential lasts, causing longer release of neurotransmitters. Tracked the numer of quanta released vs the number of vesicles fusing. There is a linear relationship. Important conclusion: Vesicles fuse, then release quanta.\n",
    "\n",
    "Review: what is a mini? It is a post-synaptic depolarization caused by a spontaneous or accidental pre-synaptic release of a vesicle. We learned about mini endplate potentials. In neurons, we call them mini excitatory or inhibitory potentials. In muscles, always excitatory. We know that the amplitude \n",
    "\n",
    "There is a Ca+2 dye, which flouresces when it binds to the dye. We can't see where the Ca+2 is, or whether it is within the synaptic space. The stimulating electrode is an increase in Ca+2. Free to bind the dye when we stimulate. We may be able to inject the Ca+2 presynaptically. Then we record post-syanptic potential depolarization. This tells use that pre-synaptic Ca+2 alone can cause post-synaptic depolarization. Then we ask, where is Ca+2 coming from> In the control. Block Calcuim Channels cadmium. Two major places we find Ca+2 in a cell. One is outside the cell. The other is in the Endoplasmic Reticulum. They blocked Ca+2 channels on the plasma membrane using cadmium. If this Ca+2 comes from outside the cell. We get an inward Ca+2 current. Ca+2 flows into the cell, and it gets a post-synaptic depolarization. We do not see a Ca+s coming from inside the channel. No post-synaptic depolarization. This says that Ca+2 must flow from outside to inside the axon to trigger synaptic vessicle release. \n",
    "\n",
    "Summarize experiments:\n",
    "1. Monitor calcium concentration. Stimulus increases free Ca+2.\n",
    "2. Wehn we envoke an action potential and inject a Ca+2 chelator pre-synaptically, we get a presynatpic AP, but post synaptic AP blocked.\n",
    "3. No pre-synaptic action potentail but pre-synaptic injection of Ca+2. No presynatpic Actio potential, but get a post-synaptic depolarization.\n",
    "4. Pre-synaptic action potental + block Ca+2 channel. Pre synaptic Action Potanteial, but no post-synaptic depolarization.\n",
    "\n",
    "Conclusion: Action potential gives CA_2 inclux in the axon, leads to synaptic vesicle release, leads to post-synaptic action potential."
   ]
  },
  {
   "cell_type": "markdown",
   "metadata": {
    "heading_collapsed": true
   },
   "source": [
    "# Lecture"
   ]
  },
  {
   "cell_type": "markdown",
   "metadata": {
    "hidden": true
   },
   "source": [
    "Presynaptic vesicle release, but effects recorded post-synaptic side. Look at molecules, and Ca+2. Look at various neurotoxins. Look at postsynaptic, achytocholine. Look at current flow through current. Channel passes multiple types of ions. Conductance and driving force are independent. Consider input from 3 synapses (can be up to 10,000). \n",
    "\n",
    "Look at presynaptic terminal. With neuromuscular junction, muscle is post-synaptic side. Must make neurotransmitter and put it in presynaptic vesicle. The nget action potential, causes depoarization, open the voltage gated Ca+2 channels. Giant one, 24 domains. Ca+2 flows in according to the driving force. It binds to a protein. Binding causes fusion of synaptic vesicle with plasma membrane. Not like synaptic vasicle dissolves into membrane. Some of it stays as if separate entity from plasma membrane. Called exocytosis (other types of exocytsis as well). Because of fusion, anything solulable diffuses out into the synaptic cleft. We then have the neurotransmitter diffusing across the synaptic cleft. Occurs pretty rapidly, also pretty vulnerable. Binds to receptor, causes opening of the channel. Not always binding to channel, but typical. Causes post-synaptic depolarization. If enough depolarization happens, post-synaptic channel depolarizes. The vesicle which has been absorbed by the membrane gets endocytosed. Specialized proteins required, want to keep separate from plasma membrane. Gets recycled into endosome, gets reused to make another vesicle. All this happens very rapidly.\n",
    "\n",
    "Discovered by experiment. Can we follow content of vesicle? Enzyme called the horseradish peroxidase (HRP). Makes dark precipitate when given a substrate. Can follow with microscope. Releases some synaptic vesicle. Some of the stuff gets taken up. Fusion takes ~1 ms. Withing 10 ms, we have endocytosis. Then vesicle reappears and ready again within 1 min. Can exceed synapse ability to release neurotransmitter. Can recycle proteins on surface of vesicle.\n",
    "\n",
    "In more detail. Not memorize names of all proteins, but a few need to be known. Two proceesses known as budding. ectodome into vesicle and endocytosis known as budding. The clatherine on to (protective state). Gets pinched at the base called dynamin. Uncoat the proteins, fuses with endodome. Old proteins broken down. Don't know a lot. Goes to a reserve pool. number of vesicles in a reserve pool varies. High frequency ones have a larger reserve pool Anchor protein called synapsin. In the reserve pool, kept away from plasma membrane. If 2 membranes get close, they want to fuse. To get vesicles in a state that they want to fuse, the vesicles are moved closer in a process called docking. Get set part is called priming. Brount in very close proximity. They Ca+2 enters, binds to synaptictagmin. Back in 2006. SNAP and SNARE proteins, not neural specific, found on vesicle and plasma membrane, and work in conjuction with each other. Synaptobrevin and Synaptotagmin (bind Ca+2), transmembrane proteins. Syntasin, presynaptic transmembrane. SNAP25 - periferal membrane protein, because has hydrophobic domain. \n",
    "\n",
    "Looking at docking and priming. Vesicle approaches membrane. Docks when snaps and snares on one side interact with snaps and snares on the other. Priming, 3 of 4 molecules, physically interact, vesicles now very close to plasma membrane. VG channels open, synapsotagmin undergoes conformational change (one protein now able to interact or stop interacting with another) causes clamping down, brings membrane super close. Causes Neurotransmitter release. \n",
    "\n",
    "Toxins interfere with the snaps and the snares. Why we get neruological problems. Lots of these have unfortunate GI consequences. With these toxins, encounter bacterial toxins. Like botchulinum, anerobic bacteria, found in improperly preserved canned food, affects GI system. Tetnis toxin is anarobic, grows on rusty nails. BotX-a (commercial), cleaves SNAP25. Cut proteins. If you eat it, it will affect GI system. Can't contract. Because cant contract, also cures wrinkles. The effect of tetnus toxin, targets interneurons. Normally inhibit motorneurons from contracting, contract more than they should, gives rigid paralysis.\n",
    "\n",
    "Lots of diseases which affect. Myashtenic (mya means affects muscles). Latrotoxin, from black widow spider, triggers vesicle fusion. Painful because it targets pain neurons in the peripheral nervous system. Botulism and tetanus affect snare involved in vesicle fusion. LEMS disease, attacks CA+2 channels. Targets Ca+2 channels. Don't get vesicle fusion. Look in some detail at the Ach receptor. Called the nicotinic Ach receptor. Binds nicotine, how it was discovered. Ligand gated ion channel. If we do a patch clamp (doesn't have to be voltage), this channel not affected by voltage, based on Ach binding. Different durations of being open. Depends on the on and off kinetics of the ligand (Ach binding). High concnetration of Ach in cleft, channels stay open longer. Since channel, get 2 pA of current. Get maximum of 300000 channels opening.\n",
    "\n",
    "this channel is ligand gated (nAChR). Acetylcholine receptor. Na+ goes in, K+ goes out normally. Passes both. Must look at the net current when more than one goes in. Reversal potential is when there is no NET current through a channel. May be individual currents, but are equal and opposite. Look at equilibrium potential for channels to figure out what's moving through. AT 110 mv, we are moving inward current. at 0 mv, we have no met current (thus is Erev). At 70 mv, large outward current. Ion could be involved. Ek = -100 mv, ENa = +70, Ecl -50 (think). We could have either Cl and Na, or K and Na. Instead, we do the experiment by increasing concentration of K+. We are either increasing or decreasing DF, which should change the reversal potential for the ion. Decrease outside concentration of Na, Erev decreases. This tells use that Na must flow through the channel. If outside K+ is increased, Erev increases. \n",
    "\n",
    "E = -90. Small K+ current, large Na current. Now have a lower inward current, lower depolarization. K+ in opposite direction, so slightly reduced. If we clamp at the Erev, no net current. Both K+ and Na+ are flowing, but net current is 0. When membrane potential is less than reversal potential, inward current. \n",
    "\n",
    "Vm < Erev, inward\n",
    "Vm = Erev, none\n",
    "Vm > Erev, outward\n",
    "\n",
    "What happens to net current. Passes Cl-. GABA-A receptor. IN the first situation, with Erev < Vm, get outward current, means Cl- goes into the cell. Erev > Vm, so we get inward current, Cl going out. ONly continue to go out until reach reversal potential, then changes potential. Since it is the only ion, Erev = ECl-. Reversal potentail for this channel is above threshold, can trigger action potential.\n",
    "\n",
    "Simple neuron, 3 dendrytes, 2 excitator, 1 inhibitory. 1 since excitation not enough; requires 2. When inhibitory synaps is part of it, gets hyperpolarized. When all 3 fire, threshold is not met. "
   ]
  },
  {
   "cell_type": "markdown",
   "metadata": {
    "heading_collapsed": true
   },
   "source": [
    "# Lecture"
   ]
  },
  {
   "cell_type": "markdown",
   "metadata": {
    "hidden": true
   },
   "source": [
    "Reversal potential channel for the ion is when there is no net current. \n",
    "\n",
    "Ek = -100 mv, ENa = 70 mV, Erev = 0 mV\n",
    "\n",
    "* -100 mV Na: high in, K: zero, net current high in\n",
    "* -90 mV  Na: high in, K: low, out, net current: high in but lower than -100mV\n",
    "* 0mV     Na: high in, K: high out, net current: zero\n",
    "* +70 mV  Na: zero,    K: high out, net current: high out\n",
    "* +100 mV Na: low out, K: high out, net current: high out\n",
    "\n",
    "\n",
    "Recall tha a MEPP is a post-depolarization caused by release of the presynaptic vescicles. For a long time, we only regarded this as a way to get a handle on the amount of neurotransmitter in a vesicle. The smallest unit would represent the quantal content. This should be directly proportional to the concentration of neural transmitter. Without changing things presynaptically, we can change the amplitude of the MEPPs. What types of things could change this? Obviously inceasing the amount of neurotransmitter. We can also change the properties of the receptors, such as the number or function of receptors.\n",
    "\n",
    "When we looked at VG receptors, we also saw ligand receptors. Not all ligand recptors are for neurotransmitters. We will eventually see cyclic nucleotide gated channels. Most neurotransmitter ion channels will bind on the outside. Area above would be the synaptic cleft. VG Na+ channel have only one large $\\alpha$ subunit. With VG K+, takes 4 subunits to make a funcitonal channel. Combine them in different ways. The AMPA receptor is a glutamate receptor and is a tertamer, may or may not pass Ca+2. \n",
    "\n",
    "Very important is the idea of the ion pumps and transporters. All these things move ions across their gradient. IN the case of the pumps, it comes from ATP. In case of ion excahngers and co-transporters, it actually comes from the electrochemical gradient. Think of it as a windmill. Pumps will have to bind to molecule on the plamsa side, hydrolisys causes conformational change which allows it to transport ions across the channel. Na/K pump concentrates K on inside and Na on outside. Ion exchangers have ions which move opposite direction. Cotransporters move all ions that move in the same direction. One with gradient, one against. Some go with concentration gradient, some go opposite.\n",
    "\n",
    "Na/K pump. 3Na+ attach, ATP becomes phosphorolated, which induces a conformational change, 3 Na+ released outside of the cell. Then binds 2 K+, then dephosphorolated, then releases 2 K+ inside. For every 1 ATP, move 3 Na+ and 2 K+. There is a drug called Ouabain and digoxin, which inhibit the Na/K pump. Can be used to control atrial fibrillation. Used to treat erratic heart rates. Could be dangerous, run down the gradients, have no action potential.\n",
    "\n",
    "Back to neurotransmitters. Previously discussed proof that neurotransmitters existed. We saw that Ca+2 entering from outside to inside caused release of vesicles. Classically, defined by location, regulation, and function. Locaton, they were in presynaptic vesicles and released. Regulation: the release was dependent on Ca+2. Funciton: they bind post-synaptic receptors. Two major categories of neurotransmitters. Look at simplified cartoon of cell. In the cell body, lots of proteins. Small moleule neurotransmitters are made by enzymes near the synapse. The enzymes themselves are synthesized in the cell body, then transported through axon. Called anterograde transport. Enzymes near synapse must put stuff in vesicles. Post-synaptic density (PSD).Vesicles are small and clear. Most small molecules are syntheseized near synapse and packed into small, clear vesicles. Minority of tansmitters fall in category of peptide neurotrans itters, made from proteins in cytoplasm of soma, go into vesicles, then transported anterogradely to synapse. Near synapse, but not at the active zone. Because of their position\n",
    "\n",
    "Co-transmitters. Voltage gated K+ channels are near active zone. Action potential opens VG Ca+2 channels, Ca+2 interacts with, release NT near active zone. By time Ca+2 diffuses. HF stimulation, Ca+2 channels open longer, Ca+2 diffuses to dense fore vcesicles. Also Ca+2 dependant using synaptotagmin. Need higher stimulation frequency to release peptide transmitter. Gives cell different response to different frequency. Peptide neurotransmitters tend to diffuse, and are a part of paracin singnalling. \n",
    "\n",
    "Partial list of NT. For each of these, types of receptors. 2 Main categories. 1. Ligand-gated ion channel (more comfortable). Ligands bind, ions flow through. NT directly causes ion flow. 2. G-protiend coupled recetpor (GPCR). Not ion channel. Once ligand binds, G protien goes off and activates an \"effective protein\". May or may not lead to opening on ion channels. Very often, will NOT open ion channels. Rather, modulates function, modulates the response to future stimulations.\n",
    "\n",
    "REceptors:\n",
    "nACh - nicotinic ACh recetpor. Not because binds nicotine. In addition to being triggered by ACh, also triggered by nicotine.  Glutamate binds AMPA, NMDA, and Kainate. Most cases, heterotetromers or pentomers (hetero meaning different). 10 different $\\alpha$ units to choose from. $\\beta$ is 1-4. Type of tetromer can influence types of ions which pass. Crystal receptor. AMPA-R. Must have apore and a $\\alpha$ helix domain which makes up pore, just like VG channel (no voltage sensor region though). Remember, ligand gated channel. Also a lot of metabotriopic receptors. Thought these acted mostly as monomers. Some can make heterodimers. The only GPCR (G-protein) without ion channel receptors is dopamine. \n",
    "\n",
    "Most have names which are used to descibe drug used to discover receptor.\n",
    "\n",
    "7 transmembrane, cytoplasmic domain can associated with G protein. Inactive receptor looks different than active receptor. Ligan gating changes the conformation. This will allow it to bind to a trimeric G protein. Trimeric G protein then activated. This has 3 different subunits, alpha beta and gamma. The alpha binds to GTP and is avtive when bound to GTP. ONly can bind to GTP when it binds to a recetpor. Alpha subunit. G protein coupled receptor is the receptor. The trimeric G protein can interact with different types of receptors. Trimeric G protein, dopamine 1, domamine 2 and mAChR. Depending of type of trimeric g-protein. Gs activates acitvates admincyclase, Gi inhibits. Converts cAMP, which activated protein kinase A. Gs leads to more cyclic AMP. Gi inhibits cAMP. Gq activates phospholipagse, makes 2nd messangers. IP3 binds to receptors on outside of cell, releases Ca+2.\n",
    "\n",
    "How to expoit this? They took the receptor which used to ind to ACh, mutated until it no longer bound ACh, but instead Clozapine-N-oxide (CNO). put this into neuron, nothing happens until it is given CNO. DReADDs. Tool to chemically control the signaling pathway in neurons. \n",
    "\n",
    "Differen types of neurotransmitter. MUST UNDERSTAND. Synthesized, packaged into SV, transported to synapse, how is it released, duffusion across synaptic cleft (many other things can happen), NT can bind to receptors, and it can be broken down or reuptake. Neurons spend a lot of energy modulating neurotransmitters within synaptic cleft.\n",
    "\n",
    "Start with ACh. Synthesized at axon terminal by choline achetyltransferase (CHAT). Two major recetpros: nAChR: - ligand gated ion channels. mAChR - musacarnic ACh recetpr. Removed from synapse by achetylcholinesterase. Reuptake happens with an exchanger. Na+2 going with gradient provides energy. ONLY CHOLINE WHICH UNDERGOES REUPTAKE. Target of insecosides. Also a major target of nerve gases. During prohibition era, people were trying to import alcohol. Making ginger extract. People would import it, must take test. Some bootleggers partnered with a chemist. Called Jake. Jake Foot developed. Blocked more ACh, continued more signlaling at the NMJ. Signalling the effect. This is the pentomer. One each of the subunites (5 total, alpha through epsilon). Agonists: Acetylcholine nicotine. Antagotinst Mecamylamine. Not immediate obvious for how it blocks nausea, but it works! No one knows.Targeting some other type of synapse."
   ]
  },
  {
   "cell_type": "markdown",
   "metadata": {
    "heading_collapsed": true
   },
   "source": [
    "# Lecture"
   ]
  },
  {
   "cell_type": "markdown",
   "metadata": {
    "collapsed": true,
    "hidden": true
   },
   "source": [
    "The dense pore will be away from active zone. Ca and VG channels are clustered near active zone. High frequency requred to allow Ca channels open long enough to diffuse to where the dense pore channels? are and release.\n",
    "\n",
    "Neurotransmitter get to the other side? Through diffusion. It has to bind to a receptor. On and off kinetic. Longer the transmitter stays on the receptor, longer it will signal. ONce it comes off, numerous mechanisms remove the NT. Can undergo reuptake or degredation. Some have both, some have just 1. ACh.. CHAT makes ACh. In vesicles which dock at the active zone. Ca+2 dependent. VAChT - vesicular acyltocholine Transporter. Most will have some sort of vesicular transporter. Sometimes they're pumps, usually cotransporter. Their purpose is to fill the vesicle with NT. If vesicle wasn't working well, NT is less, thus MEPPs (and quantal content) would be decreased. REleaesd to the synapse. Ligand gated recepots. NO REUPTAKE OF ACH. acetylcholineesterase breaks it down. Choline does get reuptaked.\n",
    "\n",
    "Major receptors are nicotinic receptors. Because nicotine was found to stimulate them. Antagonist: mecamylamine. Given for naseau and vertigo. These are pentomers. Will have $\\alpha$ to $\\epsilon$. Many diseases target these nicotinic recepotrs. Myasthenia gravis, drooping eyelid. If we record EMG (muscle action potentials), we see they have fewer and smaller action potentials and MEPPs. After a drug called neostigmine, regain some strength in amplitudes. Does not change NT concentration. Does change the amount of NT in synaptic cleft.\n",
    "\n",
    "Muscarinic ACh receptors. GPCRs. Agonists: acetylcholine, Muscrarine. Antagonists: atropine, scopolamine. Atropine will block the receptors, causes muscle contractions. Vagal response is modulated by the M1 type receptor GPCr triggers pathway which slows down heart. Heart muscle with ACh blocks the vagal response.\n",
    "\n",
    "Glutamate. Neuron which releases a specific NT, when releases Glutamate, call it glutamatergic. Transporters for reuptake, VGLUT - transport glu into vesicles. Astrocytes are critically important. Excitatory amino acid transporter. EAAT. transports glu into the glia. Converted back to glutamine, then pumped out of cell by the SN1. Glutamine doesn't bind to glutamate receptors. SAT2 brings back into cell. 3 major types of receptors. AMPA, NMDA, and Kainate. All of these pass Na+, K+, and Ca+2. CNQX - antagonist for AMPA.  NMDA has GluN subunits. Also permeable to CA+2. Undergoes regulatory things. Binds Mg+2. Mg+2 gets into the pore, but blocks it. Must have depolarization to get Mg+2 out of channel to pass Ca+2 again. Glutamate has an obligate co-receptor. Antagonist - APV.\n",
    "\n",
    "AMPA receptor Ca+2 permeability. NoGluA2, it is ca+2 permeable. Usually GluAt subunit usually has glutamine. Enzymes come along and change codons in the RNA. Sometimes it gets changed into arginine. When it has the argininge (R) subunit, it doesn't pass CA+2. Without GluA2, CA+2. Q variation, CA+2 permable. R mutation, Ca+2 impermeable. If we add compounds to clock these receptors. To record from just this one kind of receptor.\n",
    "\n",
    "AMPA large and quick. NMDa, low and slow. Activating by adding glutamate. Kainate has similar kinetics to NMDA. All channels passing both Na+ and K+. Channels are ligand gated. Pore loop which goes inside channel and determines ion selectivity. Transmembrane domain doesn't have anything to do with ion selectivity. NMDA receptor. Major studty  from memory. Not the cause of these things, regulating activity of this receptor, we ca change slow down neuronal death in alzeimers. Current canont flow. MIld deplarization occurs. this is typically accomplished by the AMPA receptors. If we have receptors at the same synapse, it passes current really quickly. We can do  experiments where we have either or glycine, or diserine or Mg+2. Memgrane potentialbs Current.Glycine without Mg+2. All have glutamate for activation. If we add Mg+2 and glycine, then we have essentially added a component of coltage sensitivity. Below a certain membrane potential, get a certain current. Aboce that, we get small amount in inward current, then outward current above that. If we have no glycine, even without Mg+2, no current. s"
   ]
  },
  {
   "cell_type": "markdown",
   "metadata": {
    "heading_collapsed": true
   },
   "source": [
    "# Lecture"
   ]
  },
  {
   "cell_type": "markdown",
   "metadata": {
    "hidden": true
   },
   "source": [
    "Voltage gated channel - specific; only pass 1 type. Ligand gated pass more than 1 type. \n",
    "\n",
    "Not due ot the sodium and potasium going through. About the channel. Stays open longer, property of channel not ion. Left off looking at the NMDA receptor. Glycine and d-serine are critical with glutamate. Glutamate is released from the synaptic vesicle. D-serine and glycine are \"always\" present. There are some ways to regulate their availability. Cadmium to block Ca+2 channels. Need to get rid of Mg+2. can do with a voltage clamp experiment. D-serine is present. We vary whether glutamate and Mg+2 is present. No glu, no Mg_2, then no current goes through. This is raw data. Then, 10 mM glutamate, some with or without Mg+2. All voltages except reversal voltage show current without Mg+2. When we add Mg+2, at the high voltage clamps (depolarization), there is current. Below this, not sufficient depolarization to remove Mg+2. At -60 mV, mostly Na+, at +60, mostly K+. Looked at a plot of types of current as a function of membrane potential. At 0 mV, no current (b/c reversal potential). Blue line, no Mg+2. In yellow line, Mg+2 and D-serine and glycine, below a above voltage, Mg+2 will go away (~-60 mV. We get to the reversal potential. No net current. Above reversal, direction changes. With Mg+2, must consider voltage to a certain point.\n",
    "\n",
    "NMDA-R requires both glutamate AND D-serine to open the NMDA receptor. Mg+2 blocks current.\n",
    "\n",
    "NMDA receptors. Highly studied. Can modify many portions. Can change the functioning. Same amino acid. Can increase or decrease the current which passes through the channel. If oxidized, it will increase. If reduced, it will decrease. There are also a family which has names. Thyrosine residues, specific residues (also called amino acid). When they get phosphorolated, increase current. Dephosphorolated, decrease the current it passes. In the right combinations, can become insensitive to Mg+2. All of these change conformation. We know that during development, because of modification, receptor is less sensitive to Mg+2 block.\n",
    "\n",
    "Recall the NMJ and mEPP. Minis, presnaptic side, Ca+2 binds to synaptotagmin; normall big influx of Ca+2. However, for minis, block AP, therefore VG Ca+2 channels are NOT open. Causes vesicles to fuse. Must cross the synaptic cleft. In cleft, NT could not reach receptors. If some do reach the other side, (NMDA recepotr) activate, pass Na+ and K+. small net post-synaptic depolarization of VM called mEPSP or mIPSP (GABA) (excitatory or inhibitory post synaptic). At some point, NT stops binding. We saw with ACh, acetylcholineesterase  degrades ACh.\n",
    "\n",
    "Important is glutamate excitotoxicity. This is something which occurs when too much glutamate in the synapse. Get prolonged activation of the AMPA and NMDA receptors (important). Continuous NMDA activation leads to high intracellular Ca+2 (problem). AMPA receptors sometimes pass Ca+2, but NMDA always do. High levels of Ca+2 lead to apotosys. Don't have to memorize pathway. Caspasses are messengers. Excitotoxicity occurs with ischemia (oxygen deprivation) in a stroke, brain trauma. Harm can be reduced by blocking the NMDA-R, or activating post synaptic voltage gated K+ channels and hyperpolarizing the cell. ONe thing to do is activate the K+ channels. BK channels.\n",
    "\n",
    "Middle cerebral artery occlusion. Fix and stain tissue such that white represents dead tissue. aCSF (artificial cerebral spinal fluid). Injected into the brain. Second tria, added memantine (blocks NMDA-R receptors). They decreased the damage by including memantine. They can also demonstrate the importance of the K+ channels. AC and D (figures) caused a mild ischemia. Normally, only a small amount of damage. If they do the same thing in a mouse that knockout the post-synaptic VG K+ channels (BK channels), increase the volume of damage increases. We need these channels to protect from ischemia. memantine is used clinically, has been tested following tbi's, called memantine for memory, b/c given to people with alzheimers. \n",
    "\n",
    "Making BK channels less active would be a bad idea. NMDA receptors should.\n",
    "\n",
    "Glu subunits, don't have to memorize them all. Type of trimeric g protein receptors bind to. Gq, Gi are very different. Gq activates phosphylypacse C, Gi inhibits adrenalcyclase. GPCRs have 7 transmembrane domains.\n",
    "\n",
    "GABA (small NT) major NT. Usually inhibitory. Made at the synapse. Made from glucose or pyruvate. Converted from glucose to glutamate to GABA.. Packed into vesicles by VIVAAt. Vesicular inhibitory amino acid transporter. Removed from synapse by GAT reuptake. Ion channels (GABA-A, should know), has chloride, hyperpolarize cell, thus inhibitory; blocked by **strychnine**. GABA-B (GPCRs), coupled to g-protein, could activate K+ channels, inhibit Ca+2 channels (which tends to make cell hyperpolarized).  Inhibiting an neuron can do different things based on the neuron affected. Normally when GABA bonds to a receptor, it opens the channel and hyperpolarizes the cell. A synapsing onto B. Stimulate A and record B. A is releasing GABA. Normally neuron is firing action potentials. Stimulate A to release GABA onto B, we see a reduced or blocked ability to fire action potentials. The cell cannot get to threshold. "
   ]
  },
  {
   "cell_type": "markdown",
   "metadata": {
    "heading_collapsed": true
   },
   "source": [
    "# Lecture"
   ]
  },
  {
   "cell_type": "markdown",
   "metadata": {
    "hidden": true
   },
   "source": [
    "Talked about the categories of NT. Small molecule and neuropeptides. Talked about ACh, as well as amino acids, Glutamate, GABA, and Glycine.\n",
    "\n",
    "Now we talk about the biogenic amines. One group is called the catecholamines, all derived from tyrosine. Dopamine, Norepinephrine, epinephrine. Interesting thing, is although they are extremely important, the molecules themselves are only made within a very small region of the pons, medulla, or brain stem.\n",
    "\n",
    "Dopamine - made in the substantia Nigra (cells look dark). The L-dopa makes them look dark. These cells have axons which expand throughout the entire brain, but also in the spinal cord. Dopamine is known to be a lot of different things. Controls how small our movements are, our moods, appetite, and the reward center. Reason it is a key ingredient. Packaged by the VMAT (vesicular monoamine transporter), not specific to dopamine. Undergoes reuptake and degredation. Na+ dependent Transporter (DAT, responsible for reuptake, blocked by cocane). Monoamine oxidase (MAO), and catechol O-methyl-transferase (COMT). the MAO is inhibited by the MAOI, a class of drugs, such as benedryl. 2 Classes of dopamine receptors (actually 5 different members, but usually act like D1 or D2). The D2 receptor couples to a trimeric G-protein Gi. Usys cyclic AMP. D1 couples to a Gs.\n",
    "\n",
    "There are no ligand-gated ion channel dopamine receptors.  \n",
    "\n",
    "Norepinephrine. Not exclusively in brain. Made by cells in pons called the Locus Coeruleus. Put into cells by VMAT, degraded by COMT or MAO. Only GPCR receptors as well. Alpha or Beta type. Different types of alpha receptors may coupole to a Gq or to a Gi. Wherease the Beta couples to the Gs. Depending on which receptor is present, it will be activating receptor pathways. Alpha 1 receptor triggers a pathway which inhibits K+ channels. It is slower to depolarize.  Eventually vrest moves up. Alpha 2 activation of K+ channels. Same ligand binds to different receptor, different outcome.\n",
    "\n",
    "Epinephrine. Least well understood. Made by 2 groups of cells in the medulla. However, axons releasing epinephrine, trigger horomone release. Epinephrine into the Hypothalamus can regulate things. Also made by adrenal cortex, secreted into blood. Packaging into vesicles by VMAT, degreidation COMT or MAO. Transporter NET. Reuptake\n",
    "\n",
    "Enzyme to know is tyrosine hydroxolase.\n",
    "\n",
    "Serotonin. Made from **Tryptophan**. Serotonin receptors different categories. Ion channels (Na+ and K+) and GPCR. Serotonin, we can see, made by the Raphe nuclei. Also made in the pons, sent down to the spinal cord, released throughout brain in same pattern as dopamine. Packaged into vesicles. REpackaged by SERT transporters (removal mechanism). MDMA (ecstasy) blocks the removal. Some of the GPCRs may couple to Gi, Gs, Gp.\n",
    "\n",
    "Histamine. NT, made from Histidine. Made from cells in the hypothalamus (tuberomammillary). Not specific to nervous system. Put into cells by VMAT, degraded by MAO. All of its reeptors are GPCRs. \n",
    "\n",
    "Dopamine, from tyrosine, GABA from Glucose, Histamine from histadine"
   ]
  },
  {
   "cell_type": "markdown",
   "metadata": {
    "hidden": true
   },
   "source": [
    "## Purines"
   ]
  },
  {
   "cell_type": "markdown",
   "metadata": {
    "hidden": true
   },
   "source": [
    "ATP and Adenosine.\n",
    "\n",
    "ATP copackaged with other NT. ATP synthesized throughout the cell. Transported into vesicles is uncertain. Degredated into adenosine in synaptic cleft. Release ATP could signal as ATP or adenosine. 2 major classes of Purine receptors. P2X - ion channels. Happen to be trimers, trimeric. GPCRs, A2A prefer to bind adenosine, but also ATP. P2Y bind equally well to both ATP and adenosine.\n",
    "\n",
    "Neuropeptides. Least well understood. Opioids. Packaged into cesivles presynaptically. Can also travel through blood stream. Opioid taken will affect the brain. Taking glutamate. 2 of the most well known ones are Substance P and opiods. Modulate emotions and pain. Made as large proteins in the cytoplams, udergo processing to get into vesicles, then sent down the axon to the synapse. The protein in the ER is the pre-propetides, gets cleaved to propeptides (in the Golgi), which are converted to active neuropeptides in the vesicles by proteolytic cleavage. Active g-protein receptors at very low concentrations - very powerful. Opioids cause constapation.\n",
    "\n",
    "Pre-propeptide. On ER. Gets chopped off. Goes to the Golgi as a propeptide. Once in the SV, gets processed further. Gives us 4 different important neuropeptide. These will be in the dense core vesicles. \n",
    "\n",
    "One of the indogeneous opioids, long complex molecule. Morphine, methadone, meperidine. As to why taking heroine causes addiction, methadone, eases the craving without a lot of the effects even though they bind to the same receptor. Dynorphin."
   ]
  },
  {
   "cell_type": "markdown",
   "metadata": {
    "hidden": true
   },
   "source": [
    "## Unconventional"
   ]
  },
  {
   "cell_type": "markdown",
   "metadata": {
    "hidden": true
   },
   "source": [
    "Concentinoal NT packaged into vesicles. Endovannabinoids. Along with the opioids, earliest discovery by man. Arachidonylglycerol = 2AG and Anandamide. Hard to follow b/c they are lipid derived. Cannot be contained within a vesicle. THC, tertohydrocannabinol. CB1 and CB2, GPCRs. Not in vesicles, not released presynaptically, but post-synaptically and signal retrogradely and affect the presynaptic cell. Becaues they aren't in vesicles, not Ca+2 dependent. Activated by 2nd messenger signaling. They are released, degraded by FAAH.\n",
    "\n",
    "Look at a couple of experiments. Recording from a pyramidal neruon. Simulating an inhibitory GABA neuron. First, we record, get a depolarization. Technically we should have stimulated it as well. If we stimulate the GABA neuron, it relaease GABA onto the pyramindal neuron. If we record, we see less deplarization.\n",
    "\n",
    "We will do something that will cause the release of endocannabinoids. STimulate interneuron and record what is happening from the pyramidal neuron, we get an inhibitory curve. Here, we are\n",
    "\n",
    "Instead of getting the big inhibition, we bet much less inhibition if we stimulate pyramidal neuron then stimulate interneruron. Somehow, prior stimulation of pryamidal neuron inhibited the ability of the interneruon to release GABA. Repeat experiment with something which blockes the endocannabinoid receptors. The ability of the released GABA to cause depolarizaton. If we do this again, but instead of just stimulating the pyramidal neuron, if we include the CB1 blocker, then stimulate interneuron, then stimulate the pyramidal neuron, then stimualte the internerueon.\n",
    "\n",
    "When pyramidal neruon under activity, it blocked the ability of the interneruon to inhibit. \n",
    "\n",
    "NT is released by a presynaptic neuron. GPCR, ion channel receptor. Somehow involves Ca+2, where Ca+2 is a second messenger. The amandimine binds to the presynaptic cell, which can decrease activity of VG Ca+2 channels or increase VG K+ channels. The net effect is for the GABA neuron to release its NT. Why would it matter between plant derived cannaboid? plant based last longer.\n",
    "\n",
    "Presynaptic neuron can be either a excitatoyr of inhibitory synapse. There's not magic combination. Some state of activity in the post-synaptic neuron. Bind to synabses.\n",
    "\n",
    "Releasing endocannabinoids.\n",
    "\n",
    "Nitric Oxide. NOT nitrous oxide (this is laughing gas). Nitric oxide is the signaling molecule. NO synthase made from Arginine. Thre is nothing having to do with Ca+2, released from any cell to affect any other cell. Don't know how it signls, except it affects Guanylyl cyclase, to activate Protein kinase G. \n",
    "\n",
    "Tha tables we submitted from Assignment 10, we should memorize them!!! "
   ]
  },
  {
   "cell_type": "markdown",
   "metadata": {
    "collapsed": true,
    "heading_collapsed": true
   },
   "source": [
    "# Lecture"
   ]
  },
  {
   "cell_type": "markdown",
   "metadata": {
    "hidden": true
   },
   "source": [
    "The high level of activity. The presynaptic neuron reduces it's ability to release GABA. We can repeat the experiment with SR1..., which blocks the CB1 receptor. Stimulate the pyramidal neuron, stimulate interneruon, record from pyramidal neuron, the inhibiory neuron can once again induce hyperpolarization.\n",
    "\n",
    "The idea here is that, the state of the neuron can influence the ability of other neurons to act upon the neurons. In this example, the signal is inbitobory. \n",
    "\n",
    "Green - activating, red - inbititing. These different compunds can act at any stage of the level. It's not that these compunds keep channels open longer. Probably heard of SSRIs - block seretonin transporters. Seretonin doesn't block reuptake. NDRI's - block dopamine or norephinephrine. Excitotoxicity. A lot of excess glutamate can be due to the glial cells. They uptake glutamate and release glutamine. With brain trama, it doesn't actually remove the glutamate. MAOIs - . They will increase the amount of dopamine. Bind to the GABA-A receptor. The target neurons will be inhibited. Generally the sympotns from a drug will depend on the mode. May have a different effect if injected vs swallowed. Ketamine - reduce NMDA receptor.\n",
    "\n",
    "Cocane - blocks the dopamine transporter. Increases dopamine within the synapse. Meth - taken up by the dopamine transporter. It displaces dopamine within the vesicles. Ectasy. THC we know binds the CB1 receptors, release things which inhibit the GABA receptors. Heroin - binds to DOR receptors, which inhibit the GABA receptors. When we inhibit the uptake, there is more left in the synaptic cleft. Alcohol, not direct effects. No direct evidence that it binds to the NMDA receptors. Upregulation of GABA and down signaling from NMDA. LSD - activate dopamine D2 receptors and 1 type of serotonin. \n",
    "\n",
    "Signal amplification. Ligand binds to receptor. Generally, must interact at the receptor. Some steps in the signaling pathway get amplified. GPCRs shown on the slide, but can also show it from the ligand gated ion channels. When dopamine.\n",
    "\n",
    "Trimeric g protein activates the adenylyl cyclase. Must stay interacting with AC to activate; thus not an amplificatoin step. AC to cAMP is amlification! cAMP to Protein kinases must interact; not an amplification. Protein kinases to targets. Molecules cannot bypass a lipid membrane. Can be contained in vesicles. Must be released within the cell. Cell permeance. Endocannabinois are basically modified libids. They can pass across membranes. Same with estrogen and NO. Because it can pass through membrane, can bind on inside or outside of cell. Cell adhesion molecules, also bidirectional.\n",
    "\n",
    "Mostly looked at the ligand gated ion channel. These are going to be gated by secreted molecules. The secreted molecules. Usually either a kinase or a phosphotase within the cell. Best example of this is the neurotrophin and integrin. Spend a lot of time talking about G-protein coupled receptors. These bind to secreted molecules. Intracellular receptors. Active zone and the PSD on the post synaptic side. Parachrine signalling happens when a molecule is secreted. It is kind of a local signal. \n",
    "\n",
    "Cell-associated (stuck on surface of cell). If intracellular, means inside of cell. Cell permeat ligand binding to GPCR (example of neurotropin). CeCellassociated to enzyme linked.\n",
    "\n",
    "Trimeric vs monomeric G-protein. Autoinhibition. Both are only active when bound to GTP, both can hydrolize GTP to GDP (turns off signaling). We know that the trimeric G protein first interacts with the GPCR. the subunit interacts wit hte GTP and GDP. The activated trimeric g-protein (alpha goes off). The monomeric has only one subunit. \n",
    "\n",
    "Gs pathway. Glutamate receptors coupled to the Gq receptor. Couples ot a Gi. S and I stand for stimulate and inhibit. Q doesn't stand for anything. When you activate a recetpror to Gs, adenylyl cyclase and Gs interact to make cAMP, which activatesProtein kinase A. If Gq, activates phospholipase C.\n",
    "\n",
    "Once ligand is bound to receptor, it can activate multiple G ptoteins by moveing from GDP to GTP. Pholspholibase C - breaks bonds in phospholipids. DREADS. Remember, started with nromal indogeneous receptors. CNO binding normally. Genertic tools to turn G proteins on and off by adding drugs CNO. \n",
    "\n",
    "Two types of molecules. GAPs and GEFs. Regualte activity of the alpha subunit. Soetimes can increase the subpathway, or inhibit. These can also regulate the alpha idependent of ligands being bound. GAP activates the GTPAse. Comverts GTP to GDP. This inactivates the alpha subunits so it turns off signalling pathway. This will reduce the amount of time the pathway is active. Even when the ligand is bound to the GPCR, it can still turn off pathway. GEFs = GTP Exchange Factor. Interact with inactive alpha subunit, changes GDPfor GTP, which activates it. This could turn on pathway independent of a ligand. \n",
    "\n",
    "If we have a GET, GDP->GTP. GAP, GTP->GDP, inactivates. Reducing. alpha subunit itself is a GTPAse, whic hhydrolizes. Alpha subuniit, will reduce activity. GAP activity is the GTPAse activating unit. Don't confuse GTPAse with the signaling function. We've talked a lot about signalling pathways. Dopamine can bind to 1 of 2 types of receptors. D1 and D2 receptors. The D1 receptor can couple to a Gs, D2 couples to a Gi. Gs stimulates AC, Gi inhibits AC. \n",
    "\n",
    "Categories of molecules called second messanges (not always second thing within pathway). Bunch of proteins which trigger something to happen. Have these small molecules. Major ones we talk about, Ca+2 probably most important. cAMP, cGMP, IP3, and Diacylglycerol. Ca+2 can come in through VG CA+2 channels. A number of the receptors, such as NMDA, will also pass Ca+2. A large store of Ca+2 in ER. Two types of ligand gated channels. IP3 receptor. Ryanodine receptro. Still do not know the ligand which opens it. Many targets of Ca+2. Already seen Ca+2 gated channels. Synaptotagmin. Synapic vesicle release. Calmodulin, binds to Ca+2 and deliver it to other things. Can't let Ca+2 hang out. Too much Ca+2 from the NMDA receptor. Removed by exchanges. Hace Ca+2 pumps on the "
   ]
  },
  {
   "cell_type": "markdown",
   "metadata": {
    "heading_collapsed": true
   },
   "source": [
    "# Lecture"
   ]
  },
  {
   "cell_type": "markdown",
   "metadata": {
    "hidden": true
   },
   "source": [
    "Active degredation or active reuptake"
   ]
  },
  {
   "cell_type": "markdown",
   "metadata": {
    "heading_collapsed": true
   },
   "source": [
    "# Lecture 10-25-17"
   ]
  },
  {
   "cell_type": "markdown",
   "metadata": {
    "hidden": true
   },
   "source": [
    "Man lost his hippocampus. Couldn't form new memories. Old memories are stored somewhere else.\n",
    "\n",
    "Procedural memory is different than declarative memory. Declaritive is explicit and can have: Episodic (stores personal experience), semantic (factual details), spatial, and associative. Pre-frontal cortex important for storing memories. Procedural uses striatum, cerebellum, cortex limbic system. \n",
    "\n",
    "Dentate gyrus send axons -> CA3 -> CA1. Has nice orgainzation. Can go in with an electrode and stimulate. The bundel of axons is called the Schaffer collatorals. There are a number of testes to do.\n",
    "\n",
    "Morris water maze. Water obscures the vison; mouse learns from external cues. If we remove temporal lobes, mouse never learns. Paviovian fear conditioning, shock mouse. Does the mouse remember pain? Novel object recognition. A new object is explored more by normal mouse. The mouse with the lobes removed will explore them equally regardless of if the object is novel or not.\n",
    "\n",
    "HF stim of schaffer collaterals. CA1 would respond differently. HG stim increasesd EPSP strength. Set a baseline. We now know that if we interfere with LTP, we also see reduced performance in behavioral test. Long term Depression (LTD), also depends on stimulation of Schaffer collatorals (1Hz). Initally, EPSP increases, then slowly decays. After stimulation, strength of EPSP decreaes and remains low for a long time. Turns out we need LTD to forget about things which are unimportant.\n",
    "\n",
    "There were 2 tests to determine if LTP was important in memory.  Must be specific to stimulated synapse. If synapses are stimulated at the same time, should be some coupling. Pathway 1 receives HF stim, Pathway 2 was NOT. Both bathways are different neurons which synapse on the same post-synaptic neuron. Specificity of the active synapse was shown. 2nd exp. P1 stim, P2 stim at much lower level. Pathways active at the same time undergo LTP. Association, synapses can undergo LTP even if they didn't directly receive stim. Neurons that fire together wire together. \n",
    "\n",
    "Multiple axons attaching to each neuron.\n",
    "\n",
    "Lots of types of synapses. We know relatively little. We know little about LTP other than at glutamatergic syanpses. Large percentage are found on the dendrytic spine. Tiny pertrusions. Spine has bulbous head. One side is the post-synaptic density. Spines are sites of most glutamatergic synapses.\n",
    "\n",
    "Dendryte filled with lglourescent markers. Bigger red spot, bigger spine. LTP increases size of the spines, undergo LTD, decrease size of spines. Each synapse on a single spine. Changes in shape and size of spine are associated with mental retardation. Cocaine exposure can also change them. Correlation between size of spine head and numberof AMPA receptors. Can also make more spines. What do these spines do. Why make the effort? One region for having architecture of spine is that the head can be a microdomain for Ca+2, and the skinny neck serves as a diffusion barrier. \n",
    "\n",
    "LTP or LTD. We will induce this in a single spine, and we willfollow either the volume or the current through the AMPA receptors. What we see is when we induce LTP, larger volume of spines are more AMPA currents and reduce AMPA currents.  Proteins regulated by Ca+2. Major player in LTP. Follow transient changes in CA_2 (scale of ms). If we look at LTP on same set of spoines, we see specific LTP on stimulated spine, but not neigherboring spines. We see a transient activity. Increaes in CaMKII activity, then the ...\n",
    "\n",
    "What does CaMKII and Calmodulin do? First step, Ca+2 cmoems from NMDA receptors (specifically critical for LTP), binds to calmoduline, activates CaMKII through autophosphorlating. This can phosphorolate stargazen, which clustersIf we get rid of CamKII, we can decrease LTP. \n",
    "\n",
    "Typical post-synaptic thing of LTP. More Ca_2. Common way in which this happens, is the activation of Ca_2/Calmodulin kinase II. This AMPA receptor. To get long lasting LTP, we must change gene expression. A major way is through CREB. CREB can gets phosphorolated to PKA, others, then goes to gene expession. In the ms range, activating AMPA\n",
    "\n",
    "Rate limiting step. More active tyrosine hydroxalase, make more dopamine. Can increase effect of quantal release. talked about role of breb. Can be activated by a number of kinases. Ion channels. Interesting phenomenon. Silent synapse. Certain percentage of receptors had NMDA. They're never active. Some percentage will now get AMPA, now becoming active.\n",
    "\n",
    "LTD is not the opposite of LTP. LTD provides a prolonged increase in Ca+2. Dynamics and duration and concentration of post-synaptic Ca_2. Should remember calcinurin. Dephosphorolates. Among other things, leads to internalization. Like LTP, LTD can be pre or post synaptic. Involves NMDA nad AMPA. Post synaptic stimulation. GPCR signalling can lead to internalization??? of AMPA receptors. Endocannabinoid signalling involves the activating of synthesis. Presynaptic neuron could be releasing glutamate. CB1 receptor, downregulate."
   ]
  },
  {
   "cell_type": "markdown",
   "metadata": {
    "heading_collapsed": true
   },
   "source": [
    "# Lecture 10-27-17"
   ]
  },
  {
   "cell_type": "markdown",
   "metadata": {
    "hidden": true
   },
   "source": [
    "Don't get cocky! :) Exam 2 on Monday. Understand what we've memorized as well. \n",
    "\n",
    "Catecholamnes are in pons and medulla. Dopamagernic neurons have cell bodies in the substantia nigra. The se small molecule NT are synthesized near synapses. Only region they are released are in the cortex. They are\n",
    "\n",
    "Trimeric G protein interacts with receptors, have alpha ,beta, and gamma subunits. Talked mostly about alpha. Has GTP binding and hydrolisys capactiy. can convert GTP to GDP. Active signaling only when bound to GTP. It can hydrolize GTP, and make it inactive. The GTP activity, rather than waiting, can use something called a GAP. by activating the GTPAse function of the alpha, the GAP turns off the ability ofhte alpha subunit to signal. We can also wait over time to excahnge the GTP to GDP or we can use a GEF. (GEF does not turn GDP to GTP, but rather replaces them). Both GAP and GTPAse activity would reduce the alpha signaling. \n",
    "\n",
    "What is sensation, differ than perception. Define things for this class. Defining this for this class. Sensation detection of external stimulus at a cellular level. Example: pin prick, sound, light. External, mostly, outside of body. Proprioception is an exception; this is simply external to the nerve. Perception - Conscious awareness of stimulus. Conscious is the important thing here (Ex: it is hot in here). Can have consciousness of sensation.\n",
    "\n",
    "Somatosensory system. Terminology: first-order neuron is the first neuron is a series which convey singal. Somatosensory touch, 2 categories. Mechanical, and one which includes pain and temperature. Differences due to different neural pathways. When we say mechanical, we can do touch. Vibrations don't have to be physically touching, the waves from the object vibrating are waht carries it. Mechanoreceptors are both the nerves and the molecules (channels) involved. All of our mechanoreceptors have a capsule that surronds htem. Encapsulated, meaning surrounded by a special structure which is NOT neural. Ex: made from glia, skin cells, etc. Free nerve endings are for pain, no tactile. Mechanoreceptors are some ofthe fastest conducting. Physical deformation (stretching, pulling, pushing) in the skin which triggers mechanoreceptors. Thisis transduced into action potentials which is carried away.\n",
    "\n",
    "First order neurons respnosible for sensatino itself (for mechano path). from DRG (dorsal root ganglia). Except for sensation from face, which comes from the trigeminal nerve. Every vertebra has a pair of DRG. Different pathways for the touch proprioception. Probe which pushes on finger will stimulate mechanoreceptors, signal goes ot DRG (pseudounipolar, one branch goes to spinal cord). Nonpain goes to the dorsal horn, the same axon. Same DRG neuron carries up to the brain stem.\n",
    "\n",
    "If it is a pain neruon, it comes through a different DRG. The synapse occurs in the spine. Crosses to other side of the ventral horn. Different neurons will cary pain and temperature and touch signals. Each pair of DRGs is responsible for each sensation. Each mpaping shows the dermatomes. The trigeminal nerve has somehting on the scalp. Even if we have a cervical. \n",
    "\n",
    "After t goes thorugh 3 neurons, it goes to the symatosensory cortex. The central slcus. Have a topographic orgainzation. Parts of the body represented by parts. Homunclusus. Changes in topography can occur. First set of experiments. Stimulated the two fingers. If they looked at the representation of the cortex before, all fingers had approximately equal representaiton. They found that hte rpereentation increases on the stimulated fingers. In another experimetn, they cut off one finger. The representaiton of that finger went away. Use it or lose it.\n",
    "\n",
    "Different ways to overcome issues of draining of current and conducing an AP. ONe solution was to use a bid diamgeter. We can also myelinate. We can do both as humans. Fastest has large diameter and myelin. Those are the proprioceptor neurons.  (13-20 $\\mu$m. What we can see is a bundle of nerves.  Pain neruons are super slow! What?! Theyre actually unmyelinated. Proprioception with faster to slower determined by I > II > III. Ib is faster than IIa. \n",
    "\n",
    "Other neurons use ABC, $\\alpha$, beta, gamma.\n",
    "\n",
    "Dorsal root ganglia. Dont' know what it is sensing. The sensory afferent to the spinal cord. Neuron may have a synapse. May also send up the spindal cord.. The senry info enters into the dorsal spinal cord. Has cells which migrate. \n",
    "\n",
    "Axons grow out of an embryonic DRG. Have growth tome. Neurotropins are secreted proteins which bind to enzyme linked receptors. There are many categories of neurotropines. We will look at NGF. 4 differnt types of recpetors. They are either Trk recpeptors whic have a tyrosine. Or a p75 category, which is not a kinase. We can see each receptor binds to a subset of neurotropins. TrakB can bind to 3 diffeent times. P75 bind s to all 4 types. All 4 types of sensory neuron responsds to a different type of neurotropin. The axons on the DRG neurons are guided to their targeds by the neurotrophin. Makes sure those neurons survive. Not right neurotropin, neuron will not survive. Proprioception reponds to these neurons. NT3 dont have at the spindle. The target can survive w/o neurotropin. The neuron cannot. What we are looking at there is the mass of the DRG. These things grwoing out are the axons. Each case, the dish has a differnt \n",
    "\n",
    "NT3 - proprioception\n",
    "NGF - pain\n",
    "\n",
    "\n",
    "Neurotrophins induce many pathways. Can stimulate the phospho C protein. Can also stimulate RAS. In gernal, stim of trK receptors is positive. By expression a type of receptor, it cebcomes respnisibet oa specict neurotrophin. p75 can stimulate cell death actually. Experiments where we separate the neurotrophin is survival vs guidance. IN a cell dish, specialized device whic hkeeps fluid separated . axons can still grow under it. Without NGF in at least 1 compartment, we get death. Must have NGF in at least 1. If only put it in 1, but not on cell body, the bodies still survive. This is because signal sensed in axons can undergo retrograde transport. Once the signal gets to the cell body, it induces pCREB, which changes transcription. Can have global changes to bring in signaling. \n",
    "\n",
    "NGF expressed by skin, but not required to skin to survive. NOt guided to proper target. (DRG wouldn't die, only NGF expression). Skin wouldn't die, rather secretes signal to attract neurons. NGF would die.\n",
    "\n",
    "The proprioceptive neurons would die. diffweetn typeso  targes they canhave. They an enter the muscle spindle. They innervatee ouf joints. \n",
    "\n",
    "Tactile mechanoreceptors. Where they are in the skin is in parti mportant for type of detection. Each ofthese id drwan with some specialized ending. These are the capsules. Derived from nonneural cells. Difficult to say precisely the difference. What we have to do is give a person a sensation and ask what they are perveiving. Whether or not one of these nerves are fast or slow adapting. Meisners are fast adapting, respond to skin motion. That's things which cause my skin to move. Gripping something and seeing the texture. Continue to signal for a long time.\n",
    "\n",
    "The edges, form and textures.\n",
    "\n",
    "Ruffinian. REspond to stretch and tangential forces. PRoproception.\n",
    "\n",
    "Pacinian, vibration. Easiest to understand. \n",
    "\n",
    "Run finger over braile, while recording various types of responses in cell. it coresponds to a patch of skin. The pattern on the patch of skin which is avtivated. The merkel were the most recpesenttivive of what was happening. The Ruffinian and Pacinian are basically usseeless. Don't htink that these definitions could have led to the prediciton of the results.\n"
   ]
  },
  {
   "cell_type": "markdown",
   "metadata": {
    "heading_collapsed": true
   },
   "source": [
    "# Lecture 11-1-2017"
   ]
  },
  {
   "cell_type": "markdown",
   "metadata": {
    "hidden": true
   },
   "source": [
    "Bot the neurons and the tansmembrane molecules are called mechanoreceptors. So cell level and molecular level. Touch has four major classes. Different layers of skin. All of touch receptors are encapsulated. \n",
    "\n",
    "Capsule on end of nerve is critical. Properties we can understand, such as the threshold. How much stimulation is required? \n",
    "Can also understand adaptation.  Might even forget.\n",
    "\n",
    "Merkel - detects the texture and form. \n",
    "Parcinian - vibration \n",
    "\n",
    "Only way to determine which responds to what is to test it.\n",
    "\n",
    "Molecular mechanoreceptors. Least understood. Activated by stretching on the skin. Can be pushing, pulling, moving sideways; anythign moves considered stretch. Ion channels open with some amount of stress. Could be that proteins anchored in PM respond; could be outside is anchored to extracellular metrix and inside to the cytoskeleton. Could  be both teathers are inside of skeleton. Could be something different. \n",
    "\n",
    "Differ in adaptation properties. Imaging you can pull on the skin. It feels different after holding the skin. Some of the mechanoreceptors are sensing the initial stretch. Holding the stretch. The fact that we've done some of the sensation. How fast the neuron stops signaling. Each is a single action potential. This will tell us something different. For example, the Pacinian are very fast adapting. Merkel is slow adapting.\n",
    "\n",
    "Because the stimuli of the cells will have very overlapping qualities. Idea of thereceptive field. Some amount of area on the skin will be responsible for a single nerve of a particular type. The process innervates a certain area. The parts which are most sinsitive have more neurons per square mm. The receptive field for each neruon will be smaller then. This allows us to differentiate between two stimuli. \n",
    "\n",
    "2 point discrimination threshold. The greater the threshold, the lower the sensitivity. Spatial accuity - distance that we have two point discrimination. Merkel - 0.5 mm. Pacinian, 20+ mm. Merkels are most sensitive, sense things at small distances apart, also must have a high density of them. They each have asmall reeptive field too. They have a higher density. They also have a higher denser field. Know that in general, the moresensitive we are. Example of the braile, they report firing neurons while running finger over braile.\n",
    "\n",
    "Two point discrimination is determined by the density of receptors. "
   ]
  },
  {
   "cell_type": "markdown",
   "metadata": {
    "hidden": true
   },
   "source": [
    "## Neuroanatamy portion"
   ]
  },
  {
   "cell_type": "markdown",
   "metadata": {
    "hidden": true
   },
   "source": [
    "Must know pathways. These drawings always have the RL switched. \n",
    "\n",
    "Cell body. Goes into the spinal cord from body. This axon enters at a perticular level. Same axon ffrom the DRG, travels up the same side. It is in the white matter tract. 2 types of white matter tract. The singal from the lower body is from the Grascile tract. Upper body is from Cuneate tract. Same signal from spinal cord. Lower part is from the lumbar. All the way up to the medulla. First synapse in the medulla, in the same quadrant, either in cuneate nucleus or grascile nucleus. Now on second ordre neuron, cell body in medulla. This axon then crosses to the contralateral ventral quandrant. The axon then tracels through the pons, then the midbrain, then to the thalamus. It then connects to the Ventral Posterior Lateral Nucleus ** (VPLN) **. Then sends synapses to the somatosensory cortex. Every neuron which started out in the DRG, synapses in the medulla; that neuron then synapses in the thalamus. \n",
    "\n",
    "From the face, comes in from the trigeminal ganglion. The first synapse from the grigeminal ganglion is in the pons. Second order neuron, cell body in the pons, crosses to the contralalteral side. Synapses to the ventral posterior medial nuclsus  **(VMPN)**. Ventral lateral cortex. Sensation in the right side of body is sensed on the left side of cortex.\n",
    "\n",
    "Pain and temperature, carried by same types of nerves. Temperature can be painful or not (don't understand how this happens yet). Neurons can have a free nerve ending. Sensation closes to the skin. Carried on the A$\\delta$ and C fibers. Not all are mechanoreceptors. Also have, at molecular level, respond to temperature or polymodal (chemicals). Acid burn for example. Thermoreceptors are responding to temperature. Again, each body segment, all th sensory innervation. The trigerminal ganglia. The touch pathway ascends in the same column; pain synapses in the dorsal quadrant, then crosses to the same side. \n",
    "\n",
    "One thing which has remapping in the cortex, it's not that we change the area whic hare innervated, but isn't alwasy the case where the proper matching up for pain or touch. some confusion s to the nature of the stimulus. For mechoreceptors, in respnose to touch, have thresholds. The case of temperature receptors. Some neurons respons. Low threhold receptors. The ones which are signalling. Low threshold. Stimulus, height indicating the temperature, 45$^o$ is about painful threshold. Non-nociceptive neurons fire even at the lower stimulus, only fire when we approach pain thresholds. Nociceptor have a nonlinear respnose. Non-nociceptive thermoreceptors fire along the range.\n",
    "\n",
    "Properioception is Ia, II. Touch is mostly A$\\beta$. pain and temp afr from A$\\delta$ or C. Usually 2 types of pain signals. There is first pain; sharp, initial sense. This goes away. Then we get the dull throbbing pain (second pain). First pain carried by the faster A$\\delta$. Second pain carried by C fibers. \n",
    "\n",
    "Pain pathway information enters from the DRG. Has first synapse in the dorsal quadrant. Pain on the right side of arm. Have synpase there. The second order neruon has its axon cross to the contralateral left side. All the way to the thalamus. With touch, the first order. Crossed over. The first order. Second order neuron gets to the thalamus either way. The crossing from one side to the other is called the decussation. Synapse is called the VPLN, in thalamus. The thalamus will then synapse ot the appropriate region in the cortex. Pain does this interesting thing.\n",
    "\n",
    "Pain and temperature face sensation comes in thorugh the trigeminal nerve, then desends into the medulla, depending on different levels, corsses over, then rises back up to the thalamus. Descends on the ipsilateral side, then rises on the contralateral side.\n",
    "\n",
    "It is true that the pain info from right side ascends on the left side, but not to the spinal cord. Makes it to the medulla. Pain info from the body. Why so important. Comes down from phenomenon. Exams, some kind of damage. Lesion on one side of spinal cord. The legion appear to the in middle of body, sensory info has the DRGs around the ribs. If we were to samage the DRG, we would lse the sensory info from the dermotome. Complete loss of info. \n",
    "\n",
    "Example. Touch info comes from the LEFT side enters and sends. Purple is white matter (outside) and pink is gray matter(butterfly shape on the inside). Pain info synapse on neuron in gray matter and send to other side."
   ]
  },
  {
   "cell_type": "markdown",
   "metadata": {
    "collapsed": true,
    "heading_collapsed": true
   },
   "source": [
    "# Lecture 11-3-2017"
   ]
  },
  {
   "cell_type": "markdown",
   "metadata": {
    "hidden": true
   },
   "source": [
    "Pain propagation - stimulus, mechanoreceptors, deplarization, open VG NaV 1.7, not capable of propagating them all the waydown. Transfers to NaV1.8. Mouse able to resist venom by NaV 1.8 deactivating. Single point mutation.\n",
    "\n",
    "Chronic insensitivity to pain; loss of function mutation in NaV 1.7. \n",
    "\n",
    "Allodynia - central pain sensitization. \n",
    "\n",
    "Hyperalgeria - damage to nociceptors\n",
    "\n",
    "Central sensitization. Allodynia. Stimulus coming in, alters sensitivity of second order neuron. LTP like changes in second order neuron. \n",
    "\n",
    "Descending control of pain; put aside pain. \n",
    "\n",
    "Phantom limb pain; actual signal. Brain really receiving pain. Retraining pain, use mirror. \n",
    "\n",
    "Broca's area - production of speech\n",
    "\n",
    "Wernicke's area - understanding speech\n",
    "\n",
    "Organization in primary auditory cortex; frequency dependent activation, receives from different areas of cochlea. \n",
    "\n",
    "Auditory nerve; enters in medulla, info each ear travels to each side of cortex. Contralateral side, needs one more synapse. Delay can be used for sound localization. Synapse occurs in the pons. Up to medulla, to inferior colluculus, synapse, to audorory cortex.\n",
    "\n",
    "towards longest, increase in firing (stereocillia)"
   ]
  },
  {
   "cell_type": "markdown",
   "metadata": {
    "heading_collapsed": true
   },
   "source": [
    "# Lecture 11-6-2017"
   ]
  },
  {
   "cell_type": "markdown",
   "metadata": {
    "hidden": true
   },
   "source": [
    "Office hours this afternoon. Quiz 10. 2:15 to 4:15.\n",
    "\n",
    "Start by looking at the auditory system. Recalibrate themselves. Range of hearing, quiet to loud. For touch, most undergo adaptation; as a result, we get used to the thing which is ongoing. Base line of acquiring frequency. Can increase and decrease. Fluid sloshes through and drives the membrane. Sound waves are waves. The up and down are equally important. The amplitude determines how loud it is. Our system can detect both things. Tonic rate. Membrane is in the up position, will vibrate a particular frequency. It is possible to vibrate a particular section in vascular membrane. When the vascular membrane is in the up phase, bends stereocillia towards the longest. Down ot the shortest, reduces frequency below tonic rate. Hyperpolarized = inhibited = firing rate < tonic. Called a grated response. The number of AP depends on the amplitude of the sound wave. Depolarized = excited = firing rate > tonic.\n",
    "\n",
    "Zoom in. Stereocillia at the top of cells are sticking inot a solution called the scala media. The solution is endolymph (80 mV). High K+ concentration. The bottom exposed to another solution called perilymph (0 mV). Has low K+ concentrations. Membrane potential not the same across the hair cell. Set the Perilymph and inner hair cell (-45 mV) is hyperpolarized. Endolymph is at a positive membrane potential.\n",
    "\n",
    "Look at the driving force. Stereocilia at -45 mV. Top sticks into 80 mV. Cell has relativly high K+ potentials in the perilymph. Tip links, recall, link neighboring sterocillia. Serve to ensure multiple hairs fire to ensure an AP. Hair moves, K+ enters in (major force is electrical gradient, not concentration). K+ drives into cell, causes depolarization! :) This opens voltage gated Ca+2 channels. This Ca+2 causes vesicle fusion. Repolarize the cell. 3 mechanisms to repolarize the cell. Ca+2 sensitive K+ channels opens when Ca+2 is near, drives out K+ into the perilymph. Ca+2 pump. Voltage sensitive K+ channels.  (2 methods for K+ and 1 for Ca+2). Concentration gradient favours the K+, which drives the K+ out. \n",
    "\n",
    "Looking at the tip link. Bend towardsthe longest stereocillium. Opens the mechanically gated channel. Bend dowards the shortest, not as much stress. Position of the tip link can moveup or down. If nothing is happening, the tip link can move up to make it more sensitive.  Ca+2 goes inot open channel, can cause adaptation. Binds to an unknown protein. In addition to  the slower movement. Fast adaptation (1-2 ms). Next is the slow adaptation, 5-10 ms.\n",
    "\n",
    "Active zone is the docked and primes vesivles. At hair cells, they gather around the ribbon synapse. What we have is a lot of synaptic vesicles kept close together, considered docked. Subset of these vesicles which are docked and primed. At the base of the hair cells, there is this synapse. Ca+2 come in, fuses with PM. They can also fuse with surrounding ones which are just docked. As a result, can release NT from the ribbon synapse. Vesicles in reserve pool cannot be released. Fusion happens with vesicles neighboring those docked and primed; thus, multiple synapses can be released.\n",
    "\n",
    "Couple of molecules. Important: VGCCs - voltage gated Ca+2 channels. BKs - voltage gated K+ channels (The B is for big). The GLAST - Glutamate uptake transporters. This is mediated by the glutamate AMPAR-s recetpors. \n",
    "\n",
    "Damage hearing. Called Ototoxic. Loud noise called mechanical damage. Can also cause stereocillia to break off. Antibiotics can also cause deafness. Aminoglycoside, may overstimulate the cell, leading to excitotoxicity of the NMDA receptors in the hair cells. (There are NMDA receptors, we just haven't discussed their role yet). Also in the choclear implant, carry info to the brain. Can replace the choclea.\n",
    "\n",
    "The vestibular syste. Neves meet up with the auidotory info. Organization of the labyrinth. Shape Critical to its function. Hair cells, change in orientation, bending firing.\n",
    "\n",
    "Translation and rotation. Activate the vestibular system. Don't have to memorize pitch, roll, and yaw. \n",
    "\n",
    "3 canals. Superior (also caled anterior), Posterior canal, and horizontal (also called the lateral) canal. Different orientation of each; within each is an enlarged region caleld the Ampullae, where hair cells are. Within Ampula, all hair cells have same orientation. Saccule and Utricle arecalled the otolith organs. The nerves for these run out through Scarpa's ganglia, and bundle with the vestibular part of cranial nerve 8.\n",
    "\n",
    "Wherever they've drawn an arrow. Close channels when they bend towards the short. Bend towards the tip, . Within the Ampula, same hair cell orientation. Among the 3, active in 3 different directions. Within the otolith organs, have a midline, called the Striola, hair cells on opposite directions, also bent and curved. Optimal angle of activation is different within both the sacculus and Utricle. In Utricle, the shortest is nearest the striola.  Opposite for the sacculus.\n",
    "\n",
    "Top down view of what we would see in the ampulla. If we look at the ampula in more detail, surrounded by 2 membranes filled with fluid endolymph on both sides of membrane. Hair cells oriented short to long. Surrounded by Crista, crystalin structures to give hair cells structure. When we move the head, the fluid in the semicircular fluid sloshes. PUshes on the membrane, same sloshing on the other side, causes stereocillia to bend. Bend towards long, excite; if from the other way, would bend to the short. At some baseline, the car starts to accelerate, causes fluid to slosh. Changes in movements. Not tell us about continuous velocity. \n",
    "\n",
    "Horizontal canals. Movement rotating the neck mostly stimulates the horizontal canals. Fowarsdthe left, activate the left canal and inhibit the right. \n",
    "\n",
    "Otolith organs; determine where we are w.r.t. gravity. Stick outinto a gelatinous compund, with otoconia on top, which are Ca+2 carbonate. Hair cells aren't able to adjust to baseline position. Continue to fire. As a result, look at the otolith, able to respond to a lot of head tilts. \n",
    "\n",
    "Tilt head forward, the otoligth will continue to fire. Diretion of response. Rocking head (rotate about nose), mostly posterior canal. Superior for nodding yes.\n",
    "\n"
   ]
  },
  {
   "cell_type": "markdown",
   "metadata": {
    "heading_collapsed": true
   },
   "source": [
    "# Lecture 11-8-2017"
   ]
  },
  {
   "cell_type": "markdown",
   "metadata": {
    "hidden": true
   },
   "source": [
    "Vestibular occular reflex - not on the quiz\n",
    "\n",
    "Damage to the VPLN on the right side. What would it affect? Signals for pain and touch. Both enter on the ipsilateral side. In through the dorsal root ganglia, come in on right side, in the dorsal quadrant. Then pain and touch, carried on different neurons. Touch immediately ascends on ipsilateral side, through the medulla, then crosses to the contra ventral lateral compartment. Pain, first synapse in spinal cord. First synapse there; second order crosses to the contralateral ventral quadrant. Pain and touch from the right side. VPLN. This type of damage in a stroke.\n",
    "\n",
    "Make sure to understand the quadrants. Thalamus, pain and touch merge.\n",
    "\n",
    "Vestibular system. Semicircular canals. and Ampullae. Both respond to movement you make. Semicircular cannals really only respond to movements on your body or forces which mimic movement. Don't have to be moving your body, but car is in the body. The ololith organs respond to gravity. Each organ has hair cells in multiple directions. Some are curved in multiple dimensions. Some stereovision. Otolith tells us all the proprioceptive info, with the motor circuits. Semicircuilar canals tells how body is moving away from upright axis. We use the vestibular system all the time. Keep gaze on the things we want to look. Reading would be troublesome too. \n",
    "\n",
    "If we google videos about the bestibular system, all of thevideos take eitherone side or the other. Lateral anterior, and posterior canals. If we lookm at the axis, the left posterior canal. right anterior canal have the same orientation. Anterior, forward head tilt, but posterior may as well. Horizontal canal, 30 degrees off sagital plane. \n",
    "\n",
    "When we stimulate the otolith organs or the canals, signals go which get relayed to the eye muscles. Neurons have the cell ganglia. Cochlia nerve. Cranial nerve 8. First synapse in the medial vestibular nucleus (in the medulla).\n",
    "\n",
    "Cell bodies in Scarpas's ganglion, cranial nerve 8. First synapse in the medial vestibular nucleus (in medulla). Same nerve branches. One of these neurons will be excitatory. + means excitatory. Both of these neurons get excited by the vestibular nucleus. One is glutamate, the other is GABAurgic. Glutamate ascents on contralateral side; GABA is ipsilateral. Both will synapse in the abducens nucleus. Glutamaturgic is contralateral side; GABAurgic is ipsilateral. \n",
    "\n",
    "Look at contralateral side first. Excitatory neuron. Synapses onto two other neurons and excites them. First remains on same side, and synapases onto the right lateral rectus. This will contract. Also synapses onto another nerve, which crosses again, making it ipsilateral to the stimulus. Excites the left medial rectus. This will pull the eye in the direction of the contraction. Eye will move towards the right.\n",
    "\n",
    "Now the ipsilateral side. Inhibitory nerve. It will inhibit a neuron; that second neuron is glutamaturgic. It won't fire; that nerve, which controls the right medial rectus, the muscle relaxes. There isn't a direct signal telling them to relax. Same thing happens on the left lateral rectus.\n",
    "\n",
    "Two things going on to move eyes to the right. In absence of GABA-urgic neuron, the muscles will relax because they will not be excited. Most critical signal is which are being told to contract.\n",
    "\n",
    "Let's say, the head gets moved to the left. Left horizontal canal gets activated. Stimulatory signal. Two projections synapsing. Contralateral side will be excited. Contract the right lateral rectus and left medial rectus. Ipsilateral side will be inhibited. Relax both the left lateral rectus and the right medial rectus. **Medial vestibular nucleus** and the **Abducens nucleus**. Where neurons cross the second time is called the **medial longitudinal fasciculus**. Weak point of nerve system. If we were to damage the brain stem, we can diagnose level of brain injury on the vestibular-ocular reflex. At the level of the pons, will affect both eyes. Between pons and midbrain, only affect one of the eyes. Can diagnose this in unconscious people.\n",
    "\n",
    "Vestibular ocular reflex; part of physiological nystigmus. People who suffer from nonphysiological nystigmus have trouble focusing their eye. \n",
    "\n",
    "If we put warm water into the right ear, it will cause a convective current in the endolymph. Rise of fluids in canals which mimics turning head to right. If we put cold water in the irght ear, mimics turning to the left. COWS (cold opposite, warm same). If we do this on an unconscions person, we only get the slow part with water. Put warm water in the right ear, eyes move to the left (head moves in same direction of ear, eyes move in opposite direction to compensate).\n",
    "\n",
    "\n",
    "Damage at the MLF, pathway in red, contralateral eye movements (on lateral side of head) are still intact. One eye would move. If damage is in brain stem, no eye movement would occur.\n",
    "\n",
    "Cold water in right ear, turning head to left, only right eye moves to the right.\n",
    "\n",
    "**Understand damage to brainstem!**"
   ]
  },
  {
   "cell_type": "markdown",
   "metadata": {
    "hidden": true
   },
   "source": [
    "## Vision\n",
    "\n",
    "Look at cross section of eyeball. Cornea. Within, have aqueous humour. Lens is made of crystalized protein. Iris is color part, gap is pupil. Cilary muscle contract. Retina on the back. Axons leave through the optic nerve.\n",
    "\n",
    "Glaucoma, high pressure. of vitreous humour.\n",
    "\n",
    "We see through the refractive properties of cornea. Small contribution from lens. Center of field is carried to fovea.  Myopia (nearsighted). Emmetropia (normal). Hyperopia (far-sighted).\n",
    "\n",
    "Cells which receive the light are all the way in the back. Photoreceptors. Outer segment."
   ]
  },
  {
   "cell_type": "markdown",
   "metadata": {
    "heading_collapsed": true
   },
   "source": [
    "# Lecture 11-10-2017"
   ]
  },
  {
   "cell_type": "markdown",
   "metadata": {
    "hidden": true
   },
   "source": [
    "Mechanically gated channels are the ones which are up on the stereocilia. If we blockthe VG K+ channels\n",
    "\n",
    "Auditory cortex is both primary and secondary, contains Wernicke's area. Broca's area is in the frontal lobe.\n",
    "\n",
    "Sent an email putting a table\n",
    "\n",
    "mimics interacts MLF Damage\n",
    "\n",
    "Onto retina:\n",
    "\n",
    "Light must pass through layers of the retina to get to the photoreceptors. Two types: rods and cones. The cones have a pointy top. Looking at rods and codes, the outer segment is the farthest back, and also has the photopigments. Have different functions in vision. Two varieties. Retina Ganglion cells send cells down the optic nerve to the brain. Horizontal cells. Receive info from the rods and cones and modulate synapse.\n",
    "\n",
    "Within typical human, rods and cones not evenly distributed. In center, the fovea, most cones. Rods mostly in periphery. Optic disk, blind spot. Cones are enriched. Cones are for color vision. Low sensitivity to light. Rods enriched in periphery. \n",
    "\n",
    "opsins - photopigments. Have 3 different opsins in the cones. S, L, And M in the cones, one for each RGB. Rhodopsin in the rods. Because they are enriched near the fovea. Macular degenration, begins near optic disk, begins to detach. Why are rods not giving same sensitivity as cones? For every bipolar cell, multiple rods synapsing on a single bipolar cell. All info fro mthe rods get merged as if from one spot of light. Lots of light in periphery, know that there was light, but inaccurate. The cones, one cone per bipolar cell, therfore much better spatial resolution.\n",
    "\n",
    "Hair cells, K+ repolarizes. In the eye, phototransduction causes hyperpolarization. Hyperpolarized, yes. The amount of hyperpolarization is proportional to the light. With an even brighter light. There is a pretty broad range which this can happen. -65 mV is saturation. This is a graded response. More hyperpolarized per light. \n",
    "\n",
    "Dark (inward) current. Most current flowing into the cell in the dark. In light, less inward current. Makes use of cGMP channels. IN the outer segment, both rods and cones, we have cyclic nucleotide gated channels, gated by cGMP. In the dark the cGMP is bound on interior, lets Ca+2 and Na+ in. Moving with dirving force. In the inner segment, there is a K+ channel which is always open. In the dark, big influx of Na+ and a big efflux of K+. \n",
    "\n",
    "How does photoreceptor sense light in the first place. Little stacks of membrane increases the Surface area. One hting on them is the photopigment. The photopigment is rhodopsin for the dods and the S L or M opsin for the rods. This is the protein part. This is a GPCR. Without light, it was in a \"cis\" state. When the light hits it, it is in the \"trans\" state. This means a small rotation occured. \n",
    "\n",
    "Don't have to memorize the retinoid cycle. there is an elaborate system. Makes sure that the A11-trans gets converted to 11-cics. Didn't like cartoon in the book, look at slides. \n",
    "\n",
    "(rewatch  this whole shenanigan)\n",
    "Photon, rhodopsin, trimeric G protein called transducin (I think> no...)INteracts with PDE, and activates cGMP. When PDE active, decreasee amount of GMP. trimeric G protein guanylyl cylcase, which is always ative, answays making GMP. \n",
    "\n",
    "Increase activity of the phosphodiesterase. Reduce the amount of cGMP, which meands it is not going to be around to open the channel. \n",
    "\n",
    "Light causes 11-cis to move to all-trans retinal. Rhodopsin has conformational change. Transducen changes. GTP-alpha binds to PDE.  PDE breaks down cGMP. cGMP Na+/Ca+2 channel closes. K{ cnannel still open, so the photorecptor is still hyperpolarized.\n",
    "\n",
    "Look at activation of photoreceptors. Signal gets amplified. Rod or cone which gets most light is called the center cell. Ones which get some but not all is called the surround cell. Example is for the cone because each cones has its own on and off bipolar cell. This center cell will be hyperpolarized and release less glutamate. this will change the way it fires. One called an on bipolar cell, one is called the off.  Each expreses different type of glutamate receptors. On expresses mGluR6. This is coupled to a trimeric G-protein. When ths receptor is active, the trimeric g0protein is inhibited. it is active when bound to glutamate. On cell, active when light is on. Off cell expresses the AMPA and kinate channe. Glutamate binds to this, depolarizes and is active. More glutamate, active in the dark, called off bipolar cells. Synapses they make are very straight forward. "
   ]
  },
  {
   "cell_type": "markdown",
   "metadata": {
    "heading_collapsed": true
   },
   "source": [
    "# Lecture 11-13-2017"
   ]
  },
  {
   "cell_type": "markdown",
   "metadata": {
    "hidden": true
   },
   "source": [
    "In the retina, there is dark current. Light leads to hyperpolarzation\n",
    "\n",
    "Rhodopsn, associates with G-protein (transducin), binds to GTP, alpha subunit activated. activates PDE. cGMP needed to gate cyclic nucleodite channels, closing them. \n",
    "\n",
    "Whether we release vesicles depend on gualylyl cyclase. \n",
    "\n",
    "Photoreceptors - release glutamate, have GABA receptors. GABA-urgic cell type involved.\n",
    "\n",
    "Horizaontal cells - AMPA and kinase receptors (accept glutamate), receive NT from surround photoreceotprs. Release GABA onto the center photoreceptor. When surround active, they will inhibit the center.\n",
    "\n",
    "The center photoreceptor releases glutamate.\n",
    "\n",
    "Rods are sensitive to light, low spatial resolution. Instead of a single center rod, we have a group. The surrounding rods, well..., surround the rods. Usually, when we see the center and surrounds, they are for cones in the textbooks. Many rods will share a pair of bipolar cells. \n",
    "\n",
    "Bipolar cells - ON. Has MgluR6 glutamate receptor. When active, gets hyperpolarized. When low glutamate, the ON bipolar cell is depolarized. When does this happen? When light shines on the center receptor.\n",
    "\n",
    "OFF bipolar cell - AMPA and kinate receptor, open and depolarize with glutamate. Have most glutamate in the dark. Off when in the light.\n",
    "\n",
    "Retina Ganglion cells. Send info to the brain, make up optic nerve. AMPA, kinate, NMDA receptor. Pair specifically with ON or OFF bipolar cell. \n",
    "\n",
    "More light, get a graded response. Beyond this, signal is saturated. our on bipolar cell, even in iterations of textbook, we've discovered more. Rod synapsing onto its cell. The biological signalling is the same. Ribbon synapse is interesting. When PR is releasing glutamate, bind to metabotropic crecptor. Coupled to the Go (don't understand). Active when bound to GTP, does something to its effector. The outcome of interacting with the effector, close TRPM1. This channel is normally depolarizing the cell, so closing it means it is no longer being depolarized, thus leading to hyperpolarization. **Glutamate leads to hyperpolarization of the ON cell**!!!\n",
    "\n",
    "OFF bipolar cell: synapse gets glutamate, activate AMPA and Kinate, lets in Na+ and Ca+ cell depoarizes.\n",
    "\n",
    "Center surround antagonism, lateral inhibition. In both anatomy and inhibition, they are arranged laterally w.r.t. the light axis. The two center diamonds. The retina is sending impressions of the environment, not necessairly the absolute intensity.\n",
    "\n",
    "Hermian Grid. This is because the center and surround nature of the photoreceptors. Photoreceptor cell selectivity is affected by what happens in the surround. It is also being influenced by what is happening in the surround. It can be up or down regulated. The signal is constantly adapting, doesn't stay exactly the same. Adaptation occurs through several ways. Cones, single center cell, small ring of surround. Rods, multiple center cells and surround.\n",
    "\n",
    "Start off t0. Both on and off are low. Center has light, fires faster. Highest level of firing from center, and lowest from surround. Return to baseline, surround cells fires a lot. Overtime, returns back to baseline.\n",
    "\n",
    "Second; Make center darker that surround. \n",
    "\n",
    "Third. Center is light. Then surround light as well. Both are bright, higher firing than baseline, but not by much. \n",
    "\n",
    "If we record from cells in the system. Center, then center + surround get light. \n",
    "\n",
    "Horizontal cells release glutamate. Light activated the PDE. Photoreceptor in the center. Even before we change the conditions, it adapts. Horizontal cells are very active in the dark, because the cells are releasing glutamate. In light, releasing the least GABA.  "
   ]
  },
  {
   "cell_type": "markdown",
   "metadata": {
    "heading_collapsed": true
   },
   "source": [
    "# Lecture 11-15-2017"
   ]
  },
  {
   "cell_type": "markdown",
   "metadata": {
    "hidden": true
   },
   "source": [
    "Extended office hours. 11-2 MCB 4-118. Covers Nov 8-13 (Mon and Friday).\n",
    "\n",
    "Vision. HOw does the ciliary muscle change the focal depth>. The ciliary muscles go all around the lens; contracting changes the focal length.\n",
    "\n",
    "Light binds to 11-cis, under goes conformational change, rhodopsin changes conformation. Transducin activated; GTP-Alpha subunit binds and activates PDE. PDE breaks down cGMP. cGMP-gated Na+/Ca+2 channel closes. K+ channel is still open, so photoreceptor is hyperpolarized. Photoreceptor glutamate release decreases. \n",
    "\n",
    "Center surround antagonism. The activity of photoreceptor is affected by the surround. Intuitively makes sense. Glutamate released by cones onto a single pair of bipolar cells. First slide should have both an on and off bipolar cells. Cones higher visual actity; 1 to 1 pairing of cones and bipolar cells. Not as sensitive in low light. All rods in center area react in same way; the net effect is sent to the bipolar cell, making a larger signal than the cones. \n",
    "\n",
    "Hermann Grid. Dots are seen inbetween squares. The on center cell will have highest level of activity when it is in the light and as much surrounding is in the dark. In B, the surround is more in the dark; therefore, it should be more active. Off center cell most active when center is in the dark and surround is in the light. Photoreceptors, level of activity affected by the surround. Cells can become more hyperpolarized become depolarized. \n",
    "\n",
    "Ganglion cells - all or nothing firing. All the other cells have a graded reesponse. On center on the top, off center on the bottom. Light and dark doesn't mean anything. Same baseline occurs regardless of light level; response depends on how long the light has been exposed. The off center cell has virtually start firing. Switch back to the gray; decrease for on center cell, and off center cell fires at an increased rate, even though we've returned to the original baseline! Because reacts to the change. With time, at t2, everything returns to baseline. Off center cells be. Responding to the change. Look at C, go from rest to the lit center, big increase in the on and the off. The surround, not cause large change in the surround, real reduction in the on center cell. Over time, everything back to base line.\n",
    "\n",
    "Look at the membrane potential over time. Focus only on an on-center cell. Recommend make table, add off-center cell. Surroung: Glutamate is received, release GABA. Look at the cone cell. Center in light, it myperpolarizes. Starts drifting up to baseline. When surround is put in light as well, we actually increase the membrane potential. Going to the center in light has slightly decreased activity of horizontal cells.\n",
    "\n",
    "Depolarizing as hpotoreceptor is . B/C on center cell is inhibited, less inhibition. On-center ganglion, number of action potential,s is proportional.\n",
    "\n",
    "We also looked at the relative effect. Most activity, center is in the light and most in the surround is in the dark. Lowest activity when light is in the surround and none in the center. (On center). Under which situation do I have maximum light on the center and dark in the surround. \n",
    "\n",
    "Pathway; information goes from the retina to the visual cortex. Recall, ganglion cell only one that goes to the brain. Get mapped onto the visual cortex. Superior part of visual field for left eye, my right eye cannot see it b/c of nose. Remains upside-down and left-right inverted until the brain. Path that light follows, focus on the inferior part of the field. Focal point, where focea is. Left visual field will hit the right retina on temporal side, and the left eye on the nasal portion. The right visual field will hit the left eye on the temporal side. Optic chiasm, some optic nerves cross to the other side. Go into the LGN within the thalamus; within thalamus, information stay segragated per eye. Info goes along the optic nerve, goes along the optic tract (only nasal portion of retina). Maintains circadic rhythms. Pretectum, hypothalamus, superior collicusus (coordinates movements of head with the eye). Not all info from ganglion cells go to the thalamus! Ones which do go to the LGN within the thalamus, after is sent to the V1 striatum cortex (I think???).\n",
    "\n",
    "Info from the left eye synapses in different areas of the LGN. Same parts of the field. Brain doesn't know if has information from the left or right eye. From the LGN, the contralateral inferior fielf. Info from the superior field travels rostral a little bit, in the temporal lobe, then moves to the oscippital lobe. The rostral movement called meyesr's loop.\n",
    "\n",
    "SUperior matched to inferior part of cortex. Diagnose problems based on visual loss. The Calcarine sulcus; divides occipital lobe between superior and inferior information. Binocular bision maps to the most rostral part; monocular vision maps to most caudal portion."
   ]
  },
  {
   "cell_type": "markdown",
   "metadata": {
    "heading_collapsed": true
   },
   "source": [
    "# Lecture 11-17-2017"
   ]
  },
  {
   "cell_type": "markdown",
   "metadata": {
    "hidden": true
   },
   "source": [
    "Pathway of visual field. Upside down, left right inverted. There are some diagrams in the book. Then show the retina. The actual world is that everything is there. We lose a little bit due to the nose. \n",
    "\n",
    "A - optic nerve. \n",
    "B- Optic chiasm - \n",
    "C - Optic tract - information from both eyes (in this case, from the left visual field\n",
    "D - Meyer's Loop\n",
    "\n",
    "Blue thing - LGN in the thalamus\n",
    "\n",
    "Macular sparing - best vision portion. This travels a different pathway (don't know what it is). \n",
    "\n",
    "Damage at A would affect quadratns 2 and 4.\n",
    "B - Would affect all of them.  (1 2 3 and 4)\n",
    "C (, optical chiasm), all 4 quadrants (1 2 3 and 4)\n",
    "D - Right optic tract, takes out the entire left side (1 and 3)\n",
    "E - optic radiations for the entire left side (2 and 4)\n",
    "F - (3)\n",
    "G - meyers loop, superior contralateral field (1)\n",
    "\n",
    "Visual system for color. Dealing now with 3 different populations. You can fool your eyes. Chromic adaptation. Color cones competing for who is dominant. \n",
    "\n",
    "Synesthesia - combining of multiple senses. 4-8% of the population in which they perceive letters as having colors. This si grapheme-color synesthesia. If letters also associated with a color, chromesthesia. Musicians (disproportionately) see sounds with color. "
   ]
  },
  {
   "cell_type": "markdown",
   "metadata": {
    "hidden": true
   },
   "source": [
    "## Motor Circuits\n",
    "\n",
    "A motor cirtuit is any motor neuron which is involved in regulation. Motor cortex part of a motor circuit, but not motor neuron directly. A motor neuron controls a muscle or a muscle spindle. Activity leads to contraction. All the other neurons are part of a motor circuit. We also need to understand both motor neurons. Most muscles can be controlled by motor neurons, in the ventral horn of the spinal cord. Cell bodies of MN are in the spinal cord. Muscles which control distal are in lateral. Medial portions controls proximal muscles. (Further away mean further from the center for spinal cord). Trunk in main part of body are most medial. Proximal - close to body.\n",
    "\n",
    "We can determine how many neurons and where they are control a muscle using retrograde labeling. We inject a dye into a muscle. Any neuron which has a NMJ, the dye travels retrogradely through the nerve. It enters the spinal cord. If we analyze the spinal cord and cut it up, we will label it with the dye. Do this for muscles in the bicep, we label a series of neurons within the spinal cord. Al of the motor neurons which control that neuron are part of the motor neuron pool. The example in the book isn't the best. Positioning for two muscles at the back of calf. \n",
    "\n",
    "Muscles are made of many muscle fibers. A single motor neuron can control multiple fibers. \n",
    "\n",
    "Slow to fatibue. Motor neuron in the slow motor unit fire a lot. Lots of mitochondria. Tend to have tonic activity. These motor units are most important. \n",
    "\n",
    "Fast Fatigable - quick, forceful things. Sprinting.\n",
    "\n",
    "Fast Fatigue Resistant - In between kind called the fast-fatigue resistant. Intermediate size.\n",
    "\n",
    "Walking, then running, then jumping. Standing. Recruit slow, then fast fatigue resistant, then fast fatigable.\n",
    "\n",
    "Muscle tension is determined by action potentials frequency. Fused tetanus - no contraction, firing rate waaaay too high (not a normal situation).\n",
    "\n",
    "Motor unit size - $\\alpha$ motor neuron. Larger motor unit. Usually associated with larger cell body for motor neuron. Usually see dendritic complexity (input form more upstream signals). Axons branches (more of these). Less excitable (higher threshold to activate). In general, fast fatiguable will be bigger.  For a given muscle, smaller motor units mean greater dexterity.\n",
    "\n",
    "Motor unit only ever has one motor neuron.\n",
    "\n",
    "Hooked up electrodes to the calves. Gave them a HF stimulation. After training, most are slow motor tyes. They also looked at the properties of these neurons is. "
   ]
  },
  {
   "cell_type": "markdown",
   "metadata": {
    "heading_collapsed": true
   },
   "source": [
    "# Lecture 11-22-2017"
   ]
  },
  {
   "cell_type": "markdown",
   "metadata": {
    "hidden": true
   },
   "source": [
    "Motor neuron pool - all the neurons for a muscle. Motor unit - all the muscle fibers controlled by a single motor neuron. \n",
    "\n",
    "Different types of motor units. Slow, fast, and fast-fatigue resistant. With training, one type can be converted into another type.\n",
    "\n",
    "Muscle spindle is the gamma motor neuron. Synapse onto the muscle spindle. This is the ending associated with the spindle afferents. 1a sensory neurons are the fastest and proprioceptive neurons. The encapsulated endings for the 1a sensory afferent. Sensory info from the spindle back to the spinal cord. Causes contraction in the spindle itself. The spindle is a modified muscle fiber. Gamma motor neuron maintans the sensitivity of the 1a neuron. The alpha motor neuron actually synapses on the muscle, causes contraction, sets generation of force.\n",
    "\n",
    "Role of muscle spindle is shown inthe monosynaptic stretch reflex. Takes one synapse to contract the muscle. (does not include neuromuscular junction of the alpha motor neuron). Passive stretch triggers a series of pathways to the contraction of the flexor muscle and the relaxation of the opposing muscle. Synergistic muscle is muscle which contracts. Synapses onto an interneuron which synapses onto an inhibit on the antagonist muscle. \n",
    "\n",
    "Look at the circuit in more detail. Start off with a disturbance on the load. The flexor muscle will stretch, and will stretch the flexor muscle on the spindle muscle. the 1a sensory muscle goes back to the spinal cord and synapses with 3 types of neurons. First gamma neuron, attached to spindle where stretch was originally detected. The activatino of gamma neuron lead spindle to contract. Alpha motor neuron causes flexor muscle to contract. Passive stretch leads to active. Interneuron activated by sensory neuron. Projects to the extensor muscle, inhibits, causes to relax (the opposing muscle). One synapse excites gamma neuron, alpha motor neuron. Takes 2 to go from 1a to inter neuron to alpha motor neuron of opposing muscle. Causes contraction of both the flexor and the spindle. Synapse of 1a sensory to the interneuron happens at the same time. Second synapse onto alpha of opposing muscle happens later.\n",
    "\n",
    "Importance of gamma motor neuron are demonstrated. Here, they have taken a muscle, removed the spindle, and teathered one end to a pole and the other to a weight. Muscle spindle with anad wihtou the gamma motor neuron. First, look at alpha motor neuron activation without gamma neuron. Extrafusal (without a capsule) stimulation, and look at the intrafusal (capsule) muscle fibers, as the muscle contracts, the 1a stops firing. This is because it is inactive/out of range. It can no longer respond to the stimulus. In a normal muscle, we would lose proprioceptice information from this muscle. Get proprioceptive information involved. The spindle and the 1a sensory cannot sense muscle contraction. Do again, but with the gamma, we see something different. IN this case, 1a response is filled in (doesn't stop firing). Still have proprioceptive information. Not very good at sensing contraction. the 1a snesory can continue to send sensory information. IN absense of neuron, it has gone slack or \"loose\". When we have the gamma motor neuron, we can contract.\n",
    "\n",
    "The other major proprioceptive organ is the golgi-tendon organ. The GTO has a 1b sensory afferent. The 1b is slower than the 1a. the 1b sensory neuron comes into the golgi tendon and curls around all the orange fibers. made up of collagen fibers, act as springs. the 1b sensory is very in touch with the stretch in the GTO. If this muscle contracts, the GTO will be pulled. What we see is that the GTO acts in a negative feedback loop to manitain force. When DRG corresponding to the 1b synapes onto interneurons. One excitatory, one inhibitory. The excitatory neuron will excite the extensor muscle (opposite the one the GTO is attached to), and the inhibitory will inhibit the flexor muscle (one GTO is attached to). When it contracts, it causes that muscle to relax.\n",
    "\n",
    "Passive stretch occurs when an outside force causes a musle to stretch (such as a weight). In the same type of experiment, the muscle spindle. Record from 1a sensory afferetns or the 1b on the sensory afferents on the GTO. On 1a on the spindle, we have a big change in the 1a sensory (very responsive). Record from golgi tendon on 1b, not much change. 1b is relatively insensitive to stretch. In contrast, if we stimulate alpha motor neuron (causes muscle to contract), we lose sensitivity of 1a, but 1b is very sensitive, proportional to contraction of muscle.\n",
    "\n",
    "Upper motor neurons. Both GTO and muscle spindle, though we have simple reflexes, can send info to cortex or upper spinal cord.\n",
    "\n",
    "Upper motor neurons. Difference with lower. Lower include motor neuron pool (skeletal muscles directly). Some neurons called local circuit neurons.  Neurons formed in spinal cord which integrate lower motor neurons. Upper motor neurons are found in the motor and premotor cortex. Involved in conscious movement. Also upper motor neurons in brain stem circuits, control posture or walking. Upper motor neurons descend onto lower motor neuron. IN brain stem, controls body position and posture. Upper motor neuron in cortex control voluntary movement. Can connnect directly to the lower circuits.\n",
    "\n",
    "In the cortex, upper motor neurons in motor and premotor cortex. Brain stem, 3 main regions. Vestibular nucleus (body posture), retucular formation (body pusture and autonomic and somatic mtor behaviors, such as walking), and superior colliculus (head and eye movement). \n",
    "\n",
    "Upper motor neurons in brain stem. If neuron in motor or premotor cortex, will cross the contralateral side and descend down the lateral white matter tract and synapse in the lateral ventral horn onto local circuit neurons or lower motor neurons. Motor neurons in brain stem descend on the ipsilateral side through the ipsilateral anterior-medial white matter (inside of vertebrea). Descend ipsilaterally, but make connections ipsilaterally and contralaterally. Axial part of the trunk and more proximal limbs (such as shoulder).\n",
    "\n",
    "lateral motor circuits are making lateral synapses into the motor neurons. Control more distal limbs. high dexterity movements, only ipsilateral connections. Write with right hand, don't simultaneously move left hand. \n",
    "\n",
    "Medial project through many segments and make both ipsilateral and contralateral synapses. Top of upper neuron is the primary amotor and premotor cortices. Are rostral to the central sulcus. Primary motor cortex plays a role in organizing the movements. Topographical representation. Parts of our body with relatively little motor control.Directional sensitivity. Involved in the movement of digit in a particular direction. Based on the motor neurons which are activated. Premotor cortex. Have directional selectivity. Be particularly important in additional movement. Coordinating of postural movements. Premotor cortex known for selective motor activiteions. Premotor cortex important for conditional movements. PUll lever, premotor organizes things so that you don't fall over. The premotor activity occurs before the motor activity.\n",
    "\n",
    "Within the cortex, has multiple layers. Send axons into other reigons of body. Largest neurons in cortex. Have cdll body in cortical layer 5 project to the brainstem and pinal cord. REgion 5, then, contains the upper motor neurons. Release glutamate. Really large neurons.\n",
    "\n",
    "These are neurons which initiate again in the cortex. Project through the midprain in the pons. Form synapses ain the pons and the medulla. Travel from the motor cortex.\n",
    "\n",
    "From the singulate cortex which plays a primitive role in processing emotions. Emotions cotrol forehead muscles. Involved inthe cortical bolbar. Receive information for the cortex. Process it and send projections tothe lower motor systems. 3 major systems. First is the vestivular nuclei, 2 nuclei within them, medial and the lateral. Medial receives from thevestibular system and does head position. Responds from the semicircuilar canal. Lateral controls extensor muscles, responds to activation of the otolith organs. The head position is changing w.r.t. gravity. Both nuclei coordinate the posture. Most amorpheous nuclei. Each nuclei includes a grouping of neurons\n",
    "\n",
    "Reticular formation. Many small nuclei. Raphei nuclei, control serotonin. Most neurons in the reticular formation synapse on the local circuit neurons and maintain psoture disturbance. Overalp function with vestibular control. Exact formation depends on number of legs. Just to point it out, reticular formation is midbrain from the medulla. Do not identify these. All fall into 2 major categories: modulatory or premotor category.\n",
    "\n",
    "In this example, an adult is told, hear a bell, pull on lever with all of strength. Record from bicep muscles and record from gastronemious muscle, the gastronemius becomes activated before the bicep. Weird, because we would expect bicep to be activated first. The voluntary contraction of bicep is later, because the calf must brace itself before exertion is placed on the bicep. Voluntary movement is coordinated with involuntary movements. All of these incoluntary movements happen without htinking about them. Involuntary movements MUST be learned. They have not practiced or change posture.\n",
    "\n",
    "In this coordination, the direcitn conttrol of distal limbs is initiated by motor and premotor cortices. Descending through the corticospinal tract, crossing over in the pyramidal decussation, then desnending ipsilaterally on the contralateral spinal cord. Indirect postural adjustments are coordinated by motor and premotor cortices, cross over in the reticular formation, descend into the medial ventral horn, and control the posture.\n",
    "\n",
    "Integrate these different pathways. How to tell difference between damage to uppor vs lower motor neurons. Upper motor neuron syndrome results in weakness of muscles. Also in spasticity and rigidity. Upper motor neuron syndrome"
   ]
  },
  {
   "cell_type": "markdown",
   "metadata": {
    "heading_collapsed": true
   },
   "source": [
    "# Lecture 11-27-2017"
   ]
  },
  {
   "cell_type": "markdown",
   "metadata": {
    "hidden": true
   },
   "source": [
    "Review key concepts of upper and lower motor circuits\n",
    "\n",
    "Key concept for controlling the muscles. How we control your muscles. Most come in opposing pairs. This also includes things that happen. Voluntary unconscious movement for shifting weight when we pull. Some damage of the upper motor neurons (brain stem and up), end up with bebiske??? sign. Run pen along toes, they curl as if you were a baby. This means upper and lower motor neurons connect together. Muscle spindle. Large muscle with multiple motor units; get feedback from overall status of muscle. If they separate the muscle from a muscle spindle. Muscle can only be passively stretched. Stretching of one muscle happens when opposing one contracts. Gamma motor neuron gets information from the sensory, and causes a contraction at the poles of the spindle. \n",
    "\n",
    "Golgi tendon organ located between muscle and tendon. The tendon stays in place, stretches the tendon organ. This activates the  sensory neuron, and adjusts the contraction of the muscle and causes it to relax a little. Causes opposing muscle to contract. Feedback from a descending system. Getting information about how they should be (changes of weight, say). 1b on golgi tendon causes muscles to relax. 1a causes contraction. \n",
    "\n",
    "Contraction is active, stretch is passive. Synapses in two interneurons. Interneurons will synapse directly onto alpha motor neurons. Monosynaptic reflex. ONe to control gamma.\n",
    "\n",
    "1b afferent attached to the Golgi tendon. Sends a relaxing signal from 1b. \n",
    "\n",
    "Local circuit neurons. Not Upper motor neurons or lower. Only in the spinal cord. Arranged topographically. Ones which control limbs are lateral in the spinal cord. Descend through a couple areas in the spinal cord. \n",
    "\n",
    "Two figures. Upper circuit neurons, and another for local circuit. two main types of projections. The corticospinal (from cortex to spine) and corticobulbar (cortex to brain stem). Corticalspinal (90% cross  cross over to the contralateral side). Remaining 10% remain ipsilateral and synapse more medially and support posutre. Corticobulbar tract - control muscles which are in the head and neck. They descend; along the way, from different parts of the motor cortex, they descend and make synapses along the way. Trigeminal nerve as well as facial nucleus. This information can receive info from the vestibular nuclei. Otolith is posture. Semicurcular canal for orientting the head. Our forehead muscles are controlled by different part of brain than the lower face. Singulate cortex, controls the forehead, sends info on the left and right at the same time. STroke in motor contrex, affects contralateral part of the face. only way to lose control of forehead, is something happens to facial nerve\n",
    "\n",
    "Local circuit. Most info will not synapse directly onto alpha motor neuron. Most of the time, synapse onto local circuit. Most muscles take 3 neurons. Remember, medial is for posture, lateral for limbs.\n",
    "\n",
    "Motor neuron pools. Motor units and local circuits. Today, we'll start with the basal ganglia and cerebellum. Both these regions play major roles in coordination. Without these, some movement, but limited.\n",
    "\n",
    "Basal ganglia. Series of different nuclei. Some are related to each other, others are not. Striatum and globus pallidus are different sections. Striatum called because it looks striped, contais the caudate and putamen. Receives input to the BG, then sends info to the GP. Gets info from the cortex, goes to caudate and putamen, sends to the gP and substantia nigra pars reticulata. Sends info to the superior colliculus, which controls eye movements, and to the thalamus (largely ignore eye movements). The lalamus controls the cortex. Back to the cudate and putamen. They also send nifo to the substantia nigra pars compacta (SNc) which makes dopamine.\n",
    "\n",
    "Basal ganglia, roles in movement, motivation and reward. Studied heavily in depression. Receives input from the cortex. Caudate sends pathways through the striatum to globus palladus medial. Called the direct pathway. Also outpus through the striato-nigral pathway to the SNr. Putamen sends ouput via indirect pathway through the striato-pallidal to the GPe. (globus pallidus external (lateral). Medial -internal, lateral, external.\n",
    "\n",
    "All original from same group of cells indevelopment. Make a strange shape. Make a slice at (A), see 3 important parts. The caudate, and putamen. Dorsal striatum. Ventral striatum, is the olfactory tubercle. Motivation and reward. Ventral Anterior and Ventral Lateral. Subthalamic nuclei (really only thing below thalamus). \n",
    "\n",
    "Many info from the pathways. Focus on body movement, but be aware of others. Loop controls body morement, lots of info from the motor cortex, to the putamen, to lateral globus pallidus to VA/VL, then back up to the motor cortex. Other major oens, Oculomotor loop. Limbic loop, reward pathway. Also prefrontal loop, responsible for cognition.\n",
    "\n",
    "Dopamine (for purposes of class) only go to caudate and putamen. Really much more complex.\n",
    "\n",
    "In caudate and putamen, most are medium spiny neurons and are GABAergic. Have Dopamine receptors (recall, have 2 types of receptors). Couple with Gs and Gi. Caudate has primairly D1. Putamen has D1 and D2. Some crom caudate sens to SNR through the striatonigral pathway. Rest from the caudate send directly to the GPi. Putamen also send directly to the GPi. These direct neurons to the GPi are the direct pathway. D2 neurons from the putamen send to the GPe, making up the indirect pathway. For reasons with types of channels they express and the way they regulate their resting membrane potentials, they have a very low rate of firing. for GPe and GPi, have a high rate of tonic firing (high frequency of firing with no inputs)."
   ]
  },
  {
   "cell_type": "markdown",
   "metadata": {
    "heading_collapsed": true
   },
   "source": [
    "# Lecture 11-29-2017"
   ]
  },
  {
   "cell_type": "markdown",
   "metadata": {
    "hidden": true
   },
   "source": [
    "Talking about the striatum. Recall this is both the caudate and putamen. Looks striped. We are looking at the simplified version of this technology. \n",
    "\n",
    "Direct and indirect pathways make up the striatonigral pathway. Very high tonic rate of firing. Firing on is inhibited. \n",
    "\n",
    "Calcium microdomains. We will see that these spines also receive domametergic inputs. Medium spiny neurons are most important, make up 95% of all neurons in the dorsal and ventral stratum. Receive inputs from cortex (glutamate), SNc (dopamine) other MSM (GABA, and local interneurons (GABA and ACh).\n",
    "\n",
    "Medium spiny neurons. Local circuit neuron is another way to say interneuron. Any neuron which sends to another region.Most glutamate synapses are right on the spine. Dopamine and substantia nigra. D1 and D2 receptors, both couple with trimeric C protein. D1 couples with Gs (activates Adenylyl cyclase), D2 couples with Gi (inhibits. Sopamine can undergo reuptake or degredation. MAOI and antidepresents both can regyulate levels by regulating MAO.\n",
    "\n",
    "Any neuron which has dopamine must have tyrosine. Staining of tyrosine. Transcription takes place in the cell bodies. Output of the basal ganglia talks about GPi sends out region to the thalamus. VA/VL nuclei. White lines separating nucleu. Direct pathway, D1 project to the GPI. Indirect, D2 project to GPe to the Subthalamic Nucleus, then to the GPi. \n",
    "\n",
    "Basal ganglia regulation of Va/VL. Cortex sends to Va/VL, Caudate, and STN. Whenever axons are active in cortex, glutamate pathways are active. Striped means transient, solid means tonic. GPe and GPi are the only ones tonically active. Projections to the caudate, D1 will be excited. STN releases glutamate. will excite the GPi. Most arrows in pathway converge to GPi (major output). VA/VL is active, motor cortex more active. GPi inhibits the Va/VL. REcall GPi is tonic, meaning it is nominally inhibiting VA/VL, which overwhelms the input from the cortex. System with GPi being tonically active, GPi inhibits Va/VL. GPe active, inhibits STN. Add in caudate and putamen. Increase putamen D2 neurons, inhibit the GPe, meaning STN no longer inhibited. STN will then activate GPi. D2 (indirect), VA/VL is less active. D1, VA/VL more active. \n",
    "\n",
    "Optogenetics. Optogenetics made to activate the D2 indirect pathway, paralyzes the mouse temporarily. What happens when we inhibit the cortical input. Disinhibition, increase activity of the neuron. Doesn't mean you are activating a stimulus. Look at situation in a couple different ways. A is supposed to be a medium spiny neuron from cortex. First situation, at rest, no activation. Low activity onto the GPi, not activated. GPi has nominally high activity, thereby inhibiting the VA/VL. This will have a very low activity, causing low activity in the motor cortex. Second situation, cortex activated. High output, inhibits the GPi, which now has a low output. The VAVL is now disinhibited, making the output high, making motor cortex have high output.\n",
    "\n",
    "We can cause disinhibition through the dopamine pathway. GPe will increase the inhibition of the STN, which wil. Much lower activity of the GPi. Dopamine regulate both pathways, reduce activity of the GPi, increase activity of the VA/VL.\n",
    "\n",
    "Parkinson's disease starts with death of dopamine neurons. Most causes are idiopathic, don't know the cause. alpha-synuclein (SNCA): unknown funciton of this protein. Parkin (PRKN): component of E3. Leucine-rich repeat kinase 2 (LRRK2): may regulate mitochondrial production or breakdown. We don't know why dopaminergic neurons are so sensitive to this. Boxers are very vulnerable to parkinsons. Why? Maybe head jostling around?  Substantia nigra compacta are fragile. Age 80, 30% remaining. Lower than 20% start to see signs. Parkinsons disease have trouble initiating movement. Also have a fenestraited gait. \n",
    "\n",
    "Death of substantia nigra, lose dopamatergic neurons. Direct pathways less active. D2 enurons inhibit the GPe, not inhibit the STN, much more active, increase GPi. Enhanced tonic inhibition of the GPi. Hypokenetic, reduced movement. SNC normal. \n",
    "\n",
    "Tried surgically ablating the STN (STN is too active in PK). Some success. "
   ]
  },
  {
   "cell_type": "markdown",
   "metadata": {
    "heading_collapsed": true
   },
   "source": [
    "# Lecture 12-1-2017"
   ]
  },
  {
   "cell_type": "markdown",
   "metadata": {
    "hidden": true
   },
   "source": [
    "Amygdala is not part of the striatum; the nucleus accumbens is not. \n",
    "\n",
    "Put in an optogenetic construct to deactivate the D2 neurons. Inhibiting the GPe, doens't activat the STN, activates the GPi, which very inhibits. Increased activity of the indirect pathway will inhibit movement.\n",
    "\n",
    "What they were stimulating with DBS, corticospinal trct neurons passing through the STN. Mouse treated with drug which kills off substantia nigra neurons.\n",
    "\n",
    "Another group wanted to show what they could stimulate to rescue the PK model within the mouse. killed neurons which project from substantia nigra to the caudate. 6OHDA, modified dopamine. Killed dopamine input to the caudate, replaced with channel rhodopsin-activated (I think???). Stimulation of the direct pathway (D1) can rescue movement disorders in a model Parkinson's Disease. \n",
    "\n",
    "Some things along the way. Accidentially made MPTP. In blood, have MAO-B. Converts MPTP to MPP+, transported up into the substantia nigra, and kills them. Because it is a short period, you can get frozen. Can be treated with L-DOPA. Couldn't duplicate with rats because rats didn't have MPTP.\n",
    "\n",
    "Awakenings. Got encephalitis, an epidemic. Most which got it recovered, some never woke up. L-DOPA caused them to wake temporarily. \n",
    "\n",
    "Huntington's disease, death within 10-20 years of diagnosis. Unknown reasons, expressed ubiquiteously, tarkets the D2 MSMs, which basically corresponds to the indirect pathway. Leads to decreased inhibition of the VA/VL, which corresponds to uncontrolled movements.\n",
    "\n",
    "The cerebellum: function and dysfunction. Thinks to do a comparator function. Has ~50% of all neurons in the brain because of very small neurons. They are arranged in regular patterns. Distinct regions receive input from brain. What do we know? Does not directly regulate or initiate movements. Not required to perceive muscle contraction. Indirectly regulates muscles (no direct commands). Disruptions in cerebellum causes poor balance, coordination of eyes, cannot adjust your movements. Cerebellum receives proprioceptive information and the plans from the cotex, then compares them. What were the plans, how did it perform, then sends an adjustment signal back to the cortex. Wow!!!\n",
    "\n",
    " Peduncles are the connection to the rest of the brain. 3 major ones: superior, middle interior. Superior - efferent axons from the cerebellum to thalamus (leaving cerebellum to cortex). Middle: afferent axons from cortex to cerebellum, major pathway. Inferior: mixture of affferent and efferent to the spinal ford (mixture of in and out from brain stem and spinal cord).\n",
    " \n",
    "Cerebrocerebellum receives input from the cortex. Spinoserebellum, more middle, info from spinal cord, cranial nerves, and brain stem. Vestibulocerebellum, input from vestibular nuclei. Abundant representation of the mouth. Alcohol  targets this area. Info comes from the cortex, has a synpase, sends axons to the deep cerebellar nuclei. Theres the dentate nuclei, interposed nuclei, and fastigial nuclei. Receive inhibitory GABA signals from Purkinje neurons. Vestibular nuclei not considered to be deep cerebellar nuclei. \n",
    "\n",
    "Big picture. Vestibular nuclei -> vestibulocerebellum. "
   ]
  },
  {
   "cell_type": "markdown",
   "metadata": {
    "heading_collapsed": true
   },
   "source": [
    "# Lecture 12-4-2017"
   ]
  },
  {
   "cell_type": "markdown",
   "metadata": {
    "hidden": true
   },
   "source": [
    "Peduncle (send info to brain as well as physically connect)\n",
    "middle, carries into cerebellum from cortex, largest\n",
    "superior - out, back to the thalamus then cortex.\n",
    "inferior - in and out, from brain stem and spinal cord\n",
    "\n",
    "Division, cerebellar cortex. Cerebrocerebellum spinocerebellum, ...\n",
    "\n",
    "All the neruons synapse in the cerebellarcortex. They send info to the deep cerebellar nuclei, project along.\n",
    "\n",
    "Inputs - \n",
    "Motor cortex to the pons (pontine nuclei); synapse. Axons project into the cerebellum. Spread into the anterior part of the cerebellum. Info from the spinal cord comes through the pathways. Inferior olive and vestibular nuclei.\n",
    "\n",
    "Left motor cortex goes to the right side of the cerebellum. Recall the motor cortex is already contralateral however; thus the right side of the cerebellum controls the right side of the body. Two contralateral connections.\n",
    "\n",
    "Clark's column (sends sensory info) and bestibular nucleu synapse into the lower part of the cerebellum. \n",
    "\n",
    "Outputs - \n",
    "Deep cerebellar nuclei. Look at the rings, each region outputs to a different region of the nuclei. The superior cerebellar peduncle. Some synpase in the superior collicullus or the thalamus (VL complex). Info directly back down the spinal cord, we will follow the inferior and superior peduncle. Inputs from the lower brain stem. If the info is from the fastigial nuclei, it will go the superior colliculus and to the reticular formation. Travels down the anterior wihte matter of the spinal cord, controls posture. \n",
    "\n",
    "Cerebrocerebellum - outputs v ia the the superior cerebellar deduncle and the denate nuclei. First synapse in the VL thelamus on the contralateral side (ipsilateral to the premotor cortex signals). Regulates motor planning. Also could output to red nucleus, down the spinal cord.\n",
    "\n",
    "Spinocerebellum - intermediate outputs to the interposed nuclei, sends to the contralateral superior clliculus. Controls eye movement. Intermediate region in the spinal cerebellum controls the eyes, (eye movement has a lot of redundancy, one eye is not necessairly affected by one injury). Vermis outputs via the fastigial nuclei and the inferior peduncle. Reticular formation neurons. Integrate bilaterally. Bilateral integration. Vestibular also outputs ipsilaterally. Don't see a lot of effects damaging one side.\n",
    "\n",
    "Fastigial nuclei outputs to the medial descending systems. Interposed, slightly more lateral, output to lateral descending systems. Dentate nucleus outputs back to the cerebral cortex, motor planning. Organization of cells in the cerebellum.\n",
    "\n",
    "Top, Nissl staining cell bodies, bottom is neurophilliment. Molecular layer, purkinje cell layer, Granule layer.\n",
    "\n",
    "afferent \n",
    " pontine nuclie\n",
    " mossy fibers\n",
    " inferior \n",
    "\n",
    "Granule cell\n",
    "\n",
    "Lots of circuitry in the cerebellum we don't understand. If we look at the input from the pontine nuclei, goes up the mossy fiber, synapse between Granule cell and mossy fiber. Bifurcated axon; millions of these axons are parallel to each other. The granule cell axons are called the parallel fibers. Each cell will synapse onto the fiber. The other major input is the climbing fiber. All excitatory glutamate inputs. Tricky part: same neurons will form a branch and synapse onto the deep cerebellar nuclei. Short path - deep excitatory loop w.r.t. deep cellular nuclei. The Cortical inhibitory loop.  Purkinjie neuron - GABAergic. Mossy fiber or climbing fiber synapse directly onto the ..., excite them. OrganizationEach band-like structures is a column of purkinjes. Also rows of purkinjes. Fibers will run through a single row of Purkinje neurons. Basket cells have soma in one column of purkinje nuerons, but axons extend to neighboring axons. inhibit the adjacent columns. Basket cell will get excited by the parallel fibers and inhibiting them. The Golgi cell excited by parallel fibers. Synapses locally back onto the same granule cell that excited it (serves as a very quick off switch). That is inhibitory loop. Purkinje neuron. Will fire at a high frequency. Main thing that activates the purkinje neuron. Induce a really big depolarization. Complex spikes are very rare. Predicted that they play a role in changing the output. Simultaneous firing. Decrease subsequent firing of subsequent spikes. \n",
    "\n",
    "Hypotonia - decreased resistance to passive limb movemen.t\n",
    " Ataxia - delay in initiatring response\n",
    " \n",
    " Action termor - repeated movement. Cerebellar gate- problem with\n",
    " \n",
    "Hypotonia - Problems in the vestibulocerebellum. Arm movmeents re normal. Alcoholism causes degeneration of anterior vermis. Affects speech. Vestibulocerebellum, affects coordinating eyes and body. Contributes to the wide leg stance. Cerebellal hypoglasia - very rare in humans, but common in cats. in humans, unusually common in Turkey; walk on their arms and legs. "
   ]
  },
  {
   "cell_type": "markdown",
   "metadata": {},
   "source": [
    "# Lecture 12-6-2017"
   ]
  },
  {
   "cell_type": "markdown",
   "metadata": {},
   "source": [
    "Essential tremor - abnormal activity of the thalamus.\n",
    "\n",
    "Anodic - electrode releases cations. Cathodic releases anions. \n",
    "\n",
    "STN may be unable to fire. \n",
    "\n",
    "Abnormal Oscillation Desynchronization."
   ]
  },
  {
   "cell_type": "markdown",
   "metadata": {},
   "source": [
    "# Lecture 12-11-2017"
   ]
  },
  {
   "cell_type": "markdown",
   "metadata": {},
   "source": [
    "Motor circuits, basal ganglia, cerebellum, and 2 guest lectures.\n",
    "\n",
    "Check grades! \n",
    "\n",
    "Cerebellum and different types of symptoms. Little trouble with initiation of movements. Scanning speech, breaking up to individual syllabols. Vermis - middle of cerebellum. Flobbulus and nobbulus. Couldn't even stand up. Coordination of multiple joints, damage to cerebral cerebellum (in charge of planning). Knee reflex - monosynaptic reflex. Damage to cerebellum could.\n",
    "\n",
    "Hypotonia - decreased muscle tone.\n",
    "decreased activity of the gamma motor neuron - trouble responding to passive stretch. Corresponds to Golgi tendon. \n",
    "\n",
    "Cerebellar hypoplasia - rare in humans. Mutations in VLDL-receptor.\n",
    "\n",
    "Spinocerebellar ataxia 1 (SCA1). Disarthria. Impaired speech, poor coordination of gamma neurons. Deterioration of bulbar functions, controls breathing. Cognitive impairment also occurs. Multiple glutamines in a row in the Ataxin 1 protein. Autosomal dominant. \n",
    "\n",
    "Ataxin-1 protein. Maybe regulates splicing. Not actually essential. \n",
    "\n",
    "Rotorod experiment.\n",
    "granule cell - most abundant\n",
    "Purkinje neuron. \n"
   ]
  }
 ],
 "metadata": {
  "anaconda-cloud": {},
  "kernelspec": {
   "display_name": "Python [conda root]",
   "language": "python",
   "name": "conda-root-py"
  },
  "language_info": {
   "codemirror_mode": {
    "name": "ipython",
    "version": 3
   },
   "file_extension": ".py",
   "mimetype": "text/x-python",
   "name": "python",
   "nbconvert_exporter": "python",
   "pygments_lexer": "ipython3",
   "version": "3.5.2"
  },
  "latex_envs": {
   "LaTeX_envs_menu_present": true,
   "bibliofile": "biblio.bib",
   "cite_by": "apalike",
   "current_citInitial": 1,
   "eqLabelWithNumbers": true,
   "eqNumInitial": 1,
   "labels_anchors": false,
   "latex_user_defs": false,
   "report_style_numbering": false,
   "user_envs_cfg": false
  },
  "toc": {
   "colors": {
    "hover_highlight": "#DAA520",
    "running_highlight": "#FF0000",
    "selected_highlight": "#FFD700"
   },
   "moveMenuLeft": true,
   "nav_menu": {
    "height": "12px",
    "width": "252px"
   },
   "navigate_menu": true,
   "number_sections": true,
   "sideBar": true,
   "threshold": 4,
   "toc_cell": false,
   "toc_section_display": "block",
   "toc_window_display": false
  }
 },
 "nbformat": 4,
 "nbformat_minor": 1
}
