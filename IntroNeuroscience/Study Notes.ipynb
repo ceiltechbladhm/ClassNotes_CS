{
 "cells": [
  {
   "cell_type": "markdown",
   "metadata": {},
   "source": [
    "# Exam 1"
   ]
  },
  {
   "cell_type": "markdown",
   "metadata": {},
   "source": [
    "## Lecture 1"
   ]
  },
  {
   "cell_type": "markdown",
   "metadata": {},
   "source": [
    "Terms to know:\n",
    "\n",
    "* Anterior-Posterior\n",
    "* Rostral-caudal\n",
    "* Dorsal-ventral\n",
    "* Superior-Inferior\n",
    "* Coronal - slices through the middle (through arms in body, acorss central sulcus in the brain)\n",
    "* Sagittal - Slices along central fissure\n",
    "* Horizontal - slices through gut\n",
    "* Medial - Towards middle\n",
    "* Lateral - Towards sides\n",
    "* Cerebral Cortex (and all the lobes) - frontal cortex\n",
    "* Dermatome - area of skin that is mainly supplied by a single spinal nerve"
   ]
  },
  {
   "cell_type": "markdown",
   "metadata": {},
   "source": [
    "## Lecture 2"
   ]
  },
  {
   "cell_type": "markdown",
   "metadata": {},
   "source": [
    "* Zygote \n",
    "* Gastrulation - begins with the local invagination of a subset of cells in the very early embryo.\n",
    "* Germ Layers\n",
    "    * Ectoderm\n",
    "    * Mesoderm\n",
    "    * Endoderm\n",
    "* Organizer\n",
    "* Nerurulation\n",
    "* Neural Plate\n",
    "* Neural Fold\n",
    "* Neural Tube\n",
    "* Neural Crest\n",
    "* Anencephaly\n",
    "* Spina bifida\n",
    "* Prosencephalon\n",
    "* Mesencephalon\n",
    "* rhobencephalon\n",
    "* telencephalon\n",
    "    * Optic cup\n",
    "* Diencephalon\n",
    "* Metencephalon\n",
    "* Myelencephalon\n",
    "* Morphogens\n",
    "* TGF-$\\beta$ family\n",
    "* BMP\n",
    "* BMP inhibitor\n",
    "* retinoic acid\n",
    "* FGF\n",
    "* Wnts\n",
    "* regionalization\n",
    "* segmentation\n",
    "* rostral-caudal patterning\n",
    "* dorsal-ventral patterning"
   ]
  },
  {
   "cell_type": "markdown",
   "metadata": {},
   "source": [
    "Notes as I go\n",
    "\n",
    "The formation of the notochord is from mesodermal cells.  Located inferior to the neural tube. "
   ]
  },
  {
   "cell_type": "code",
   "execution_count": null,
   "metadata": {
    "collapsed": true
   },
   "outputs": [],
   "source": []
  }
 ],
 "metadata": {
  "anaconda-cloud": {},
  "kernelspec": {
   "display_name": "Python [default]",
   "language": "python",
   "name": "python3"
  },
  "language_info": {
   "codemirror_mode": {
    "name": "ipython",
    "version": 3
   },
   "file_extension": ".py",
   "mimetype": "text/x-python",
   "name": "python",
   "nbconvert_exporter": "python",
   "pygments_lexer": "ipython3",
   "version": "3.5.2"
  },
  "latex_envs": {
   "LaTeX_envs_menu_present": true,
   "bibliofile": "biblio.bib",
   "cite_by": "apalike",
   "current_citInitial": 1,
   "eqLabelWithNumbers": true,
   "eqNumInitial": 1,
   "labels_anchors": false,
   "latex_user_defs": false,
   "report_style_numbering": false,
   "user_envs_cfg": false
  },
  "toc": {
   "colors": {
    "hover_highlight": "#DAA520",
    "running_highlight": "#FF0000",
    "selected_highlight": "#FFD700"
   },
   "moveMenuLeft": true,
   "nav_menu": {
    "height": "66px",
    "width": "252px"
   },
   "navigate_menu": true,
   "number_sections": true,
   "sideBar": true,
   "threshold": 4,
   "toc_cell": false,
   "toc_section_display": "block",
   "toc_window_display": false
  }
 },
 "nbformat": 4,
 "nbformat_minor": 1
}
