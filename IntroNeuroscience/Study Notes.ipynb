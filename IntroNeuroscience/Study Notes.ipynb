{
 "cells": [
  {
   "cell_type": "markdown",
   "metadata": {},
   "source": [
    "# Exam 1"
   ]
  },
  {
   "cell_type": "markdown",
   "metadata": {},
   "source": [
    "## Lecture 1"
   ]
  },
  {
   "cell_type": "markdown",
   "metadata": {},
   "source": [
    "Terms to know:\n",
    "\n",
    "* Anterior-Posterior\n",
    "* Rostral-caudal\n",
    "* Dorsal-ventral\n",
    "* Superior-Inferior\n",
    "* Coronal - slices through the middle (through arms in body, acorss central sulcus in the brain)\n",
    "* Sagittal - Slices along central fissure\n",
    "* Horizontal - slices through gut\n",
    "* Medial - Towards middle\n",
    "* Lateral - Towards sides\n",
    "* Cerebral Cortex (and all the lobes) - frontal cortex\n",
    "* Dermatome - area of skin that is mainly supplied by a single spinal nerve"
   ]
  },
  {
   "cell_type": "markdown",
   "metadata": {},
   "source": [
    "## Lecture 2"
   ]
  },
  {
   "cell_type": "markdown",
   "metadata": {},
   "source": [
    "* Zygote \n",
    "* Gastrulation - begins with the local invagination of a subset of cells in the very early embryo. Sets up body axis. In 18 days, gastrulation is complete. Then begin neurulation.\n",
    "* Germ Layers - three layers of cells within the early embryo. \n",
    "    * Ectoderm - Nervous system, skin\n",
    "    * Mesoderm - bones\n",
    "    * Endoderm - gut\n",
    "* Organizer - initially dorsal lip. Directs cells to become 1 of 3 germ layers.\n",
    "* Nerurulation - after gastulation. Nervious system beings to develop. Initially directed by notochord. \n",
    "* Neural Plate - Becomes CNS. From portions of ectoderm where primitive streak was. \n",
    "* Neural Fold - anterior end of neural tube. \n",
    "* Neural Tube - Becomes spine.\n",
    "* Neural Crest - Becomes PNS, dorsal root ganglia, adrenal medulla\n",
    "* Anencephaly - absence of major portions of brain/skull\n",
    "* Spina bifida - incomplete closure of spine due to defects in neural tube development. Prevented by follic acid (Vitamin B9)\n",
    "* Prosencephalon - balloons from the cephalic flexure, will eventually turn into the forebrain, optic, diencephalon\n",
    "* Mesencephalon - will form the midbrain forms as a bulge above the cephalic flexure.\n",
    "* rhobencephalon - will form the hind brain. Will form from the long straingt stretch between the cephalic flrexure. brain stem\n",
    "* telencephalon - lateral aspects of the rostral prosencephalon. Formation will cause it to baloon outwards. These bumps are telencephalon. Encorperates some ventricals. Will become cerebral cortex, olfactory bulb.\n",
    "    * Optic cup - neural portion of the retina will form\n",
    "* Diencephalon - more caudal portion of the prosencephalon. A balloon underneath the telencephalon. Contains rudiments ofthe thalamos and hypothalamus. Also contains the optic cups.\n",
    "* Metencephalon - Comes from the rostral part of the rhombencephalon. Gives rise to the cerebellum and pons.\n",
    "* Myelencephalon - Comes from caudal part of the rhombencephalon. Gives rise to the medulla\n",
    "* Morphogens - molecule whose concentration gives rise to cell fate determination. Organizer. A secreted signalling molecule which acts directly on the cell (not through serial induction) to produce specific responses which depend on morphagen concentration.\n",
    "* TGF-$\\beta$ family\n",
    "* BMP - Bone Morphogenic Protiens. Important for neural induction and differentiation. Can differentiate between cells turning into skin or neuron.\n",
    "* BMP inhibitor - Noggin and Chortin. Bind to BMP receptors to prevent BMP uptake into cell, preventing differentiation.\n",
    "* retinoic acid\n",
    "* FGF\n",
    "* Wnts\n",
    "* regionalization\n",
    "* segmentation\n",
    "* rostral-caudal patterning\n",
    "* dorsal-ventral patterning"
   ]
  },
  {
   "cell_type": "markdown",
   "metadata": {},
   "source": [
    "Notes as I go\n",
    "\n",
    "The formation of the notochord is from mesodermal cells.  Located inferior to the neural tube.\n",
    "Notochord - disappears after early deveolpment. specifies basic topography of embryo, determines position of nervous system.\n",
    "\n",
    "Primitive pit -> Primitive streak\n",
    "\n",
    "The ectoderm which is above the notochord is called the neuroectoderm\n",
    "\n",
    "\n",
    "Cephalic flexure - a knobule which lies between the mesencephalin and the rhombencephalon. It is at the end of the handle nearest the sharpest bend.\n",
    "\n",
    "Early nurulation - notochord forms by invagination of the mesoderm in the place of the primitive streak. The ectoderm overlying the notochord \n",
    "\n",
    "Dorsal lip - early formation of a buldge. \n",
    "\n",
    "Hypoblast - becomes tropoblast, which becomes placenta\n",
    "\n",
    "Epiblast\n",
    "\n",
    "Convergence - the neural tube forms (20 days). Neural crests form, move to close the tube. \n",
    "\n",
    "Neuromere - repeating segments along neural tube. Led to discovery of segmentation."
   ]
  },
  {
   "cell_type": "markdown",
   "metadata": {
    "collapsed": true
   },
   "source": [
    "## Lecture 3"
   ]
  },
  {
   "cell_type": "markdown",
   "metadata": {},
   "source": [
    " Terms to know:\n",
    " \n",
    "* neurogenesis - process by which neurons are generated.\n",
    "* neuronal morphology\n",
    "    * axon\n",
    "    * dendrite\n",
    "    * unipolar\n",
    "    * bipolar\n",
    "    * pseudo-unipolar\n",
    "    * multipolar\n",
    "* gliogenesis\n",
    "    * astroglia\n",
    "    * oligodendrocytes\n",
    "* microglia\n",
    "* Delta/Notch signaling - interactions between these two things cause differentiation of neuron types.\n",
    "* gliogenesis\n",
    "* radial migration\n",
    "* cortical layering\n",
    "* tangential migration"
   ]
  },
  {
   "cell_type": "markdown",
   "metadata": {},
   "source": [
    "## Lectures 4+5"
   ]
  },
  {
   "cell_type": "markdown",
   "metadata": {},
   "source": [
    "* Membrane Potential - voltage of the cell membrane. Usually between -40 to -90 mV. Class will use -80 mV for problems. \n",
    "* Voltage - Electric potential caused by a difference in charges (or ion concentration in a specific case)\n",
    "* Ion Current - Ions flowing. Follows positive ions; positive ion flowing out, current goes out. Negative ion flows out, current goes in.\n",
    "* Membrane permeability - How well ions can move across\n",
    "* Depolarization - membrane potential becomes more positive than the resting potential.\n",
    "* Hyperpolarization - Membrane potential becomes more negative than the resting potential\n",
    "* Threshold - if the membrane potential becomes lower than this, an action potential (signal) is sent\n",
    "* Passive resonse - Hyperpolarization occurs - no signal is sent, the membrane potential merely gets more negative.\n",
    "* Active Response - \n",
    "* Inward Current - positive ions flowing into the cell\n",
    "* Outward Current - positive ionds flowing out of the cell\n",
    "* Nernest Equation - \n",
    "* Goldman Equation\n",
    "* Voltage-gated ion channel\n",
    "* Ion transporter\n",
    "* Driving Force\n",
    "* Concentration gradient\n",
    "* Electrical gradient\n",
    "* Electrochemical Gradient\n",
    "* Conductance\n",
    "* Current\n",
    "* Equilibrium Potential"
   ]
  },
  {
   "cell_type": "markdown",
   "metadata": {},
   "source": [
    "## Lectures 6+7"
   ]
  },
  {
   "cell_type": "markdown",
   "metadata": {},
   "source": [
    "* Action Potential -a self-regenerating wave of electricity across the membrane of a cell\n",
    "* All-or-none - A cell will fire \n",
    "* AP frequency - One way in which \n",
    "* AP amplitude\n",
    "* Rising phase\n",
    "* Overshoot\n",
    "* Falling phase\n",
    "* Myelination - A wrapping of the axons in insulative material to make signals propagate faster. In the cns, this is done by oligodendrocytes; one oligodendrocyte is attached to multiple axons, and it also requires multiple oligodendrocytes to cover a single axon. In the PNS, Schwann cells myelinate the axons; one Schwann cell covers part of one axon, and it requires multiple Schwann cells to cover each axon. \n",
    "* Saltatory propagation - action potentials propagate along the myelated axons, being regenerated by the Nodes of Ranvier. This is faster than normal propagation \n",
    "* Nodes of Ranvier - the area between mylinated portions of the axon. Here, additional voltage gated channels open, thus regenerating the action potential."
   ]
  },
  {
   "cell_type": "markdown",
   "metadata": {},
   "source": [
    "## Lectures 8+9"
   ]
  },
  {
   "cell_type": "markdown",
   "metadata": {},
   "source": [
    "* Patch clamp - A method of recording neurons by suctioning onto them with a glass pippette\n",
    "* Whole cell recording - attaching to the membrane of the nerve cell allows the current through the whole cell to be recorded.\n",
    "* Single channel recording\n",
    "* Probability of channel opening\n",
    "* Conductance of channel\n",
    "* Single Channel conductance\n",
    "* Whole cell current\n",
    "* Depolarization/rising phase\n",
    "* Repolarization/falling phase\n",
    "* hyperpolarization\n",
    "* Refractory period\n",
    "* Alpha helix\n",
    "* Membrane spanning\n",
    "* Pore loop\n",
    "* Voltage sensor\n",
    "* Voltage-gated channels\n",
    "* Ligand-gated channels\n",
    "* Mutational analysis"
   ]
  }
 ],
 "metadata": {
  "anaconda-cloud": {},
  "kernelspec": {
   "display_name": "Python [default]",
   "language": "python",
   "name": "python3"
  },
  "language_info": {
   "codemirror_mode": {
    "name": "ipython",
    "version": 3
   },
   "file_extension": ".py",
   "mimetype": "text/x-python",
   "name": "python",
   "nbconvert_exporter": "python",
   "pygments_lexer": "ipython3",
   "version": "3.5.2"
  },
  "latex_envs": {
   "LaTeX_envs_menu_present": true,
   "bibliofile": "biblio.bib",
   "cite_by": "apalike",
   "current_citInitial": 1,
   "eqLabelWithNumbers": true,
   "eqNumInitial": 1,
   "labels_anchors": false,
   "latex_user_defs": false,
   "report_style_numbering": false,
   "user_envs_cfg": false
  },
  "toc": {
   "colors": {
    "hover_highlight": "#DAA520",
    "running_highlight": "#FF0000",
    "selected_highlight": "#FFD700"
   },
   "moveMenuLeft": true,
   "nav_menu": {
    "height": "66px",
    "width": "252px"
   },
   "navigate_menu": true,
   "number_sections": true,
   "sideBar": true,
   "threshold": 4,
   "toc_cell": false,
   "toc_section_display": "block",
   "toc_window_display": false
  }
 },
 "nbformat": 4,
 "nbformat_minor": 1
}
