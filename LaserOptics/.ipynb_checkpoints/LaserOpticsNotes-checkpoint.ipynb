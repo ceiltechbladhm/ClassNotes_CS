{
 "cells": [
  {
   "cell_type": "markdown",
   "metadata": {
    "heading_collapsed": true
   },
   "source": [
    "# Code"
   ]
  },
  {
   "cell_type": "code",
   "execution_count": 1,
   "metadata": {
    "collapsed": false,
    "hidden": true
   },
   "outputs": [
    {
     "data": {
      "application/javascript": [
       "\n",
       "    var add_command_shortcuts = {\n",
       "            'Alt-w' : {\n",
       "                help    : 'Add Text Test',\n",
       "                help_index : 'aa',\n",
       "                handler : function() {\n",
       "                        var cell = IPython.notebook.get_selected_cell();\n",
       "        \t\tcell.code_mirror.replaceSelection('Testing');\n",
       "                }\n",
       "            }\n",
       "        };\n",
       "\n",
       "    var add_edit_shortcuts = {\n",
       "            'Alt-a' : {\n",
       "                help    : 'Insert alpha',\n",
       "                help_index : 'aa',\n",
       "                handler : function() {\n",
       "                    var cell = IPython.notebook.get_selected_cell();\n",
       "                    cell.code_mirror.replaceSelection('\\\\alpha');\n",
       "                }\n",
       "            },\n",
       "        'Alt-b' : {\n",
       "                help    : 'Insert beta',\n",
       "                help_index : 'aa',\n",
       "                handler : function() {\n",
       "                    var cell = IPython.notebook.get_selected_cell();\n",
       "                    cell.code_mirror.replaceSelection('\\\\beta');\n",
       "                }\n",
       "            },\n",
       "        'Alt-g' : {\n",
       "                help    : 'Insert gamma',\n",
       "                help_index : 'aa',\n",
       "                handler : function() {\n",
       "                    var cell = IPython.notebook.get_selected_cell();\n",
       "                    cell.code_mirror.replaceSelection('\\\\gamma');\n",
       "                }\n",
       "            },\n",
       "        'Alt-shift-g' : {\n",
       "                help    : 'Insert Gamma',\n",
       "                help_index : 'aa',\n",
       "                handler : function() {\n",
       "                    var cell = IPython.notebook.get_selected_cell();\n",
       "                    cell.code_mirror.replaceSelection('\\\\Gamma');\n",
       "                }\n",
       "            },\n",
       "        'Alt-Ctrl-d' : { //Change\n",
       "                help    : 'Insert delta',\n",
       "                help_index : 'aa',\n",
       "                handler : function() {\n",
       "                    var cell = IPython.notebook.get_selected_cell();\n",
       "                    cell.code_mirror.replaceSelection('\\\\delta');\n",
       "                }\n",
       "            },\n",
       "        'Alt-Ctrl-e' : {\n",
       "                help    : 'Insert epsilon',\n",
       "                help_index : 'aa',\n",
       "                handler : function() {\n",
       "                    var cell = IPython.notebook.get_selected_cell();\n",
       "                    cell.code_mirror.replaceSelection('\\\\epsilon');\n",
       "                }\n",
       "            },\n",
       "        'Alt-z' : {\n",
       "                help    : 'Insert zeta',\n",
       "                help_index : 'aa',\n",
       "                handler : function() {\n",
       "                    var cell = IPython.notebook.get_selected_cell();\n",
       "                    cell.code_mirror.replaceSelection('\\\\zeta');\n",
       "                }\n",
       "            },\n",
       "        'Alt-t' : {\n",
       "                help    : 'Insert theta',\n",
       "                help_index : 'aa',\n",
       "                handler : function() {\n",
       "                    var cell = IPython.notebook.get_selected_cell();\n",
       "                    cell.code_mirror.replaceSelection('\\\\theta');\n",
       "                }\n",
       "            },\n",
       "        'Alt-k' : {\n",
       "                help    : 'Insert kappa',\n",
       "                help_index : 'aa',\n",
       "                handler : function() {\n",
       "                    var cell = IPython.notebook.get_selected_cell();\n",
       "                    cell.code_mirror.replaceSelection('\\\\kappa');\n",
       "                }\n",
       "            },\n",
       "        'Alt-l' : {\n",
       "                help    : 'Insert lambda',\n",
       "                help_index : 'aa',\n",
       "                handler : function() {\n",
       "                    var cell = IPython.notebook.get_selected_cell();\n",
       "                    cell.code_mirror.replaceSelection('\\\\lambda');\n",
       "                }\n",
       "            },\n",
       "        'Alt-p' : {\n",
       "                help    : 'Insert phi',\n",
       "                help_index : 'aa',\n",
       "                handler : function() {\n",
       "                    var cell = IPython.notebook.get_selected_cell();\n",
       "                    cell.code_mirror.replaceSelection('\\\\phi');\n",
       "                }\n",
       "            },\n",
       "        'Alt-r' : {\n",
       "                help    : 'Insert rho',\n",
       "                help_index : 'aa',\n",
       "                handler : function() {\n",
       "                    var cell = IPython.notebook.get_selected_cell();\n",
       "                    cell.code_mirror.replaceSelection('\\\\rho');\n",
       "                }\n",
       "            },\n",
       "        'Alt-s' : {\n",
       "                help    : 'Insert sigma',\n",
       "                help_index : 'aa',\n",
       "                handler : function() {\n",
       "                    var cell = IPython.notebook.get_selected_cell();\n",
       "                    cell.code_mirror.replaceSelection('\\\\sigma');\n",
       "                }\n",
       "            },\n",
       "        'Alt-w' : {\n",
       "                help    : 'Insert omega',\n",
       "                help_index : 'aa',\n",
       "                handler : function() {\n",
       "                    var cell = IPython.notebook.get_selected_cell();\n",
       "                    cell.code_mirror.replaceSelection('\\\\omega');\n",
       "                }\n",
       "            },\n",
       "        'Ctrl-Alt-1' : {\n",
       "                help    : 'Insert dfrac',\n",
       "                help_index : 'aa',\n",
       "                handler : function() {\n",
       "                    var cell = IPython.notebook.get_selected_cell();\n",
       "                    cell.code_mirror.replaceSelection('\\\\dfrac{}{}');\n",
       "                    var cpos = cell.code_mirror.getCursor();\n",
       "                    cell.code_mirror.setCursor({line: cpos.line, ch: cpos.ch-3});\n",
       "                }\n",
       "            },\n",
       "        'Ctrl-Alt-7' : {\n",
       "                help    : 'Insert integral',\n",
       "                help_index : 'aa',\n",
       "                handler : function() {\n",
       "                    var cell = IPython.notebook.get_selected_cell();\n",
       "                    cell.code_mirror.replaceSelection('\\\\int_{}^{}');\n",
       "                    var cpos = cell.code_mirror.getCursor();\n",
       "                    cell.code_mirror.setCursor({line: cpos.line, ch: cpos.ch-4});\n",
       "                }\n",
       "            },\n",
       "        'Ctrl-Alt-3' : {\n",
       "                help    : 'Insert cos',\n",
       "                help_index : 'aa',\n",
       "                handler : function() {\n",
       "                    var cell = IPython.notebook.get_selected_cell();\n",
       "                    cell.code_mirror.replaceSelection('\\\\text{cos}');\n",
       "                }\n",
       "            },\n",
       "        'Ctrl-Alt-4' : {\n",
       "                help    : 'Insert sin',\n",
       "                help_index : 'aa',\n",
       "                handler : function() {\n",
       "                    var cell = IPython.notebook.get_selected_cell();\n",
       "                    cell.code_mirror.replaceSelection('\\\\text{sin}');\n",
       "                }\n",
       "            },\n",
       "        'Ctrl-Alt-5' : {\n",
       "                help    : 'Insert Brackets',\n",
       "                help_index : 'aa',\n",
       "                handler : function() {\n",
       "                    var cell = IPython.notebook.get_selected_cell();\n",
       "                    cell.code_mirror.replaceSelection('\\\\left[  \\\\right]');\n",
       "                    var cpos = cell.code_mirror.getCursor();\n",
       "                    cell.code_mirror.setCursor({line: cpos.line, ch: cpos.ch-8});\n",
       "                }\n",
       "            },\n",
       "        'Ctrl-Alt-6' : {\n",
       "                help    : 'Insert parenthesis',\n",
       "                help_index : 'aa',\n",
       "                handler : function() {\n",
       "                    var cell = IPython.notebook.get_selected_cell();\n",
       "                    cell.code_mirror.replaceSelection('\\\\left(  \\\\right)');\n",
       "                    var cpos = cell.code_mirror.getCursor();\n",
       "                    cell.code_mirror.setCursor({line: cpos.line, ch: cpos.ch-8});\n",
       "                }\n",
       "            },\n",
       "        'Ctrl-Alt-7' : {\n",
       "                help    : 'Insert parenthesis',\n",
       "                help_index : 'aa',\n",
       "                handler : function() {\n",
       "                    var cell = IPython.notebook.get_selected_cell();\n",
       "                    cell.code_mirror.replaceSelection('\\\\left[\\\\begin{matrix}  \\\\end{matrix}\\\\right]');\n",
       "                    var cpos = cell.code_mirror.getCursor();\n",
       "                    cell.code_mirror.setCursor({line: cpos.line, ch: cpos.ch-20});\n",
       "                }\n",
       "            },\n",
       "        'Ctrl-Alt-2' : {\n",
       "                help    : 'Insert equation',\n",
       "                help_index : 'aa',\n",
       "                handler : function() {\n",
       "                    var cell = IPython.notebook.get_selected_cell();\n",
       "                    cell.code_mirror.replaceSelection('$$  $$');\n",
       "                    var cpos = cell.code_mirror.getCursor();\n",
       "                    cell.code_mirror.setCursor({line: cpos.line, ch: cpos.ch-3});\n",
       "                }\n",
       "            },\n",
       "        'Alt-0' : {\n",
       "                help    : 'Insert partial',\n",
       "                help_index : 'aa',\n",
       "                handler : function() {\n",
       "                    var cell = IPython.notebook.get_selected_cell();\n",
       "                    cell.code_mirror.replaceSelection('\\\\partial ');\n",
       "                }\n",
       "            },\n",
       "        'Ctrl-Alt-n' : {\n",
       "                help    : 'Insert nabla',\n",
       "                help_index : 'aa',\n",
       "                handler : function() {\n",
       "                    var cell = IPython.notebook.get_selected_cell();\n",
       "                    cell.code_mirror.replaceSelection('\\\\nabla');\n",
       "                }\n",
       "            },\n",
       "        'Alt-Shift-t' : {\n",
       "                help    : 'Insert text',\n",
       "                help_index : 'aa',\n",
       "                handler : function() {\n",
       "                    var cell = IPython.notebook.get_selected_cell();\n",
       "                    cell.code_mirror.replaceSelection('\\\\text{}');\n",
       "                    var cpos = cell.code_mirror.getCursor();\n",
       "                    cell.code_mirror.setCursor({line: cpos.line, ch: cpos.ch-1});\n",
       "                }\n",
       "            },\n",
       "/*        'Shift-6' : {\n",
       "                help    : 'Insert superscript',\n",
       "                help_index : 'aa',\n",
       "                handler : function() {\n",
       "                    var cell = IPython.notebook.get_selected_cell();\n",
       "                    cell.code_mirror.replaceSelection('^{}');\n",
       "                    var cpos = cell.code_mirror.getCursor();\n",
       "                    cell.code_mirror.setCursor({line: cpos.line, ch: cpos.ch-1});\n",
       "                }\n",
       "            },\n",
       "        'Shift-_' : {\n",
       "                help    : 'Insert subscript',\n",
       "                help_index : 'aa',\n",
       "                handler : function() {\n",
       "                    var cell = IPython.notebook.get_selected_cell();\n",
       "                    cell.code_mirror.replaceSelection('_{}');\n",
       "                    var cpos = cell.code_mirror.getCursor();\n",
       "                    cell.code_mirror.setCursor({line: cpos.line, ch: cpos.ch-1});\n",
       "                }\n",
       "            },\n",
       "*/\n",
       "        };\n",
       "\n",
       "   // var load_ipython_extension = function() {\n",
       "        IPython.keyboard_manager.edit_shortcuts.add_shortcuts(add_edit_shortcuts);\n",
       "        IPython.keyboard_manager.command_shortcuts.add_shortcuts(add_command_shortcuts);\n",
       "    //};"
      ],
      "text/plain": [
       "<IPython.core.display.Javascript object>"
      ]
     },
     "metadata": {},
     "output_type": "display_data"
    }
   ],
   "source": [
    "%%javascript\n",
    "\n",
    "    var add_command_shortcuts = {\n",
    "            'Alt-w' : {\n",
    "                help    : 'Add Text Test',\n",
    "                help_index : 'aa',\n",
    "                handler : function() {\n",
    "                        var cell = IPython.notebook.get_selected_cell();\n",
    "        \t\tcell.code_mirror.replaceSelection('Testing');\n",
    "                }\n",
    "            }\n",
    "        };\n",
    "\n",
    "    var add_edit_shortcuts = {\n",
    "            'Alt-a' : {\n",
    "                help    : 'Insert alpha',\n",
    "                help_index : 'aa',\n",
    "                handler : function() {\n",
    "                    var cell = IPython.notebook.get_selected_cell();\n",
    "                    cell.code_mirror.replaceSelection('\\\\alpha');\n",
    "                }\n",
    "            },\n",
    "        'Alt-b' : {\n",
    "                help    : 'Insert beta',\n",
    "                help_index : 'aa',\n",
    "                handler : function() {\n",
    "                    var cell = IPython.notebook.get_selected_cell();\n",
    "                    cell.code_mirror.replaceSelection('\\\\beta');\n",
    "                }\n",
    "            },\n",
    "        'Alt-g' : {\n",
    "                help    : 'Insert gamma',\n",
    "                help_index : 'aa',\n",
    "                handler : function() {\n",
    "                    var cell = IPython.notebook.get_selected_cell();\n",
    "                    cell.code_mirror.replaceSelection('\\\\gamma');\n",
    "                }\n",
    "            },\n",
    "        'Alt-shift-g' : {\n",
    "                help    : 'Insert Gamma',\n",
    "                help_index : 'aa',\n",
    "                handler : function() {\n",
    "                    var cell = IPython.notebook.get_selected_cell();\n",
    "                    cell.code_mirror.replaceSelection('\\\\Gamma');\n",
    "                }\n",
    "            },\n",
    "        'Alt-Ctrl-d' : { //Change\n",
    "                help    : 'Insert delta',\n",
    "                help_index : 'aa',\n",
    "                handler : function() {\n",
    "                    var cell = IPython.notebook.get_selected_cell();\n",
    "                    cell.code_mirror.replaceSelection('\\\\delta');\n",
    "                }\n",
    "            },\n",
    "        'Alt-Ctrl-e' : {\n",
    "                help    : 'Insert epsilon',\n",
    "                help_index : 'aa',\n",
    "                handler : function() {\n",
    "                    var cell = IPython.notebook.get_selected_cell();\n",
    "                    cell.code_mirror.replaceSelection('\\\\epsilon');\n",
    "                }\n",
    "            },\n",
    "        'Alt-z' : {\n",
    "                help    : 'Insert zeta',\n",
    "                help_index : 'aa',\n",
    "                handler : function() {\n",
    "                    var cell = IPython.notebook.get_selected_cell();\n",
    "                    cell.code_mirror.replaceSelection('\\\\zeta');\n",
    "                }\n",
    "            },\n",
    "        'Alt-t' : {\n",
    "                help    : 'Insert theta',\n",
    "                help_index : 'aa',\n",
    "                handler : function() {\n",
    "                    var cell = IPython.notebook.get_selected_cell();\n",
    "                    cell.code_mirror.replaceSelection('\\\\theta');\n",
    "                }\n",
    "            },\n",
    "        'Alt-k' : {\n",
    "                help    : 'Insert kappa',\n",
    "                help_index : 'aa',\n",
    "                handler : function() {\n",
    "                    var cell = IPython.notebook.get_selected_cell();\n",
    "                    cell.code_mirror.replaceSelection('\\\\kappa');\n",
    "                }\n",
    "            },\n",
    "        'Alt-l' : {\n",
    "                help    : 'Insert lambda',\n",
    "                help_index : 'aa',\n",
    "                handler : function() {\n",
    "                    var cell = IPython.notebook.get_selected_cell();\n",
    "                    cell.code_mirror.replaceSelection('\\\\lambda');\n",
    "                }\n",
    "            },\n",
    "        'Alt-p' : {\n",
    "                help    : 'Insert phi',\n",
    "                help_index : 'aa',\n",
    "                handler : function() {\n",
    "                    var cell = IPython.notebook.get_selected_cell();\n",
    "                    cell.code_mirror.replaceSelection('\\\\phi');\n",
    "                }\n",
    "            },\n",
    "        'Alt-r' : {\n",
    "                help    : 'Insert rho',\n",
    "                help_index : 'aa',\n",
    "                handler : function() {\n",
    "                    var cell = IPython.notebook.get_selected_cell();\n",
    "                    cell.code_mirror.replaceSelection('\\\\rho');\n",
    "                }\n",
    "            },\n",
    "        'Alt-s' : {\n",
    "                help    : 'Insert sigma',\n",
    "                help_index : 'aa',\n",
    "                handler : function() {\n",
    "                    var cell = IPython.notebook.get_selected_cell();\n",
    "                    cell.code_mirror.replaceSelection('\\\\sigma');\n",
    "                }\n",
    "            },\n",
    "        'Alt-w' : {\n",
    "                help    : 'Insert omega',\n",
    "                help_index : 'aa',\n",
    "                handler : function() {\n",
    "                    var cell = IPython.notebook.get_selected_cell();\n",
    "                    cell.code_mirror.replaceSelection('\\\\omega');\n",
    "                }\n",
    "            },\n",
    "        'Ctrl-Alt-1' : {\n",
    "                help    : 'Insert dfrac',\n",
    "                help_index : 'aa',\n",
    "                handler : function() {\n",
    "                    var cell = IPython.notebook.get_selected_cell();\n",
    "                    cell.code_mirror.replaceSelection('\\\\dfrac{}{}');\n",
    "                    var cpos = cell.code_mirror.getCursor();\n",
    "                    cell.code_mirror.setCursor({line: cpos.line, ch: cpos.ch-3});\n",
    "                }\n",
    "            },\n",
    "        'Ctrl-Alt-7' : {\n",
    "                help    : 'Insert integral',\n",
    "                help_index : 'aa',\n",
    "                handler : function() {\n",
    "                    var cell = IPython.notebook.get_selected_cell();\n",
    "                    cell.code_mirror.replaceSelection('\\\\int_{}^{}');\n",
    "                    var cpos = cell.code_mirror.getCursor();\n",
    "                    cell.code_mirror.setCursor({line: cpos.line, ch: cpos.ch-4});\n",
    "                }\n",
    "            },\n",
    "        'Ctrl-Alt-3' : {\n",
    "                help    : 'Insert cos',\n",
    "                help_index : 'aa',\n",
    "                handler : function() {\n",
    "                    var cell = IPython.notebook.get_selected_cell();\n",
    "                    cell.code_mirror.replaceSelection('\\\\text{cos}');\n",
    "                }\n",
    "            },\n",
    "        'Ctrl-Alt-4' : {\n",
    "                help    : 'Insert sin',\n",
    "                help_index : 'aa',\n",
    "                handler : function() {\n",
    "                    var cell = IPython.notebook.get_selected_cell();\n",
    "                    cell.code_mirror.replaceSelection('\\\\text{sin}');\n",
    "                }\n",
    "            },\n",
    "        'Ctrl-Alt-5' : {\n",
    "                help    : 'Insert Brackets',\n",
    "                help_index : 'aa',\n",
    "                handler : function() {\n",
    "                    var cell = IPython.notebook.get_selected_cell();\n",
    "                    cell.code_mirror.replaceSelection('\\\\left[  \\\\right]');\n",
    "                    var cpos = cell.code_mirror.getCursor();\n",
    "                    cell.code_mirror.setCursor({line: cpos.line, ch: cpos.ch-8});\n",
    "                }\n",
    "            },\n",
    "        'Ctrl-Alt-6' : {\n",
    "                help    : 'Insert parenthesis',\n",
    "                help_index : 'aa',\n",
    "                handler : function() {\n",
    "                    var cell = IPython.notebook.get_selected_cell();\n",
    "                    cell.code_mirror.replaceSelection('\\\\left(  \\\\right)');\n",
    "                    var cpos = cell.code_mirror.getCursor();\n",
    "                    cell.code_mirror.setCursor({line: cpos.line, ch: cpos.ch-8});\n",
    "                }\n",
    "            },\n",
    "        'Ctrl-Alt-7' : {\n",
    "                help    : 'Insert parenthesis',\n",
    "                help_index : 'aa',\n",
    "                handler : function() {\n",
    "                    var cell = IPython.notebook.get_selected_cell();\n",
    "                    cell.code_mirror.replaceSelection('\\\\left[\\\\begin{matrix}  \\\\end{matrix}\\\\right]');\n",
    "                    var cpos = cell.code_mirror.getCursor();\n",
    "                    cell.code_mirror.setCursor({line: cpos.line, ch: cpos.ch-20});\n",
    "                }\n",
    "            },\n",
    "        'Ctrl-Alt-2' : {\n",
    "                help    : 'Insert equation',\n",
    "                help_index : 'aa',\n",
    "                handler : function() {\n",
    "                    var cell = IPython.notebook.get_selected_cell();\n",
    "                    cell.code_mirror.replaceSelection('$$  $$');\n",
    "                    var cpos = cell.code_mirror.getCursor();\n",
    "                    cell.code_mirror.setCursor({line: cpos.line, ch: cpos.ch-3});\n",
    "                }\n",
    "            },\n",
    "        'Alt-0' : {\n",
    "                help    : 'Insert partial',\n",
    "                help_index : 'aa',\n",
    "                handler : function() {\n",
    "                    var cell = IPython.notebook.get_selected_cell();\n",
    "                    cell.code_mirror.replaceSelection('\\\\partial ');\n",
    "                }\n",
    "            },\n",
    "        'Ctrl-Alt-n' : {\n",
    "                help    : 'Insert nabla',\n",
    "                help_index : 'aa',\n",
    "                handler : function() {\n",
    "                    var cell = IPython.notebook.get_selected_cell();\n",
    "                    cell.code_mirror.replaceSelection('\\\\nabla');\n",
    "                }\n",
    "            },\n",
    "        'Alt-Shift-t' : {\n",
    "                help    : 'Insert text',\n",
    "                help_index : 'aa',\n",
    "                handler : function() {\n",
    "                    var cell = IPython.notebook.get_selected_cell();\n",
    "                    cell.code_mirror.replaceSelection('\\\\text{}');\n",
    "                    var cpos = cell.code_mirror.getCursor();\n",
    "                    cell.code_mirror.setCursor({line: cpos.line, ch: cpos.ch-1});\n",
    "                }\n",
    "            },\n",
    "/*        'Shift-6' : {\n",
    "                help    : 'Insert superscript',\n",
    "                help_index : 'aa',\n",
    "                handler : function() {\n",
    "                    var cell = IPython.notebook.get_selected_cell();\n",
    "                    cell.code_mirror.replaceSelection('^{}');\n",
    "                    var cpos = cell.code_mirror.getCursor();\n",
    "                    cell.code_mirror.setCursor({line: cpos.line, ch: cpos.ch-1});\n",
    "                }\n",
    "            },\n",
    "        'Shift-_' : {\n",
    "                help    : 'Insert subscript',\n",
    "                help_index : 'aa',\n",
    "                handler : function() {\n",
    "                    var cell = IPython.notebook.get_selected_cell();\n",
    "                    cell.code_mirror.replaceSelection('_{}');\n",
    "                    var cpos = cell.code_mirror.getCursor();\n",
    "                    cell.code_mirror.setCursor({line: cpos.line, ch: cpos.ch-1});\n",
    "                }\n",
    "            },\n",
    "*/\n",
    "        };\n",
    "\n",
    "   // var load_ipython_extension = function() {\n",
    "        IPython.keyboard_manager.edit_shortcuts.add_shortcuts(add_edit_shortcuts);\n",
    "        IPython.keyboard_manager.command_shortcuts.add_shortcuts(add_command_shortcuts);\n",
    "    //};"
   ]
  },
  {
   "cell_type": "code",
   "execution_count": 8,
   "metadata": {
    "collapsed": true,
    "hidden": true
   },
   "outputs": [],
   "source": [
    "%matplotlib inline\n",
    "\n",
    "import matplotlib\n",
    "import numpy as np\n",
    "import matplotlib.pyplot as plt"
   ]
  },
  {
   "cell_type": "markdown",
   "metadata": {
    "heading_collapsed": true
   },
   "source": [
    "# Lecture 2"
   ]
  },
  {
   "cell_type": "markdown",
   "metadata": {
    "hidden": true
   },
   "source": [
    "Last time, we discussed tracin rays through lenses. Came up with ABCD matrix. Simple way of keeping track of rays.\n",
    "\n",
    "Representing the position and direction of the ray. \n",
    "$$\n",
    "\\left[\\begin{matrix} r_i \\\\ r_i\\prime \\end{matrix}\\right]\n",
    "$$\n",
    "\n",
    "$$\n",
    "\\left[\\begin{matrix} r_0 \\\\ r_o\\prime \\end{matrix}\\right] = \\left[\\begin{matrix} A & B\\\\C & D \\end{matrix}\\right]\\left[\\begin{matrix} r_i \\\\r_i\\prime \\end{matrix}\\right]\n",
    "$$\n",
    "There is a table full of ABCD matricies in the book. This is pretty handy. We do this in this class for a particular reason; we want to analyze a periodic lense structure. Again, part of review. The lense structure we analyze is a basic unit cell. We start with the input vector. Last time, we calculated the ABCD matrix for that:\n",
    "\n",
    "$$ \\left[\\begin{matrix} A & B \\\\ C & D \\end{matrix}\\right] $$\n",
    "\n",
    "* $A = 1-\\dfrac{d}{f_2}$\n",
    "* $ B = d(2 - \\dfrac{d}{f_2} $\n",
    "* $ C = -\\left[ \\dfrac{1}{f_1} + \\dfrac{1}{f_2}\\left( 1-\\dfrac{d}{f_1} \\right) \\right] $\n",
    "* $ D = -\\left[ \\dfrac{d}{f_1} - \\left( 1-\\dfrac{d}{f_1} \\right)\\left( 1- \\dfrac{d}{f_2} \\right) \\right] $\n",
    "\n",
    "We simply apply the ABCD matrix across a simple unit cell. We apply an assumption by induction. This iwill model any periodic ABCD matrix. \n",
    "\n",
    "1. $ r_{s+1} = Ar_2 + Br_s\\prime$\n",
    "2. $ r_{s+1}\\prime = Cr_s + Dr_s\\prime $\n",
    "\n",
    "Instead of describing things in terms of r_i and $r_o$, we begin to use the $r_s$ and $r_{s+1}$ plane.\n",
    "\n",
    "We rewrite eq 1 as:\n",
    "\n",
    "3_. $ r_s\\prime = \\dfrac{1}{B}\\left[ r_{s+1} - Ar_s \\right] $\n",
    "\n",
    "We rely on induction to say that, if this is true for s and s+1, it should be true for subsequent planes as well.\n",
    "\n",
    "4_. $ r_{s+1}\\prime = \\dfrac{1}{B}\\left[ r_{s+2} - Ar_{s+1} \\right] $\n",
    "\n",
    "By direct substitution:\n",
    "\n",
    "$$ Cr_s + Dr_s\\prime = \\dfrac{1}{B}\\left[ r_{s+2} - Ar_{s+1} \\right] $$\n",
    "\n",
    "sub in eq 3. \n",
    "\n",
    "$$ Cr_s + \\dfrac{D}{B}\\left[ r_{s+1} - Ar_s \\right] = \\dfrac{1}{B} \\left[ r_{s+2} - Ar_{s+1} \\right] $$\n",
    "$$ \\implies CBr_s +  Dr_{s+1} - ADr_s = \\left[ r_{s+2} - Ar_{s+1} \\right] $$\n",
    "$$ r_{s+2} - (A+D) r_{s+1} + (AD - BC)r_s = 0 $$"
   ]
  },
  {
   "cell_type": "markdown",
   "metadata": {
    "hidden": true
   },
   "source": [
    "<img  src=\"IMG_0513.JPG\"/>"
   ]
  },
  {
   "cell_type": "markdown",
   "metadata": {
    "hidden": true
   },
   "source": [
    "Taking the professors word for it, $AD - BC = 1$. This turns out to relate to the optical invariance. Prove thermodynamically too! Because this is true:\n",
    "\n",
    "$$ r_{s+2} - 2br_{s+1} + r_s = 0 $$\n",
    "\n",
    "where: $b = 1/2\\left( A+D \\right)$. We do this because this is a second order difference equation. This is the way of simplifying this into a standard form for a difference equation. To solve the difference equation, we could take the z transform, but for sake of class, we will guess. XD This is typically how we approach the equation. \n",
    "\n",
    "Guess at solution: $r_s = r_o e^{iqs}$\n",
    "\n",
    "Substitute into diff equation: \n",
    "\n",
    "$$ r_{s+2} = r_o e^{iq(s+2)} $$\n",
    "$$ r_{s+1} = r_o e^{iq(s+1)} $$\n",
    "$$ r_{s} = r_o e^{iq(s)} $$\n",
    "\n",
    "$$ \\implies e^{i2q} - 2be^{iq} + 1 = 0 $$\n",
    "\n",
    "This solution has a certain frequency. This dictates the frequency of rays returning to their original position. Is it trapped?"
   ]
  },
  {
   "cell_type": "markdown",
   "metadata": {
    "hidden": true
   },
   "source": [
    "Let's solve for $e^{iq}$. Let $y = e^{iq}$. Rewriting this, we have $y^2 - 2by + 1 = 0$. Well now this is a quadratic equation.\n",
    "\n",
    "$$  e^{iq} = y = \\dfrac{2b \\pm \\sqrt{4b^2 - 4}}{2} $$\n",
    "$$ = b\\pm i\\sqrt{1-b^2} $$\n",
    "We invert the order and factor out an i because we trust the professor.\n",
    "\n",
    "Define $b = \\cos\\theta$. \n",
    "\n",
    "$$ e^{iq} = b \\pm \\sqrt{1-b^2} = \\cos \\theta \\pm i\\sqrt{1 - \\cos^2\\theta} $$\n",
    "$$ = \\cos \\theta \\pm i\\sin\\theta = e^{\\pm i\\theta} $$\n",
    "\n",
    "Now we can identify $q$ as $\\theta$. Therefore, $q=\\pm \\theta$, and $\\theta = \\arccos(b)$\n",
    "\n"
   ]
  },
  {
   "cell_type": "markdown",
   "metadata": {
    "hidden": true
   },
   "source": [
    "<img  src=\"IMG_0514.JPG\"/>"
   ]
  },
  {
   "cell_type": "markdown",
   "metadata": {
    "hidden": true
   },
   "source": [
    "We can write this as a maximum value: as an alternative solution (not within compex form):\n",
    "\n",
    "$$ r_s = r_{max} \\sin(\\theta s + \\alpha) $$\n",
    "\n",
    "We can say that if the initial condition $r_o$\n",
    "\n",
    "$$ r_o = r_{max} \\sin(\\alpha) \\implies r_{max} = \\dfrac{r_o}{\\sin(\\alpha)} $$\n",
    "\n",
    "We won't derive the expression for $\\alpha$.\n",
    "\n",
    "We redraw the picture of the repeating lenses. This follows a sinusoidal pattern. The difference equation is only evaluated at the planes; therefore, the intersection of the rays and the planes follows a sinusoidal pattern. This is not true between the lenses. "
   ]
  },
  {
   "cell_type": "markdown",
   "metadata": {
    "hidden": true
   },
   "source": [
    "Look again at $r_s = r_{max} \\sin(\\theta s + \\alpha)$. The first stability condition can be seen in the fact that $\\theta$ must be real. If imaginary, it is hyperbolic.\n",
    "\n",
    "We just concluded that rays are trapped (i.e. sinusoidal trajectory) if $\\theta$ is real, $\\implies \\arccos(b)$ is real $\\implies |b| < 1$.\n",
    "\n",
    "We may now write an expression:\n",
    "\n",
    "$$ |b| \\implies -1 < |(1 - \\dfrac{d}{f_2} - \\dfrac{d}{f_1} + \\dfrac{d^2}{2f_1f_2})| < 1 $$\n",
    "\n",
    "$$ 0 < 2  - \\dfrac{d}{f_2} - \\dfrac{d}{f_1} + \\dfrac{d_2}{2f_1f_2} < 2 $$\n",
    "\n",
    "**Stability Condition**\n",
    "\n",
    "$$ 0 < (1-\\dfrac{d}{2f_1})(1-\\dfrac{d}{2f_2}) \\leq 1 $$\n",
    "\n",
    "The trapping of rays depends on the focal length and their spacings of the mirrors. If the stability condition is met, it is called a stable resonator. They do not have to be stable! They could be an unstable resonator. Much better with high gain systems. "
   ]
  },
  {
   "cell_type": "markdown",
   "metadata": {
    "hidden": true
   },
   "source": [
    "Examples 1:\n",
    "\n",
    "A lens train with each having the same focal length. \n",
    "\n",
    "$$ \n",
    "\\left[\\begin{matrix} A & B\\\\C&D \\end{matrix}\\right] = \\left[\\begin{matrix} 1 & d \\\\ -\\dfrac{1}{f} & \\left( 1-\\dfrac{d}{f} \\right) \\end{matrix}\\right]\n",
    "$$\n",
    "\n",
    "Therefore:\n",
    "\n",
    "$$ |b| = |\\dfrac{1}{2}(A+D) = |1-\\dfrac{d}{2f}| < 1 $$\n",
    "\n",
    "* $ (1-\\dfrac{d}{2f}) < 1 $ , $\\dfrac{d}{2f} > 0$, $\\implies d>0$\n",
    "* $ (1-\\dfrac{d}{2f} > -1 $, $ \\dfrac{d}{2f} < 2 $, $\\implies d< 4f$\n",
    "\n",
    "Now we will do some ray tracing. The magnification should be 1 for a stable resonator. "
   ]
  },
  {
   "cell_type": "markdown",
   "metadata": {
    "hidden": true
   },
   "source": [
    "<img  src=\"IMG_0515.JPG\"/>"
   ]
  },
  {
   "cell_type": "code",
   "execution_count": null,
   "metadata": {
    "collapsed": true,
    "hidden": true
   },
   "outputs": [],
   "source": []
  },
  {
   "cell_type": "markdown",
   "metadata": {
    "hidden": true
   },
   "source": [
    "<img  src=\"IMG_0516.JPG\"/>"
   ]
  },
  {
   "cell_type": "markdown",
   "metadata": {
    "hidden": true
   },
   "source": [
    "Stability:  $ 0 < d < 4f $\n",
    "\n",
    "$$ r_n = r_{max} \\sin(\\theta n + \\alpha) $$\n",
    "\n",
    "$$ \\theta = \\arccos (b) = \\arccos(1-\\dfrac{d}{2f}) $$\n",
    "\n",
    "$$ r_{max} = \\dfrac{r_o}{\\sin\\alpha} $$\n",
    "\n",
    "$$ \\alpha = \\arctan\\left( \\dfrac{\\sqrt{\\dfrac{4f}{d} -1}}{1 + 2f\\dfrac{r_o\\prime}{r_o}} \\right) $$\n",
    "\n",
    "A confocal system. Meaning the focal points are coincident with each other??? We know from high school, if rays come in parallel, the converge at the focus.  We see that parallel rays which enter also exit. Let's check.\n",
    "\n",
    "$$ d = 2f $$\n",
    "$$ \\arccos(1-\\dfrac{d}{2f}) = \\arccos(0) = \\dfrac{\\pi}{2} $$\n",
    "$$ \\alpha = \\arctan\\left( 1 \\right) = \\dfrac{\\pi}{4} $$\n",
    "$$ r_{max} = \\dfrac{r_o}{\\sin(\\alpha)} = \\sqrt{2}  $$\n",
    "\n",
    "Therefore:\n",
    "$$ r_n = r_{max} \\sin\\left[ \\dfrac{\\pi}{2}\\left( n+1/2 \\right) \\right] $$\n",
    "\n",
    "This means that the ray follows a path defined by a sine wave which starts between two lenses. This makes sense, since parallel rays converge at the focal point, exactly between two lenses.\n",
    "\n",
    "period = $\\dfrac{2\\pi}{\\pi/2} = 4$.\n",
    "\n"
   ]
  },
  {
   "cell_type": "markdown",
   "metadata": {
    "hidden": true
   },
   "source": [
    "Example 2:\n",
    "\n",
    "d = 4f\n",
    "\n",
    "Unlike the previous example, the rays converge at the center between every lens. \n",
    "\n",
    "$$ r_n = r_{max} \\sin(n\\theta + \\alpha) $$\n",
    "\n",
    "$$ \\theta = \\arccos\\left( 1 - \\dfrac{d}{2f} \\right) = \\arccos(-1) = \\pi $$\n",
    "$$ \\alpha = \\arctan (-\\infty) = \\dfrac{\\pi}{2} $$\n",
    "$$ r_{max} = \\dfrac{r_o}{\\sin \\alpha} = r_o $$\n",
    "$$ r_n = r_o\\sin(\\pi n + \\dfrac{\\pi}{2} = r_o \\sin(2\\pi(1/2)(n+1/2))$$\n",
    "\n",
    "period of 2. The maxes now occur right at the lens. "
   ]
  },
  {
   "cell_type": "markdown",
   "metadata": {
    "hidden": true
   },
   "source": [
    "<img  src=\"IMG_0517.JPG\"/>"
   ]
  },
  {
   "cell_type": "markdown",
   "metadata": {
    "hidden": true
   },
   "source": [
    "Why does it go unstable if larger than 4f? If larger, the errors get gradually larger as the train goes on. E.g. if the distance is $2f + \\epsilon$, after 10 lenses,  \n",
    "\n",
    "If we plot the imaging equation: $\\dfrac{1}{d_o} + \\dfrac{1}{d_i} = \\dfrac{1}{f}$:"
   ]
  },
  {
   "cell_type": "code",
   "execution_count": 9,
   "metadata": {
    "collapsed": false,
    "hidden": true
   },
   "outputs": [
    {
     "data": {
      "text/plain": [
       "<matplotlib.text.Text at 0x7f3645c55eb8>"
      ]
     },
     "execution_count": 9,
     "metadata": {},
     "output_type": "execute_result"
    },
    {
     "data": {
      "image/png": "[encoded data removed]",
      "text/plain": [
       "<matplotlib.figure.Figure at 0x7f3645c260b8>"
      ]
     },
     "metadata": {},
     "output_type": "display_data"
    }
   ],
   "source": [
    "d0 = np.linspace(0.75,1.25,1000);\n",
    "f = 1;\n",
    "di = 1/(1/f - 1/d0);\n",
    "\n",
    "plt.plot(d0,di)\n",
    "plt.xlabel('d0')\n",
    "plt.ylabel('di')\n",
    "plt.title('Difergence of di as d0 approaches f')\n"
   ]
  },
  {
   "cell_type": "markdown",
   "metadata": {
    "hidden": true
   },
   "source": [
    "<img  src=\"IMG_0518.JPG\"/>"
   ]
  },
  {
   "cell_type": "markdown",
   "metadata": {
    "collapsed": true,
    "heading_collapsed": true
   },
   "source": [
    "# Lecture 3"
   ]
  },
  {
   "cell_type": "markdown",
   "metadata": {
    "hidden": true
   },
   "source": [
    "Continue with ABCD matrices. Look at lens train. \n",
    "\n",
    "Arrived at a stability condition:\n",
    "\n",
    "$$ 0 < (1-\\dfrac{d}{2f_1})(1 - \\dfrac{d}{2f_2}) < 1 $$\n",
    "\n",
    "We spent a fair amount of time understanding what this tells us. Some physical intuition. \n",
    "\n",
    "Compare the lens equation:\n",
    "\n",
    "$$ \\dfrac{1}{d_o} + \\dfrac{1}{d_i} = \\dfrac{1}{f} $$\n",
    "\n",
    "The radius of curvature is: $R = 2f$. Therefore, the stability condition can be written in terms of the curvature.\n",
    "\n",
    "$$ 0 < \\left( 1 - \\dfrac{d}{R_1} \\right)\\left( 1 - \\dfrac{d}{R_2} \\right) < 1 $$\n",
    "\n",
    "Let's revisit a couple of cases that we've seen. A confocal configuration is when the same focal lengths are given for $f_1$ and $f_2$.\n",
    "\n",
    "The confocal condition. The separation is given by $d = 2f = R$. If we start with rays which are parallel, they go through the common focus on both paths. The second condition we looked at was $d = 4f = 2R$. Edge of stability for a symmetric resonator. In this case, we give the name concentric (because the curvature of the mirrors make upa perfect circle).\n",
    "\n",
    "Why didn't we solve the stability equation using eigen equations? \n",
    "\n",
    "Eigen rays. We define a matrix:\n",
    "\n",
    "$$ M = \\left[\\begin{matrix} A & B\\\\C & D \\end{matrix}\\right] $$\n",
    "\n",
    "Periodic lens train. We can write a particular ray vector $r_{n+1} = M r_{n}$. But because this repeats over and over again, we can treat this like an eigenvector problem. What vector $\\left[\\begin{matrix} r \\ r^\\prime \\end{matrix}\\right]$ when operated on by $M_1$ reproduces itself (up to a complex constant). "
   ]
  },
  {
   "cell_type": "markdown",
   "metadata": {
    "hidden": true
   },
   "source": [
    "<img  src=\"IMG_0521.JPG\"/>"
   ]
  },
  {
   "cell_type": "markdown",
   "metadata": {
    "hidden": true
   },
   "source": [
    "$$ Mr = \\lambda r $$\n",
    "\n",
    "Here, $\\lambda$ is an eigenvalue and $r$ is the eigenrays. Solving as an eigenvalue problem:\n",
    "\n",
    "$$ \\left[ M - \\lambda I \\right] r = 0 $$\n",
    "$$ \\left[\\begin{matrix} A - \\lambda & B \\\\ C & D-\\lambda \\end{matrix}\\right] $$\n",
    "\n",
    "Taking the determinate of this, and setting it to 0, must be found to achieve a nontrivial solution. \n",
    "\n",
    "$$ (A-\\lambda)(D-\\lambda) - BC = 0 $$\n",
    "$$ AD - (A+D)\\lambda + \\lambda^2 $$\n",
    "\n",
    "Recall that $AD - BD = 1$. Again, let $b = \\dfrac{1}{2}(A+D)$. This leaves us with eigenvalues $\\lambda_a, \\lambda_b = b\\pm \\sqrt{b^2 - 1}$. Note that $\\lambda_a \\lambda_b = 1$.\n",
    "\n",
    "Arbitrary ray:\n",
    "\n",
    "$$ r_o = C_a r_a + C_b r_b $$\n",
    "\n",
    "By going through $n$ stages (applying the $M$ operator $n$ times):\n",
    "\n",
    "$$ r_o = M^n r_o = M^n\\left[ C_ar_a + C_b r_b \\right] $$\n",
    "$$  = C_a \\lambda_a^n r_a + C_b \\lambda_b r_b $$\n",
    "\n",
    "\n",
    "\n",
    "Stable ray: $-1 \\leq b \\leq 1$.\n",
    "\n",
    "$$ b = \\left( \\dfrac{A+D}{2} \\right)^2 \\leq 1 $$\n",
    "$$ b = \\dfrac{A+D}{2} = \\cos \\theta $$\n",
    "$$ \\lambda_a,\\lambda_b = b \\pm i\\sqrt{1 - b^2} = \\cos \\theta \\pm i\\sin \\theta = e^{\\pm i\\theta} $$\n",
    "\n",
    "The trapped condition is this: as we go through more and more stages, we are raising $\\lambda$ to higher powers of $n$. From what we just saw, this is equivelant to going around the complex unit circle. \n",
    "\n",
    "For an unstable ray: $|b| > 1$\n",
    "$$ \\lambda_a, \\lambda_b = b\\pm \\sqrt{b^2 - 1} = M,\\dfrac{1}{M} $$\n",
    "\n",
    "Another very interesting situation: One ray grows in magnification (and leaves the system), but another will grow closer and closer tothe optical axis.\n",
    "\n",
    "$$ r_n = C_a \\lambda_a^n r_a + C_b \\lambda_b r_b = \\cosh \\theta n + s_o\\sinh\\theta n \\ $$\n",
    "\n"
   ]
  },
  {
   "cell_type": "markdown",
   "metadata": {
    "hidden": true
   },
   "source": [
    "<img  src=\"IMG_0522.JPG\"/>"
   ]
  },
  {
   "cell_type": "markdown",
   "metadata": {
    "hidden": true
   },
   "source": [
    "We now examine the case of a spherical wave in a lens train. \n",
    "\n",
    "$$ e^{ikr^2/2f} $$\n",
    "\n",
    "Where $f$ is the focal length, $k =  2\\pi/\\lambda$. The index of refraction of glass is a function of the metals placed in the glass. If we place more sodium in towards the edges, there will be a varying index across the diameter of the tube. This will cause the rays to bend and focus, creating a lens without any curvature. \n",
    "\n",
    "The ABCD matrix for a GRIN:\n",
    "\n",
    "$$ \\left[\\begin{matrix} \\cos\\left( \\sqrt{\\dfrac{k_2}{k}}l \\right) & \\sqrt{\\dfrac{k}{k_2}}\\sin\\left( \\sqrt{\\dfrac{k_2}{k}}l \\right) \\\\  -\\sqrt{\\dfrac{k}{k_2}}\\sin\\left( \\sqrt{\\dfrac{k_2}{k}}l \\right) &  \\cos\\left( \\sqrt{\\dfrac{k_2}{k}}l \\right) \\end{matrix}\\right] $$\n",
    "\n",
    "$$ n(x,y) = n_o\\left[ 1 - \\dfrac{k_2}{k}(x^2 + y^2) \\right] $$\n",
    "\n",
    "Is it always stable? Recall, we need to look at $b = \\dfrac{A+D}{2}$. In this case then, $|\\dfrac{A+D}{2}| = |\\cos\\left( \\sqrt{\\dfrac{k_2}{k}}l \\right) \\leq 1$. Because $\\cos$ is always $\\leq 1$, it is always stable."
   ]
  },
  {
   "cell_type": "markdown",
   "metadata": {
    "hidden": true
   },
   "source": [
    "<img  src=\"IMG_0523.JPG\"/>"
   ]
  },
  {
   "cell_type": "markdown",
   "metadata": {
    "hidden": true
   },
   "source": [
    "If we have a fiber, and a laser, for a single mode fiber, it sill simply transmit light through. A multimode fiber will bounce the light internally. The rays will always exit at different angles then. The optical path lengths will also be different. If we send in the same information into the fiber optic, at different modes, the information will come out at different times. However, if we make the fiber as a gradient index, at the core, we make it such that the index of refraction is parabolic, the rays which are on the inside of the fiber go through a higher index of refraction. If the parabolic delaying mechanism is used, the delay is cancelled out.\n",
    "\n",
    "One more thing about ABCD matrices. If we have a phase front, we can describe it as a family rays where the rays are perpendicular to the wavefront.\n",
    "\n",
    "Propagation of spherical waves by using the ABCD matrix. A quick note of convention: if the curvature looks like a \"C\", it is negative. A spherical wave with a radius of R. A point along the radius, $x$. As long as the ray is paraxial (close to the axis), then we can approximate the length along the optical axis $\\approx R$.\n",
    "\n",
    "The slope is the rise over the run, or $\\frac{x}{R}$. We can write the matrix in terms of this. ONLY TRUE FOR PARAXIAL WAVES. \n",
    "\n",
    "$$ \\left[\\begin{matrix} r \\\\ r^\\prime \\end{matrix}\\right] = \\left[\\begin{matrix} x \\\\ \\dfrac{x}{R} \\end{matrix}\\right]  $$\n",
    "\n",
    "Quick aside:\n",
    "$$ \\dfrac{r}{r^\\prime} = \\dfrac{x}{x/R} = R$$\n",
    "\n",
    "We will apply the ABCD matrix to an optical system. The system can consist of:\n",
    "\n",
    "$$ \\left[\\begin{matrix} r_2 \\ r_2^\\prime \\end{matrix}\\right] = \\left[\\begin{matrix} A & B \\\\ C & D \\end{matrix}\\right] \\left[\\begin{matrix} r_1 \\\\ r_1^\\prime \\end{matrix}\\right] $$\n",
    "\n",
    "$$  = \\left[\\begin{matrix} Ar_1 + Br_1^\\prime \\\\ Cr_1 + Dr_1^\\prime \\end{matrix}\\right] $$\n",
    "\n",
    "We just was how we can express the radius of curbature by $R_2 = \\dfrac{r}{r^\\prime} = \\dfrac{Ar_1 + B r_1^\\prime}{Cr_1 + D r_1^\\prime}$.\n",
    "\n",
    "$$ = \\dfrac{A\\dfrac{r_1}{r_1^\\prime} + B}{C \\dfrac{r_1}{r_1^\\prime} + D} $$\n",
    "$$ R_2 = \\dfrac{AR_1 + B}{CR_1 + D} $$\n",
    "\n",
    "We don't do this because we want to trace rays (pretty trivial). We want to do something more abstract. Instead of giving the radius a real value, we give it a complex value. What the crap??? This will allow the exponential."
   ]
  },
  {
   "cell_type": "markdown",
   "metadata": {
    "hidden": true
   },
   "source": [
    "<img  src=\"IMG_0524.JPG\"/>"
   ]
  },
  {
   "cell_type": "markdown",
   "metadata": {
    "hidden": true
   },
   "source": [
    "We will place a point source a distance of $2f$ infront of the lens. By the lens law, it will form an image. The rays just entering the lens (not any propagation component), we sill figure out what the radius of curvature is at the other side of the lens. It will be the same curvature, but negative. Recall ABCD for lens:\n",
    "\n",
    "$$ \\left[\\begin{matrix} 1 & 0 \\\\ -\\dfrac{1}{f} & 1 \\end{matrix}\\right] $$\n",
    "\n",
    "$$ R_2 = \\dfrac{A R_1 + B}{C R_1 + D} = \\dfrac{2f}{-2f/f + 1} = -2f $$\n",
    "\n",
    "Which is just what we expected. "
   ]
  },
  {
   "cell_type": "markdown",
   "metadata": {
    "hidden": true
   },
   "source": [
    "<img  src=\"IMG_0525.JPG\"/>"
   ]
  },
  {
   "cell_type": "markdown",
   "metadata": {},
   "source": [
    "# Lecture 4"
   ]
  }
 ],
 "metadata": {
  "anaconda-cloud": {},
  "kernelspec": {
   "display_name": "Python [default]",
   "language": "python",
   "name": "python3"
  },
  "language_info": {
   "codemirror_mode": {
    "name": "ipython",
    "version": 3
   },
   "file_extension": ".py",
   "mimetype": "text/x-python",
   "name": "python",
   "nbconvert_exporter": "python",
   "pygments_lexer": "ipython3",
   "version": "3.5.2"
  },
  "latex_envs": {
   "LaTeX_envs_menu_present": true,
   "bibliofile": "biblio.bib",
   "cite_by": "apalike",
   "current_citInitial": 1,
   "eqLabelWithNumbers": true,
   "eqNumInitial": 1,
   "labels_anchors": false,
   "latex_user_defs": false,
   "report_style_numbering": false,
   "user_envs_cfg": false
  },
  "toc": {
   "colors": {
    "hover_highlight": "#DAA520",
    "running_highlight": "#FF0000",
    "selected_highlight": "#FFD700"
   },
   "moveMenuLeft": true,
   "nav_menu": {
    "height": "48px",
    "width": "252px"
   },
   "navigate_menu": true,
   "number_sections": true,
   "sideBar": true,
   "threshold": 4,
   "toc_cell": false,
   "toc_section_display": "block",
   "toc_window_display": false
  }
 },
 "nbformat": 4,
 "nbformat_minor": 1
}
