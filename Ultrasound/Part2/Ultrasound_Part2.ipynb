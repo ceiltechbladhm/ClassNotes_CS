{
 "cells": [
  {
   "cell_type": "markdown",
   "metadata": {
    "heading_collapsed": true
   },
   "source": [
    "# Lecture 10"
   ]
  },
  {
   "cell_type": "markdown",
   "metadata": {
    "hidden": true
   },
   "source": [
    "## Last Lecture"
   ]
  },
  {
   "cell_type": "markdown",
   "metadata": {
    "hidden": true
   },
   "source": [
    "* New simulations uploaded\n",
    "* No absorption was discussed\n",
    "* We talk now about how to include viscocity\n",
    "* Nonlinear terms will be discussed as well"
   ]
  },
  {
   "cell_type": "markdown",
   "metadata": {
    "hidden": true
   },
   "source": [
    "## Nonlinear Terms"
   ]
  },
  {
   "cell_type": "markdown",
   "metadata": {
    "hidden": true
   },
   "source": [
    "If we saw that $M = \\dfrac{v}{C} \\ll 1$, then the convection term is negligible. Therefore, the particle velocity is much smaller than the propagation of the wave. Then we discussed the wave in terms of pressure. Here, unlike velocity, there is some hydrostatic pressure (aka, a DC offset of the pressure). Additionally, the amplitude of the pressure wave is much larger than the hydrostatic pressure. We now write the approximation above in terms of pressure.\n",
    "\n",
    "First, pausing to derive the compressibility relation:\n",
    "$$ \\kappa = \\dfrac{1}{\\rho}\\dfrac{\\partial \\rho}{\\partial p} = \\dfrac{1}{\\rho_o c^2} $$\n",
    "$$ \\rightarrow c^2 = \\dfrac{1}{\\rho_o \\kappa} $$\n",
    "\n",
    "For referece, $\\kappa$ is on the order of GPa. Nonlinear pressures occur around 1-10 MPa.\n",
    "\n",
    "Now applying this to pressure and impedance:\n",
    "$$ Z_o = \\dfrac{p}{v} \\rightarrow p = Z_o v \\ll z_oc = \\rho_o c^2 = \\dfrac{1}{\\kappa} $$\n",
    "\n",
    "When we will talk about nonlinear acoustics, the convection term is not the source of nonlinearity. There are other mechanisms which we will discuss."
   ]
  },
  {
   "cell_type": "markdown",
   "metadata": {
    "hidden": true
   },
   "source": [
    "<img  src=\"IMG_0126.JPG\"/>"
   ]
  },
  {
   "cell_type": "markdown",
   "metadata": {
    "hidden": true
   },
   "source": [
    "## Viscosity"
   ]
  },
  {
   "cell_type": "markdown",
   "metadata": {
    "hidden": true
   },
   "source": [
    "This takes energy from the propagation of the wave and turn it into thermal energy. This attenuates the amplitude of the wave. Whether it is tissue or liquid, viscosity happens.\n",
    "\n",
    "$$ \\rho_o\\left[ \\dfrac{\\partial v}{\\partial t} + (v \\cdot \\nabla)v) \\right] = -\\nabla p + (\\mu_B + \\dfrac{4}{3}\\mu)\\nabla (\\nabla\\cdot v) + \\mu \\nabla^2v $$\n",
    "\n",
    "Change of notation! It may be different from other fields. Typically, $\\mu_B$ is not considered because the convection term is so small.\n",
    "\n",
    "Consider the divergence of velocity. Nonzero divergence implies a source. It is possible for there to be nonzero divergence; therefore we don't discard the divergence term entirely.\n",
    "\n",
    "* $\\mu$ - sheer viscosity\n",
    "* $\\mu_B$ - bulk viscosity\n",
    "* $\\kappa = \\dfrac{1}{\\rho}\\dfrac{\\partial \\rho}{\\partial p}$ - adaibatic compressibility\n",
    "* $k = \\dfrac{\\omega}{c} = \\dfrac{2\\pi}{\\lambda}$\n",
    "\n",
    "Taking this forward:\n",
    "\n",
    "$$ \\kappa \\rho_o \\dfrac{\\partial^2 \\phi}{\\partial t^2} - \\nabla^2 \\phi = \\kappa(\\mu_B + \\dfrac{4}{3}\\mu)\\dfrac{\\partial}{\\partial t}(\\nabla^2 \\phi) $$\n",
    "\n",
    "Taking:\n",
    "$$ \\phi(r,t) = \\Phi(r,\\omega)e^{i\\omega t} $$\n",
    "\n",
    "We see that it becomes:\n",
    "$$ \\nabla^2 \\Phi + k^2 \\Phi = 0$$"
   ]
  },
  {
   "cell_type": "markdown",
   "metadata": {
    "hidden": true
   },
   "source": [
    "<img  src=\"IMG_0127.JPG\"/>"
   ]
  },
  {
   "cell_type": "markdown",
   "metadata": {
    "hidden": true
   },
   "source": [
    "What's different? $k$ used to be the wave number; now it can be imaginary. Here:\n",
    "$$ \\angle k = k(1+i\\omega \\kappa(\\mu_b + \\dfrac{4}{3}\\mu))^{-1/2}$$\n",
    "\n",
    "Usually, the imaginary portion is much smaller than 1. Therefore, it is convenient to use a Taylor expansion to reduce the expression:\n",
    "\n",
    "$$ \\angle k = k\\left[ 1 - \\dfrac{i\\omega \\kappa}{2}(\\mu_B + \\dfrac{4}{3}\\mu) \\right] = k - i\\alpha $$\n",
    "\n",
    "Here, alpha is the attenuation coefficient.\n",
    "\n",
    "Using these two relations:\n",
    "\n",
    "$$ c^2 = \\dfrac{1}{\\rho_o} $$\n",
    "$$ c = \\dfrac{\\omega}{k} $$\n",
    "\n",
    "We can get:\n",
    "$$ \\alpha = \\dfrac{\\omega^2}{2\\rho_o c_o^3}(\\mu_B + \\dfrac{4}{3}\\mu) $$\n",
    "\n",
    "Notice that the attentuation coefficient is dependent on the frequency. High-frequency waves increase resolution; however, this increases attenuation, and decreases penetration depth.\n",
    "\n"
   ]
  },
  {
   "cell_type": "markdown",
   "metadata": {
    "hidden": true
   },
   "source": [
    "<img  src=\"IMG_0128.JPG\"/>"
   ]
  },
  {
   "cell_type": "markdown",
   "metadata": {
    "hidden": true
   },
   "source": [
    "$$ p = \\dfrac{1}{\\rho_o}\\dfrac{\\partial \\phi}{\\partial t} $$\n",
    "$$ \\nabla \\cdot v = -\\nabla \\cdot \\nabla \\phi $$\n",
    "$$ \\dfrac{\\partial \\rho_1}{\\partial t} + \\rho_o \\nabla \\cdot v = 0 $$\n",
    "$$ \\kappa \\dfrac{\\partial p}{\\partial t} + \\nabla \\cdot v = 0 $$\n",
    "$$ \\kappa i \\omega \\angle p + k^2\\Phi = 0 $$\n",
    "\n",
    "$$ \\angle p = ik^2 \\Phi \\dfrac{1}{\\omega \\kappa} $$\n",
    "\n",
    "$$ \\nabla p = ik^2\\dfrac{1}{\\omega \\kappa}\\nabla \\Phi $$\n",
    "\n",
    "$$ v = i\\omega \\kappa \\dfrac{1}{k^2}\\nabla p $$\n",
    "\n",
    "Remember:\n",
    "$$ \\angle p = p_oe^{-ikx} \\rightarrow v = \\dfrac{\\omega}{\\kappa}{k} \\angle p $$\n",
    "\n",
    "$$ \\dfrac{\\angle p}{\\angle v} = \\dfrac{\\angle k}{\\omega \\kappa} $$\n",
    "\n",
    "These two waves will be slightly out of phase."
   ]
  },
  {
   "cell_type": "markdown",
   "metadata": {
    "hidden": true
   },
   "source": [
    "<img  src=\"IMG_0129.JPG\"/>"
   ]
  },
  {
   "cell_type": "markdown",
   "metadata": {
    "hidden": true
   },
   "source": [
    "<img  src=\"IMG_0130.JPG\"/>"
   ]
  },
  {
   "cell_type": "markdown",
   "metadata": {
    "hidden": true
   },
   "source": [
    "Rewriting this explicity:\n",
    "\n",
    "$$ \\angle p = p_o e^{-ikx} = p_oe^{-i(k-i\\alpha)x} = p_oe^{-\\alpha x}e^{-ikx} $$\n",
    "\n",
    "For intensity:\n",
    "\n",
    "$$ I = I_oe^{-2\\alpha x} $$\n",
    "\n",
    "There is no longer any more conservation of energy (within the wave), as some is carried to heat.\n",
    "\n",
    "There are two ways to represent the attenuation coefficient. The second is to use a dB scale.\n",
    "\n",
    "$$ \\alpha_{dB} = \\dfrac{20}{x}\\text{log}_{10}\\dfrac{p_o}{p(x)} = \\dfrac{10}{x}\\text{log}_{10}\\dfrac{I_o}{I(x)} $$\n",
    "$$ \\alpha_{dB} \\approx 8.686\\alpha $$\n",
    "\n",
    "Typically, the coefficient is written as follows. In datasheets, $\\alpha_o$ is given. To find the impedence for your specific application, you need to multiply by $f^2$. \n",
    "\n",
    "$$ \\alpha = \\alpha_o f^2 $$\n",
    "\n",
    "If there is not a fluid (e.g. different tissue types). Here, $ 1 < n < 2 $.\n",
    "$$ \\alpha = \\alpha_of^n $$\n",
    "\n"
   ]
  },
  {
   "cell_type": "markdown",
   "metadata": {
    "hidden": true
   },
   "source": [
    "<img  src=\"IMG_0131.JPG\"/>"
   ]
  },
  {
   "cell_type": "markdown",
   "metadata": {
    "heading_collapsed": true
   },
   "source": [
    "# Lecture 11"
   ]
  },
  {
   "cell_type": "markdown",
   "metadata": {
    "hidden": true
   },
   "source": [
    "## Last Lecture"
   ]
  },
  {
   "cell_type": "markdown",
   "metadata": {
    "hidden": true
   },
   "source": [
    "The intensity of the wave decreases. Mechanisms of attenuation are viscosity and sheer forces. Brining the energy from acoustic mode to thermal attenuates. There are other mechanisms for attenuation. There are also mechanisms to absorb ultrasound, turning ultrasound energy into thermal energy."
   ]
  },
  {
   "cell_type": "markdown",
   "metadata": {
    "hidden": true
   },
   "source": [
    "## Introduction to scattering"
   ]
  },
  {
   "cell_type": "markdown",
   "metadata": {
    "hidden": true
   },
   "source": [
    "Today, we discuss scattering, which shows up as attenuation. If this is a pure fluid, there is nothing to scatter the wave. If it is tissue, however, it is not homogeneous. These interfaces will scatter the incoming wave. Energy is still in the mechanical mode; only the direction has changed. Backscattering is when the wave is scattered 180$^o$ backward. It is the mechanism for contrast. It helps to identify types of tissue\n",
    "\n",
    "Question: why is the sky blue? We see light, even when not looking at the sun. We see scattering off molecules, called Rayleigh scattering. This is scattering off of molecules much smaller than the wavelength of the light. We will see it as the ratio of the object and wavelength later in lecture."
   ]
  },
  {
   "cell_type": "markdown",
   "metadata": {
    "hidden": true
   },
   "source": [
    "<img  src=\"IMG_0141.JPG\"/>"
   ]
  },
  {
   "cell_type": "markdown",
   "metadata": {
    "hidden": true
   },
   "source": [
    "In scattering, there are different types of problems. We will be interested to look at the properties of scattering.\n",
    "\n",
    "* $\\sigma$ - scattering cross-section\n",
    "* Shape of the scatterer (for example, a cell)\n",
    "\n",
    "Definitions:\n",
    "* $\\sigma_t = \\dfrac{\\text{time averaged scattered AND absorbed power}}{\\text{Time averaged incident intensity}} = \\dfrac{W_t}{I}$\n",
    "* [Area] = m^2 - here we talk about the area of the \"shadow\" ??\n",
    "* scattering cross-section - $\\sigma_s = \\dfrac{\\text{Time averaged scattered power}}{\\text{Incident Intensity}}$\n",
    "* $\\sigma_t = \\sigma_s + \\sigma_a$\n",
    "* $\\alpha_a = n\\sigma_a$\n",
    "\n",
    "$\\sigma_t$ describes scattering in any direction. Recall that $\\alpha$ is the absorption coefficient. It has units of 1/length. $n$ is the density of particles. If we talk about blood, and red blood cells are the scatterer, then $n$ is the concentration of red blood cells. $\\sigma_a$ is absorption cross section of an object, and n is the number of these objects per unit volume (concentration/density)."
   ]
  },
  {
   "cell_type": "markdown",
   "metadata": {
    "hidden": true
   },
   "source": [
    "<img  src=\"IMG_0142.JPG\"/>"
   ]
  },
  {
   "cell_type": "markdown",
   "metadata": {
    "hidden": true
   },
   "source": [
    "The differential cross-section has dependence on angle. This is because we integrate over the area\n",
    "$$ \\sigma_d(\\theta,\\varphi) = \\dfrac{\\text{Time averaged scattering in}(\\theta,\\varphi)\\text{ direction}}{\\text{Incident intensity}} $$\n",
    "\n",
    "$$ \\sigma_d = \\dfrac{dW_d}{d\\Omega} $$\n",
    "$$ d\\Omega = \\text{sin}\\theta d\\theta d\\varphi $$\n",
    "\n",
    "Basically, $d\\Omega$ is the change over the angle.\n",
    "\n",
    "The specific case of $\\theta = 180^o$ is the back scattering: $\\sigma_b = \\sigma_d(\\pi,0)$.\n",
    "\n",
    "Now we look at a sphere which is rigid. We are interested in finding the cross section. We will look at the wave and match the boundary conditions. The whole space is filled with two waves: the incident wave and the wave emerging from the sphere. Then we solve the boundary conditions on the sphere. We do this by describing the plane waves in term of an infinite sum of spherical waves. This is possible. We can decompose the planar wave into the spherical wave components. This is kind of like taking a Fourier transform, except the base components are different."
   ]
  },
  {
   "cell_type": "markdown",
   "metadata": {
    "hidden": true
   },
   "source": [
    "<img  src=\"IMG_0142.JPG\"/>"
   ]
  },
  {
   "cell_type": "markdown",
   "metadata": {
    "hidden": true
   },
   "source": [
    "The scattering field is related to the input pressure.\n",
    "\n",
    "Legendre function (safe to ignore, just for our information)\n",
    "$$ p_s(r) = p_{in}\\sqrt{\\dfrac{\\pi}{2\\pi r}}\\sum_{n=0}^{\\infty}\\dfrac{(-i)^{n+2}(2n_1)}{1+iK_n(k_o)}\\left[ J_{n+1/2}(kv) - iN_{n+1/2}(kr) \\right]P_n\\text{cos}\\theta $$\n",
    "\n",
    "We discuss small spheres: $ka\\ll 1$\n",
    "\n",
    "Here:\n",
    "\n",
    "$$ p_s(r,\\theta) = -p_{in}\\dfrac{k^2a^3}{3r}e^{-ikr}(1-\\dfrac{3}{2}\\text{cos}\\theta) $$\n",
    "\n",
    "We have two waves. We assumed one and calculated the other. The other is dependent on the scattering angle (this is the cos term). There are two terms in the parenthesis $(1-3/2\\text{cos}\\theta)$. Zero angle is where the cos=1. When cos=90$^o$. If we plot only the cos term, it has a butterfly shape, no radiation at 90$^o$. (See photo) This is called a dipole radiation. It can be produced by a moving object. The object can have a fixed dimension. If it is oscillation laterally, it will produce a dipole field of radiation. Energy is mostly transmitted forward, and none is transmitted up or down. This shows us that part of the scattering process is due to the plane wave moving the particle back and forth. There is also monopole radiation (this is the 1 term in the parenthesis)\n",
    "\n",
    "If we look at higher powers of the Legendre polynomial, we will have quadropole radiation, etc. However, these terms are negligibly small. The amplitude of the pressure waves is proportional to $k^2$, therefore proportional to wavelength."
   ]
  },
  {
   "cell_type": "markdown",
   "metadata": {
    "hidden": true
   },
   "source": [
    "<img  src=\"IMG_0145.JPG\"/>"
   ]
  },
  {
   "cell_type": "markdown",
   "metadata": {
    "hidden": true
   },
   "source": [
    "We must now calculate intensity.\n",
    "\n",
    "$$ I = p_s p_s^* \\dfrac{1}{2\\rho_oc_o} $$\n",
    "\n",
    "$$ I_s(r,\\theta) = p_{in}^2 \\dfrac{k^4a^6}{18\\rho_oc_or^2}(1-\\dfrac{3}{2}\\text{cos}\\theta)^2 $$\n",
    "\n",
    "Here, $a$ is the radius of the object.\n",
    "Power (integrating around the entire object)\n",
    "$$ W_s = \\int_0^{2\\pi}\\int_0^{\\pi}I_s(r,\\theta) r^2\\text{sin}\\theta d\\theta d\\varphi = \\int_0^{\\pi} I_s(r,\\theta) 2\\pi r^2 \\text{sin}\\theta d\\theta $$\n",
    "\n",
    "After evaluating the scattered power and normalizing it with the incident intensity, we can find the scattering cross-section.\n",
    "$$ \\sigma_s = \\dfrac{7}{9}\\pi k^4a^6 $$\n",
    "\n",
    "The scattering cross-section falls off as the wavelength gets lerger than the object. Falls off with $\\lambda^-4$"
   ]
  },
  {
   "cell_type": "markdown",
   "metadata": {
    "hidden": true
   },
   "source": [
    "<img  src=\"IMG_0146.JPG\"/>"
   ]
  },
  {
   "cell_type": "markdown",
   "metadata": {
    "hidden": true
   },
   "source": [
    "Scattering changes with size of the particles. When the particle is large enough, we see the effect of a shadow. The scattering power in the forward direction is coherently destructive with the incident wave. The incident and scattered wave will destructively interfere, creating a shadow. "
   ]
  },
  {
   "cell_type": "markdown",
   "metadata": {
    "hidden": true
   },
   "source": [
    "<img  src=\"IMG_0147.JPG\"/>"
   ]
  },
  {
   "cell_type": "markdown",
   "metadata": {
    "heading_collapsed": true
   },
   "source": [
    "# Lecture 12"
   ]
  },
  {
   "cell_type": "markdown",
   "metadata": {
    "hidden": true
   },
   "source": [
    "## Review"
   ]
  },
  {
   "cell_type": "markdown",
   "metadata": {
    "hidden": true
   },
   "source": [
    "We described an incoming wave on a particle. The particle will reflect the wave in all directions; this, we call scattering. The amount of scattering is proportional to the scattering cross-section. The differential cross section describes the power scattered at specific angles (normalized by the angle as well as the input intensity). This process of scattering will attenuate the intensity of the incoming wave.\n",
    "\n",
    "Similar to absorption. This is a more simple case, as the energy \"disappears\" as it gets transferred to thermal energy. Absorption is described by $ \\alpha = \\sigma_a n $ with units of $\\dfrac{[m]^2\\cdot \\text{number}}{m^3} = \\dfrac{1}{m}$.\n",
    "\n",
    "Scattering is a little more complex, as the scattered waves may still interfere. Last time, we looked at scattering cross-section of a single particle, specifically a rigid sphere. Next, we will extend it to a non-rigid sphere, and then looking at multiple objects."
   ]
  },
  {
   "cell_type": "markdown",
   "metadata": {
    "hidden": true
   },
   "source": [
    "<img  src=\"IMG_0148.JPG\"/>"
   ]
  },
  {
   "cell_type": "markdown",
   "metadata": {
    "hidden": true
   },
   "source": [
    "## Compressible Spherical Particle"
   ]
  },
  {
   "cell_type": "markdown",
   "metadata": {
    "hidden": true
   },
   "source": [
    "This case may be solved analytically. The scatterer has different density than the surrounding medium.\n",
    "\n",
    "We assume:\n",
    "* Particle is small ($ka \\ll 1$)\n",
    "* at large distane ($kr \\gg 1$)\n",
    "\n",
    "\n",
    "$$ p_s(r,\\theta) = p_{in} e^{-ikr} \\dfrac{k^2a^3}{3r} \\left[ \\dfrac{\\kappa_s - \\kappa_o}{\\kappa_o} + \\dfrac{3(\\rho_s-\\rho_o)}{2\\rho_s + \\rho_o}\\text{cos}\\theta \\right] $$\n",
    "\n",
    "We see again that the radiation is a combination of dipole and monopole radiation. The direction of oscillations creates the direction of the dipole. Because of the compressability of the sphere, the monopole radiation occurs. Imagine it gets compressed then released (I believe). This is similar to the rigid case, but the sources and amplitudes are different."
   ]
  },
  {
   "cell_type": "markdown",
   "metadata": {
    "hidden": true
   },
   "source": [
    "<img  src=\"IMG_0149.JPG\"/>"
   ]
  },
  {
   "cell_type": "markdown",
   "metadata": {
    "hidden": true
   },
   "source": [
    "## Multiple Scatterers"
   ]
  },
  {
   "cell_type": "markdown",
   "metadata": {
    "hidden": true
   },
   "source": [
    "There are several scatteres. We use the term solid angle to describe a portion of the spherical surface. The solid angle of the entire surface is $4\\pi$, as the surface area is $4\\pi r^2$. In scattering, we assume the solid angle is part of a larger sphere.\n",
    "\n",
    "The solid angle is measured as the $\\text{sin}\\theta \\Delta \\theta \\cdot \\Delta \\varphi$. In the drawing, imagine that $\\Delta \\varphi=2\\pi$. In this case, the solid angle $\\Omega = \\theta\\text{sin}(\\theta) 2\\pi$.\n",
    "\n",
    "Imagine the density ofhtep articles are causing the scattering of the wave. Some of it is detected at a later detector. The total power of the wave within that angle is $P_s$.\n",
    "\n",
    "Specifically, let's talk about backscattering. It works for any angle, but here, we specifically speak about $P_{bs}$ for backscatter. There is one diference between this case and the single particle. The power is a combination of many scatterers within a volume. Therefore, we need to specify the volume of the scatterers, $V$. So, defining the backscattering coefficient, $\\sigma_{bsc}$. **This is not the scattering cross section!!!**. scattering cross section is $\\sigma_b$ and has units $m^2$. It is the backscattering coefficient and has the same units as absorption, $[\\dfrac{1}{m}]$.\n",
    "\n",
    "For example, $\\sigma_b$ could be the scattering of a single red blood cell. To get the backscattering of the group, we would need to multiply by the density of blood cells, $n$.\n",
    "\n",
    "$$ \\sigma_{bsc} = \\sigma_{b}\\cdot n \\dfrac{<V_s^2>}{<V_s>^2} $$\n",
    "\n",
    "Deriving this from power and the solid angle:\n",
    "\n",
    "$$ \\sigma_{bsc} = \\dfrac{P_{bs}}{\\Omega I_{in}V} $$"
   ]
  },
  {
   "cell_type": "markdown",
   "metadata": {
    "hidden": true
   },
   "source": [
    "<img  src=\"IMG_0150.JPG\"/>"
   ]
  },
  {
   "cell_type": "markdown",
   "metadata": {
    "hidden": true
   },
   "source": [
    "$$\\sigma_{bsc} = \\dfrac{1}{v}\\cdot 2\\dfrac{<\\bar{p^2}_s>}{p_{in}^2}$$\n",
    "\n",
    "We mean two different methods of averaging. Here, $\\bar{p}$ indicates time averaging. $<p>$ is the ensemble averaging. If we look at the scatterers, they may be arranged differently. Each of these instances would give a different scattering output (e.g. the particles all interfere destructively). We sum up all the scenarios. \n",
    "\n",
    "Note, take the pressure, then square it, then take the ensemble averaging.\n",
    "\n",
    "$$ p_s(r,t)= \\dfrac{p_{in}}{r}\\dfrac{\\sqrt{\\sigma_b}}{<V_s>} \\sum_1^N V_n^s \\text{cos}(\\omega t + \\varphi_n) $$\n",
    "\n",
    "$V_n$ is the volume of the nth paritcle. Each particle has its own magnitude and phase.\n",
    "\n",
    "Translating this into scattering cross section of single compressible sphere:\n",
    "\n",
    "$$ \\sigma_b = \\left(\\dfrac{k^2<V_s>}{4\\pi}\\right)^2 \\left[ \\dfrac{\\kappa_s - \\kappa_o}{\\kappa_o} - \\dfrac{\\rho_s-\\rho_o}{\\rho_o} \\right] $$\n",
    "\n",
    "$$ \\varphi_n = 2k(\\bar{r_n}\\cdot\\hat{r_i} - kr$$\n",
    "\n",
    "$$ p_s = \\dfrac{p_{in}}{r} \\dfrac{\\sqrt{\\sigma_b}}{<V_s>}\\left[ \\text{cos}(\\omega t) \\sum_1^n V_n^s \\text{cos}(\\varphi_n) - \\text{sin}(\\omega t) \\sum_1^n V_n^s \\text{sin}(\\varphi_n) \\right] $$\n",
    "\n",
    "Quick annotations:\n",
    "* $A_1 = \\sum_1^n V_n^s \\text{cos}(\\varphi_n)$\n",
    "* $sum_1^n V_n^s \\text{sin}(\\varphi_n)$\n",
    "\n",
    "Basically, here we are summing the amplitude and phase of a bunch of random particles. Using these results and assumptions:\n",
    "\n",
    "$$ \\sigma_{bsc} = \\sigma_b\\dfrac{N}{V}\\dfrac{<V_s^2>}{<V_s>^2} $$\n",
    "\n",
    "* $\\dfrac{<V_s^2>}{<V_s>^2}$ refers to variability in sizes\n",
    "* $\\dfrac{N}{V}$ refers to density\n",
    "* $V_n^s$ is volume of nth object. s referers to scatterer\n",
    "* $<V_s>$ is the average volume of the scatterers\n",
    "* $V$ is the total volume\n",
    "\n",
    "Now we have approach to find backscattering from the scattering cross-section.\n",
    "\n",
    "Assumptions that were not even mentioned:\n",
    "* multiple scattering (wave scatters on more than one particle). We only take the first-order process\n",
    "* Also no correlation between the location of each scatterer. That is, when we sum up the process, we assume the locations are completely random.\n",
    "\n",
    "We can look it up in the textbook, page 393. It talks about the backscattering coefficient which is related to density. Here, N/V refers to the number of cells divided by the total volume.\n",
    "\n",
    "$$ H = \\dfrac{N}{V} \\cdot <V_s> $$\n",
    "\n",
    "Unfortunately, experimentation does not quite follow this. As the graph shows, the scattering deviates from linearity due to other effects, such as finite size. Obviously, when we have a sparse distribution. It is interesting to note that, as density increases, we see similar values to that of low density. This is because, at high density, the medium is essentially the particles and the medium now becomes like the particles (because there are so many particles, the empty space becomes rarer)"
   ]
  },
  {
   "cell_type": "markdown",
   "metadata": {
    "hidden": true
   },
   "source": [
    "<img  src=\"IMG_0151.JPG\"/>"
   ]
  },
  {
   "cell_type": "markdown",
   "metadata": {
    "hidden": true
   },
   "source": [
    "<img  src=\"IMG_0152.JPG\"/>"
   ]
  },
  {
   "cell_type": "markdown",
   "metadata": {
    "hidden": true
   },
   "source": [
    "<img  src=\"IMG_0153.JPG\"/>"
   ]
  },
  {
   "cell_type": "markdown",
   "metadata": {},
   "source": [
    "# Lecture 13"
   ]
  },
  {
   "cell_type": "code",
   "execution_count": null,
   "metadata": {
    "collapsed": true
   },
   "outputs": [],
   "source": []
  }
 ],
 "metadata": {
  "anaconda-cloud": {},
  "kernelspec": {
   "display_name": "Python [conda root]",
   "language": "python",
   "name": "conda-root-py"
  },
  "language_info": {
   "codemirror_mode": {
    "name": "ipython",
    "version": 3
   },
   "file_extension": ".py",
   "mimetype": "text/x-python",
   "name": "python",
   "nbconvert_exporter": "python",
   "pygments_lexer": "ipython3",
   "version": "3.5.2"
  },
  "latex_envs": {
   "LaTeX_envs_menu_present": true,
   "bibliofile": "biblio.bib",
   "cite_by": "apalike",
   "current_citInitial": 1,
   "eqLabelWithNumbers": true,
   "eqNumInitial": 1,
   "labels_anchors": false,
   "latex_user_defs": false,
   "report_style_numbering": false,
   "user_envs_cfg": false
  },
  "toc": {
   "colors": {
    "hover_highlight": "#DAA520",
    "running_highlight": "#FF0000",
    "selected_highlight": "#FFD700"
   },
   "moveMenuLeft": true,
   "nav_menu": {
    "height": "84px",
    "width": "252px"
   },
   "navigate_menu": true,
   "number_sections": true,
   "sideBar": true,
   "threshold": 4,
   "toc_cell": false,
   "toc_section_display": "block",
   "toc_window_display": false
  }
 },
 "nbformat": 4,
 "nbformat_minor": 1
}
