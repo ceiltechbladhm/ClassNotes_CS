{
 "cells": [
  {
   "cell_type": "markdown",
   "metadata": {},
   "source": [
    "# Preamble"
   ]
  },
  {
   "cell_type": "code",
   "execution_count": 1,
   "metadata": {
    "collapsed": false
   },
   "outputs": [
    {
     "data": {
      "application/javascript": [
       "\n",
       "    var add_command_shortcuts = {\n",
       "            'Alt-w' : {\n",
       "                help    : 'Add Text Test',\n",
       "                help_index : 'aa',\n",
       "                handler : function() {\n",
       "                        var cell = IPython.notebook.get_selected_cell();\n",
       "        \t\tcell.code_mirror.replaceSelection('Testing');\n",
       "                }\n",
       "            }\n",
       "        };\n",
       "\n",
       "    var add_edit_shortcuts = {\n",
       "            'Alt-a' : {\n",
       "                help    : 'Insert alpha',\n",
       "                help_index : 'aa',\n",
       "                handler : function() {\n",
       "                    var cell = IPython.notebook.get_selected_cell();\n",
       "                    cell.code_mirror.replaceSelection('\\\\alpha');\n",
       "                }\n",
       "            },\n",
       "        'Alt-b' : {\n",
       "                help    : 'Insert beta',\n",
       "                help_index : 'aa',\n",
       "                handler : function() {\n",
       "                    var cell = IPython.notebook.get_selected_cell();\n",
       "                    cell.code_mirror.replaceSelection('\\\\beta');\n",
       "                }\n",
       "            },\n",
       "        'Alt-g' : {\n",
       "                help    : 'Insert gamma',\n",
       "                help_index : 'aa',\n",
       "                handler : function() {\n",
       "                    var cell = IPython.notebook.get_selected_cell();\n",
       "                    cell.code_mirror.replaceSelection('\\\\gamma');\n",
       "                }\n",
       "            },\n",
       "        'Alt-shift-g' : {\n",
       "                help    : 'Insert Gamma',\n",
       "                help_index : 'aa',\n",
       "                handler : function() {\n",
       "                    var cell = IPython.notebook.get_selected_cell();\n",
       "                    cell.code_mirror.replaceSelection('\\\\Gamma');\n",
       "                }\n",
       "            },\n",
       "        'Alt-Ctrl-d' : { //Change\n",
       "                help    : 'Insert delta',\n",
       "                help_index : 'aa',\n",
       "                handler : function() {\n",
       "                    var cell = IPython.notebook.get_selected_cell();\n",
       "                    cell.code_mirror.replaceSelection('\\\\delta');\n",
       "                }\n",
       "            },\n",
       "        'Alt-Ctrl-e' : {\n",
       "                help    : 'Insert epsilon',\n",
       "                help_index : 'aa',\n",
       "                handler : function() {\n",
       "                    var cell = IPython.notebook.get_selected_cell();\n",
       "                    cell.code_mirror.replaceSelection('\\\\epsilon');\n",
       "                }\n",
       "            },\n",
       "        'Alt-z' : {\n",
       "                help    : 'Insert zeta',\n",
       "                help_index : 'aa',\n",
       "                handler : function() {\n",
       "                    var cell = IPython.notebook.get_selected_cell();\n",
       "                    cell.code_mirror.replaceSelection('\\\\zeta');\n",
       "                }\n",
       "            },\n",
       "        'Alt-t' : {\n",
       "                help    : 'Insert theta',\n",
       "                help_index : 'aa',\n",
       "                handler : function() {\n",
       "                    var cell = IPython.notebook.get_selected_cell();\n",
       "                    cell.code_mirror.replaceSelection('\\\\theta');\n",
       "                }\n",
       "            },\n",
       "        'Alt-k' : {\n",
       "                help    : 'Insert kappa',\n",
       "                help_index : 'aa',\n",
       "                handler : function() {\n",
       "                    var cell = IPython.notebook.get_selected_cell();\n",
       "                    cell.code_mirror.replaceSelection('\\\\kappa');\n",
       "                }\n",
       "            },\n",
       "        'Alt-l' : {\n",
       "                help    : 'Insert lambda',\n",
       "                help_index : 'aa',\n",
       "                handler : function() {\n",
       "                    var cell = IPython.notebook.get_selected_cell();\n",
       "                    cell.code_mirror.replaceSelection('\\\\lambda');\n",
       "                }\n",
       "            },\n",
       "        'Alt-p' : {\n",
       "                help    : 'Insert phi',\n",
       "                help_index : 'aa',\n",
       "                handler : function() {\n",
       "                    var cell = IPython.notebook.get_selected_cell();\n",
       "                    cell.code_mirror.replaceSelection('\\\\phi');\n",
       "                }\n",
       "            },\n",
       "        'Alt-r' : {\n",
       "                help    : 'Insert rho',\n",
       "                help_index : 'aa',\n",
       "                handler : function() {\n",
       "                    var cell = IPython.notebook.get_selected_cell();\n",
       "                    cell.code_mirror.replaceSelection('\\\\rho');\n",
       "                }\n",
       "            },\n",
       "        'Alt-s' : {\n",
       "                help    : 'Insert sigma',\n",
       "                help_index : 'aa',\n",
       "                handler : function() {\n",
       "                    var cell = IPython.notebook.get_selected_cell();\n",
       "                    cell.code_mirror.replaceSelection('\\\\sigma');\n",
       "                }\n",
       "            },\n",
       "        'Alt-w' : {\n",
       "                help    : 'Insert omega',\n",
       "                help_index : 'aa',\n",
       "                handler : function() {\n",
       "                    var cell = IPython.notebook.get_selected_cell();\n",
       "                    cell.code_mirror.replaceSelection('\\\\omega');\n",
       "                }\n",
       "            },\n",
       "        'Ctrl-Alt-1' : {\n",
       "                help    : 'Insert dfrac',\n",
       "                help_index : 'aa',\n",
       "                handler : function() {\n",
       "                    var cell = IPython.notebook.get_selected_cell();\n",
       "                    cell.code_mirror.replaceSelection('\\\\dfrac{}{}');\n",
       "                    var cpos = cell.code_mirror.getCursor();\n",
       "                    cell.code_mirror.setCursor({line: cpos.line, ch: cpos.ch-3});\n",
       "                }\n",
       "            },\n",
       "        'Ctrl-Alt-7' : {\n",
       "                help    : 'Insert integral',\n",
       "                help_index : 'aa',\n",
       "                handler : function() {\n",
       "                    var cell = IPython.notebook.get_selected_cell();\n",
       "                    cell.code_mirror.replaceSelection('\\\\int_{}^{}');\n",
       "                    var cpos = cell.code_mirror.getCursor();\n",
       "                    cell.code_mirror.setCursor({line: cpos.line, ch: cpos.ch-4});\n",
       "                }\n",
       "            },\n",
       "        'Ctrl-Alt-3' : {\n",
       "                help    : 'Insert cos',\n",
       "                help_index : 'aa',\n",
       "                handler : function() {\n",
       "                    var cell = IPython.notebook.get_selected_cell();\n",
       "                    cell.code_mirror.replaceSelection('\\\\text{cos}');\n",
       "                }\n",
       "            },\n",
       "        'Ctrl-Alt-4' : {\n",
       "                help    : 'Insert sin',\n",
       "                help_index : 'aa',\n",
       "                handler : function() {\n",
       "                    var cell = IPython.notebook.get_selected_cell();\n",
       "                    cell.code_mirror.replaceSelection('\\\\text{sin}');\n",
       "                }\n",
       "            },\n",
       "        'Ctrl-Alt-5' : {\n",
       "                help    : 'Insert Brackets',\n",
       "                help_index : 'aa',\n",
       "                handler : function() {\n",
       "                    var cell = IPython.notebook.get_selected_cell();\n",
       "                    cell.code_mirror.replaceSelection('\\\\left[  \\\\right]');\n",
       "                    var cpos = cell.code_mirror.getCursor();\n",
       "                    cell.code_mirror.setCursor({line: cpos.line, ch: cpos.ch-8});\n",
       "                }\n",
       "            },\n",
       "        'Ctrl-Alt-6' : {\n",
       "                help    : 'Insert parenthesis',\n",
       "                help_index : 'aa',\n",
       "                handler : function() {\n",
       "                    var cell = IPython.notebook.get_selected_cell();\n",
       "                    cell.code_mirror.replaceSelection('\\\\left(  \\\\right)');\n",
       "                    var cpos = cell.code_mirror.getCursor();\n",
       "                    cell.code_mirror.setCursor({line: cpos.line, ch: cpos.ch-8});\n",
       "                }\n",
       "            },\n",
       "        'Ctrl-Alt-2' : {\n",
       "                help    : 'Insert equation',\n",
       "                help_index : 'aa',\n",
       "                handler : function() {\n",
       "                    var cell = IPython.notebook.get_selected_cell();\n",
       "                    cell.code_mirror.replaceSelection('$$  $$');\n",
       "                    var cpos = cell.code_mirror.getCursor();\n",
       "                    cell.code_mirror.setCursor({line: cpos.line, ch: cpos.ch-3});\n",
       "                }\n",
       "            },\n",
       "        'Alt-0' : {\n",
       "                help    : 'Insert partial',\n",
       "                help_index : 'aa',\n",
       "                handler : function() {\n",
       "                    var cell = IPython.notebook.get_selected_cell();\n",
       "                    cell.code_mirror.replaceSelection('\\\\partial ');\n",
       "                }\n",
       "            },\n",
       "        'Ctrl-Alt-n' : {\n",
       "                help    : 'Insert nabla',\n",
       "                help_index : 'aa',\n",
       "                handler : function() {\n",
       "                    var cell = IPython.notebook.get_selected_cell();\n",
       "                    cell.code_mirror.replaceSelection('\\\\nabla');\n",
       "                }\n",
       "            },\n",
       "        'Alt-Shift-t' : {\n",
       "                help    : 'Insert text',\n",
       "                help_index : 'aa',\n",
       "                handler : function() {\n",
       "                    var cell = IPython.notebook.get_selected_cell();\n",
       "                    cell.code_mirror.replaceSelection('\\\\text{}');\n",
       "                    var cpos = cell.code_mirror.getCursor();\n",
       "                    cell.code_mirror.setCursor({line: cpos.line, ch: cpos.ch-1});\n",
       "                }\n",
       "            },\n",
       "/*        'Shift-6' : {\n",
       "                help    : 'Insert superscript',\n",
       "                help_index : 'aa',\n",
       "                handler : function() {\n",
       "                    var cell = IPython.notebook.get_selected_cell();\n",
       "                    cell.code_mirror.replaceSelection('^{}');\n",
       "                    var cpos = cell.code_mirror.getCursor();\n",
       "                    cell.code_mirror.setCursor({line: cpos.line, ch: cpos.ch-1});\n",
       "                }\n",
       "            },\n",
       "        'Shift-_' : {\n",
       "                help    : 'Insert subscript',\n",
       "                help_index : 'aa',\n",
       "                handler : function() {\n",
       "                    var cell = IPython.notebook.get_selected_cell();\n",
       "                    cell.code_mirror.replaceSelection('_{}');\n",
       "                    var cpos = cell.code_mirror.getCursor();\n",
       "                    cell.code_mirror.setCursor({line: cpos.line, ch: cpos.ch-1});\n",
       "                }\n",
       "            },\n",
       "*/\n",
       "        };\n",
       "\n",
       "   // var load_ipython_extension = function() {\n",
       "        IPython.keyboard_manager.edit_shortcuts.add_shortcuts(add_edit_shortcuts);\n",
       "        IPython.keyboard_manager.command_shortcuts.add_shortcuts(add_command_shortcuts);\n",
       "    //};"
      ],
      "text/plain": [
       "<IPython.core.display.Javascript object>"
      ]
     },
     "metadata": {},
     "output_type": "display_data"
    }
   ],
   "source": [
    "%%javascript\n",
    "\n",
    "    var add_command_shortcuts = {\n",
    "            'Alt-w' : {\n",
    "                help    : 'Add Text Test',\n",
    "                help_index : 'aa',\n",
    "                handler : function() {\n",
    "                        var cell = IPython.notebook.get_selected_cell();\n",
    "        \t\tcell.code_mirror.replaceSelection('Testing');\n",
    "                }\n",
    "            }\n",
    "        };\n",
    "\n",
    "    var add_edit_shortcuts = {\n",
    "            'Alt-a' : {\n",
    "                help    : 'Insert alpha',\n",
    "                help_index : 'aa',\n",
    "                handler : function() {\n",
    "                    var cell = IPython.notebook.get_selected_cell();\n",
    "                    cell.code_mirror.replaceSelection('\\\\alpha');\n",
    "                }\n",
    "            },\n",
    "        'Alt-b' : {\n",
    "                help    : 'Insert beta',\n",
    "                help_index : 'aa',\n",
    "                handler : function() {\n",
    "                    var cell = IPython.notebook.get_selected_cell();\n",
    "                    cell.code_mirror.replaceSelection('\\\\beta');\n",
    "                }\n",
    "            },\n",
    "        'Alt-g' : {\n",
    "                help    : 'Insert gamma',\n",
    "                help_index : 'aa',\n",
    "                handler : function() {\n",
    "                    var cell = IPython.notebook.get_selected_cell();\n",
    "                    cell.code_mirror.replaceSelection('\\\\gamma');\n",
    "                }\n",
    "            },\n",
    "        'Alt-shift-g' : {\n",
    "                help    : 'Insert Gamma',\n",
    "                help_index : 'aa',\n",
    "                handler : function() {\n",
    "                    var cell = IPython.notebook.get_selected_cell();\n",
    "                    cell.code_mirror.replaceSelection('\\\\Gamma');\n",
    "                }\n",
    "            },\n",
    "        'Alt-Ctrl-d' : { //Change\n",
    "                help    : 'Insert delta',\n",
    "                help_index : 'aa',\n",
    "                handler : function() {\n",
    "                    var cell = IPython.notebook.get_selected_cell();\n",
    "                    cell.code_mirror.replaceSelection('\\\\delta');\n",
    "                }\n",
    "            },\n",
    "        'Alt-Ctrl-e' : {\n",
    "                help    : 'Insert epsilon',\n",
    "                help_index : 'aa',\n",
    "                handler : function() {\n",
    "                    var cell = IPython.notebook.get_selected_cell();\n",
    "                    cell.code_mirror.replaceSelection('\\\\epsilon');\n",
    "                }\n",
    "            },\n",
    "        'Alt-z' : {\n",
    "                help    : 'Insert zeta',\n",
    "                help_index : 'aa',\n",
    "                handler : function() {\n",
    "                    var cell = IPython.notebook.get_selected_cell();\n",
    "                    cell.code_mirror.replaceSelection('\\\\zeta');\n",
    "                }\n",
    "            },\n",
    "        'Alt-t' : {\n",
    "                help    : 'Insert theta',\n",
    "                help_index : 'aa',\n",
    "                handler : function() {\n",
    "                    var cell = IPython.notebook.get_selected_cell();\n",
    "                    cell.code_mirror.replaceSelection('\\\\theta');\n",
    "                }\n",
    "            },\n",
    "        'Alt-k' : {\n",
    "                help    : 'Insert kappa',\n",
    "                help_index : 'aa',\n",
    "                handler : function() {\n",
    "                    var cell = IPython.notebook.get_selected_cell();\n",
    "                    cell.code_mirror.replaceSelection('\\\\kappa');\n",
    "                }\n",
    "            },\n",
    "        'Alt-l' : {\n",
    "                help    : 'Insert lambda',\n",
    "                help_index : 'aa',\n",
    "                handler : function() {\n",
    "                    var cell = IPython.notebook.get_selected_cell();\n",
    "                    cell.code_mirror.replaceSelection('\\\\lambda');\n",
    "                }\n",
    "            },\n",
    "        'Alt-p' : {\n",
    "                help    : 'Insert phi',\n",
    "                help_index : 'aa',\n",
    "                handler : function() {\n",
    "                    var cell = IPython.notebook.get_selected_cell();\n",
    "                    cell.code_mirror.replaceSelection('\\\\phi');\n",
    "                }\n",
    "            },\n",
    "        'Alt-r' : {\n",
    "                help    : 'Insert rho',\n",
    "                help_index : 'aa',\n",
    "                handler : function() {\n",
    "                    var cell = IPython.notebook.get_selected_cell();\n",
    "                    cell.code_mirror.replaceSelection('\\\\rho');\n",
    "                }\n",
    "            },\n",
    "        'Alt-s' : {\n",
    "                help    : 'Insert sigma',\n",
    "                help_index : 'aa',\n",
    "                handler : function() {\n",
    "                    var cell = IPython.notebook.get_selected_cell();\n",
    "                    cell.code_mirror.replaceSelection('\\\\sigma');\n",
    "                }\n",
    "            },\n",
    "        'Alt-w' : {\n",
    "                help    : 'Insert omega',\n",
    "                help_index : 'aa',\n",
    "                handler : function() {\n",
    "                    var cell = IPython.notebook.get_selected_cell();\n",
    "                    cell.code_mirror.replaceSelection('\\\\omega');\n",
    "                }\n",
    "            },\n",
    "        'Ctrl-Alt-1' : {\n",
    "                help    : 'Insert dfrac',\n",
    "                help_index : 'aa',\n",
    "                handler : function() {\n",
    "                    var cell = IPython.notebook.get_selected_cell();\n",
    "                    cell.code_mirror.replaceSelection('\\\\dfrac{}{}');\n",
    "                    var cpos = cell.code_mirror.getCursor();\n",
    "                    cell.code_mirror.setCursor({line: cpos.line, ch: cpos.ch-3});\n",
    "                }\n",
    "            },\n",
    "        'Ctrl-Alt-7' : {\n",
    "                help    : 'Insert integral',\n",
    "                help_index : 'aa',\n",
    "                handler : function() {\n",
    "                    var cell = IPython.notebook.get_selected_cell();\n",
    "                    cell.code_mirror.replaceSelection('\\\\int_{}^{}');\n",
    "                    var cpos = cell.code_mirror.getCursor();\n",
    "                    cell.code_mirror.setCursor({line: cpos.line, ch: cpos.ch-4});\n",
    "                }\n",
    "            },\n",
    "        'Ctrl-Alt-3' : {\n",
    "                help    : 'Insert cos',\n",
    "                help_index : 'aa',\n",
    "                handler : function() {\n",
    "                    var cell = IPython.notebook.get_selected_cell();\n",
    "                    cell.code_mirror.replaceSelection('\\\\text{cos}');\n",
    "                }\n",
    "            },\n",
    "        'Ctrl-Alt-4' : {\n",
    "                help    : 'Insert sin',\n",
    "                help_index : 'aa',\n",
    "                handler : function() {\n",
    "                    var cell = IPython.notebook.get_selected_cell();\n",
    "                    cell.code_mirror.replaceSelection('\\\\text{sin}');\n",
    "                }\n",
    "            },\n",
    "        'Ctrl-Alt-5' : {\n",
    "                help    : 'Insert Brackets',\n",
    "                help_index : 'aa',\n",
    "                handler : function() {\n",
    "                    var cell = IPython.notebook.get_selected_cell();\n",
    "                    cell.code_mirror.replaceSelection('\\\\left[  \\\\right]');\n",
    "                    var cpos = cell.code_mirror.getCursor();\n",
    "                    cell.code_mirror.setCursor({line: cpos.line, ch: cpos.ch-8});\n",
    "                }\n",
    "            },\n",
    "        'Ctrl-Alt-6' : {\n",
    "                help    : 'Insert parenthesis',\n",
    "                help_index : 'aa',\n",
    "                handler : function() {\n",
    "                    var cell = IPython.notebook.get_selected_cell();\n",
    "                    cell.code_mirror.replaceSelection('\\\\left(  \\\\right)');\n",
    "                    var cpos = cell.code_mirror.getCursor();\n",
    "                    cell.code_mirror.setCursor({line: cpos.line, ch: cpos.ch-8});\n",
    "                }\n",
    "            },\n",
    "        'Ctrl-Alt-2' : {\n",
    "                help    : 'Insert equation',\n",
    "                help_index : 'aa',\n",
    "                handler : function() {\n",
    "                    var cell = IPython.notebook.get_selected_cell();\n",
    "                    cell.code_mirror.replaceSelection('$$  $$');\n",
    "                    var cpos = cell.code_mirror.getCursor();\n",
    "                    cell.code_mirror.setCursor({line: cpos.line, ch: cpos.ch-3});\n",
    "                }\n",
    "            },\n",
    "        'Alt-0' : {\n",
    "                help    : 'Insert partial',\n",
    "                help_index : 'aa',\n",
    "                handler : function() {\n",
    "                    var cell = IPython.notebook.get_selected_cell();\n",
    "                    cell.code_mirror.replaceSelection('\\\\partial ');\n",
    "                }\n",
    "            },\n",
    "        'Ctrl-Alt-n' : {\n",
    "                help    : 'Insert nabla',\n",
    "                help_index : 'aa',\n",
    "                handler : function() {\n",
    "                    var cell = IPython.notebook.get_selected_cell();\n",
    "                    cell.code_mirror.replaceSelection('\\\\nabla');\n",
    "                }\n",
    "            },\n",
    "        'Alt-Shift-t' : {\n",
    "                help    : 'Insert text',\n",
    "                help_index : 'aa',\n",
    "                handler : function() {\n",
    "                    var cell = IPython.notebook.get_selected_cell();\n",
    "                    cell.code_mirror.replaceSelection('\\\\text{}');\n",
    "                    var cpos = cell.code_mirror.getCursor();\n",
    "                    cell.code_mirror.setCursor({line: cpos.line, ch: cpos.ch-1});\n",
    "                }\n",
    "            },\n",
    "/*        'Shift-6' : {\n",
    "                help    : 'Insert superscript',\n",
    "                help_index : 'aa',\n",
    "                handler : function() {\n",
    "                    var cell = IPython.notebook.get_selected_cell();\n",
    "                    cell.code_mirror.replaceSelection('^{}');\n",
    "                    var cpos = cell.code_mirror.getCursor();\n",
    "                    cell.code_mirror.setCursor({line: cpos.line, ch: cpos.ch-1});\n",
    "                }\n",
    "            },\n",
    "        'Shift-_' : {\n",
    "                help    : 'Insert subscript',\n",
    "                help_index : 'aa',\n",
    "                handler : function() {\n",
    "                    var cell = IPython.notebook.get_selected_cell();\n",
    "                    cell.code_mirror.replaceSelection('_{}');\n",
    "                    var cpos = cell.code_mirror.getCursor();\n",
    "                    cell.code_mirror.setCursor({line: cpos.line, ch: cpos.ch-1});\n",
    "                }\n",
    "            },\n",
    "*/\n",
    "        };\n",
    "\n",
    "   // var load_ipython_extension = function() {\n",
    "        IPython.keyboard_manager.edit_shortcuts.add_shortcuts(add_edit_shortcuts);\n",
    "        IPython.keyboard_manager.command_shortcuts.add_shortcuts(add_command_shortcuts);\n",
    "    //};"
   ]
  },
  {
   "cell_type": "markdown",
   "metadata": {
    "heading_collapsed": true
   },
   "source": [
    "# Lecture 10"
   ]
  },
  {
   "cell_type": "markdown",
   "metadata": {
    "hidden": true
   },
   "source": [
    "## Last Lecture"
   ]
  },
  {
   "cell_type": "markdown",
   "metadata": {
    "hidden": true
   },
   "source": [
    "* New simulations uploaded\n",
    "* No absorption was discussed\n",
    "* We talk now about how to include viscocity\n",
    "* Nonlinear terms will be discussed as well"
   ]
  },
  {
   "cell_type": "markdown",
   "metadata": {
    "hidden": true
   },
   "source": [
    "## Nonlinear Terms"
   ]
  },
  {
   "cell_type": "markdown",
   "metadata": {
    "hidden": true
   },
   "source": [
    "If we saw that $M = \\dfrac{v}{C} \\ll 1$, then the convection term is negligible. Therefore, the particle velocity is much smaller than the propagation of the wave. Then we discussed the wave in terms of pressure. Here, unlike velocity, there is some hydrostatic pressure (aka, a DC offset of the pressure). Additionally, the amplitude of the pressure wave is much larger than the hydrostatic pressure. We now write the approximation above in terms of pressure.\n",
    "\n",
    "First, pausing to derive the compressibility relation:\n",
    "$$ \\kappa = \\dfrac{1}{\\rho}\\dfrac{\\partial \\rho}{\\partial p} = \\dfrac{1}{\\rho_o c^2} $$\n",
    "$$ \\rightarrow c^2 = \\dfrac{1}{\\rho_o \\kappa} $$\n",
    "\n",
    "For referece, $\\kappa$ is on the order of GPa. Nonlinear pressures occur around 1-10 MPa.\n",
    "\n",
    "Now applying this to pressure and impedance:\n",
    "$$ Z_o = \\dfrac{p}{v} \\rightarrow p = Z_o v \\ll z_oc = \\rho_o c^2 = \\dfrac{1}{\\kappa} $$\n",
    "\n",
    "When we will talk about nonlinear acoustics, the convection term is not the source of nonlinearity. There are other mechanisms which we will discuss."
   ]
  },
  {
   "cell_type": "markdown",
   "metadata": {
    "hidden": true
   },
   "source": [
    "<img  src=\"IMG_0126.JPG\"/>"
   ]
  },
  {
   "cell_type": "markdown",
   "metadata": {
    "hidden": true
   },
   "source": [
    "## Viscosity"
   ]
  },
  {
   "cell_type": "markdown",
   "metadata": {
    "hidden": true
   },
   "source": [
    "This takes energy from the propagation of the wave and turn it into thermal energy. This attenuates the amplitude of the wave. Whether it is tissue or liquid, viscosity happens.\n",
    "\n",
    "$$ \\rho_o\\left[ \\dfrac{\\partial v}{\\partial t} + (v \\cdot \\nabla)v) \\right] = -\\nabla p + (\\mu_B + \\dfrac{4}{3}\\mu)\\nabla (\\nabla\\cdot v) + \\mu \\nabla^2v $$\n",
    "\n",
    "Change of notation! It may be different from other fields. Typically, $\\mu_B$ is not considered because the convection term is so small.\n",
    "\n",
    "Consider the divergence of velocity. Nonzero divergence implies a source. It is possible for there to be nonzero divergence; therefore we don't discard the divergence term entirely.\n",
    "\n",
    "* $\\mu$ - sheer viscosity\n",
    "* $\\mu_B$ - bulk viscosity\n",
    "* $\\kappa = \\dfrac{1}{\\rho}\\dfrac{\\partial \\rho}{\\partial p}$ - adaibatic compressibility\n",
    "* $k = \\dfrac{\\omega}{c} = \\dfrac{2\\pi}{\\lambda}$\n",
    "\n",
    "Taking this forward:\n",
    "\n",
    "$$ \\kappa \\rho_o \\dfrac{\\partial^2 \\phi}{\\partial t^2} - \\nabla^2 \\phi = \\kappa(\\mu_B + \\dfrac{4}{3}\\mu)\\dfrac{\\partial}{\\partial t}(\\nabla^2 \\phi) $$\n",
    "\n",
    "Taking:\n",
    "$$ \\phi(r,t) = \\Phi(r,\\omega)e^{i\\omega t} $$\n",
    "\n",
    "We see that it becomes:\n",
    "$$ \\nabla^2 \\Phi + k^2 \\Phi = 0$$"
   ]
  },
  {
   "cell_type": "markdown",
   "metadata": {
    "hidden": true
   },
   "source": [
    "<img  src=\"IMG_0127.JPG\"/>"
   ]
  },
  {
   "cell_type": "markdown",
   "metadata": {
    "hidden": true
   },
   "source": [
    "What's different? $k$ used to be the wave number; now it can be imaginary. Here:\n",
    "$$ \\angle k = k(1+i\\omega \\kappa(\\mu_b + \\dfrac{4}{3}\\mu))^{-1/2}$$\n",
    "\n",
    "Usually, the imaginary portion is much smaller than 1. Therefore, it is convenient to use a Taylor expansion to reduce the expression:\n",
    "\n",
    "$$ \\angle k = k\\left[ 1 - \\dfrac{i\\omega \\kappa}{2}(\\mu_B + \\dfrac{4}{3}\\mu) \\right] = k - i\\alpha $$\n",
    "\n",
    "Here, alpha is the attenuation coefficient.\n",
    "\n",
    "Using these two relations:\n",
    "\n",
    "$$ c^2 = \\dfrac{1}{\\rho_o} $$\n",
    "$$ c = \\dfrac{\\omega}{k} $$\n",
    "\n",
    "We can get:\n",
    "$$ \\alpha = \\dfrac{\\omega^2}{2\\rho_o c_o^3}(\\mu_B + \\dfrac{4}{3}\\mu) $$\n",
    "\n",
    "Notice that the attentuation coefficient is dependent on the frequency. High-frequency waves increase resolution; however, this increases attenuation, and decreases penetration depth.\n",
    "\n"
   ]
  },
  {
   "cell_type": "markdown",
   "metadata": {
    "hidden": true
   },
   "source": [
    "<img  src=\"IMG_0128.JPG\"/>"
   ]
  },
  {
   "cell_type": "markdown",
   "metadata": {
    "hidden": true
   },
   "source": [
    "$$ p = \\dfrac{1}{\\rho_o}\\dfrac{\\partial \\phi}{\\partial t} $$\n",
    "$$ \\nabla \\cdot v = -\\nabla \\cdot \\nabla \\phi $$\n",
    "$$ \\dfrac{\\partial \\rho_1}{\\partial t} + \\rho_o \\nabla \\cdot v = 0 $$\n",
    "$$ \\kappa \\dfrac{\\partial p}{\\partial t} + \\nabla \\cdot v = 0 $$\n",
    "$$ \\kappa i \\omega \\angle p + k^2\\Phi = 0 $$\n",
    "\n",
    "$$ \\angle p = ik^2 \\Phi \\dfrac{1}{\\omega \\kappa} $$\n",
    "\n",
    "$$ \\nabla p = ik^2\\dfrac{1}{\\omega \\kappa}\\nabla \\Phi $$\n",
    "\n",
    "$$ v = i\\omega \\kappa \\dfrac{1}{k^2}\\nabla p $$\n",
    "\n",
    "Remember:\n",
    "$$ \\angle p = p_oe^{-ikx} \\rightarrow v = \\dfrac{\\omega}{\\kappa}{k} \\angle p $$\n",
    "\n",
    "$$ \\dfrac{\\angle p}{\\angle v} = \\dfrac{\\angle k}{\\omega \\kappa} $$\n",
    "\n",
    "These two waves will be slightly out of phase."
   ]
  },
  {
   "cell_type": "markdown",
   "metadata": {
    "hidden": true
   },
   "source": [
    "<img  src=\"IMG_0129.JPG\"/>"
   ]
  },
  {
   "cell_type": "markdown",
   "metadata": {
    "hidden": true
   },
   "source": [
    "<img  src=\"IMG_0130.JPG\"/>"
   ]
  },
  {
   "cell_type": "markdown",
   "metadata": {
    "hidden": true
   },
   "source": [
    "Rewriting this explicity:\n",
    "\n",
    "$$ \\angle p = p_o e^{-ikx} = p_oe^{-i(k-i\\alpha)x} = p_oe^{-\\alpha x}e^{-ikx} $$\n",
    "\n",
    "For intensity:\n",
    "\n",
    "$$ I = I_oe^{-2\\alpha x} $$\n",
    "\n",
    "There is no longer any more conservation of energy (within the wave), as some is carried to heat.\n",
    "\n",
    "There are two ways to represent the attenuation coefficient. The second is to use a dB scale.\n",
    "\n",
    "$$ \\alpha_{dB} = \\dfrac{20}{x}\\text{log}_{10}\\dfrac{p_o}{p(x)} = \\dfrac{10}{x}\\text{log}_{10}\\dfrac{I_o}{I(x)} $$\n",
    "$$ \\alpha_{dB} \\approx 8.686\\alpha $$\n",
    "\n",
    "Typically, the coefficient is written as follows. In datasheets, $\\alpha_o$ is given. To find the impedence for your specific application, you need to multiply by $f^2$. \n",
    "\n",
    "$$ \\alpha = \\alpha_o f^2 $$\n",
    "\n",
    "If there is not a fluid (e.g. different tissue types). Here, $ 1 < n < 2 $.\n",
    "$$ \\alpha = \\alpha_of^n $$\n",
    "\n"
   ]
  },
  {
   "cell_type": "markdown",
   "metadata": {
    "hidden": true
   },
   "source": [
    "<img  src=\"IMG_0131.JPG\"/>"
   ]
  },
  {
   "cell_type": "markdown",
   "metadata": {
    "heading_collapsed": true
   },
   "source": [
    "# Lecture 11"
   ]
  },
  {
   "cell_type": "markdown",
   "metadata": {
    "hidden": true
   },
   "source": [
    "## Last Lecture"
   ]
  },
  {
   "cell_type": "markdown",
   "metadata": {
    "hidden": true
   },
   "source": [
    "The intensity of the wave decreases. Mechanisms of attenuation are viscosity and sheer forces. Brining the energy from acoustic mode to thermal attenuates. There are other mechanisms for attenuation. There are also mechanisms to absorb ultrasound, turning ultrasound energy into thermal energy."
   ]
  },
  {
   "cell_type": "markdown",
   "metadata": {
    "hidden": true
   },
   "source": [
    "## Introduction to scattering"
   ]
  },
  {
   "cell_type": "markdown",
   "metadata": {
    "hidden": true
   },
   "source": [
    "Today, we discuss scattering, which shows up as attenuation. If this is a pure fluid, there is nothing to scatter the wave. If it is tissue, however, it is not homogeneous. These interfaces will scatter the incoming wave. Energy is still in the mechanical mode; only the direction has changed. Backscattering is when the wave is scattered 180$^o$ backward. It is the mechanism for contrast. It helps to identify types of tissue\n",
    "\n",
    "Question: why is the sky blue? We see light, even when not looking at the sun. We see scattering off molecules, called Rayleigh scattering. This is scattering off of molecules much smaller than the wavelength of the light. We will see it as the ratio of the object and wavelength later in lecture."
   ]
  },
  {
   "cell_type": "markdown",
   "metadata": {
    "hidden": true
   },
   "source": [
    "<img  src=\"IMG_0141.JPG\"/>"
   ]
  },
  {
   "cell_type": "markdown",
   "metadata": {
    "hidden": true
   },
   "source": [
    "In scattering, there are different types of problems. We will be interested to look at the properties of scattering.\n",
    "\n",
    "* $\\sigma$ - scattering cross-section\n",
    "* Shape of the scatterer (for example, a cell)\n",
    "\n",
    "Definitions:\n",
    "* $\\sigma_t = \\dfrac{\\text{time averaged scattered AND absorbed power}}{\\text{Time averaged incident intensity}} = \\dfrac{W_t}{I}$\n",
    "* [Area] = m^2 - here we talk about the area of the \"shadow\" ??\n",
    "* scattering cross-section - $\\sigma_s = \\dfrac{\\text{Time averaged scattered power}}{\\text{Incident Intensity}}$\n",
    "* $\\sigma_t = \\sigma_s + \\sigma_a$\n",
    "* $\\alpha_a = n\\sigma_a$\n",
    "\n",
    "$\\sigma_t$ describes scattering in any direction. Recall that $\\alpha$ is the absorption coefficient. It has units of 1/length. $n$ is the density of particles. If we talk about blood, and red blood cells are the scatterer, then $n$ is the concentration of red blood cells. $\\sigma_a$ is absorption cross section of an object, and n is the number of these objects per unit volume (concentration/density)."
   ]
  },
  {
   "cell_type": "markdown",
   "metadata": {
    "hidden": true
   },
   "source": [
    "<img  src=\"IMG_0142.JPG\"/>"
   ]
  },
  {
   "cell_type": "markdown",
   "metadata": {
    "hidden": true
   },
   "source": [
    "The differential cross-section has dependence on angle. This is because we integrate over the area\n",
    "$$ \\sigma_d(\\theta,\\varphi) = \\dfrac{\\text{Time averaged scattering in}(\\theta,\\varphi)\\text{ direction}}{\\text{Incident intensity}} $$\n",
    "\n",
    "$$ \\sigma_d = \\dfrac{dW_d}{d\\Omega} $$\n",
    "$$ d\\Omega = \\text{sin}\\theta d\\theta d\\varphi $$\n",
    "\n",
    "Basically, $d\\Omega$ is the change over the angle.\n",
    "\n",
    "The specific case of $\\theta = 180^o$ is the back scattering: $\\sigma_b = \\sigma_d(\\pi,0)$.\n",
    "\n",
    "Now we look at a sphere which is rigid. We are interested in finding the cross section. We will look at the wave and match the boundary conditions. The whole space is filled with two waves: the incident wave and the wave emerging from the sphere. Then we solve the boundary conditions on the sphere. We do this by describing the plane waves in term of an infinite sum of spherical waves. This is possible. We can decompose the planar wave into the spherical wave components. This is kind of like taking a Fourier transform, except the base components are different."
   ]
  },
  {
   "cell_type": "markdown",
   "metadata": {
    "hidden": true
   },
   "source": [
    "<img  src=\"IMG_0142.JPG\"/>"
   ]
  },
  {
   "cell_type": "markdown",
   "metadata": {
    "hidden": true
   },
   "source": [
    "The scattering field is related to the input pressure.\n",
    "\n",
    "Legendre function (safe to ignore, just for our information)\n",
    "$$ p_s(r) = p_{in}\\sqrt{\\dfrac{\\pi}{2\\pi r}}\\sum_{n=0}^{\\infty}\\dfrac{(-i)^{n+2}(2n_1)}{1+iK_n(k_o)}\\left[ J_{n+1/2}(kv) - iN_{n+1/2}(kr) \\right]P_n\\text{cos}\\theta $$\n",
    "\n",
    "We discuss small spheres: $ka\\ll 1$\n",
    "\n",
    "Here:\n",
    "\n",
    "$$ p_s(r,\\theta) = -p_{in}\\dfrac{k^2a^3}{3r}e^{-ikr}(1-\\dfrac{3}{2}\\text{cos}\\theta) $$\n",
    "\n",
    "We have two waves. We assumed one and calculated the other. The other is dependent on the scattering angle (this is the cos term). There are two terms in the parenthesis $(1-3/2\\text{cos}\\theta)$. Zero angle is where the cos=1. When cos=90$^o$. If we plot only the cos term, it has a butterfly shape, no radiation at 90$^o$. (See photo) This is called a dipole radiation. It can be produced by a moving object. The object can have a fixed dimension. If it is oscillation laterally, it will produce a dipole field of radiation. Energy is mostly transmitted forward, and none is transmitted up or down. This shows us that part of the scattering process is due to the plane wave moving the particle back and forth. There is also monopole radiation (this is the 1 term in the parenthesis)\n",
    "\n",
    "If we look at higher powers of the Legendre polynomial, we will have quadropole radiation, etc. However, these terms are negligibly small. The amplitude of the pressure waves is proportional to $k^2$, therefore proportional to wavelength."
   ]
  },
  {
   "cell_type": "markdown",
   "metadata": {
    "hidden": true
   },
   "source": [
    "<img  src=\"IMG_0145.JPG\"/>"
   ]
  },
  {
   "cell_type": "markdown",
   "metadata": {
    "hidden": true
   },
   "source": [
    "We must now calculate intensity.\n",
    "\n",
    "$$ I = p_s p_s^* \\dfrac{1}{2\\rho_oc_o} $$\n",
    "\n",
    "$$ I_s(r,\\theta) = p_{in}^2 \\dfrac{k^4a^6}{18\\rho_oc_or^2}(1-\\dfrac{3}{2}\\text{cos}\\theta)^2 $$\n",
    "\n",
    "Here, $a$ is the radius of the object.\n",
    "Power (integrating around the entire object)\n",
    "$$ W_s = \\int_0^{2\\pi}\\int_0^{\\pi}I_s(r,\\theta) r^2\\text{sin}\\theta d\\theta d\\varphi = \\int_0^{\\pi} I_s(r,\\theta) 2\\pi r^2 \\text{sin}\\theta d\\theta $$\n",
    "\n",
    "After evaluating the scattered power and normalizing it with the incident intensity, we can find the scattering cross-section.\n",
    "$$ \\sigma_s = \\dfrac{7}{9}\\pi k^4a^6 $$\n",
    "\n",
    "The scattering cross-section falls off as the wavelength gets lerger than the object. Falls off with $\\lambda^-4$"
   ]
  },
  {
   "cell_type": "markdown",
   "metadata": {
    "hidden": true
   },
   "source": [
    "<img  src=\"IMG_0146.JPG\"/>"
   ]
  },
  {
   "cell_type": "markdown",
   "metadata": {
    "hidden": true
   },
   "source": [
    "Scattering changes with size of the particles. When the particle is large enough, we see the effect of a shadow. The scattering power in the forward direction is coherently destructive with the incident wave. The incident and scattered wave will destructively interfere, creating a shadow. "
   ]
  },
  {
   "cell_type": "markdown",
   "metadata": {
    "hidden": true
   },
   "source": [
    "<img  src=\"IMG_0147.JPG\"/>"
   ]
  },
  {
   "cell_type": "markdown",
   "metadata": {
    "heading_collapsed": true
   },
   "source": [
    "# Lecture 12"
   ]
  },
  {
   "cell_type": "markdown",
   "metadata": {
    "hidden": true
   },
   "source": [
    "## Review"
   ]
  },
  {
   "cell_type": "markdown",
   "metadata": {
    "hidden": true
   },
   "source": [
    "We described an incoming wave on a particle. The particle will reflect the wave in all directions; this, we call scattering. The amount of scattering is proportional to the scattering cross-section. The differential cross section describes the power scattered at specific angles (normalized by the angle as well as the input intensity). This process of scattering will attenuate the intensity of the incoming wave.\n",
    "\n",
    "Similar to absorption. This is a more simple case, as the energy \"disappears\" as it gets transferred to thermal energy. Absorption is described by $ \\alpha = \\sigma_a n $ with units of $\\dfrac{[m]^2\\cdot \\text{number}}{m^3} = \\dfrac{1}{m}$.\n",
    "\n",
    "Scattering is a little more complex, as the scattered waves may still interfere. Last time, we looked at scattering cross-section of a single particle, specifically a rigid sphere. Next, we will extend it to a non-rigid sphere, and then looking at multiple objects."
   ]
  },
  {
   "cell_type": "markdown",
   "metadata": {
    "hidden": true
   },
   "source": [
    "<img  src=\"IMG_0148.JPG\"/>"
   ]
  },
  {
   "cell_type": "markdown",
   "metadata": {
    "hidden": true
   },
   "source": [
    "## Compressible Spherical Particle"
   ]
  },
  {
   "cell_type": "markdown",
   "metadata": {
    "hidden": true
   },
   "source": [
    "This case may be solved analytically. The scatterer has different density than the surrounding medium.\n",
    "\n",
    "We assume:\n",
    "* Particle is small ($ka \\ll 1$)\n",
    "* at large distane ($kr \\gg 1$)\n",
    "\n",
    "\n",
    "$$ p_s(r,\\theta) = p_{in} e^{-ikr} \\dfrac{k^2a^3}{3r} \\left[ \\dfrac{\\kappa_s - \\kappa_o}{\\kappa_o} + \\dfrac{3(\\rho_s-\\rho_o)}{2\\rho_s + \\rho_o}\\text{cos}\\theta \\right] $$\n",
    "\n",
    "We see again that the radiation is a combination of dipole and monopole radiation. The direction of oscillations creates the direction of the dipole. Because of the compressability of the sphere, the monopole radiation occurs. Imagine it gets compressed then released (I believe). This is similar to the rigid case, but the sources and amplitudes are different."
   ]
  },
  {
   "cell_type": "markdown",
   "metadata": {
    "hidden": true
   },
   "source": [
    "<img  src=\"IMG_0149.JPG\"/>"
   ]
  },
  {
   "cell_type": "markdown",
   "metadata": {
    "hidden": true
   },
   "source": [
    "## Multiple Scatterers"
   ]
  },
  {
   "cell_type": "markdown",
   "metadata": {
    "hidden": true
   },
   "source": [
    "There are several scatteres. We use the term solid angle to describe a portion of the spherical surface. The solid angle of the entire surface is $4\\pi$, as the surface area is $4\\pi r^2$. In scattering, we assume the solid angle is part of a larger sphere.\n",
    "\n",
    "The solid angle is measured as the $\\text{sin}\\theta \\Delta \\theta \\cdot \\Delta \\varphi$. In the drawing, imagine that $\\Delta \\varphi=2\\pi$. In this case, the solid angle $\\Omega = \\theta\\text{sin}(\\theta) 2\\pi$.\n",
    "\n",
    "Imagine the density ofhtep articles are causing the scattering of the wave. Some of it is detected at a later detector. The total power of the wave within that angle is $P_s$.\n",
    "\n",
    "Specifically, let's talk about backscattering. It works for any angle, but here, we specifically speak about $P_{bs}$ for backscatter. There is one diference between this case and the single particle. The power is a combination of many scatterers within a volume. Therefore, we need to specify the volume of the scatterers, $V$. So, defining the backscattering coefficient, $\\sigma_{bsc}$. **This is not the scattering cross section!!!**. scattering cross section is $\\sigma_b$ and has units $m^2$. It is the backscattering coefficient and has the same units as absorption, $[\\dfrac{1}{m}]$.\n",
    "\n",
    "For example, $\\sigma_b$ could be the scattering of a single red blood cell. To get the backscattering of the group, we would need to multiply by the density of blood cells, $n$.\n",
    "\n",
    "$$ \\sigma_{bsc} = \\sigma_{b}\\cdot n \\dfrac{<V_s^2>}{<V_s>^2} $$\n",
    "\n",
    "Deriving this from power and the solid angle:\n",
    "\n",
    "$$ \\sigma_{bsc} = \\dfrac{P_{bs}}{\\Omega I_{in}V} $$"
   ]
  },
  {
   "cell_type": "markdown",
   "metadata": {
    "hidden": true
   },
   "source": [
    "<img  src=\"IMG_0150.JPG\"/>"
   ]
  },
  {
   "cell_type": "markdown",
   "metadata": {
    "hidden": true
   },
   "source": [
    "$$\\sigma_{bsc} = \\dfrac{1}{v}\\cdot 2\\dfrac{<\\bar{p^2}_s>}{p_{in}^2}$$\n",
    "\n",
    "We mean two different methods of averaging. Here, $\\bar{p}$ indicates time averaging. $<p>$ is the ensemble averaging. If we look at the scatterers, they may be arranged differently. Each of these instances would give a different scattering output (e.g. the particles all interfere destructively). We sum up all the scenarios. \n",
    "\n",
    "Note, take the pressure, then square it, then take the ensemble averaging.\n",
    "\n",
    "$$ p_s(r,t)= \\dfrac{p_{in}}{r}\\dfrac{\\sqrt{\\sigma_b}}{<V_s>} \\sum_1^N V_n^s \\text{cos}(\\omega t + \\varphi_n) $$\n",
    "\n",
    "$V_n$ is the volume of the nth paritcle. Each particle has its own magnitude and phase.\n",
    "\n",
    "Translating this into scattering cross section of single compressible sphere:\n",
    "\n",
    "$$ \\sigma_b = \\left(\\dfrac{k^2<V_s>}{4\\pi}\\right)^2 \\left[ \\dfrac{\\kappa_s - \\kappa_o}{\\kappa_o} - \\dfrac{\\rho_s-\\rho_o}{\\rho_o} \\right] $$\n",
    "\n",
    "$$ \\varphi_n = 2k(\\bar{r_n}\\cdot\\hat{r_i} - kr$$\n",
    "\n",
    "$$ p_s = \\dfrac{p_{in}}{r} \\dfrac{\\sqrt{\\sigma_b}}{<V_s>}\\left[ \\text{cos}(\\omega t) \\sum_1^n V_n^s \\text{cos}(\\varphi_n) - \\text{sin}(\\omega t) \\sum_1^n V_n^s \\text{sin}(\\varphi_n) \\right] $$\n",
    "\n",
    "Quick annotations:\n",
    "* $A_1 = \\sum_1^n V_n^s \\text{cos}(\\varphi_n)$\n",
    "* $sum_1^n V_n^s \\text{sin}(\\varphi_n)$\n",
    "\n",
    "Basically, here we are summing the amplitude and phase of a bunch of random particles. Using these results and assumptions:\n",
    "\n",
    "$$ \\sigma_{bsc} = \\sigma_b\\dfrac{N}{V}\\dfrac{<V_s^2>}{<V_s>^2} $$\n",
    "\n",
    "* $\\dfrac{<V_s^2>}{<V_s>^2}$ refers to variability in sizes\n",
    "* $\\dfrac{N}{V}$ refers to density\n",
    "* $V_n^s$ is volume of nth object. s referers to scatterer\n",
    "* $<V_s>$ is the average volume of the scatterers\n",
    "* $V$ is the total volume\n",
    "\n",
    "Now we have approach to find backscattering from the scattering cross-section.\n",
    "\n",
    "Assumptions that were not even mentioned:\n",
    "* multiple scattering (wave scatters on more than one particle). We only take the first-order process\n",
    "* Also no correlation between the location of each scatterer. That is, when we sum up the process, we assume the locations are completely random.\n",
    "\n",
    "We can look it up in the textbook, page 393. It talks about the backscattering coefficient which is related to density. Here, N/V refers to the number of cells divided by the total volume.\n",
    "\n",
    "$$ H = \\dfrac{N}{V} \\cdot <V_s> $$\n",
    "\n",
    "Unfortunately, experimentation does not quite follow this. As the graph shows, the scattering deviates from linearity due to other effects, such as finite size. Obviously, when we have a sparse distribution. It is interesting to note that, as density increases, we see similar values to that of low density. This is because, at high density, the medium is essentially the particles and the medium now becomes like the particles (because there are so many particles, the empty space becomes rarer)"
   ]
  },
  {
   "cell_type": "markdown",
   "metadata": {
    "hidden": true
   },
   "source": [
    "<img  src=\"IMG_0151.JPG\"/>"
   ]
  },
  {
   "cell_type": "markdown",
   "metadata": {
    "hidden": true
   },
   "source": [
    "<img  src=\"IMG_0152.JPG\"/>"
   ]
  },
  {
   "cell_type": "markdown",
   "metadata": {
    "hidden": true
   },
   "source": [
    "<img  src=\"IMG_0153.JPG\"/>"
   ]
  },
  {
   "cell_type": "markdown",
   "metadata": {
    "heading_collapsed": true
   },
   "source": [
    "# Lecture 13"
   ]
  },
  {
   "cell_type": "markdown",
   "metadata": {
    "hidden": true
   },
   "source": [
    "We are switching to a different topic. We are getting to mathematics of wave propagation. It would be useful to know tools to shed more light onto real propagation of waves in real situations. Starting from wave equation, we can write down a general solution. We will start with:\n",
    "\n",
    "$$ \\dfrac{\\partial^{2}}{\\partial t^{2}}\\Psi - c^{2}\\nabla^{2}\\Psi = 0 $$\n",
    "\n",
    "After incorperating external forces, the wave equation becomes:\n",
    "\n",
    "\n",
    "$$ \\dfrac{\\partial^{2}}{\\partial t^{2}}\\Psi - c^{2}\\nabla^{2}\\Psi = -4\\pi q(\\bar{r},t) $$\n",
    "\n",
    "Where q is a wave source. We also didn't have any way of incorperating boundary and initial conditions. The other term will be taking into account the existing wave at the initial time(initial conditions).\n",
    "\n",
    "Goal: consider the wave equation within a volume. For some mechanism:"
   ]
  },
  {
   "cell_type": "markdown",
   "metadata": {
    "hidden": true
   },
   "source": [
    "<img  src=\"IMG_0157.JPG\"/>"
   ]
  },
  {
   "cell_type": "markdown",
   "metadata": {
    "hidden": true
   },
   "source": [
    "$ \\Psi(r,t) $ for $r \\in S$\n",
    "$\\Psi(r,t=t_{o})$\n",
    "$\\dfrac{\\partial \\Psi(r,t)}{\\partial t} \\rvert_{t=t_{0}} $\n",
    "\n",
    "We can use greens function to help us solve the equation. Here, the solution to the wave equation from an impulse source is defined as $G(r,t|r_{o},t_{o})$. This impulse is at a specific location $r_{o}$ at a certain time $t_{o}$. A note about G: we invented it. We know exactly what it is. It varies from problem to problem for exactly what it is, but it must always satisfy Green's Theorem (not discussed here).\n",
    "\n",
    "$$ \\nabla^{2}G - \\dfrac{1}{c^{2}}\\dfrac{\\partial^{2}G}{\\partial t^{2}} = -4\\pi\\delta(r-r_{o})\\delta(t-t_{o}) $$\n",
    "\n",
    "Initial conditions:\n",
    "* $ G(rt|r_{o}t_{o}) = 0 $ for $t<t_{o}$\n",
    "* $ \\dfrac{\\partial G}{\\partial t} = 0 $ for $t<t_{o}$\n",
    "\n",
    "If a wave originates a spatial coordinate $r_{1}$, and is measured at some separate spatial coordinate $r_{2}$ which experiences the wave at some time point after $t_{o}$, it is an interesting phenomenon that the same phenomenon may be expressed where the source is now $r_{2}$ and the measurement is $r_{1}$. Basically, switching the order of the transducer and receiver is mathematically okay. This is shown mathematically as:\n",
    "\n",
    "$$ G(r,t|r_{o},t_{o}) = G(r_{o},-t_{o}|r,-t) $$\n",
    "\n",
    "* Define: eq(1): $ \\nabla_{0}^{2}(r_{0},t_{o}) - \\dfrac{1}{c^{2}}\\dfrac{\\partial \\Psi}{\\partial t_{o}} = -4\\pi q(r_{o},t_{o})$\n",
    "* Define: eq(2) :$ \\nabla^{2}_{o}G(rt|r_{o}t_{o}) - \\dfrac{1}{c^{2}}\\dfrac{\\partial^{2}G}{\\partial t_{o}^{2}} = -4\\pi\\delta(r-r_{o})\\delta(t-t_{o}) $\n",
    "\n",
    "Take the operation: Multiple the top by G and multiply the bottom by $\\Psi$ and subtract. Then integrate over all space.\n",
    "\n",
    "$$ \\int_{V} \\int_{t} \\left[ eq(1)\\cdot G - eq(2) \\cdot \\Psi \\right] d^{3}xdt $$\n",
    "\n",
    "\n",
    "$$ \\int_{0}^{t}dt_{o}\\int_{V}d^{3}x\\left[ G\\nabla^{2}_{o}\\Psi - \\Psi\\nabla_{o}^{2}G + \\dfrac{1}{c^{2}}\\left( \\dfrac{\\partial^{2}G}{\\partial t_{0}^{2}} \\Psi 0 G\\dfrac{\\partial^{2} \\Psi}{\\partial t_{o}^{2}} \\right) \\right] = 4\\pi\\left[ \\Psi(r,t) - \\int_{0}^{t}dt_{o}\\int d^{3}xq(r_{o},t_{o})G \\right] $$"
   ]
  },
  {
   "cell_type": "markdown",
   "metadata": {
    "hidden": true
   },
   "source": [
    "<img  src=\"IMG_0158.JPG\"/>"
   ]
  },
  {
   "cell_type": "markdown",
   "metadata": {
    "collapsed": true,
    "hidden": true
   },
   "source": [
    "$$ \\nabla^{2}\\Psi = \\nabla\\cdot(\\nabla\\Psi) $$\n",
    "\n",
    "Volume -> Surface\n",
    "$$ \\int\\nabla\\cdot E dV = \\int E\\cdot ds $$\n",
    "\n",
    "$$ \\int_{0}^{t}dt_{o}\\int d\\bar{s} \\cdot \\left( G\\nabla_{o}\\Psi - \\Psi \\nabla_{o}G \\right) + \\dfrac{1}{c^{2}}\\int d^{3}x\\left[ \\dfrac{\\partial G}{\\partial t_{o}}\\Psi - G\\dfrac{\\partial \\Psi}{\\partial t_{o}} \\right]\\rvert_{0}^{t} + 4\\pi\\int_{o}^{t}dt_{o}\\int d^{3}xq(r_{o},t_{o})G = 4\\pi \\Psi(r,t) $$\n",
    "\n",
    "Breaking this up into three terms, each separated by the plus sign. Specifically at $t_{o}$, $\\dfrac{\\partial G}{\\partial t_{0}} = 0$ because the wave will not have time to travel there yet.\n",
    "\n",
    "Backing it up:\n",
    "\n",
    "$$ \\nabla_{o}^{2}G(r,t|r_{o}t_{o}) - \\dfrac{1}{c^{2}}\\dfrac{\\partial^{2}G(rt|r_{o}t_{o})}{\\partial t_{o}^{2}} = -4\\pi q(r_{o},t_{o}) $$\n",
    "$$ 4\\pi(r,t) = 4\\pi\\int_{0}^{t} dt_{o} \\int d^{3}r_{o}G(r,t|r_{o},t_{o}) q(r_{o},t_{o}) + \\int_{0}^{t}dt \\int_{S} ds\\cdot\\left( G\\nabla_{o}\\Psi - \\Psi\\nabla_{o}G \\right) - \\dfrac{1}{c^{2}}\\int d^{3}r_{o}\\left[\\dfrac{\\partial G(r,t|r_{o},t_{o})}{\\partial t_{o}} - G(r,t|r_{o},0) \\dfrac{\\partial \\Psi}{\\partial t_{o}}\\right] $$\n",
    "\n",
    "|----------------1--------------| |--------------2------------| |-------------------3-------------------|\n",
    "\n",
    "We dissect this equation into 3 portions:\n",
    "* 1 (3 in the picture): This describes the effect of a source $q$ on the wave. The source is propagated through the mechanism described by $G$. This is specific to the application, but in general describes the physical mechanism which propagates the source. We would use this portion of the equation to describe, say, 2 point sources.\n",
    "* 2 (1 in the picture): This describes the boundary condition. We would use this portion to describe, say, a transducer placed on the side of the object.\n",
    "* 3 (2 in the picture): If there is no source or boundary condition, there may still be a wave from previous conditions. (I think)"
   ]
  },
  {
   "cell_type": "markdown",
   "metadata": {
    "hidden": true
   },
   "source": [
    "<img  src=\"IMG_0160.JPG\"/>"
   ]
  },
  {
   "cell_type": "markdown",
   "metadata": {
    "heading_collapsed": true
   },
   "source": [
    "# Lecture 14"
   ]
  },
  {
   "cell_type": "markdown",
   "metadata": {
    "hidden": true
   },
   "source": [
    "Last class, came up with something useful, now convince that it's actually useful.\n",
    "\n",
    "$$ \\Phi_o(r) = \\Phi(r,t=0) $$\n",
    "\n",
    "One equation proken into 3 parts:\n",
    "term 1 (sources):\n",
    "$$ 4\\pi\\Phi(r,t) = 4\\pi\\int_0^{t} dt_o \\int_V d^3r_o G(r,t|r_o,t_o)q(r_o,t_o) $$\n",
    "term 2 (boundaries) (note $\\nabla_o$ is w.r.t. S not r aka w.r.t the boundary):\n",
    "$$ + \\int dx \\cdot(G\\nabla_o\\Phi - \\Phi\\nabla_oG) $$\n",
    "term 3 (initial conditions):\n",
    "$$ -\\dfrac{1}{c^2}\\int d^3 r_o \\left[ \\dfrac{\\partial G}{\\partial t_o}\\big \\rvert_{t_o=0}\\Phi_o(r_o) - G(r,t|r_o,0)\\dfrac{\\partial \\Phi}{\\partial t}\\big \\rvert_{t_o = 0} \\right] $$\n",
    "\n",
    "If we choose a green's function which satisfies the same boundary condition which also applies to the primary function (???), the second term vanishes. This will be the case where we have a plane and we know the conditions of the surface. We can then choose a Green's funciton to eliminate the second term.\n",
    "\n",
    "If we choose Green's function to just be a spherical wave and there is a planar surface, Green's function would not satisfy the boundary condition. The good part though is that Green's function is similar. We can include Green's function easier if we use imaginary sources.\n",
    "\n",
    "Let us continue for the case where there is infinite volume (2nd term vanishes because the surface is integrated an infinite distance away). We assume everything we deal with is local. Consisting of a limited space means infinitely away there is no pressure. We also assume no sources (no 1st term). We do assume there is some initial distribution of pressure. The question next is how will it propagate. Since there is no specific boundary to deal with, we will assume the Green's function looks like:\n",
    "\n",
    "We choose an expanding spherical wave. We know that a solution to the spherical wave looks like $\\dfrac{1}{r}f(r-ct)$. Therefore, we choose $f$ to look like a delta. The Green's function looks like:\n",
    "\n",
    "$$ g(r,t|r_o,t_o) = \\dfrac{1}{r}\\delta(r-c(t-t_o)) $$\n",
    "\n",
    "Note that greens function was $G$. It is now $g$. The change of notation was used to avoid confusion later in the derivation.\n",
    "\n",
    "Next, we specify the initial conditions:\n",
    "\n",
    "* $\\Phi(r,0) = \\Phi_o(r)$\n",
    "* $\\dfrac{ \\partial\\Phi}{\\partial t}\\big \\rvert_{t=0} = \\dfrac{1}{\\rho_o}p_o(r)$\n",
    "\n",
    "Here, $p_o$ is the initial distribution of pressure.\n",
    "\n",
    "$$ \\Phi(r,t) = \\dfrac{-1}{4\\pi c^2}\\int d^3r_o\\left[ \\delta^\\prime(\\dfrac{|r-r_o|}{c} - t) \\Phi_o(r_o)\\dfrac{1}{|r-r_o|} - \\delta(\\dfrac{|r-r_o|}{c} - t)\\dfrac{1}{\\rho_o}p_o(r_o)\\dfrac{1}{|r-r_o|} \\right] $$\n",
    "\n",
    "here, $\\delta^\\prime(t) = \\dfrac{\\partial \\delta(t)}{\\partial t}$\n",
    "\n",
    "Also, it is useful to note of $\\delta$\n",
    "\n",
    "$ \\int_{a}^{b} f(x)\\delta(x)dx = f(0)  $ for $ a < 0 < b $\n",
    "$ \\int_{a}^{b} f(x)\\delta(x)dx = 0  $ otherwise\n",
    "\n",
    "Also the result of:\n",
    "\n",
    "$\\int_{a}^{b} f(x)\\delta^\\prime(x)dx = -f^\\prime(0)  $ for $ a < 0 < b $\n",
    "$\\int_{a}^{b} f(x)\\delta^\\prime(x)dx = 0  $ otherwise"
   ]
  },
  {
   "cell_type": "markdown",
   "metadata": {
    "hidden": true
   },
   "source": [
    "<img  src=\"IMG_0162.JPG\"/>"
   ]
  },
  {
   "cell_type": "markdown",
   "metadata": {
    "hidden": true
   },
   "source": [
    "<img  src=\"IMG_0161.JPG\"/>"
   ]
  },
  {
   "cell_type": "markdown",
   "metadata": {
    "hidden": true
   },
   "source": [
    "Let's set our observation point for the origin ($r=0). Also moving to spherical coordinates:\n",
    "\n",
    "$$ \\Phi(0,t) = \\dfrac{1}{4\\pi c^2}\\int d\\Omega_o \\int dr_o \\left[ r_o\\delta(\\dfrac{r_o}{c} - t)\\dfrac{1}{\\rho_o}p_o(r_o,\\theta_o,\\vartheta_o) - r_o\\delta^\\prime(\\dfrac{r_o}{c} -t) \\Phi_o(r_o,\\theta_o,\\vartheta_o) \\right] $$\n",
    "\n",
    "Here:\n",
    "* $d^3r = r_o^2 dr_o d\\Omega_o$\n",
    "* $ d\\Omega_o = \\sin(\\theta_o)d\\theta_o d\\vartheta_o $\n",
    "\n",
    "The dotted plane in the image is rotated in the xy plane. The angle between z-axis and $\\bar{r_o} = \\theta_o$. The projection of $\\bar{r_o}$ onto the xy plane maes an angle with the x-axis. This is $\\vartheta_o$.\n",
    "\n",
    "The distribution of pressure is arbitrary, as is the distributijon of $\\Phi_o)$. Using the properties of $\\delta$, we may complete the integral $\\int dr_o$. Not the one over the angles.\n",
    "\n",
    "$$ \\Phi(0,t) = \\dfrac{1}{4\\pi}\\int d\\Omega \\left[ t\\dfrac{1}{\\rho_o}p_o(ct,\\theta_o,\\vartheta) + \\dfrac{\\partial}{\\partial t}\\left( t\\Phi_o(ct,\\theta_o,\\vartheta_o) \\right) \\right] $$\n",
    "\n",
    "If we want to know the pressure at any point, we need to evaluate the above equation. The method would be to make the observation point at the origin. Knowing the pressure distribution given in spherical coordinates, we may apply this integral over the angles. We can see here that the pressure we need t otake is evaluated at a specific distance at the origin, given as $ct$ in the term $p_o(ct,\\theta_o,\\vartheta_o)$. It's important to note that this is only a 2D integration, over a spherical shell. The radius of this shell is $ct$. Therefore this is the shell we need to integrate over.\n",
    "\n",
    "Let's do one step further. Say we know pressure $p_o=p_{in}$ at $r<a$ where $a$ is the radius of the sphere. And we know velocity distribution $v_o=0$ everwhere. Let's talk about the case of photoacoustic imaging. Light is absorbed by an object. What if we have a sphere which is gray, allowing light to be partially absorbed. Say it absorbs 1\\% of the light. Let's also assume the laser illumination is also a femptosecond, so approximately a delta function. What do we know about the acoustic pressure and velocity? There will be some pressure inside, uniform. The pressure outside is 0 (not hydrostatic pressure, but the acoustic pressure). The profile of the pressure looks like a step function. Finally, let's specify the observation point. Say the detector is located some distance away at a distance of $l$.\n",
    "\n",
    "There is no dependence on $\\vartheta_o$, but there is some dependence on $\\theta_o$. If there is zero velocity, what does this mean about $\\Phi$? Recall $v = -\\nabla\\Phi$. This means that $\\Phi$ is any constant (we assume 0). We need a function where $\\Phi(r,t)$ has a time derivative. $\\Phi=0$ everywhere outside the sphere. We can specify a funciton which has a nonzero time derivative but a zero spatial derivative. This sets the term $\\dfrac{\\partial}{\\partial}\\left[ t\\Phi_o(ct,\\theta_o,\\vartheta_o) \\right]=0$. We need to use this for the task next week."
   ]
  },
  {
   "cell_type": "markdown",
   "metadata": {
    "collapsed": true,
    "heading_collapsed": true
   },
   "source": [
    "# Lecture 15"
   ]
  },
  {
   "cell_type": "markdown",
   "metadata": {
    "heading_collapsed": true,
    "hidden": true
   },
   "source": [
    "## Announcements:"
   ]
  },
  {
   "cell_type": "markdown",
   "metadata": {
    "hidden": true
   },
   "source": [
    "* Exam is after the spring break"
   ]
  },
  {
   "cell_type": "markdown",
   "metadata": {
    "hidden": true
   },
   "source": [
    "## Huygen's Principle of waves"
   ]
  },
  {
   "cell_type": "markdown",
   "metadata": {
    "hidden": true
   },
   "source": [
    "Goes back to 1690. Each element of a wavefront may be regarded as the center of a secondary distirbance which give rise to spherical wavelets.\n",
    "-- Borne and Wolf"
   ]
  },
  {
   "cell_type": "markdown",
   "metadata": {
    "hidden": true
   },
   "source": [
    "<img  src=\"IMG_0164.JPG\"/>"
   ]
  },
  {
   "cell_type": "markdown",
   "metadata": {
    "hidden": true
   },
   "source": [
    "A wavefront describes the points along the wave with the same phase. The wavefront can be described as an array of point sources. The wavefront at some point later may be described as the sum of all these point sources.\n",
    "\n",
    "Moving forward ~200 years, Kirchhoff analyzed the wave equation (same one we derived). He started from  the general solution and asked the question: a surface encloses the volume. The spatial derivative of $\\Phi$ is given along its surface. What is the acoustic pressure or velocity potential at any point inside. We assume no internal sources $q$ and at $t=0$, $\\phi=0$.\n",
    "\n"
   ]
  },
  {
   "cell_type": "markdown",
   "metadata": {
    "hidden": true
   },
   "source": [
    "<img  src=\"IMG_0166.JPG\"/>"
   ]
  },
  {
   "cell_type": "markdown",
   "metadata": {
    "hidden": true
   },
   "source": [
    "$$ \\phi = \\dfrac{1}{4 \\pi}\\int_0^t dt_0 \\int_S d\\bar{s} \\cdot \\left[ G\\nabla_o \\phi - \\phi \\nabla_oG \\right] $$\n",
    "\n",
    "$$ G = \\dfrac{1}{R}\\delta(t_o - t) + \\dfrac{R}{C} $$\n",
    "\n",
    "By choosing this particular green function, we consider no reflections from the boundary. This boundary is not a physical boundary, it is simply a specific region. \n",
    "\n",
    "Notations:\n",
    "* Points along the surface are denoted with a $o$ such as $r_o$.\n",
    "* $\\bar{r} - \\bar{r_o} = \\bar{R}$ and $R = |\\bar{R}|$\n",
    "\n",
    "$$ \\phi(r,t) = \\dfrac{1}{4\\pi}\\int_0^t dt_o \\int d\\bar{s}\\cdot \\left[  \\dfrac{\\delta(t_o - t + \\dfrac{R}{C})}{R}\\nabla_o\\phi - \\phi \\nabla_o \\left(\\dfrac{\\delta(t_o - t + \\dfrac{R}{C})}{R}\\right) \\right] $$\n",
    "\n",
    "Here $\\nabla_o$ is the derivative along the surface and C is the speed of sound:\n",
    "\n",
    "$$ \\nabla_o = \\dfrac{\\partial}{\\partial x}\\hat{x} + \\dfrac{\\partial}{\\partial y}\\hat{y} + \\dfrac{\\partial}{\\partial z}\\hat{z} $$\n",
    "\n",
    "Now what? Lol, use the $\\delta$ functions, silly! That's why there there; to solve the integral.\n",
    "\n",
    "So, keep the surface integral. Only do the time integral. So switch the order. The time integral can be solved using the delta fuctions."
   ]
  },
  {
   "cell_type": "markdown",
   "metadata": {
    "hidden": true
   },
   "source": [
    "<img  src=\"IMG_0167.JPG\"/>"
   ]
  },
  {
   "cell_type": "markdown",
   "metadata": {
    "hidden": true
   },
   "source": [
    "Beginning with only the time integral:\n",
    "\n",
    "$$ \\int_0^t \\dfrac{1}{R}\\delta(t_o - t + \\dfrac{R}{C}) \\nabla_o\\phi(r_o,t_o) dt_o = \\dfrac{1}{R}\\nabla_o \\phi(r_o,t-\\dfrac{R}{c}) $$\n",
    "\n",
    "Over the integration, $\\delta(t_o-t+\\dfrac{R}{c})$ is the only 1 at a single value: $t_o = t-\\dfrac{R}{c}$. Thats how we get the equality.\n",
    "\n",
    "$$ \\int_0^t \\phi \\nabla_o\\left[ \\dfrac{\\delta(t_o - t + \\dfrac{R}{c})}{R} \\right]dt_o = \\int_0^t \\phi\\dfrac{\\partial}{\\partial R}\\left[ \\dfrac{\\delta(t_o - t + \\dfrac{R}{c}}{R} \\right]\\nabla_o R dt_o $$\n",
    "\n",
    "Note that:\n",
    "\n",
    "$$ R^2 = (x-x_o)^2 + (y-y_o)^2 + (z-z_o)^2 $$\n",
    "\n",
    "Breaking up derivative:\n",
    "\n",
    "$$ \\dfrac{\\partial R^2}{\\partial x_o} = -2(x-x_o)  $$\n",
    "$$ \\dfrac{\\partial R^2}{\\partial x_o} = \\dfrac{\\partial R^2}{\\partial R}\\cdot \\dfrac{\\partial R}{\\partial x_o} = 2R \\dfrac{\\partial R}{\\partial x_o} $$\n",
    "$$ \\dfrac{\\partial R}{\\partial x_o} = \\dfrac{-1}{R} (x-x_o) $$\n",
    "\n",
    "$$ \\nabla_o R = \\dfrac{-1}{R}(x-x_o) \\hat{x} + \\dfrac{-1}{R}(y-y_o) \\hat{y} + \\dfrac{-1}{R}(z-z_o)\\hat{z} $$\n",
    "$$ \\nabla_o R = \\dfrac{-1}{R}\\bar{R} $$\n",
    "\n",
    "Now back to the main derivation:\n",
    "\n",
    "$$ \\int_0^t \\phi(r_o,t_o) \\dfrac{\\bar{R}}{R^3} \\left[ \\delta(t-t_o + \\dfrac{R}{c}) + \\dfrac{R}{c}\\delta\\prime(t_o - t + \\dfrac{R}{c})\\right]dt_o $$\n",
    "$$ = -\\dfrac{\\bar{R}}{R^3}\\left[ \\phi(r_o,t-\\dfrac{R}{c}) + \\dfrac{R}{c}\\left(\\dfrac{\\partial \\phi(r_o,t_o)}{\\partial t}\\right) \\big \\rvert_{t-\\dfrac{R}{c}} \\right] $$\n",
    "\n",
    "$$ \\phi(r,t) = \\dfrac{1}{4\\pi} \\int_S d\\bar{S} \\cdot \\left[ \\dfrac{1}{R}\\nabla_o \\phi(r_o,t_o) + \\dfrac{\\bar{R}}{R^3}\\phi(r_o,t_o) - \\dfrac{\\bar{R}}{cR^2}\\dfrac{\\partial}{\\partial t_o}\\phi(r_o,t_o) \\right]\\big \\rvert{t_o = t-\\dfrac{R}{c}} $$\n",
    "\n",
    "This is the kirchhoff integral theorem.\n",
    "\n",
    "We sum up the contributions of each spherical wave at the appropriate arrival time (the spherical sources will be spread out along the wavefront and arrive at slightly different times).\n",
    "\n",
    "The velocity can be seen in $\\nabla_o\\phi(r_o,t_o)$. We can eliminate thee middle term. Let us examine why:\n",
    "\n",
    "Comparing the first and second terms: \n",
    "1. $\\dfrac{1}{R} k \\phi \\propto \\dfrac{k}{R} = \\dfrac{1}{\\lambda R}$\n",
    "2. $\\dfrac{1}{R^2} \\phi \\propto \\dfrac{1}{R \\cdot R}$\n",
    "3. $\\dfrac{\\omega}{cR} \\phi \\propto \\dfrac{k}{R} = \\dfrac{1}{\\lambda R}$\n",
    "\n",
    "If we are interested in a point away from the surface, and the distance is much larger than the wavelength, then $2 \\ll 1$. Therefore, we can ignore the middle term."
   ]
  },
  {
   "cell_type": "markdown",
   "metadata": {
    "hidden": true
   },
   "source": [
    "<img  src=\"IMG_0168.JPG\"/>"
   ]
  },
  {
   "cell_type": "markdown",
   "metadata": {
    "hidden": true
   },
   "source": [
    "Suppose we know the acoustic velocity at a certain point. What is the acoustic potential? it is given by treating each point as a spherical source.\n",
    "\n",
    "We eliminated part 2 because we are so far from the surface. Unless we are really interested about being close to the transducer, we can eliminate it. We will discuss how to model the transducer next period. For the discussion now, imagine that there is some interface with water and air. If we can assume the pressure is 0, but the velocity is not, we can eliminate the 3rd term too. If we know the pressure and velocity, we cannot elimitate the 3rd term.\n",
    "\n",
    "This is the formula. Integrate the points along the source at the relevant time."
   ]
  },
  {
   "cell_type": "markdown",
   "metadata": {
    "hidden": true
   },
   "source": [
    "<img  src=\"IMG_0169.JPG\"/>"
   ]
  },
  {
   "cell_type": "markdown",
   "metadata": {
    "heading_collapsed": true
   },
   "source": [
    "# Lecture 16"
   ]
  },
  {
   "cell_type": "markdown",
   "metadata": {
    "hidden": true
   },
   "source": [
    "Announcements:\n",
    "\n",
    "We have an exam coming up. The software for ultrasound simulations can be found online. We will be left to examine these on our own time.\n",
    "\n",
    "We will be talking about boundary conditions to solve the calculation of the acoustic field. We will assume there is a surface which is driving the acoustic field. This is because we put the transducer onn the surface. The shape of the transducer is given. The question is what is the field given the shape ofthe transducer. We will see that what we need to do is integrate the contributions from each portion of the transducer."
   ]
  },
  {
   "cell_type": "markdown",
   "metadata": {
    "hidden": true
   },
   "source": [
    "Again, we use the surface term of the general solution:\n",
    "\n",
    "Integrating over time since it could have a temporal dynamic. This is what we need to calculate:\n",
    "$$ \\phi(r,t) = \\int_0^t dt_o \\int_S \\cdot \\left[ G \\nabla_o \\phi - \\phi \\nabla_o G \\right]  $$\n",
    "\n",
    "We need to find a green's function G which describes the source at the surface which affects the point within the volume. There are two extreme cases we will consider: the surface is either rigid or free. Now if it is a free surface, then the pressure is 0; the transducer cannot drive with pressure. It must be driven with velocity. This means we know the velocity of the surface. If we know velocity, we know the $G\\nabla_o \\phi$ term, and we would like $\\phi \\nabla_o G=0$. In the other case, where we know the pressure, $G\\nabla_o \\phi=0$ term, and we would like to know the term $\\phi \\nabla_o G$.\n",
    "\n",
    "Table:\n",
    "\n",
    " BC:       | Known (on surface) | Green's Function      \n",
    "-----------|--------------------|-----------------------\n",
    " Newman:   |  $\\nabla_o \\phi$   |    $\\nabla_o G_N=0$   \n",
    " Dirichlet |  $\\phi$            |  $ G_D = 0$           \n",
    "\n",
    "Now we can come up with a Green's function which satisfies these conditions. We take one set of conditions, we get nondirectional radiation. We take the other, we get directional. \n",
    "\n",
    "$$ G_N(r,t|r_o,t_o) = \\dfrac{1}{R}\\delta(t_o-t|\\dfrac{R}{C}) + \\dfrac{1}{R\\prime}\\delta(t_o-t+\\dfrac{R\\prime}{c}) $$\n",
    "\n",
    "$$ G_D(r,t|r_o,t_o) = \\dfrac{1}{R}\\delta(t_o-t|\\dfrac{R}{C}) - \\dfrac{1}{R\\prime}\\delta(t_o-t+\\dfrac{R\\prime}{c}) $$"
   ]
  },
  {
   "cell_type": "markdown",
   "metadata": {
    "hidden": true
   },
   "source": [
    "<img  src=\"IMG_0170.JPG\"/>"
   ]
  },
  {
   "cell_type": "markdown",
   "metadata": {
    "hidden": true
   },
   "source": [
    "We build these Green's function from the contribution of two sources. They have the same separation from the surface. If the combine them with a minus sign, we have $G_D = 0$ at the surface. There is some deparation between them, $d$.\n",
    "\n",
    "If we pick a boundary condition, say Newman. We have a velocity on the surface. We want to solve for $\\phi_N(r,t)$.\n",
    "\n",
    "$$ \\phi_N(r,t) = \\dfrac{1}{2\\pi}\\int d\\bar{s_o} \\cdot \\nabla_o \\phi(r_o,t_o) \\big \\rvert_{t_0 = t-\\dfrac{R}{c}} $$\n",
    "$$ \\phi_N(r,t) = \\dfrac{1}{2\\pi}\\int \\dfrac{v_n(t-\\dfrac{R}{c})}{R} d\\bar{s_o} $$\n",
    "\n",
    "We have switched here to the normal velocity (not a vector).\n",
    "$$ v = -\\nabla \\phi $$\n",
    "$$ v_n(t) = \\bar{v}(r_o,t)\\cdot \\hat{x} $$\n",
    "\n",
    "We are integrating along the surface the velocity arriving at the point of interest at time $t$. This is known as Rayleigh Integral.\n",
    "\n",
    "We can also write down the boundary conditions for the Dirichlet boundary condition. Without derivation.\n",
    "\n",
    "$$ \\phi_D(r,t) = \\dfrac{1}{2\\pi}\\int \\dfrac{1}{cR} \\dfrac{\\partial \\phi}{\\partial t}\\big \\rvert_{t_o = t-\\dfrac{R}{c}} \\hat{R} \\cdot d\\bar{S}_o $$\n",
    "$$ = \\dfrac{1}{2\\pi\\rho c}\\int\\dfrac{1}{R}p(t-\\dfrac{R}{c}) \\cos(\\hat{n},\\hat{R}) dS_o $$"
   ]
  },
  {
   "cell_type": "markdown",
   "metadata": {
    "hidden": true
   },
   "source": [
    "<img  src=\"IMG_0172.JPG\"/>"
   ]
  },
  {
   "cell_type": "markdown",
   "metadata": {
    "hidden": true
   },
   "source": [
    "We will define some quantities which are useful in simulation. These are called the spatial impulse response.\n",
    "\n",
    "$$ \\phi_N(r,t) = \\dfrac{1}{2\\pi} \\int_S \\dfrac{v_n(t-\\dfrac{R}{c})}{R}dS $$\n",
    "\n",
    "Let us draw a transducer on the xy plane. Let us separate it into spatial and temporal components. For a uniform distribution, $\\xi=1$. This could also vary depending on the transducer. $v_o(t)$ varies w.r.t. time.\n",
    "\n",
    "$$ v_n(x,y,t) = \\xi(s,y) v_o(t) $$\n",
    "$$ \\phi_N(r,t) = \\dfrac{1}{2\\pi}\\iint\\dfrac{1}{R}v_o(t-\\dfrac{R}{c}) \\xi(x,y) dx dy $$\n",
    "\n",
    "We next rewrite the velocity function in terms of a convolution integral.\n",
    "\n",
    "$$ v_o(t-\\dfrac{R}{c}) = \\int_{-\\infty}^{\\infty}v_o(z) \\delta(t-\\dfrac{R}{c} - z) dz $$\n",
    "\n",
    "Substituting into $\\phi_N$\n",
    "\n",
    "$$ \\phi_N(r,t) = \\int_{-\\infty}^{\\infty}v_o(z) \\iint \\dfrac{1}{2\\pi R}\\xi(x,y)\\delta(t-\\dfrac{R}{c} - z) dx dy dz $$\n",
    "\n",
    "Next we define a function called $h$.\n",
    "\n",
    "$$ h(r,t) = \\iint \\dfrac{1}{2\\pi R}\\xi(x,y) \\delta(t-\\dfrac{R}{c}) dx dy $$\n",
    "\n",
    "Substituting this into $\\phi_N)$\n",
    "\n",
    "$$ \\phi_N(r,t) = \\int_{-\\infty}^{\\infty}v_o(z) h(r,t-z) dz $$\n",
    "\n",
    "Writing this in terms of a convolution:\n",
    "\n",
    "$$ \\phi_N(r,t) = v_o(t) \\times h(r,t) $$\n",
    "\n",
    "This is called the spatial impulse response. The impulse refers to the termporal activation of the transducer; it still has the spatial characteristics of the transducer described by $\\xi(x,y)$.  "
   ]
  },
  {
   "cell_type": "markdown",
   "metadata": {
    "hidden": true
   },
   "source": [
    "<img  src=\"IMG_0174.JPG\"/>"
   ]
  },
  {
   "cell_type": "markdown",
   "metadata": {
    "hidden": true
   },
   "source": [
    "<img  src=\"IMG_0173.JPG\"/>"
   ]
  },
  {
   "cell_type": "markdown",
   "metadata": {
    "heading_collapsed": true
   },
   "source": [
    "# Lecture 17"
   ]
  },
  {
   "cell_type": "markdown",
   "metadata": {
    "hidden": true
   },
   "source": [
    "## Announcements"
   ]
  },
  {
   "cell_type": "markdown",
   "metadata": {
    "hidden": true
   },
   "source": [
    "We will be combining the software package with some coding. We will try to squeeze in some coverages to seemsonic (??? spelling)."
   ]
  },
  {
   "cell_type": "markdown",
   "metadata": {
    "hidden": true
   },
   "source": [
    "## Rayleigh Integral"
   ]
  },
  {
   "cell_type": "markdown",
   "metadata": {
    "hidden": true
   },
   "source": [
    "We will be taking the Rayleigh integral and solving it with various transducer equations. Let's take a simple shape (a disk). We drive the transducer with some velocity pattern. For the discussion, let's assume the excitation function is very short, similar to an impulse function. In reality, the impulse is not able to be made. There will be some width or ringing; we are ignoring this for now.\n",
    "\n",
    "Let us place a transducer at some point along the z-axis. What will be shown in the oscilloscope if we excite with a delta function? Here, $t = 0$. We will simply see a delayed delta function. Intensity would attenuate by $\\frac{1}{r^2}$ is if was a spherical wave. \n",
    "\n",
    "Let's actually calculate. Recall that the excitation function is $v_n$ our definition:\n",
    "\n",
    "$$ h(r,t) = \\iint_S \\dfrac{1}{2\\pi R} \\xi(x,y) \\delta(t-\\dfrac{R}{c}) dx dy $$\n",
    "$$ \\phi(r,t) = v_n(t) \\times h(r,t) $$\n",
    "\n",
    "Beginning with the definition of pressure:\n",
    "\n",
    "$$ p = \\rho_o \\dfrac{\\partial \\phi}{\\partial t} $$\n",
    "\n",
    "Taking a derivative of a convolution function in general is given by:\n",
    "\n",
    "$$ \\dfrac{d}{dx}\\left[ f(x) \\times g(x) \\right] = f(x) \\times \\dfrac{dg}{dx} = \\dfrac{df}{dx} \\times g(x) $$\n",
    "\n",
    "Applying this to our equation for velocity potential:\n",
    "\n",
    "$$ p = \\pi_o v_n(t) \\times \\dfrac{\\partial h}{\\partial t} = \\rho_oh(r,t) \\times \\dfrac{\\partial v_n(t)}{\\partial t} $$\n",
    "\n",
    "By taking the gradient of $\\phi$, we can also find the velocity potential:\n",
    "\n",
    "$$ v(r,t) = -v_n(t) \\times \\nabla(h(r,t) $$"
   ]
  },
  {
   "cell_type": "markdown",
   "metadata": {
    "hidden": true
   },
   "source": [
    "<img  src=\"IMG_0175.JPG\"/>"
   ]
  },
  {
   "cell_type": "markdown",
   "metadata": {
    "hidden": true
   },
   "source": [
    "Our transducer has some real width. We are integrating over the area of the transducer by integrating over $r$ (radius of transducer is $a$) and $\\varphi$. This means that:\n",
    "\n",
    "$$ h(r,t) = \\int_{0}^{a}\\dfrac{1}{2\\pi R}\\delta(t-\\dfrac{R}{c}) r dr\\int_0^{2\\pi} d\\varphi $$\n",
    "\n",
    "When we talk about the point along the axis, there is no dependence on the angle $\\varphi$. Therefore the last integral is $2\\pi$. If we wanted a point off-axis, we would need an expression ot define $\\varphi$.\n",
    "\n",
    "$$ h(r,t) = \\int_{0}^{a}\\dfrac{1}{R}\\delta(r-\\dfrac{R}{c}) rdr $$\n",
    "\n",
    "It is useful to define the distance from the point to the transducer as $R$:\n",
    "\n",
    "$$ R^2 = r^2 + z^2 $$\n",
    "$$ \\dfrac{\\partial R}{\\partial r} = \\dfrac{1}{2}2r\\left[ r^2 + z^2 \\right] = \\dfrac{r}{R} $$\n",
    "\n",
    "We are moving from $r$ to $r$ to make the integration possible. Moving back to the main integral:\n",
    "\n",
    "$$ h(r,t) = \\int_{R_{min}}^{R_{max}}\\delta(t-\\dfrac{R}{c}) dR $$\n",
    "\n",
    "This is a very easy integral to solve:\n",
    "\n",
    "* $ h(r,t) = c $ for $\\dfrac{1}{c}R_{min} < t < \\dfrac{1}{c}R_{max}$\n",
    "* $ h(r,t) = 0 $ otherwise"
   ]
  },
  {
   "cell_type": "markdown",
   "metadata": {
    "hidden": true
   },
   "source": [
    "<img  src=\"IMG_0176.JPG\"/>"
   ]
  },
  {
   "cell_type": "markdown",
   "metadata": {
    "hidden": true
   },
   "source": [
    "Let's plot this.\n",
    "\n",
    "* $R_{min} = z$\n",
    "* $R_{max} = \\sqrt{z^2 + a^2} $\n",
    "\n",
    "It looks like a rect function. This isn't what we see on the scope. The scope measures pressure. So instead of seeing a rect function, we see two delta functions (derivative!)."
   ]
  },
  {
   "cell_type": "markdown",
   "metadata": {
    "hidden": true
   },
   "source": [
    "<img  src=\"IMG_0177.JPG\"/>"
   ]
  },
  {
   "cell_type": "markdown",
   "metadata": {
    "hidden": true
   },
   "source": [
    "Let's draw transducer lying on the xy plane. The geometry is arbitrary. We take an arbitrary point a distance $R$ away from the transducer. $b$ is the distance from the projection of $R$ onto the xy plane to the transducer. $\\varphi$ is the angle between the transducer and the y-axis. $\\alpha$ is the angle between $R_{min}$ and $R_{max}$ or $\\alpha = \\varphi_{max} - \\varphi_{min}$ (i think). Following the same procedure:\n",
    "\n",
    "$$ h = \\iint dx dy \\dfrac{1}{2 \\pi R}\\xi(x,y) \\delta(t-\\dfrac{R}{c}) = \\dfrac{1}{2\\pi}\\int_{R_{min}}^{R_{max}} dR \\alpha(\\dfrac{R}{c}) \\delta(t-\\dfrac{R}{c}) $$\n",
    "\n",
    "Pausing to define our components:\n",
    "\n",
    "$$ b = (r^2 - z^2)^{1/2} $$\n",
    "$$ \\dfrac{db}{dR} = \\dfrac{1}{2} 2R (R^2 - z^2)^{1/2} = \\dfrac{R}{b} $$\n",
    "\n",
    "Therefore:\n",
    "\n",
    "$$ R dR = b db $$\n",
    "\n",
    "Moving back to the main integration:\n",
    "\n",
    "$$ \\iint d\\varphi db \\dfrac{1}{2\\pi R}xi(b,\\varphi) \\delta(t-\\dfrac{R}{c}) b $$\n",
    "\n",
    "We move from integration over b to integration over R\n",
    "\n",
    "$$ \\int db \\dfrac{b}{2\\pi R}\\alpha(b) \\delta(t-\\dfrac{R}{c}) $$\n",
    "\n",
    "Now we perform the integral using the delta function\n",
    "\n",
    "$$ h = \\dfrac{c}{2\\pi} \\alpha(t) $$\n",
    "\n",
    "Let's say we have a rectangular transducer. We are measuring at at point on $(x,y,z)$. We need to project the point we are measuring at onto the xy plane $(x,y,0)$. Let's plot $\\alpha$ as a function of time. $\\alpha=0$ until a certain point. After this, the first point, nearest the transducer, will make contact. After this, we see that other points will increase.  "
   ]
  },
  {
   "cell_type": "markdown",
   "metadata": {
    "hidden": true
   },
   "source": [
    "<img  src=\"IMG_0179.JPG\"/>"
   ]
  },
  {
   "cell_type": "markdown",
   "metadata": {
    "hidden": true
   },
   "source": [
    "<img  src=\"IMG_0178.JPG\"/>"
   ]
  },
  {
   "cell_type": "markdown",
   "metadata": {
    "collapsed": true,
    "heading_collapsed": true
   },
   "source": [
    "# Lecture 18"
   ]
  },
  {
   "cell_type": "markdown",
   "metadata": {
    "hidden": true
   },
   "source": [
    "## Announcements"
   ]
  },
  {
   "cell_type": "markdown",
   "metadata": {
    "hidden": true
   },
   "source": [
    "The impulse generated by a transducer looks like a square pulse. This is because the middle hits first, then points further away. These provide a constant stream of power. \n",
    "\n",
    "$$ p = \\rho_o v_o(t) \\ast \\dfrac{\\partial h}{\\partial t} $$\n",
    "\n",
    "If I am interested in a continuous wave, we can use this equation. We know that $h$ is composed of two impulses. The excitation is a continuous wave. We can say:\n",
    "\n",
    "$$ v(t) = v_oe^{i\\omega t} $$\n",
    "\n",
    "$$ p(z,t) = \\rho_o v_o \\left[ e^{i\\omega t - \\dfrac{z}{c}} - e^{i\\omega \\left( t-(\\dfrac{\\sqrt{z^2 + a^2} }{c} \\right)} \\right] $$\n",
    "\n",
    "$$ = 2i\\rho_o c_o v_o \\sin\\left[ \\dfrac{\\omega }{2c}(\\sqrt{a^2 + z^2} -z)\\right]e^{i\\dfrac{\\omega }{2c}\\left( z + \\sqrt{a^2 + z^2} \\right)} $$"
   ]
  },
  {
   "cell_type": "markdown",
   "metadata": {
    "hidden": true
   },
   "source": [
    "Let us see how it looks. The impulse response. The response begins by oscillating very rapidly. It ends by peaking, then decaying slowly. x-axis is the distance from the transducer. The region near the transducer has very rapid oscillations. Later, it is smooth pressure. What makes the oscillations?\n",
    "\n",
    "There is a point at which  the term within sin reaches a maximal point. This term generates the rapid oscillations. Any time there is destructive interference by the wave generated by the upwards pulse versus the downward pulse (from $h$; recall $h=\\delta(t+something) - \\delta(t-something)$."
   ]
  },
  {
   "cell_type": "markdown",
   "metadata": {
    "hidden": true
   },
   "source": [
    "<img  src=\"IMG_0181.JPG\"/>"
   ]
  },
  {
   "cell_type": "markdown",
   "metadata": {
    "hidden": true
   },
   "source": [
    "If we calculate the intensity, we have an expression telling us the pressure, $p(z,\\omega )$. \n",
    "\n",
    "$$ p(z,\\omega) = 2i \\rho_ov_o\\sin\\left[ \\dfrac{\\omega }{2c_o}\\left( \\sqrt{a^2 + z^2} - z \\right) \\right]e^{-i\\dfrac{\\omega }{2c_o}\\left( z + \\sqrt{a^2 + z^2} \\right)} $$\n",
    "\n",
    "To find intensity:\n",
    "\n",
    "$$ \\dfrac{1}{2}\\text{re}\\left[ p(v^*) \\right] $$\n",
    "\n",
    "The components cancel out on the axis.\n",
    "\n",
    "$$ \\phi = v_o \\ast h $$\n",
    "$$ v = -v_o \\ast \\nabla h = -v_o \\ast \\dfrac{\\partial h}{\\partial z} $$\n",
    "\n",
    "When we \n",
    "\n",
    "$$ v = v_o\\dfrac{\\sqrt{a^2 + z^2} + z}{\\sqrt{a^2 + z^2}} e^{-i\\dfrac{\\omega }{c}\\sqrt{a^2 + z^2}} $$\n",
    "\n",
    "When we compare this to the $v$ from a plane wave, we can track the error as the distance from $z$ increases:\n",
    "\n",
    "$$ v = \\dfrac{p}{\\rho c} $$\n",
    "\n",
    "The v is calculated from the equation above and compared to the approximation above. The difference between the planar $v$ and the one for the transducer is plotted below. Notice how the error goes to zero as the distance $z$ from the transducer increases."
   ]
  },
  {
   "cell_type": "markdown",
   "metadata": {
    "hidden": true
   },
   "source": [
    "<img  src=\"IMG_0184.JPG\"/>"
   ]
  },
  {
   "cell_type": "markdown",
   "metadata": {
    "hidden": true
   },
   "source": [
    "<img  src=\"IMG_0183.JPG\"/>"
   ]
  },
  {
   "cell_type": "markdown",
   "metadata": {
    "hidden": true
   },
   "source": [
    "## Useful resources"
   ]
  },
  {
   "cell_type": "markdown",
   "metadata": {
    "hidden": true
   },
   "source": [
    "ON the moodle site, there is a comprehensive paper which has more details about all the methods of field calculations, including Green's function to derive useful relationships, such as the Rayleigh integral. Another useful resource is Morse and Feshbach part II.\n",
    "\n",
    "There is another paper which explains green's function on moodle. Eventually we get the Rayleigh integral. It is possible to calculate the impulse response by drawing the shape of the transducer."
   ]
  },
  {
   "cell_type": "markdown",
   "metadata": {
    "hidden": true
   },
   "source": [
    "Using these resources, we see an example of a rectangular transducer. The projection of the observation point onto the transducer.\n",
    "\n",
    "Setting an observation point, we see that:\n",
    "\n",
    "We make the argument that, if the rectangle is very small or the point is very far away, the waves become planar."
   ]
  },
  {
   "cell_type": "markdown",
   "metadata": {
    "hidden": true
   },
   "source": [
    "## Matlab code"
   ]
  },
  {
   "cell_type": "markdown",
   "metadata": {
    "hidden": true
   },
   "source": [
    "Running a bit more of code:\n",
    "xdc_concave - creates a concave transducer. The concave transducer should focus. There is also options for a piston transducer. Use one of these functions to define shape.\n",
    "\n",
    "Impulse response of transducer as a receiver. \n",
    "\n",
    "There is also an impulse response to define the transformation of voltage to pressure and visa versa. There is some conversion (2 way conversion) from voltage to pressure and visa versa. In code: impulse_response - impulse response from electric to acoustic.\n",
    "\n",
    "The excitation signal is defined by xdc_excitation.\n",
    "\n",
    "Then we can calculate the pressure at any point in space using the function calc_hhp. This function also assumes scattering of one point, but not scattering between points. Using another function calc_hp finds pressure at a far away point. \n",
    "\n",
    "Summary:\n",
    "\n",
    "1. Geometry\n",
    "2. Impulse response\n",
    "3. Excitation\n",
    "4. What you want to calculate\n",
    "\n",
    "When we download the package, we see a file of users_guide. This has all the functions and descriptions. Hw5 will be sent later."
   ]
  },
  {
   "cell_type": "markdown",
   "metadata": {
    "heading_collapsed": true
   },
   "source": [
    "# Lecture 19"
   ]
  },
  {
   "cell_type": "markdown",
   "metadata": {
    "hidden": true
   },
   "source": [
    "Let's start with a plane of the transducer with some shape. We assume harmonic oscillation of the piston. OUr goal is to map the field generated  at a distance plane a distance $z$ later. The normal component ofthe acoustic velocity, $v_n$ will be desribed by an aperture function, $v_n = \\xi(x_1,y_1)v_oe^{i\\omega t}$. We saw $\\xi$ earlier in the Rayleigh integral. $v_o$ is the global amplitude.\n",
    "\n",
    "We begin at the coordinate of the detector. We integrate over the plane of the aperture. Here, $R$ is the distance between a point on the aperture plane and the detector plane. We may write it explicitly too.\n",
    "\n",
    "$$ \\phi(x_y,y_o,z_o,t) = \\iint_S \\dfrac{\\xi(x_1,y_1)v_oe^{ i\\omega (t-\\dfrac{R}{c}) }}{2\\pi R} $$\n",
    "\n",
    "where\n",
    "\n",
    "$$ R = \\left( z_o^2 + (x_o-x_1)^2 + (y_o-y_1)^2 \\right)^{1/2} = z_o\\left[ 1 + \\left( \\dfrac{(x-x_o}{z_o} \\right)^2 + \\left( \\dfrac{(y-y_o}{z_o} \\right)^2 \\right]^{1/2} $$"
   ]
  },
  {
   "cell_type": "markdown",
   "metadata": {
    "hidden": true
   },
   "source": [
    "<img  src=\"IMG_0188.JPG\"/>"
   ]
  },
  {
   "cell_type": "markdown",
   "metadata": {
    "hidden": true
   },
   "source": [
    "We will see that the acoustic energy is transferred from plane to plane.\n",
    "\n",
    "There are two approximations we make. One is the Fresnel approximation. This is because the integral is hard due to $R$ being a complicated function. This approximation reduces that complexity. This apprximation is valid assuming:\n",
    "\n",
    "1. $(x_o-x_1) \\ll z_o$\n",
    "2. $(y_o - y_1) \\ll z_o$\n",
    "\n",
    "We take the Taylor expansion of R.\n",
    "\n",
    "$$ R = z\\left[ 1 + \\dfrac{1}{2z_o^2}\\left( (x_o^2 + y_o^2) - 2(x_0x_1 + y_oy_1) + (x_1^2 + y_1^2) + ... \\right) \\right] $$\n",
    "\n",
    "The second assumption is the Fraunhofer approximation. This approximation will cancel the quadratic phase term.\n",
    "\n",
    "$$ \\dfrac{x_1^2 + y_1^2}{\\lambda} \\ll z_o $$\n",
    "\n",
    "$$ R \\approx z\\left[ 1 + \\dfrac{1}{2z^2}\\left( (x_o^2 + y_o^2) - 2(x_ox_1 + y_oy_1) \\right) \\right] $$\n",
    "\n",
    "Applying these approximations to the main derivation. We take the $R$ in the denominator outside the integral becasue they are constant. We then turn the $R$ in the exponential into a quadratic term. **Important!!** This now looks like the 2D Fourier transform of $\\xi$.\n",
    "\n",
    "$$ \\phi = \\dfrac{v_oe^{i\\omega t}}{2\\pi R_o}  e^{ik(z + \\dfrac{x_o^2 + y_o^2}{2z}}\\iint \\xi(x_1,y_1)e^{i\\dfrac{k}{z}(x_ox_1 + y_oy_1)}dx_1dy_1 $$\n",
    "\n",
    "Here, $R_o = \\sqrt{z_o^2 + x_o^2 + y_o^2}$.\n",
    "\n",
    "\n",
    "To make this fully the fourier transform, we now define the following wave vectors.\n",
    "\n",
    "* $ k_x = k\\dfrac{x_o}{z_o} $\n",
    "* $ k_y = k\\dfrac{y_o}{z_o} $\n",
    "* $ k = \\dfrac{2\\pi}{\\lambda} = \\dfrac{\\omega }{c}$\n",
    "\n",
    "If we take the fourier transfom of $\\xi$, our axis will be labeled $k_x$ and $k_y$ respectively. These now define the frequencies of our Fourier transform.\n",
    "\n",
    "$$ \\mathcal{F}\\{\\xi(x_1,y_1)\\} = Z(k_x,k_y) $$\n",
    "$$  =Z(\\dfrac{kx_o}{z_o},\\dfrac{ky_o}{z_o}) $$\n",
    "\n",
    "now applying to the main derivation:\n",
    "\n",
    "$$ \\phi(x_o,y_o,z_o,\\omega) = \\dfrac{v_o}{2\\pi R_o}e^{ik\\left( z + \\dfrac{x_o^2 + y_o^2}{2z} \\right)}\\cdot \\mathcal{F}\\left[\\xi(x_1,y_1)\\right] $$\n",
    "\n",
    "The result for pressure is similar.\n",
    "\n",
    "$$ p(x_o,y_o,z_o,\\omega ) = \\dfrac{i\\omega \\rho_o v_o}{2\\pi R_o}e^{ik\\left( z + \\dfrac{x_o^2 + y_o^2}{2z} \\right)}\\cdot \\mathcal{F}\\left[\\xi(x_1,y_1)\\right] $$\n",
    "\n",
    "This gives us a way to estimate the field of the pressure wave at a given distance away. For example, if the transducer is a rectangular shape, the far-field should be given by a sinc function.\n",
    "\n",
    "IN this problem set, we will be asked to analyze the rectangular transducer both analytically and numerically."
   ]
  },
  {
   "cell_type": "markdown",
   "metadata": {
    "hidden": true
   },
   "source": [
    "<img  src=\"IMG_0189.JPG\"/>"
   ]
  },
  {
   "cell_type": "markdown",
   "metadata": {
    "collapsed": true,
    "heading_collapsed": true
   },
   "source": [
    "# Lecture 20"
   ]
  },
  {
   "cell_type": "markdown",
   "metadata": {
    "hidden": true
   },
   "source": [
    "SimSonic guide\n",
    "\n",
    "Developed by Emmanuel Bossy during his PhD work. Since the program is Finite Time domain, the simulation can be very time consuming. WE can model both liquids and solids. This is because the elasticity  can be modelled. There is some limitation. The variable $c$ is used for modelling the material. We can take anisotropic solids and fluids together in the same simulation. If we want to simulate bone and blood together, we can do that! There is some limitation by the choice of the rigidity tensor.\n",
    "\n",
    "There are 2D and 3D simulation. There is some reduced form notation for writing the rigidity tensor. In principle, we are working with a 4th order tensor. Thus, we use the Voigt notation; exploiting symmetries. For example, in 2D, instead of 16 coefficients, we are only using 5. The diagonal elements are rigidity. For fluids, for example, $c_{12}$ and $c_{21}$ are zero. Here: $c_{11} = c_{22} = \\frac{1}{\\kappa }$. "
   ]
  },
  {
   "cell_type": "markdown",
   "metadata": {
    "hidden": true
   },
   "source": [
    "<img  src=\"Selection_007.png\"/>"
   ]
  },
  {
   "cell_type": "markdown",
   "metadata": {
    "hidden": true
   },
   "source": [
    "The stress in different directions is given by the spatial mesh. It is important if we want to place a transducer in a given place. The exact location of the assembly points is usually negligible.\n",
    "\n",
    "Stability:\n",
    "\n",
    "$$ \\Delta t \\leq \\dfrac{\\Delta x}{\\sqrt{d}c_{max}} $$\n",
    "\n",
    "After choosing what we have as the resolution, $\\Delta x$, we can then calculate the time resolution. This is usually called the CFL.\n",
    "\n",
    "When considering $\\Delta x$, they recommend the step size to be $\\lambda/10$. If you think this generates a lot of digital noise, you can go for a smaller step size. If you use pulsed ultrasound, then the stability criterion needs to be fulfilled for the highest wavelength. \n",
    "\n",
    "for simulations with different propagation velocities, one must consider the smallest wavelength to choose $\\Delta x$, but for the temporal step, use the largest velocity.\n",
    "\n",
    "To generate the wave, WE must place a transmitter. This may be a source term or creating a forcing field. Dr. Ashkenazi has only ever used the source term. If you find out how to do initial value problems in SimSonic, let Dr. Ashkenazi know.\n",
    "\n",
    "For boundaries, we need to define area for simulation. We can describe a boundary condition for each area. We can choose stress-free, rigid area, mirror symmetry. The most useful is Perfectly-Matched Layers (PML), which simulate no reflection from the wall. This is as if the area is infinitely wide."
   ]
  },
  {
   "cell_type": "markdown",
   "metadata": {
    "hidden": true
   },
   "source": [
    "Each pixel in the Map holds an integer value which refers to a look-up table which contains properties for materials. This table is in Parameters.ini2D. Geometry.map2D is a text file. Then we run the SimSonic2D outside of Matlab. It takes as an input the folder name. This folder should have Parameters.ini2D and Geometry.map2D (don't change the names). We can then use matlab to read and output the display. There are some optinal files. .sgl allows the user to drive the source with a particular method.\n",
    "\n",
    "Be aware: in fluid, when you are defining a transmitter, the transmitter is defined by what parameter it excites. If it is a liquid, you have to excite the pressure. You cannot define the Transmitter with $T_{11}$ (this is the stress along the x-x direction). We must define two transducers, one for the first two values along the stress tensor diagonal. This is different than the rigidity terms, $c$ we saw earlier. We will also see strength later."
   ]
  },
  {
   "cell_type": "markdown",
   "metadata": {
    "hidden": true
   },
   "source": [
    "Now moving on; we will run through an example. We will run through a short pulse. There will be a scatterer placed in water. We want to see the emerging scattering wave. We assign some constants:\n",
    "\n",
    "* velocity - $1.5$ mm/us\n",
    "* vscatterer - $2.625$ mm/us\n",
    "* vmax = vscatterer\n",
    "* dimension1_mm = 24;\n",
    "* Dimension2_mm = 25\n",
    "* grid_step_mm = 0.05;\n",
    "\n",
    "If we look at a 1MHz wave, we see that the CFL condition is satisfied with these conditions.\n",
    "\n",
    "N1 = Dimension1_mm/grid_step_mm+1;\n",
    "M2 = N1;\n",
    "geometry=repmat(uint8(0),N1,N2);\n",
    "\n",
    "Create object\n",
    "geometry(251,251) = 1;\n",
    "\n",
    "Each pixel must have a valid index. Since we only have 2 materials, it must only be either 1 or 0.\n",
    "\n",
    "Next, we write the map to generate the map in the SimSonic format:\n",
    "SimSonidc2DWriteMap2D(geometry);\n",
    "\n",
    "Next, generate the signal which defines transducer temporal structure. Simply define a vector.\n",
    "\n",
    "f = 1.0; (MHz)\n",
    "duration = 4; (us)\n",
    "t0 = duration/s;\n",
    "b2 = 1;\n",
    "CFL_coeff=0.99;\n",
    "temporal_step_us = CFL;\n",
    "... (didn't get it all)\n",
    "\n",
    "\n",
    "Write the temporal signal:\n",
    "SimSonic2DWriteSgl(signal);\n",
    "\n",
    "Next, we edit the Parameters.ini2D. It is really important that the numbers for Grid Step start on Col 32 (with cursor on left side of the first 0 in 0.05).\n",
    "\n",
    "Then we start at the T11 and T22 emitter. This is the stress fields. These are the two along the diagonal along the stress tensor, which defines hydrostatic stress tensor. We must define 2 transducers; one to drive T11 and one to drive T22. In the manual, we will find the rest of the parameters.\n",
    "\n",
    "Additional parameters:\n",
    "* -1 Signal.sgl - name of signal we generated\n",
    "* 2 - Normal direction\n",
    "* 00 - starting point (top left)\n",
    "* 500  1  1 0 0  -Number of elements, pitch between elements, width (grid steps), No Apodisation (whether elements act together), and Focus (mm)\n",
    "* 0 1.5 - Deflection (emission angle from transducer), and velocity (mm/us)\n",
    "\n",
    "Snapshot recordings:\n",
    "\n",
    "Software to output\n",
    "\n",
    "Snapshots REcord PUlse (use): 1.0 - records output every um\n",
    "Record V Snapshots : 1 - Records velocity snapshots\n",
    "(same with every other parameter here)\n",
    "\n",
    "Table of materials\n",
    "\n",
    "We don't have receivers; we only have water and BAluminum. the only one which is more precious is CAluminum. \n",
    "\n",
    "Then we run it. Open a command prompt: windowSimSonic2D_win64.\n",
    "\n",
    "The simulation took ~1 min. Computation time is a large factor.\n",
    "\n"
   ]
  },
  {
   "cell_type": "markdown",
   "metadata": {
    "heading_collapsed": true
   },
   "source": [
    "# Lecture 21"
   ]
  },
  {
   "cell_type": "markdown",
   "metadata": {
    "hidden": true
   },
   "source": [
    "Projects.\n",
    "\n",
    "No 2 projects are the same. Either you choose F2 or SS (simulation program). The project basically (unless open topic or photoacoustic) are similar in structure. Take an object, translate it into digital form, then implement the software to generate the ultrasonic information. Using this information to reconstruct the information of the object.\n",
    "\n",
    "The steps:\n",
    "\n",
    "1. Generate an object. Make it simple but not too simple. Try beginning with a dot. Then try two. Build from there. If it's 5 dots or more, it's okay. You can also find images online for a certain object (like thyroid imaging).\n",
    "2. Next, define transducer\n",
    "3. Define pulse sequency\n",
    "4. Solve forward problem; send pulse and find out what the echos are on each channel.\n",
    "5. Then, once we have the signals at each channel, we can apply a reconstruction algorithm \n",
    "6. Apply scan conversion\n",
    "7. Apply envelop detection and compression - typically with a Hilbert transform.\n",
    "8. Repeat for variations in imaging features - see separate description. More to come from Dr. Ashkenazi\n",
    "\n"
   ]
  },
  {
   "cell_type": "markdown",
   "metadata": {
    "hidden": true
   },
   "source": [
    "## Going over practice exam"
   ]
  },
  {
   "cell_type": "markdown",
   "metadata": {
    "hidden": true
   },
   "source": [
    "There is a ring around the detector. The transmitter is in the center, and the receiver is a ring around the transmitter. Then some definitions:\n",
    "\n",
    "Beginning with displacement:\n",
    "$$ u(t) = u_o\\cos(\\omega t) $$\n",
    "\n",
    "Take derivative gives velocity:\n",
    "$$ v = -\\omega u_o\\sin(\\omega t) $$"
   ]
  },
  {
   "cell_type": "markdown",
   "metadata": {
    "hidden": true
   },
   "source": [
    "## Intensity"
   ]
  },
  {
   "cell_type": "markdown",
   "metadata": {
    "hidden": true
   },
   "source": [
    "Looking at the phasors:\n",
    "$$ \\angle u = u_o $$\n",
    "$$ \\angle v = i\\omega u_o $$\n",
    "$$ p = \\angle c \\cdot \\rho_T c_T $$\n",
    "\n",
    "$$ p = v\\rho_Tc_T $$\n",
    "$$ Z_o = \\rho_Tc_T $$\n",
    "$$ c_o = \\dfrac{1}{\\kappa_T \\rho_T} $$\n",
    "$$ I = p(t)v(t) $$\n",
    "$$ <I> = \\dfrac{1}{2}\\text{Re}\\left[ \\angle p \\angle v^* \\right] $$\n",
    "$$ =\\dfrac{1}{2}\\text{Re}\\left[ i\\omega u_o\\rho_Tc_T\\cdot i\\omega u_o \\right] $$\n",
    "$$ = \\dfrac{1}{2}\\omega^2u_o^2\\rho_T c_T $$"
   ]
  },
  {
   "cell_type": "markdown",
   "metadata": {
    "hidden": true
   },
   "source": [
    "## Power"
   ]
  },
  {
   "cell_type": "markdown",
   "metadata": {
    "hidden": true
   },
   "source": [
    "Power is now found:\n",
    "$$ P = <I>\\cdot Area $$"
   ]
  },
  {
   "cell_type": "markdown",
   "metadata": {
    "hidden": true
   },
   "source": [
    "## Phase Delay"
   ]
  },
  {
   "cell_type": "markdown",
   "metadata": {
    "hidden": true
   },
   "source": [
    "For a plane wave, to find the difference in phase:\n",
    "$$ \\dfrac{\\angle p}{\\angle v}= \\dfrac{\\angle k}{\\omega \\kappa_T} $$\n",
    "here:\n",
    "$$ \\angle k = k-i\\alpha $$\n",
    "where:\n",
    "$$ k = \\dfrac{\\omega }{c} = \\dfrac{2\\pi}{\\lambda} $$\n",
    "Therefore, $\\angle k$ controlls the angle between the pressure and velocity wave.\n",
    "\n",
    "$$ \\theta = -\\tan^{-1}\\dfrac{\\alpha }{k} $$"
   ]
  },
  {
   "cell_type": "markdown",
   "metadata": {
    "hidden": true
   },
   "source": [
    "## Intensity at a distance"
   ]
  },
  {
   "cell_type": "markdown",
   "metadata": {
    "hidden": true
   },
   "source": [
    "We look at the scattering cross-section of a microsphere. You can have open book-notes in the exam.\n",
    "\n",
    "Power can be found by multiplying the Incoming intensity, $I_l$ by  the differential scattering cross-section and solid angle:\n",
    "\n",
    "$$ I_l = I_oe^{-2\\alpha l} $$\n",
    "$$ P_d = I_l \\sigma_d(\\theta ,\\varphi)\\Delta \\Omega  $$\n",
    "\n",
    "Now we ask, what part of the area of a spherical shell hits the receiver. If it was the whole sphere, the surface area would be $ 4 \\pi l^2$.  Let's first find the angle it strikes:\n",
    "Find center of transmitter ring (avg of both r1 and r2):\n",
    "$$ r_{middle} = \\dfrac{r_1 + r_2}{2} $$\n",
    "$$ \\tan\\theta_d = \\dfrac{r_1 + r_2}{2l} $$\n",
    "\n",
    "Next, find the range of $\\theta_d$ which makes up the ring.\n",
    "$$ \\Delta \\theta_d = \\dfrac{r_2 - r_1}{l} $$\n",
    "\n",
    "Now we look at the solid angle:\n",
    "$$ \\Delta \\Omega = \\sin\\theta_d \\cdot \\Delta \\theta_d\\cdot 2\\pi $$\n",
    "\n",
    "\n",
    "Alternatively, we could also find the area of the receiver and normalize it by the surface area of the sphere. Why is there also $4\\pi$ also in there? Don't know??? From integral maybe???\n",
    "$$ \\Delta \\Omega = \\dfrac{\\pi r_2^2 - \\pi r_1^2}{2\\pi L^2}\\cdot 4\\pi $$"
   ]
  },
  {
   "cell_type": "markdown",
   "metadata": {
    "hidden": true
   },
   "source": [
    "This is the power detected. There is also an incoming plane wave which is absorbed by the microsphere. How much energy was absorbed by the sphere. Here, we denote the $\\alpha_s$ as the attenuation of the sphere.\n",
    "\n",
    "$$ I_{l+2a} = I_le^{2\\alpha_s 2a} $$\n",
    "\n",
    "By expanding the terms and assuming $\\alpha_s a \\ll 1$:\n",
    "\n",
    "$$ \\Delta I = 2\\alpha_s 2aI_l $$\n",
    "\n"
   ]
  },
  {
   "cell_type": "markdown",
   "metadata": {
    "heading_collapsed": true
   },
   "source": [
    "# Lecture 22"
   ]
  },
  {
   "cell_type": "markdown",
   "metadata": {
    "hidden": true
   },
   "source": [
    "Today, we are going over the test."
   ]
  },
  {
   "cell_type": "markdown",
   "metadata": {
    "hidden": true
   },
   "source": [
    "## Problem 1"
   ]
  },
  {
   "cell_type": "markdown",
   "metadata": {
    "hidden": true
   },
   "source": [
    "We found the focal point. We write down the Rayleigh integral.\n",
    "\n",
    "$$ \\phi(r,t) = \\dfrac{1}{2\\pi}\\iint \\dfrac{v_n(t-\\dfrac{R}{c})}{R}ds_o $$\n",
    "$$ \\phi(r,t) = \\dfrac{1}{2\\pi\\rho_o}\\int \\dfrac{1}{cR}p(t-\\dfrac{R}{c})\\cos(\\hat{n},\\hat{R}) ds_o $$\n",
    "\n",
    "\n",
    "For a very rigid surface, the boundary condition is that $v=0$ (no velocity). For a free boundary, no pressure. Therefore, at the transducer, we need to specify the boundary condition at the transducer. We look at the first integral above for $\\phi$.\n",
    "\n",
    "$$ \\phi(r,t) = \\dfrac{1}{2\\pi}\\dfrac{v_n(t - \\dfrac{R}{c})}{R}\\iint ds_o $$\n",
    "\n",
    "The integral represents the area of the transducer. We can replace it with the solid angle given by $A = R^2 \\Omega$. Recall that $\\Omega = \\int \\sin(\\theta)d\\theta d\\phi $\n",
    "\n",
    "$$ \\phi = \\dfrac{R^2 \\Omega}{2\\pi R}v_n\\left( t-\\dfrac{R}{c} \\right) $$\n",
    "\n",
    "From this we get pressure\n",
    "\n",
    "$$ p = \\rho_o \\dfrac{\\partial \\phi}{\\partial t} = \\rho_o \\dfrac{R \\Omega}{2\\pi}2\\pi f\\cos(2\\pi ft)v_o $$\n",
    "\n",
    "Now we can find the pressure at the surface\n",
    "$$ p_s = v_s \\rho_o c_o $$\n",
    "\n",
    "$$ \\dfrac{\\rho_o R \\Omega f}{\\rho_o c_o} = R\\Omega \\dfrac{1}{\\lambda} $$\n",
    "\n",
    "If we want to be more accurate, we can can use the method we derived in the homework (??? don't remember, look back)"
   ]
  },
  {
   "cell_type": "markdown",
   "metadata": {
    "hidden": true
   },
   "source": [
    "Then we switch to find the amplitude ofthe wave at the focal spot. We will attenuate the pressure wave by using $e^{-\\alpha R}$\n",
    "\n",
    "Next, we emit a wave from the transducer, which will scatter waves off of the bubble. We could measure the lifetime of the bubble. The backscattering is proportional to the diameter of the bubble. Thus, the power backscattered to the transducer is proportional to $d^3$. Therefore, we can shoot pulses at the bubble and record the echos of the bubble. The strengths of the echo should decay as the bubble disappears. \n",
    "\n",
    "Lastly, we look at the force exerted. We do this by tracking the momentum of the wave.\n",
    "\n",
    "* Incoming Momentum: $\\dfrac{1}{c}I_o \\hat{x}$\n",
    "* Outgoing Momentum: $I_{sc} + \\dfrac{1}{c}I_1$"
   ]
  },
  {
   "cell_type": "markdown",
   "metadata": {
    "heading_collapsed": true
   },
   "source": [
    "# Lecture 23"
   ]
  },
  {
   "cell_type": "markdown",
   "metadata": {
    "hidden": true
   },
   "source": [
    "The time delay was calculated by summing all of the points along a wall. There was a useful summation formula we used:\n",
    "\n",
    "$$ \\sum_1^N e^{in\\Psi} = \\dfrac{\\sin(N\\Psi/2)}{\\sin(\\psi/2)} $$\n",
    "\n",
    "This summation is useful, as it allows us to calculate the pressure w.r.t theta\n",
    "\n",
    "$$ p(\\theta) = \\dfrac{A}{r}e^{i(\\omega t - kr)}\\dfrac{\\sin\\left( N/2\\left( \\Delta \\varphi - kd\\sin\\theta \\right) \\right)}{\\sin\\left( 1/2\\left( \\Delta \\varphi - kd\\sin\\theta \\right) \\right)} $$\n",
    "\n",
    "$$ \\Delta z = \\dfrac{d\\sin\\theta_s}{c} $$\n",
    "\n",
    "This becomes\n",
    "\n",
    "$$ \\Delta \\varphi = \\dfrac{\\Delta z}{T}2\\pi = \\omega\\Delta z $$\n",
    "\n",
    "We are talking about continuous excitation. So each element is fed with a continuous sine wave.\n",
    "\n",
    "We want to make a polar plot of the field at different directions. We need to look for the limit as $\\theta$ goes to zero.\n",
    "\n",
    "$$ \\Delta \\varphi - dk\\sin\\theta= m\\pi $$\n",
    "\n",
    "We expect peaks for integer values of $m$. In-between values of $m$, we should expect by some additional peaks generated by the top sin term. The amplitude of these oscillations are determined by the bottom sine term ???I think.\n",
    "\n",
    "this steering imaging is used in imaging. In this imaging, we are interested to see where the main and side lobes are. When we design a steering angle, the side lobes can cause reflections which could be mistaken as reflections from the main lobe. Therefore, there must be some angular separeation between the main and side lobes. Let's apply the strictest conditions. Assume we want a full field of view, (no side lobes); therefore, we want a full steering between 0 and 180 degrees.\n",
    "\n",
    "* $\\theta_o$ m=0 is the main lobe\n",
    "* $\\theta_1$ m=1 is the 1st grating lobe\n",
    "\n",
    "Satisfying the condition (given earlier when examining the maxima and minima produced):\n",
    "$$ \\Delta \\varphi = kd\\sin\\theta $$\n",
    "This gives after solving for $\\theta$,\n",
    "$$ \\sin\\theta_o = \\dfrac{\\Delta \\varphi}{kd} $$\n",
    "\n",
    "Additionally, applying the same constrictions on $\\theta_1$:\n",
    "$$ \\Delta \\varphi - kd\\sin\\theta_1 = 2\\pi $$\n",
    "\n",
    "Since we would like $\\theta_o = 90^o$, this implies that $\\sin\\theta_o = 1$ therefore, $\\Delta \\varphi = kd$. Similarly, since $\\theta_1 = -90^o$, this implies that $\\sin\\theta_1 = -1$.\n",
    "\n",
    "Applying these conditions to our same restriciton, we get the restriction that\n",
    "\n",
    "$$ \\Delta \\varphi - kd\\sin\\theta_1 = 2\\pi $$\n",
    "$$ kd(1-\\sin\\theta_1) = 2\\pi $$\n",
    "$$ 2kd = 2\\pi $$\n",
    "$$ kd = \\pi $$\n",
    "\n",
    "To find the required separation between elements, we solve further for d\n",
    "\n",
    "$$ \\dfrac{2\\pi}{\\lambda}d = \\pi $$\n",
    "$$ d = \\lambda/2 $$\n",
    "\n",
    "If we want greater than 180 degrees, the gratings must be smaller than $\\lambda/2$."
   ]
  },
  {
   "cell_type": "markdown",
   "metadata": {
    "hidden": true
   },
   "source": [
    "We have he number of side lobes. Blue is a continuous excitation. Green is the same excitation frequency, but a limited number of pulses. The main lobe for the continuous wave and the pulsed wave follow the same behavior near the main lobe, but not at the side lobes. This is because, with pulsed wave (not continuous), there are areas in which there is nothing to constructively interfere due to time delays. Areas which would normally receive constructive interference from several cycles in the future in continuous stimulation only receive destructive interference."
   ]
  },
  {
   "cell_type": "markdown",
   "metadata": {
    "hidden": true
   },
   "source": [
    "Next, are trying to steer the beam\n",
    "\n",
    "$$ S(s_1,y_1) = \\text{rect}\\left( \\dfrac{y_1}{H} \\right)\\left[ \\sum_{n=-(N-1)/2}^{n=(N-1/2)}A_ne^{in\\Delta\\varphi}\\text{rect}\\left( \\dfrac{x_1-nd}{W} \\right) \\right] $$\n",
    "\n",
    "* n is the index of the elements (each element has a different location along the x axis\n",
    "* nd is the center of the nth element\n",
    "\n",
    "We are interested in the fourier transform to solve this equation. Recall that\n",
    "\n",
    "$$ \\text{rect}\\left( \\dfrac{x_1 - nd}{W} \\implies W\\text{sinc}\\left( \\dfrac{x_o W}{\\lambda r} \\right) \\right)e^{ind2\\pi x_o/\\lambda r} $$\n",
    "\n",
    "Also recall that the the shift theorem is\n",
    "$$ \\mathcal{F}\\left( f(x+a) \\right) = \\mathcal{F}\\left( f(x) \\right)e^{-ika} $$\n",
    "\n",
    "Therefore, the fourier transform of $S(x,y)$\n",
    "$$ \\mathcal{F}\\left( S(x_1,y_1) \\right) = HW\\text{sinc}\\left( \\dfrac{y_oW}{\\lambda r} \\right)\\text{sinc}\\left( \\dfrac{x_o W}{\\lambda r} \\right)\\sum_{n=-(N-1)/2}^{n=(N-1/2)}A_ne^{in\\Delta\\varphi} e^{ind x_o/r} $$\n",
    "\n",
    "$$ p(x_o,y_o,\\omega) = \\dfrac{i\\omega\\rho_ov_o e^{-ikr}}{2\\pi r} HW\\text{sinc}\\left( \\dfrac{y_oW}{\\lambda r} \\right)\\text{sinc}\\left( \\dfrac{x_o W}{\\lambda r} \\right) \\cdot \\dfrac{\\sin\\left[ \\dfrac{N}{2}\\left( \\dfrac{kdx_o}{r} + \\Delta \\varphi \\right) \\right]}{\\sin \\left[ \\dfrac{1}{2}\\left( \\dfrac{kdx_o}{r} + \\Delta \\varphi \\right) \\right]} $$"
   ]
  },
  {
   "cell_type": "markdown",
   "metadata": {
    "heading_collapsed": true
   },
   "source": [
    "# Lecture 24"
   ]
  },
  {
   "cell_type": "markdown",
   "metadata": {
    "hidden": true
   },
   "source": [
    "I was absent; here are a friend's notes:"
   ]
  },
  {
   "cell_type": "markdown",
   "metadata": {
    "hidden": true
   },
   "source": [
    "<img  src=\"IMG_0227.JPG\"/>\n"
   ]
  },
  {
   "cell_type": "code",
   "execution_count": null,
   "metadata": {
    "collapsed": true,
    "hidden": true
   },
   "outputs": [],
   "source": []
  },
  {
   "cell_type": "markdown",
   "metadata": {
    "heading_collapsed": true
   },
   "source": [
    "# Lecture 25"
   ]
  },
  {
   "cell_type": "markdown",
   "metadata": {
    "hidden": true
   },
   "source": [
    "We went over an array of elements last lecture. This is typical for imaging. We write it in terms of something that looks similar to an array of dots. The array is actually a product of two terms;\n",
    "\n",
    "$$ p(x_o,y_o,\\omega) = \\dfrac{i\\omega\\rho_o v_o e^{-ikr}}{2\\pi r} H\\cdot W \\cdot \\text{sinc}\\left( \\dfrac{y_o H}{\\lambda r} \\right)\\text{sinc}\\left(  \\dfrac{x_o H}{\\lambda r} \\right) \\dfrac{\\sin\\left[ \\dfrac{N}{2}\\left( \\dfrac{kdx_o}{r} + \\Delta \\varphi \\right) \\right]}{\\sin\\left[ \\dfrac{1}{2}\\left( \\dfrac{kdx_o}{r} + \\Delta \\varphi \\right) \\right]} $$\n",
    "\n",
    "We can continue writing in a slightly more general way.\n",
    "\n",
    "$$ S(x,y) = E(x,y) \\ast \\sum_{n=1}^{N} A_n e^{i\\varphi_n}\\delta(x - x_n)\\delta(y-y_n) $$\n",
    "\n",
    "We change our notation slightly. We want to denote a transducer plane. We want multiple transducers; each will be situated at the a position corresponding to the transducer number (e.g. Transducer 1 will be located at $x_1,y_1$, Transducer 2 will be at $x_2,y_2$, etc). We use the fact that if we convolve a funciton with a delta function, the function will be shifted by the offset within the delta function. Therefore, the convolution of $E$ with $\\delta(x - x_n)\\delta(y-y_n)$ will produce a transducer at $(x_n,y_n)$. They each have the same shape; different location.\n",
    "\n",
    "Recall that the far field will be the Fourier transform. Also recall that convolution in spatial domain is a product in the frequency domain. \n",
    "\n",
    "$$ \\mathcal{F}\\left( S(x,y) \\right) = \\mathcal{F}\\left( E \\right) \\cdot \\mathcal{F}\\left( \\sum A_ne^{i\\varphi_n}\\delta(x-x_n)\\delta(y-y_n) \\right) $$\n",
    "\n",
    "Here the $\\mathcal{F}(E)$ represents one element and $\\mathcal{F}\\left( \\sum A_ne^{i\\varphi_n}\\delta(x-x_n)\\delta(y-y_n) \\right)$ represents an array of point sources.\n",
    "\n"
   ]
  },
  {
   "cell_type": "markdown",
   "metadata": {
    "hidden": true
   },
   "source": [
    "T/R\n",
    "\n",
    "* $ S_T(x_1) $ - Transmit aperture\n",
    "* $ S_R(x_1)$ - Receive aperture\n",
    "* $ P_t(R,\\theta) = \\mathcal{F}\\left( S_T(x) \\right)$\n",
    "* $ P_R(R,\\theta) = \\mathcal{F}\\left( S_R(x) \\right)$\n",
    "* $P_{TR} = P_T \\cdot P_R = \\mathcal{F}\\left( S_E \\right)$\n",
    "\n",
    "In the far field there is a point object. There is a far-field distribution of pressure $P_T$ generated by a transducer $S_T$; then there is a response we receive at receiver $S_R$. Therefore, we can represent effectively the transmit-receiver aperture as $P_{TR}$ which will take us as a convolution of the transmit and receive aperture. \n",
    "\n",
    "$S_{E(T/R)} = S_T(x) \\ast S_R(x) $\n",
    "\n",
    "Suppose we have a 6 element array; it is used to transmit and receive. It is defined as 6 sequential delta functions. What is the convolution of these? It looks like a triangle. We keep one element stationary, then slide the other across, summing at each step. Transmit-Receive makes the main lobe much better. It also effectively makes the array longer. "
   ]
  },
  {
   "cell_type": "code",
   "execution_count": null,
   "metadata": {
    "collapsed": true,
    "hidden": true
   },
   "outputs": [],
   "source": []
  },
  {
   "cell_type": "markdown",
   "metadata": {
    "hidden": true
   },
   "source": [
    "There are several modes of operations. They use A-lines (I think these are basically signals we get/transmit).\n",
    "\n",
    "In B-mode, we would use the transducer to generate more than 1 A-line. Therefore, we will get a full matrix; the rows correspond to the number of A-lines, and the columns correspond to time. Obviously, bipolar signals and signal processing. There are other modes. C-mode isn't very common. It's used more in industry, nondestructive testing of electronics. What is used is the M-mode. This is related to B-mode; each time a pulse is sent, a new row is added. The depth is shown in the columns ??? Don't quite understand.\n",
    "\n",
    "In this case, the field of view will be rectangular slightly smaller than the transducer (due to edge effects). We know how to generate a focused beam. They focus to a point; how do we process the received signal? We get a single response from each element if we use the same time delays which we used to generate the focused beams. We still receive data independently from each element.One way of imaging would be \n"
   ]
  },
  {
   "cell_type": "markdown",
   "metadata": {
    "hidden": true
   },
   "source": [
    "We take each element, sum them up and create an A-line.\n",
    "\n",
    "Let's sa we want to focus the beam; we do this by changing the time delays. We look at dynamic focusing. This "
   ]
  },
  {
   "cell_type": "markdown",
   "metadata": {
    "heading_collapsed": true
   },
   "source": [
    "# Lecture 26"
   ]
  },
  {
   "cell_type": "markdown",
   "metadata": {
    "hidden": true
   },
   "source": [
    "Reconstructing images!! :)\n",
    "\n",
    "We start with an array. This contains discrete elements 1,2,...,N. Physically, each element is a small rectangular shape. Each, the transmitter and receiver will have N channels. They each use the same elements. We will choose how many elemnts will be participating in each pulse. Suppose we have 16 elements transmitting the pulse. We will design the time delay such that the sum of time delay plus propagation delay reaches the focal point at the same time.\n",
    "\n",
    "$$ z_{delay_n} + Z_{prop_n} = \\text{Constant} $$\n",
    "$$ Z_{prop} = \\dfrac{1}{c} \\sqrt{(x_f - x_n)^2 - Z_f^2} $$\n",
    "\n",
    "We scan by changing the focal point to eventually make up he Field of view.\n",
    "\n",
    "The time delays can cause beem steering as well with transmission. So we have lateral resolution from the beam steering and axial (depth) resolution.\n",
    "\n",
    "For plane wave imaging, we pulse all the transducers at once. The plane wave is propagating forward. The advantage is that it requires only 1 pulse. Capable of doing 10 ~kHz. There is a trade-off between image quality and frame rate. Synthetic array imaging is related to plane wave imaging. Instead of using a set of plane waves, you use a set of spherical waves. Only one element transmits (spherical wave), and the rest of the elements receive. \n",
    "\n",
    "If your choice is only based on resoluton. If your object location is known, focus the transducer and receiver on the same point. The problem is that you need a pulse for each pixel in the image. Synthetic array imaging avoids this by using only N pulses instead of NxN. \n",
    "\n",
    "1. We define image geometry given by $P_{px} = (x_{px},y_{px},z_{px})$.\n",
    "2. Then we calculate the arrival times $AT(ch,px)$ where ch is the channel and px is the pixel.\n",
    "3. Then we fetch the data RD(ch,ts).\n",
    "4. Then we align the data.  We generate another matrix. Instead of channel vs time of arrival (ts), we do channel vs pixel. PD(ch,px) = RD(ch,AT(ch,px)). This way we only pick the points which arrive at the specific pixel.\n",
    "5. Next is summation. $P_{px} = P_{px} + \\sum_{ch}PD(ch,px)$\n",
    "6. Next, we convert the bipolar signal we get through the envelope detection. \n",
    "7. Next is log compression (db scaling)"
   ]
  },
  {
   "cell_type": "markdown",
   "metadata": {
    "heading_collapsed": true
   },
   "source": [
    "# Lecture 27"
   ]
  },
  {
   "cell_type": "markdown",
   "metadata": {
    "hidden": true
   },
   "source": [
    "We want to detect the scattering from objects. The scattering from multiple objects.\n",
    "\n",
    "The blue dots ae not part of the data. They are artificially put there. If an object is sitting at a certain point, it will arrive at different times for each element in the receiver. Therefore, to reconstruct at that one point, we sum along all those time samples from the receiver.\n",
    "\n",
    "Therefore, we need to record the arrival times. Use a distance equation and known acoustic velocity to find the distance each element is away from each other point along the spatial grid. We are left with a matrix storing the arrival time for each element.\n",
    "\n",
    "Then we add the envelope detection. We detect the amplitude of the oscillating signal. Shai used the hilbert transform (also a Matlab function). Repeating this over the different lines will recreate the image.\n",
    "\n",
    "Why does the hilbert transform work?\n",
    "\n",
    " u = some signal envelope * cos(wt)"
   ]
  },
  {
   "cell_type": "markdown",
   "metadata": {
    "hidden": true
   },
   "source": [
    "<img  src=\"IMG_0236.JPG\"/>"
   ]
  },
  {
   "cell_type": "markdown",
   "metadata": {
    "hidden": true
   },
   "source": [
    "The analytical signal can also be written like this:\n",
    "\n",
    "$$ u_a = u_m\\cos(\\omega t) + iu_m\\sin(\\omega t) $$\n",
    "$$ u_a = u_m e^{i\\omega t} $$\n",
    "\n",
    "$$ H(u(t)) = \\dfrac{1}{\\pi}\\lim_{\\epsilon \\to 0} \\int^{\\infty}_{\\epsilon} \\dfrac{u(t+z) - u(t-z)}{z}dz $$\n",
    "\n",
    "in the frequency domain:\n",
    "\n",
    "$ \\mathcal{F}\\left( H(u) \\right) = i\\mathcal{F(u)} $ if $\\omega<0$\n",
    "$\\mathcal{F}\\left( H(u) \\right) = 0 $ if  $\\omega = 0$\n",
    "$ \\mathcal{F}\\left( H(u) \\right) = -i\\mathcal{F(u)} $ if $\\omega>0$\n",
    "\n",
    "Another method for detection of the envelope. Also possible to take Fourier transform, delete all negative frequencies. The next step is to shift the remaining peak to zero frequency. Then take FFt back.\n",
    "\n",
    "this works because the multiplication in the time domain is a convolution in the frequency domain. Convolution with a peak with some frequency moves it to that specific frequency. by centering it around zero, we undo (deconvolve) that envelope. \n",
    "\n",
    "Steps are shown with a picture below."
   ]
  },
  {
   "cell_type": "markdown",
   "metadata": {
    "hidden": true
   },
   "source": [
    "<img  src=\"IMG_0238.JPG\"/>"
   ]
  },
  {
   "cell_type": "markdown",
   "metadata": {
    "collapsed": true,
    "heading_collapsed": true
   },
   "source": [
    "# Lecture 28"
   ]
  },
  {
   "cell_type": "markdown",
   "metadata": {
    "hidden": true
   },
   "source": [
    "Projects Announcments:\n",
    "\n",
    "Use either SimSonic or FieldII to solve the forward problem of the imaging. The final outcome is to generate data provided by the detector. The inverse problem is then to take the data from the detector to reconstruct an image. There are several options: a linear array scan.\n",
    "\n",
    "Cylindrical array, IVUS:\n",
    "\n",
    "The receiver/transducer is a cylinder, and inserted intravascularly. The outcome is a cross-secitonal view of the artery.\n",
    "\n",
    "Multi-Tx zones have multiple zones of focus, then the images ae stitched together.\n",
    "\n"
   ]
  },
  {
   "cell_type": "markdown",
   "metadata": {
    "hidden": true
   },
   "source": [
    "Going back to the example of plane-wave imaging, this is a limited example. It may be a starting point for the project. The file, for example, shows the image reconstruction.\n",
    "\n",
    "We want to talk about how ultrasound imaging systems are created. We could actually choose different architecture. Defining the wavefroms and the transmit delays. The orientation along the time channel is defined by the modulator. The signals will be dsent though the Digital-to-analog filter and passed to an amplifier to the transducer. The pressure wave will be excited from the signal. Echoes will return, generating voltage signals from the transducer. These signals are filtered, amplified in the analog domain, then sampled by an Analog-to-Digital converter. Why do we need this? We need to match the voltage range of the A/D converter, as well as the frequency range (prevent ailiasing). Then we implement the synthetic aperture by artificually delaying the voltage signal from each element. These are summed to form A-lines. These are stacked into memory to be used for processing and imaging. The envelope of the signal is taken, then log compression is taken (sound is usually given in dB). \n",
    "\n",
    "There is some attenuation depending on where the ultrasound is scanned from. A sample 20 mm away is much weaker than one 2 mm away. This effect is compensated for by the TGC amplifier."
   ]
  },
  {
   "cell_type": "markdown",
   "metadata": {
    "hidden": true
   },
   "source": [
    "Next, we look at the effect of apodisation. This is sending signals of different amplitude to each element. If we were to send the same amplitude, we would have the effect shown on the left in blue (corresponding to uniform intensity in the right in blue). If we don't like those peaks, we can do apodisation (shown in orange; once again, source on the right, resulting signal on the left). It is smoother. WE can reduce side lobes at the expense of widening the main lobe."
   ]
  },
  {
   "cell_type": "markdown",
   "metadata": {
    "hidden": true
   },
   "source": [
    "<img  src=\"IMG_0241.JPG\"/>"
   ]
  },
  {
   "cell_type": "markdown",
   "metadata": {
    "hidden": true
   },
   "source": [
    "Next, we hove on.\n",
    "\n",
    "We have two objects we want to image that are very close to each other. Can we differentiate between them? This is resolution.\n",
    "\n",
    "We have resolution in the lateral and axial directions. If there are two objects in the elevation direction (outside of the field of view), it too can affect resolution of objects.\n",
    "\n",
    "Things that affect resolution:\n",
    "* length of transducers\n",
    "    This affects lateral resolution (recall that the image a distance away is a fourier transform of the aperture. Larger aperture allows for better focusing).\n",
    "* Temporal resolution\n",
    "    This affects axial resolution.\n",
    "* Pulse duration\n",
    "    The length of the excitation pulse determines axial resolution as well. Short pulses are called a wide bandwidth pulse (due to large number of frequencies used to construct it).\n",
    "    Arrival time: $t_2 - t_1 > T$\n",
    "    Bandwidth: $BW = \\dfrac{1}{T}$\n",
    "    Axial resolution: $\\dfrac{1}{2}\\dfrac{c_o}{BW}$\n",
    "    Lateral resolution: $\\Delta x \\propto \\lambda_c\\dfrac{z}{D}$\n",
    "    Elevation: $\\Delta x \\propto \\lambda_c \\dfrac{z}{H}$\n",
    "    \n",
    "Here:\n",
    "* D - aperture length\n",
    "* H - width of aperture\n",
    "* $\\lambda_c = \\dfrac{c}{f_c}$\n",
    "* $\\lambda$\n",
    "\n",
    "    \n",
    "If the transducer has a center frequency of 5MHz and a bandwidth of 3 MHz, we can derive wavelength. "
   ]
  },
  {
   "cell_type": "markdown",
   "metadata": {
    "collapsed": true,
    "heading_collapsed": true
   },
   "source": [
    "# Lecture 29"
   ]
  },
  {
   "cell_type": "markdown",
   "metadata": {
    "hidden": true
   },
   "source": [
    "## Non-directional CW Doppler System"
   ]
  },
  {
   "cell_type": "markdown",
   "metadata": {
    "hidden": true
   },
   "source": [
    "Last Friday: Nondirectional CW Doppler System\n",
    "    \n",
    "Simplifying greatly, we have an oscillator which generates a sine wave. This goes to the transmitting element (voltage to sound). These ultrasound reflects or scatters off of sounds. Typically, for a common element, we might put 5V peak to peak. The returning echoes (and electrical signals once it goes through the receiver) varies greatly with magnitude. When the sound bounces off of bone vs blood cells, we see a huge dynamic range.\n",
    "\n",
    "We need to separate low amplitude, small frequency shift electrical signals that are superimposed on Large Amplitude Signal. This is kind of like an FM radio. We want to convert changes in frequency to changes in amplitude. this is called homodying demodulation. Coherent demodulation works very well. \n",
    "\n",
    "Some equations (too quick to write):"
   ]
  },
  {
   "cell_type": "markdown",
   "metadata": {
    "hidden": true
   },
   "source": [
    "<img  src=\"IMG_0243.JPG\"/>"
   ]
  },
  {
   "cell_type": "markdown",
   "metadata": {
    "hidden": true
   },
   "source": [
    "The red blood cells at the center don't move as slow as those near the fall. Therefore there is a spectrum of speeds. \n",
    "\n",
    "The negative frequencies are from the vein (moving opposite directions).\n",
    "\n",
    "How do we get direction?"
   ]
  },
  {
   "cell_type": "markdown",
   "metadata": {
    "hidden": true
   },
   "source": [
    "## Single Sideband filtering"
   ]
  },
  {
   "cell_type": "markdown",
   "metadata": {
    "hidden": true
   },
   "source": [
    "Ifwe had a perfect system, we would see three peaks on the FFT: the stationary signal, and two frequencies aboce and below that denoting the reflected waves which have been doppler shifted. We can separate them out by using highpass and lowpass filters. "
   ]
  },
  {
   "cell_type": "markdown",
   "metadata": {
    "hidden": true
   },
   "source": [
    "<img  src=\"IMG_0244.JPG\"/>"
   ]
  },
  {
   "cell_type": "markdown",
   "metadata": {
    "hidden": true
   },
   "source": [
    "Because the signals are so close, it is really hard to create a filter with a steep enough stop band to get the signal.\n",
    "\n",
    "A more practical way is called offset Frequency (Heterodyne) directional Doppler\n",
    "\n",
    "We oscillate two signals; one gets shifted by $\\pi/2$. Those two lines remain 90 degrees shifted even after demodulation. We do another round of demodulation with a quadurature oscillator (one puts out a sine, the other a cosine). Then we sum them up, and get $\\cos(\\omega_p + \\omega_f) + \\cos(\\omega_p - \\omega_r)$. We have now brought the signal down from MHz to kHz.\n",
    "\n",
    "* $T = \\cos (\\omega_o t)$\n",
    "* $T_{\\pi/2} = \\sin(\\omega_o t)$\n",
    "* $R = \\sin(\\omega t) + \\sin(\\omega_o + \\omega_f)t + \\sin(\\omega_o - \\omega_r)t$\n",
    "\n",
    "(too many, see photo)"
   ]
  },
  {
   "cell_type": "markdown",
   "metadata": {
    "hidden": true
   },
   "source": [
    "<img  src=\"IMG_0245.JPG\"/>"
   ]
  },
  {
   "cell_type": "markdown",
   "metadata": {
    "hidden": true
   },
   "source": [
    "## Phase Quadrature Bidirectional Doppler"
   ]
  },
  {
   "cell_type": "markdown",
   "metadata": {
    "hidden": true
   },
   "source": [
    "This is very smilar to the pervious case; except we have two phase shifts. "
   ]
  },
  {
   "cell_type": "markdown",
   "metadata": {
    "hidden": true
   },
   "source": [
    "<img  src=\"IMG_0246.JPG\"/>"
   ]
  },
  {
   "cell_type": "markdown",
   "metadata": {
    "hidden": true
   },
   "source": [
    "Probe design:\n",
    "\n",
    "piezoelectric element\n",
    "Some shielding surrounded by a plastic case.\n",
    "Matching layers (quarter wavelength is optimal).\n",
    "Acoustic absorber\n",
    "* air - high reflection, narrow bandwidth, long pulse ring down, high ouput and sensitivity\n",
    "* High absorption - wide bandwidth, short pulse, lower output, lower sensitivity\n",
    "* Low absorption - something???\n",
    "\n"
   ]
  },
  {
   "cell_type": "markdown",
   "metadata": {
    "heading_collapsed": true
   },
   "source": [
    "# Lecture 30"
   ]
  },
  {
   "cell_type": "markdown",
   "metadata": {
    "hidden": true
   },
   "source": [
    "Lots of different types of blood flow occurs. We can sense these through doppler flow. Particularly, the one feature of flow which can be probed is the disribution of different velocities. We have a distribution within laminar flow (things flow faster in the center of the stream than toward the edges). Therefore, we have a spectrum of the doppler signal. It can be shown that the signal spectrum of healthy, laminar flow has all velocities at roughly equal magnitude.\n",
    "\n",
    "The signature for the physician is when the equal amplitudes don't hold. For example, ifthere is a blockage, there will be some instability and have some turbulent flow. This will cause the spectrum to vary, indicatingthe block.\n",
    "\n",
    "This brings us to Pulsed Wave Doppler. So far we have only spoken of Continuous Wave Doppler.\n",
    "\n",
    "As the pulse forthe doppler effect gets broader and broader, the axial resolution suffers. The shorter the pulse, the broader the bandwidth. What would be the doppler-shifted spectrum? A moving red blood cell has a continuous wave transmission (lets say we have some fixed membrane). There is some shift of the mean frequency, but there is also some spread of the band width. Let's say that we have a 10 MHz signal; the Bandwidth could be 5 MHz, and the change in mean frequency from blood would only be ~1 kHz. This is very small compared to the bandwidth. Because of this problem, we need a different solution.\n",
    "\n",
    "Slow time is in ms, fast time is in ~ns. We do this becasue we send pulses out in ms intervals, but the frequency is in the ns. "
   ]
  },
  {
   "cell_type": "markdown",
   "metadata": {
    "hidden": true
   },
   "source": [
    "$$ \\Delta z = V \\cos\\theta \\cdot \\Delta t_{prf} $$\n",
    "\n",
    "PRF stands for pulse repetition frequency. We can translate this into terms of the speed of sound:\n",
    "\n",
    "$$ \\Delta z = \\dfrac{2 V \\cos\\theta}{c_o}\\Delta t_{prf} = \\dfrac{2\\Delta z}{c_o} $$\n",
    "$$ \\Delta \\phi = 2 \\pi f-c \\cdot \\Delta z $$\n",
    "\n",
    "This phase delay is useful. We can also calculate the frequency which would be seen if we plot these samples on the slow time axis. If we havea quarter of a cycle betwen cycles. If we sample it with 4 samples * 1 ms, the period in the slow time is 4 ms, meaning our period in the slow time is 250 Hz.\n",
    "\n",
    "$$ f_{pw} = \\dfrac{\\Delta \\phi}{\\Delta t_{prf}} = \\dfrac{2\\pi f_c \\cdot 2V\\cos \\theta}{c_o} $$\n",
    "$$ f_{pw} = f_c \\cdot \\dfrac{2v \\cos \\theta}{c_o} $$"
   ]
  },
  {
   "cell_type": "markdown",
   "metadata": {
    "hidden": true
   },
   "source": [
    "We now have the slow time doppler shift. Mapping of fast time real frequencies to slow time doppler frequencies. The slow time, there is some sampling here. Let's see what the maximum velocity that we can capture is.\n",
    "\n",
    "$$ \\dfrac{1}{\\Delta t_{prf}} = f_{prf} \\gt f_c \\cdot \\dfrac{2V_{max} \\cos \\theta}{c} \\cdot 2 $$\n",
    "$$ t_{prf} \\lt \\dfrac{c}{4f_cv_{max} \\cos \\theta} $$\n",
    "\n",
    "Fast pulsing means limiting in the penetration depth. \n",
    "\n",
    "$$ v_{max} = \\dfrac{c f_{prf}}{4f_c \\cos \\theta} $$\n",
    "$$ 2z_{max} = c_o \\Delta t_{prf} $$\n",
    "$$ z_max v_{max} = \\dfrac{c_o}{8f_c \\cos \\theta} $$\n",
    "\n",
    "How would be determing the minimal velocity? We are restricted to measuring one period of the signal. $V_{min}$ is determined by the number of pulses.\n",
    "\n",
    "$$ f_{pw}^{min} = f_c \\dfrac{2 v_{min} \\cos \\theta}{c_o} $$\n",
    "$$ N\\Delta t_{prf} = \\dfrac{1}{f_{PW}^{min}} = \\dfrac{c_o}{f_c \\cdot 2 v_{min} \\cos \\theta} $$\n",
    "$$ v_{min} = \\dfrac{c_o f_{prf}}{2N f_c \\cos \\theta} $$"
   ]
  },
  {
   "cell_type": "markdown",
   "metadata": {},
   "source": [
    "# Lecture 31"
   ]
  },
  {
   "cell_type": "markdown",
   "metadata": {},
   "source": [
    "Materials for Ultrasound Transducers\n",
    "\n",
    "How can we chooose center frequency or bandwidth?\n",
    "\n",
    "Bear in mind that the elements behave sort-of like a capacitor. The capacitance is a funciton of pressure. Therefore, the voltage is also a function of pressure.\n",
    "\n",
    "An example of the material is called PVDF. The goal is to change the electric permeability. We can change this by changing the electric dipole. A dipole is when we have two charges (+ and -) with some very small separation. We call these molecules polar. If we compress the polar material, we change the distances between the + and -. In most materials, it won't have a significant effect; but in some materials, we can order these materials. We can change the order of these molecules from random to ... well ordered. ;) We can orient these molecules such that the dipoles all point in the same directions. This is the basis for the Piezoelectric property. The polarization of the material is nonzero when  there is zero electric field. In a broader class of materials called dielectrics, we still get a nonzero polarization, but it only comes in response to external electric fields. It is only 0 when there is an electric field. PVDF is a dielectric material, and has a polarization in an electric field. When no field, no polarization. We can do some process to align the fields.\n",
    "\n",
    "Lead Zirconate Titanate (aka pzt). This is the main material used in most transducers. It comes as a powder, can be molded and compressed, and centered into a block. The mold will define the final shape.\n",
    "\n",
    "One of the earliest materials was quartz. A more modern material is Lithium Niobate (LiNbO3). Composite materials are a mix of ceramic and epoxy has some advantages over just ceramic materials. Not all materials have the same properties. \n",
    "\n",
    "Here is a table to compare the values:"
   ]
  },
  {
   "cell_type": "markdown",
   "metadata": {},
   "source": [
    "<img  src=\"IMG_0251.JPG\"/>"
   ]
  },
  {
   "cell_type": "markdown",
   "metadata": {},
   "source": [
    "We are interested in Z0 for the impedance. High impedance isn't necessairly good (lots of reflection at interface). We need to match impedance.\n",
    "\n",
    "Kt is the efficiency of converting electrical energy to mechanical. Low efficiency in PVDF.\n",
    "$\\epsilon$ is the dielectric of the material. If we have a high permeability. If e have a high capacitance, it could be better, especially for driving cables. Different materials have different characteristics.\n",
    "\n",
    "High permeability is desired when the element is very small. If we want to match impedance, PVDF is your best bet. We know it's a capacitor, but how does it work. We want some insight into how to design everything. We will see a lot of notation, (kt, g3, g33, g31, etc.). What does this mean? We'll go over what is important in the design. We'll start with explaining the mechnaism of transduction (turning electrical energy into mechanical). We will also need to go over notation."
   ]
  },
  {
   "cell_type": "markdown",
   "metadata": {},
   "source": [
    "Strain is how much a material is deformed.\n",
    "\n",
    "$$ \\Delta l = S \\cdot \\Delta r $$\n",
    "\n",
    "The strain can go to 3 dimensions. We must provide a lot of information (both $l$ and $r$ are vectors; therefore, we need to specify the stress tensor).\n",
    "\n",
    "Stress is where the force can go in any direction.\n",
    "\n",
    "$$ F = Ta $$\n",
    "\n",
    "We read this as a matrix $T$ operating on a vector $a$ to make another vector $F$. Basically, what we understand from this type of notation is that, for each direction of the force, it depends on the different faces of the cubic element. So, the matrix of 9 elements $T$:\n",
    "\n",
    "\\begin{matrix}\n",
    "xx&xy&xz\\\\\n",
    "yx&yy& yz\\\\\n",
    "zx&zy&zz\n",
    "\\end{matrix}"
   ]
  },
  {
   "cell_type": "markdown",
   "metadata": {},
   "source": [
    "<img  src=\"IMG_0252.JPG\"/>"
   ]
  },
  {
   "cell_type": "markdown",
   "metadata": {},
   "source": [
    "$$ T_{ij} = \\sum_{k=1}^3 \\sum_{l=1}^3 c_{ijkl}S_{kl}$$\n",
    "\n",
    "The rigidity tensor $c$ has 81 components. This is why we go into condensed notaion. Condensed matrix notation is very popular.\n",
    "\n",
    "**If a summation sign is missing, it is implied that summation occurs over repeaded indecies.** (This is a little weird)\n",
    "\n",
    "Condenced = $T_{ij}$\n",
    "$$ T_1 = T_{11} $$\n",
    "$$ T_2 =  T_{22} $$\n",
    "$$ T_3 =  T_{33} $$\n",
    "$$ T_4 =  T_{12} = T_{21} $$\n",
    "$$ T_5 =  T_{23} = T_{32} $$\n",
    "$$ T_6 = T_{13} = T_{31} $$\n",
    "\n",
    "$$ \\left[\\begin{matrix}T_1\\\\T_2\\\\T_3\\\\T_4\\\\T_5\\\\ T_6 \\end{matrix}\\right] = \\left[\\begin{matrix}c_11 & ... & c_{16}\\\\ ... & c_{22} & ...\\\\ c_{61} & ... & C_{66} \\end{matrix}\\right] \\left[ \\begin{matrix}S_1\\\\S_2\\\\S_3\\\\S_4\\\\S_5\\\\S_6\\end{matrix}\\right] $$\n",
    "\n",
    "To understand Piezoelectric materials, we will add a few more terms.\n",
    "\n",
    "$$ \\left[\\begin{matrix}E_1\\\\E_2\\\\E_3\\end{matrix}\\right] = something \\left[\\being{matrix}D_1\\\\D_2\\\\D_3\\end{matrix}\\right] $$"
   ]
  },
  {
   "cell_type": "markdown",
   "metadata": {},
   "source": [
    "<img  src=\"IMG_0253.JPG\"/>"
   ]
  },
  {
   "cell_type": "markdown",
   "metadata": {},
   "source": [
    "The plates in a capacitor, the source is desribed as a charge. The charge creates an electric field which is nonzero. WE need to remember that is is everything (not just the charge on the plate). \n",
    "\n",
    "\n",
    "$$ \\nabla \\cdot E = \\dfrac{1}{\\epsilon_o}\\rho $$\n",
    "\n",
    "The charge which is within the material. The source for $D$ is the free charges. Everything minus bound charges. Here, $ \\rho_f$ stands for free charges.\n",
    "\n",
    "$$ \\nabla \\cdot D = \\rho - \\rho_b = \\rho_f $$\n",
    "\n",
    "$$ D = \\epsilon E = \\epsilon_o E + P$$\n",
    "\n",
    "To be consistant, D and E have any direction. Therefore, $\\epsilon$ is a tensor of the second degree. We can also break it down to what the charge looks like outside of a material and the polarization caused by the material.\n",
    "\n",
    "$$ Q_{free} = D\\cdot A $$\n",
    "\n",
    "The charge on the capacitor is related to the area of the capacitor, while the voltage is determined by the field E.\n",
    "\n",
    "$$ V = E \\cdot d $$\n",
    "\n",
    "The capacitance is therefore:\n",
    "\n",
    "$$ C = \\dfrac{Q}{V} = \\dfrac{D \\cdot A}{E \\cdot d} = \\dfrac{\\epsilon E A}{E \\cdot d} = \\epsilon \\dfrac{A}{d} $$\n",
    "\n",
    "Energy:\n",
    "\n",
    "$$ E = \\dfrac{1}{2}QV = \\dfrac{1}{2}\\dfrac{Q^2}{C} = \\dfrac{1}{2}CV^2 $$\n",
    "\n",
    "The pooarization is the response of the externa field otthe electric field. The charges $\\rho_b$ can still move locally and generate some dipole. There is a unit (+-). Without the field, the molecule isn't aligned. The orientation is random. When there is a field, there can be an induced polarization, where the molecules align. This is the same in the bulk material. There will be some divergence, and this will look like a surface charge at the end. The material, whatever it is, it's not just the material itself, there is a metallic coating on both sides so we can apply an electric field. Two electrodes which are coated on the surface.\n",
    "\n",
    "We know that T and S are connected and that D and E are connected. We will see that in a piezoelectric, T and E are connected and S and D are connected as well. "
   ]
  },
  {
   "cell_type": "markdown",
   "metadata": {},
   "source": [
    "<img  src=\"IMG_0254.JPG\"/>"
   ]
  },
  {
   "cell_type": "code",
   "execution_count": null,
   "metadata": {
    "collapsed": true
   },
   "outputs": [],
   "source": []
  }
 ],
 "metadata": {
  "anaconda-cloud": {},
  "kernelspec": {
   "display_name": "Python [conda root]",
   "language": "python",
   "name": "conda-root-py"
  },
  "language_info": {
   "codemirror_mode": {
    "name": "ipython",
    "version": 3
   },
   "file_extension": ".py",
   "mimetype": "text/x-python",
   "name": "python",
   "nbconvert_exporter": "python",
   "pygments_lexer": "ipython3",
   "version": "3.5.2"
  },
  "latex_envs": {
   "LaTeX_envs_menu_present": true,
   "bibliofile": "biblio.bib",
   "cite_by": "apalike",
   "current_citInitial": 1,
   "eqLabelWithNumbers": true,
   "eqNumInitial": 1,
   "labels_anchors": false,
   "latex_user_defs": false,
   "report_style_numbering": false,
   "user_envs_cfg": false
  },
  "toc": {
   "colors": {
    "hover_highlight": "#DAA520",
    "running_highlight": "#FF0000",
    "selected_highlight": "#FFD700"
   },
   "moveMenuLeft": true,
   "nav_menu": {
    "height": "84px",
    "width": "252px"
   },
   "navigate_menu": true,
   "number_sections": true,
   "sideBar": true,
   "threshold": 4,
   "toc_cell": false,
   "toc_section_display": "block",
   "toc_window_display": false
  }
 },
 "nbformat": 4,
 "nbformat_minor": 1
}
