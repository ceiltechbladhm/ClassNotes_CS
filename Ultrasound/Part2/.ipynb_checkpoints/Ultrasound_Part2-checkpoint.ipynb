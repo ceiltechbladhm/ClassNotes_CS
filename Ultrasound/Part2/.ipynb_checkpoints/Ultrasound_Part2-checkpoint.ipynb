{
 "cells": [
  {
   "cell_type": "markdown",
   "metadata": {
    "heading_collapsed": true
   },
   "source": [
    "# Preamble"
   ]
  },
  {
   "cell_type": "code",
   "execution_count": 1,
   "metadata": {
    "collapsed": false,
    "hidden": true
   },
   "outputs": [
    {
     "data": {
      "application/javascript": [
       "\n",
       "    var add_command_shortcuts = {\n",
       "            'Alt-w' : {\n",
       "                help    : 'Add Text Test',\n",
       "                help_index : 'aa',\n",
       "                handler : function() {\n",
       "                        var cell = IPython.notebook.get_selected_cell();\n",
       "        \t\tcell.code_mirror.replaceSelection('Testing');\n",
       "                }\n",
       "            }\n",
       "        };\n",
       "\n",
       "    var add_edit_shortcuts = {\n",
       "            'Alt-a' : {\n",
       "                help    : 'Insert alpha',\n",
       "                help_index : 'aa',\n",
       "                handler : function() {\n",
       "                    var cell = IPython.notebook.get_selected_cell();\n",
       "                    cell.code_mirror.replaceSelection('\\\\alpha');\n",
       "                }\n",
       "            },\n",
       "        'Alt-b' : {\n",
       "                help    : 'Insert beta',\n",
       "                help_index : 'aa',\n",
       "                handler : function() {\n",
       "                    var cell = IPython.notebook.get_selected_cell();\n",
       "                    cell.code_mirror.replaceSelection('\\\\beta');\n",
       "                }\n",
       "            },\n",
       "        'Alt-g' : {\n",
       "                help    : 'Insert gamma',\n",
       "                help_index : 'aa',\n",
       "                handler : function() {\n",
       "                    var cell = IPython.notebook.get_selected_cell();\n",
       "                    cell.code_mirror.replaceSelection('\\\\gamma');\n",
       "                }\n",
       "            },\n",
       "        'Alt-shift-g' : {\n",
       "                help    : 'Insert Gamma',\n",
       "                help_index : 'aa',\n",
       "                handler : function() {\n",
       "                    var cell = IPython.notebook.get_selected_cell();\n",
       "                    cell.code_mirror.replaceSelection('\\\\Gamma');\n",
       "                }\n",
       "            },\n",
       "        'Alt-Ctrl-d' : { //Change\n",
       "                help    : 'Insert delta',\n",
       "                help_index : 'aa',\n",
       "                handler : function() {\n",
       "                    var cell = IPython.notebook.get_selected_cell();\n",
       "                    cell.code_mirror.replaceSelection('\\\\delta');\n",
       "                }\n",
       "            },\n",
       "        'Alt-Ctrl-e' : {\n",
       "                help    : 'Insert epsilon',\n",
       "                help_index : 'aa',\n",
       "                handler : function() {\n",
       "                    var cell = IPython.notebook.get_selected_cell();\n",
       "                    cell.code_mirror.replaceSelection('\\\\epsilon');\n",
       "                }\n",
       "            },\n",
       "        'Alt-z' : {\n",
       "                help    : 'Insert zeta',\n",
       "                help_index : 'aa',\n",
       "                handler : function() {\n",
       "                    var cell = IPython.notebook.get_selected_cell();\n",
       "                    cell.code_mirror.replaceSelection('\\\\zeta');\n",
       "                }\n",
       "            },\n",
       "        'Alt-t' : {\n",
       "                help    : 'Insert theta',\n",
       "                help_index : 'aa',\n",
       "                handler : function() {\n",
       "                    var cell = IPython.notebook.get_selected_cell();\n",
       "                    cell.code_mirror.replaceSelection('\\\\theta');\n",
       "                }\n",
       "            },\n",
       "        'Alt-k' : {\n",
       "                help    : 'Insert kappa',\n",
       "                help_index : 'aa',\n",
       "                handler : function() {\n",
       "                    var cell = IPython.notebook.get_selected_cell();\n",
       "                    cell.code_mirror.replaceSelection('\\\\kappa');\n",
       "                }\n",
       "            },\n",
       "        'Alt-l' : {\n",
       "                help    : 'Insert lambda',\n",
       "                help_index : 'aa',\n",
       "                handler : function() {\n",
       "                    var cell = IPython.notebook.get_selected_cell();\n",
       "                    cell.code_mirror.replaceSelection('\\\\lambda');\n",
       "                }\n",
       "            },\n",
       "        'Alt-p' : {\n",
       "                help    : 'Insert pi',\n",
       "                help_index : 'aa',\n",
       "                handler : function() {\n",
       "                    var cell = IPython.notebook.get_selected_cell();\n",
       "                    cell.code_mirror.replaceSelection('\\\\pi');\n",
       "                }\n",
       "            },\n",
       "        'Alt-r' : {\n",
       "                help    : 'Insert rho',\n",
       "                help_index : 'aa',\n",
       "                handler : function() {\n",
       "                    var cell = IPython.notebook.get_selected_cell();\n",
       "                    cell.code_mirror.replaceSelection('\\\\rho');\n",
       "                }\n",
       "            },\n",
       "        'Alt-s' : {\n",
       "                help    : 'Insert sigma',\n",
       "                help_index : 'aa',\n",
       "                handler : function() {\n",
       "                    var cell = IPython.notebook.get_selected_cell();\n",
       "                    cell.code_mirror.replaceSelection('\\\\sigma');\n",
       "                }\n",
       "            },\n",
       "        'Alt-w' : {\n",
       "                help    : 'Insert omega',\n",
       "                help_index : 'aa',\n",
       "                handler : function() {\n",
       "                    var cell = IPython.notebook.get_selected_cell();\n",
       "                    cell.code_mirror.replaceSelection('\\\\omega');\n",
       "                }\n",
       "            },\n",
       "        'Ctrl-Alt-1' : {\n",
       "                help    : 'Insert dfrac',\n",
       "                help_index : 'aa',\n",
       "                handler : function() {\n",
       "                    var cell = IPython.notebook.get_selected_cell();\n",
       "                    cell.code_mirror.replaceSelection('\\\\dfrac{}{}');\n",
       "                    var cpos = cell.code_mirror.getCursor();\n",
       "                    cell.code_mirror.setCursor({line: cpos.line, ch: cpos.ch-3});\n",
       "                }\n",
       "            },\n",
       "        'Ctrl-Alt-2' : {\n",
       "                help    : 'Insert integral',\n",
       "                help_index : 'aa',\n",
       "                handler : function() {\n",
       "                    var cell = IPython.notebook.get_selected_cell();\n",
       "                    cell.code_mirror.replaceSelection('\\\\int_{}^{}');\n",
       "                    var cpos = cell.code_mirror.getCursor();\n",
       "                    cell.code_mirror.setCursor({line: cpos.line, ch: cpos.ch-4});\n",
       "                }\n",
       "            },\n",
       "        'Ctrl-Alt-3' : {\n",
       "                help    : 'Insert cos',\n",
       "                help_index : 'aa',\n",
       "                handler : function() {\n",
       "                    var cell = IPython.notebook.get_selected_cell();\n",
       "                    cell.code_mirror.replaceSelection('\\\\text{cos}');\n",
       "                }\n",
       "            },\n",
       "        'Ctrl-Alt-4' : {\n",
       "                help    : 'Insert sin',\n",
       "                help_index : 'aa',\n",
       "                handler : function() {\n",
       "                    var cell = IPython.notebook.get_selected_cell();\n",
       "                    cell.code_mirror.replaceSelection('\\\\text{sin}');\n",
       "                }\n",
       "            },\n",
       "        'Alt-0' : {\n",
       "                help    : 'Insert partial',\n",
       "                help_index : 'aa',\n",
       "                handler : function() {\n",
       "                    var cell = IPython.notebook.get_selected_cell();\n",
       "                    cell.code_mirror.replaceSelection('\\\\partial');\n",
       "                }\n",
       "            },\n",
       "        'Ctrl-Alt-n' : {\n",
       "                help    : 'Insert nabla',\n",
       "                help_index : 'aa',\n",
       "                handler : function() {\n",
       "                    var cell = IPython.notebook.get_selected_cell();\n",
       "                    cell.code_mirror.replaceSelection('\\\\nabla');\n",
       "                }\n",
       "            },\n",
       "        'Alt-Shift-t' : {\n",
       "                help    : 'Insert text',\n",
       "                help_index : 'aa',\n",
       "                handler : function() {\n",
       "                    var cell = IPython.notebook.get_selected_cell();\n",
       "                    cell.code_mirror.replaceSelection('\\\\text{}');\n",
       "                    var cpos = cell.code_mirror.getCursor();\n",
       "                    cell.code_mirror.setCursor({line: cpos.line, ch: cpos.ch-1});\n",
       "                }\n",
       "            },\n",
       "/*        'Shift-6' : {\n",
       "                help    : 'Insert superscript',\n",
       "                help_index : 'aa',\n",
       "                handler : function() {\n",
       "                    var cell = IPython.notebook.get_selected_cell();\n",
       "                    cell.code_mirror.replaceSelection('^{}');\n",
       "                    var cpos = cell.code_mirror.getCursor();\n",
       "                    cell.code_mirror.setCursor({line: cpos.line, ch: cpos.ch-1});\n",
       "                }\n",
       "            },\n",
       "        'Shift-_' : {\n",
       "                help    : 'Insert subscript',\n",
       "                help_index : 'aa',\n",
       "                handler : function() {\n",
       "                    var cell = IPython.notebook.get_selected_cell();\n",
       "                    cell.code_mirror.replaceSelection('_{}');\n",
       "                    var cpos = cell.code_mirror.getCursor();\n",
       "                    cell.code_mirror.setCursor({line: cpos.line, ch: cpos.ch-1});\n",
       "                }\n",
       "            },\n",
       "*/\n",
       "        };\n",
       "\n",
       "   // var load_ipython_extension = function() {\n",
       "        IPython.keyboard_manager.edit_shortcuts.add_shortcuts(add_edit_shortcuts);\n",
       "        IPython.keyboard_manager.command_shortcuts.add_shortcuts(add_command_shortcuts);\n",
       "    //};"
      ],
      "text/plain": [
       "<IPython.core.display.Javascript object>"
      ]
     },
     "metadata": {},
     "output_type": "display_data"
    }
   ],
   "source": [
    "%%javascript\n",
    "\n",
    "    var add_command_shortcuts = {\n",
    "            'Alt-w' : {\n",
    "                help    : 'Add Text Test',\n",
    "                help_index : 'aa',\n",
    "                handler : function() {\n",
    "                        var cell = IPython.notebook.get_selected_cell();\n",
    "        \t\tcell.code_mirror.replaceSelection('Testing');\n",
    "                }\n",
    "            }\n",
    "        };\n",
    "\n",
    "    var add_edit_shortcuts = {\n",
    "            'Alt-a' : {\n",
    "                help    : 'Insert alpha',\n",
    "                help_index : 'aa',\n",
    "                handler : function() {\n",
    "                    var cell = IPython.notebook.get_selected_cell();\n",
    "                    cell.code_mirror.replaceSelection('\\\\alpha');\n",
    "                }\n",
    "            },\n",
    "        'Alt-b' : {\n",
    "                help    : 'Insert beta',\n",
    "                help_index : 'aa',\n",
    "                handler : function() {\n",
    "                    var cell = IPython.notebook.get_selected_cell();\n",
    "                    cell.code_mirror.replaceSelection('\\\\beta');\n",
    "                }\n",
    "            },\n",
    "        'Alt-g' : {\n",
    "                help    : 'Insert gamma',\n",
    "                help_index : 'aa',\n",
    "                handler : function() {\n",
    "                    var cell = IPython.notebook.get_selected_cell();\n",
    "                    cell.code_mirror.replaceSelection('\\\\gamma');\n",
    "                }\n",
    "            },\n",
    "        'Alt-shift-g' : {\n",
    "                help    : 'Insert Gamma',\n",
    "                help_index : 'aa',\n",
    "                handler : function() {\n",
    "                    var cell = IPython.notebook.get_selected_cell();\n",
    "                    cell.code_mirror.replaceSelection('\\\\Gamma');\n",
    "                }\n",
    "            },\n",
    "        'Alt-Ctrl-d' : { //Change\n",
    "                help    : 'Insert delta',\n",
    "                help_index : 'aa',\n",
    "                handler : function() {\n",
    "                    var cell = IPython.notebook.get_selected_cell();\n",
    "                    cell.code_mirror.replaceSelection('\\\\delta');\n",
    "                }\n",
    "            },\n",
    "        'Alt-Ctrl-e' : {\n",
    "                help    : 'Insert epsilon',\n",
    "                help_index : 'aa',\n",
    "                handler : function() {\n",
    "                    var cell = IPython.notebook.get_selected_cell();\n",
    "                    cell.code_mirror.replaceSelection('\\\\epsilon');\n",
    "                }\n",
    "            },\n",
    "        'Alt-z' : {\n",
    "                help    : 'Insert zeta',\n",
    "                help_index : 'aa',\n",
    "                handler : function() {\n",
    "                    var cell = IPython.notebook.get_selected_cell();\n",
    "                    cell.code_mirror.replaceSelection('\\\\zeta');\n",
    "                }\n",
    "            },\n",
    "        'Alt-t' : {\n",
    "                help    : 'Insert theta',\n",
    "                help_index : 'aa',\n",
    "                handler : function() {\n",
    "                    var cell = IPython.notebook.get_selected_cell();\n",
    "                    cell.code_mirror.replaceSelection('\\\\theta');\n",
    "                }\n",
    "            },\n",
    "        'Alt-k' : {\n",
    "                help    : 'Insert kappa',\n",
    "                help_index : 'aa',\n",
    "                handler : function() {\n",
    "                    var cell = IPython.notebook.get_selected_cell();\n",
    "                    cell.code_mirror.replaceSelection('\\\\kappa');\n",
    "                }\n",
    "            },\n",
    "        'Alt-l' : {\n",
    "                help    : 'Insert lambda',\n",
    "                help_index : 'aa',\n",
    "                handler : function() {\n",
    "                    var cell = IPython.notebook.get_selected_cell();\n",
    "                    cell.code_mirror.replaceSelection('\\\\lambda');\n",
    "                }\n",
    "            },\n",
    "        'Alt-p' : {\n",
    "                help    : 'Insert pi',\n",
    "                help_index : 'aa',\n",
    "                handler : function() {\n",
    "                    var cell = IPython.notebook.get_selected_cell();\n",
    "                    cell.code_mirror.replaceSelection('\\\\pi');\n",
    "                }\n",
    "            },\n",
    "        'Alt-r' : {\n",
    "                help    : 'Insert rho',\n",
    "                help_index : 'aa',\n",
    "                handler : function() {\n",
    "                    var cell = IPython.notebook.get_selected_cell();\n",
    "                    cell.code_mirror.replaceSelection('\\\\rho');\n",
    "                }\n",
    "            },\n",
    "        'Alt-s' : {\n",
    "                help    : 'Insert sigma',\n",
    "                help_index : 'aa',\n",
    "                handler : function() {\n",
    "                    var cell = IPython.notebook.get_selected_cell();\n",
    "                    cell.code_mirror.replaceSelection('\\\\sigma');\n",
    "                }\n",
    "            },\n",
    "        'Alt-w' : {\n",
    "                help    : 'Insert omega',\n",
    "                help_index : 'aa',\n",
    "                handler : function() {\n",
    "                    var cell = IPython.notebook.get_selected_cell();\n",
    "                    cell.code_mirror.replaceSelection('\\\\omega');\n",
    "                }\n",
    "            },\n",
    "        'Ctrl-Alt-1' : {\n",
    "                help    : 'Insert dfrac',\n",
    "                help_index : 'aa',\n",
    "                handler : function() {\n",
    "                    var cell = IPython.notebook.get_selected_cell();\n",
    "                    cell.code_mirror.replaceSelection('\\\\dfrac{}{}');\n",
    "                    var cpos = cell.code_mirror.getCursor();\n",
    "                    cell.code_mirror.setCursor({line: cpos.line, ch: cpos.ch-3});\n",
    "                }\n",
    "            },\n",
    "        'Ctrl-Alt-2' : {\n",
    "                help    : 'Insert integral',\n",
    "                help_index : 'aa',\n",
    "                handler : function() {\n",
    "                    var cell = IPython.notebook.get_selected_cell();\n",
    "                    cell.code_mirror.replaceSelection('\\\\int_{}^{}');\n",
    "                    var cpos = cell.code_mirror.getCursor();\n",
    "                    cell.code_mirror.setCursor({line: cpos.line, ch: cpos.ch-4});\n",
    "                }\n",
    "            },\n",
    "        'Ctrl-Alt-3' : {\n",
    "                help    : 'Insert cos',\n",
    "                help_index : 'aa',\n",
    "                handler : function() {\n",
    "                    var cell = IPython.notebook.get_selected_cell();\n",
    "                    cell.code_mirror.replaceSelection('\\\\text{cos}');\n",
    "                }\n",
    "            },\n",
    "        'Ctrl-Alt-4' : {\n",
    "                help    : 'Insert sin',\n",
    "                help_index : 'aa',\n",
    "                handler : function() {\n",
    "                    var cell = IPython.notebook.get_selected_cell();\n",
    "                    cell.code_mirror.replaceSelection('\\\\text{sin}');\n",
    "                }\n",
    "            },\n",
    "        'Alt-0' : {\n",
    "                help    : 'Insert partial',\n",
    "                help_index : 'aa',\n",
    "                handler : function() {\n",
    "                    var cell = IPython.notebook.get_selected_cell();\n",
    "                    cell.code_mirror.replaceSelection('\\\\partial');\n",
    "                }\n",
    "            },\n",
    "        'Ctrl-Alt-n' : {\n",
    "                help    : 'Insert nabla',\n",
    "                help_index : 'aa',\n",
    "                handler : function() {\n",
    "                    var cell = IPython.notebook.get_selected_cell();\n",
    "                    cell.code_mirror.replaceSelection('\\\\nabla');\n",
    "                }\n",
    "            },\n",
    "        'Alt-Shift-t' : {\n",
    "                help    : 'Insert text',\n",
    "                help_index : 'aa',\n",
    "                handler : function() {\n",
    "                    var cell = IPython.notebook.get_selected_cell();\n",
    "                    cell.code_mirror.replaceSelection('\\\\text{}');\n",
    "                    var cpos = cell.code_mirror.getCursor();\n",
    "                    cell.code_mirror.setCursor({line: cpos.line, ch: cpos.ch-1});\n",
    "                }\n",
    "            },\n",
    "/*        'Shift-6' : {\n",
    "                help    : 'Insert superscript',\n",
    "                help_index : 'aa',\n",
    "                handler : function() {\n",
    "                    var cell = IPython.notebook.get_selected_cell();\n",
    "                    cell.code_mirror.replaceSelection('^{}');\n",
    "                    var cpos = cell.code_mirror.getCursor();\n",
    "                    cell.code_mirror.setCursor({line: cpos.line, ch: cpos.ch-1});\n",
    "                }\n",
    "            },\n",
    "        'Shift-_' : {\n",
    "                help    : 'Insert subscript',\n",
    "                help_index : 'aa',\n",
    "                handler : function() {\n",
    "                    var cell = IPython.notebook.get_selected_cell();\n",
    "                    cell.code_mirror.replaceSelection('_{}');\n",
    "                    var cpos = cell.code_mirror.getCursor();\n",
    "                    cell.code_mirror.setCursor({line: cpos.line, ch: cpos.ch-1});\n",
    "                }\n",
    "            },\n",
    "*/\n",
    "        };\n",
    "\n",
    "   // var load_ipython_extension = function() {\n",
    "        IPython.keyboard_manager.edit_shortcuts.add_shortcuts(add_edit_shortcuts);\n",
    "        IPython.keyboard_manager.command_shortcuts.add_shortcuts(add_command_shortcuts);\n",
    "    //};"
   ]
  },
  {
   "cell_type": "markdown",
   "metadata": {
    "heading_collapsed": true
   },
   "source": [
    "# Lecture 10"
   ]
  },
  {
   "cell_type": "markdown",
   "metadata": {
    "hidden": true
   },
   "source": [
    "## Last Lecture"
   ]
  },
  {
   "cell_type": "markdown",
   "metadata": {
    "hidden": true
   },
   "source": [
    "* New simulations uploaded\n",
    "* No absorption was discussed\n",
    "* We talk now about how to include viscocity\n",
    "* Nonlinear terms will be discussed as well"
   ]
  },
  {
   "cell_type": "markdown",
   "metadata": {
    "hidden": true
   },
   "source": [
    "## Nonlinear Terms"
   ]
  },
  {
   "cell_type": "markdown",
   "metadata": {
    "hidden": true
   },
   "source": [
    "If we saw that $M = \\dfrac{v}{C} \\ll 1$, then the convection term is negligible. Therefore, the particle velocity is much smaller than the propagation of the wave. Then we discussed the wave in terms of pressure. Here, unlike velocity, there is some hydrostatic pressure (aka, a DC offset of the pressure). Additionally, the amplitude of the pressure wave is much larger than the hydrostatic pressure. We now write the approximation above in terms of pressure.\n",
    "\n",
    "First, pausing to derive the compressibility relation:\n",
    "$$ \\kappa = \\dfrac{1}{\\rho}\\dfrac{\\partial \\rho}{\\partial p} = \\dfrac{1}{\\rho_o c^2} $$\n",
    "$$ \\rightarrow c^2 = \\dfrac{1}{\\rho_o \\kappa} $$\n",
    "\n",
    "For referece, $\\kappa$ is on the order of GPa. Nonlinear pressures occur around 1-10 MPa.\n",
    "\n",
    "Now applying this to pressure and impedance:\n",
    "$$ Z_o = \\dfrac{p}{v} \\rightarrow p = Z_o v \\ll z_oc = \\rho_o c^2 = \\dfrac{1}{\\kappa} $$\n",
    "\n",
    "When we will talk about nonlinear acoustics, the convection term is not the source of nonlinearity. There are other mechanisms which we will discuss."
   ]
  },
  {
   "cell_type": "markdown",
   "metadata": {
    "hidden": true
   },
   "source": [
    "<img  src=\"IMG_0126.JPG\"/>"
   ]
  },
  {
   "cell_type": "markdown",
   "metadata": {
    "hidden": true
   },
   "source": [
    "## Viscosity"
   ]
  },
  {
   "cell_type": "markdown",
   "metadata": {
    "hidden": true
   },
   "source": [
    "This takes energy from the propagation of the wave and turn it into thermal energy. This attenuates the amplitude of the wave. Whether it is tissue or liquid, viscosity happens.\n",
    "\n",
    "$$ \\rho_o\\left[ \\dfrac{\\partial v}{\\partial t} + (v \\cdot \\nabla)v) \\right] = -\\nabla p + (\\mu_B + \\dfrac{4}{3}\\mu)\\nabla (\\nabla\\cdot v) + \\mu \\nabla^2v $$\n",
    "\n",
    "Change of notation! It may be different from other fields. Typically, $\\mu_B$ is not considered because the convection term is so small.\n",
    "\n",
    "Consider the divergence of velocity. Nonzero divergence implies a source. It is possible for there to be nonzero divergence; therefore we don't discard the divergence term entirely.\n",
    "\n",
    "* $\\mu$ - sheer viscosity\n",
    "* $\\mu_B$ - bulk viscosity\n",
    "* $\\kappa = \\dfrac{1}{\\rho}\\dfrac{\\partial \\rho}{\\partial p}$ - adaibatic compressibility\n",
    "* $k = \\dfrac{\\omega}{c} = \\dfrac{2\\pi}{\\lambda}$\n",
    "\n",
    "Taking this forward:\n",
    "\n",
    "$$ \\kappa \\rho_o \\dfrac{\\partial^2 \\phi}{\\partial t^2} - \\nabla^2 \\phi = \\kappa(\\mu_B + \\dfrac{4}{3}\\mu)\\dfrac{\\partial}{\\partial t}(\\nabla^2 \\phi) $$\n",
    "\n",
    "Taking:\n",
    "$$ \\phi(r,t) = \\Phi(r,\\omega)e^{i\\omega t} $$\n",
    "\n",
    "We see that it becomes:\n",
    "$$ \\nabla^2 \\Phi + k^2 \\Phi = 0$$"
   ]
  },
  {
   "cell_type": "markdown",
   "metadata": {
    "hidden": true
   },
   "source": [
    "<img  src=\"IMG_0127.JPG\"/>"
   ]
  },
  {
   "cell_type": "markdown",
   "metadata": {
    "hidden": true
   },
   "source": [
    "What's different? $k$ used to be the wave number; now it can be imaginary. Here:\n",
    "$$ \\angle k = k(1+i\\omega \\kappa(\\mu_b + \\dfrac{4}{3}\\mu))^{-1/2}$$\n",
    "\n",
    "Usually, the imaginary portion is much smaller than 1. Therefore, it is convenient to use a Taylor expansion to reduce the expression:\n",
    "\n",
    "$$ \\angle k = k\\left[ 1 - \\dfrac{i\\omega \\kappa}{2}(\\mu_B + \\dfrac{4}{3}\\mu) \\right] = k - i\\alpha $$\n",
    "\n",
    "Here, alpha is the attenuation coefficient.\n",
    "\n",
    "Using these two relations:\n",
    "\n",
    "$$ c^2 = \\dfrac{1}{\\rho_o} $$\n",
    "$$ c = \\dfrac{\\omega}{k} $$\n",
    "\n",
    "We can get:\n",
    "$$ \\alpha = \\dfrac{\\omega^2}{2\\rho_o c_o^3}(\\mu_B + \\dfrac{4}{3}\\mu) $$\n",
    "\n",
    "Notice that the attentuation coefficient is dependent on the frequency. High-frequency waves increase resolution; however, this increases attenuation, and decreases penetration depth.\n",
    "\n"
   ]
  },
  {
   "cell_type": "markdown",
   "metadata": {
    "hidden": true
   },
   "source": [
    "<img  src=\"IMG_0128.JPG\"/>"
   ]
  },
  {
   "cell_type": "markdown",
   "metadata": {
    "hidden": true
   },
   "source": [
    "$$ p = \\dfrac{1}{\\rho_o}\\dfrac{\\partial \\phi}{\\partial t} $$\n",
    "$$ \\nabla \\cdot v = -\\nabla \\cdot \\nabla \\phi $$\n",
    "$$ \\dfrac{\\partial \\rho_1}{\\partial t} + \\rho_o \\nabla \\cdot v = 0 $$\n",
    "$$ \\kappa \\dfrac{\\partial p}{\\partial t} + \\nabla \\cdot v = 0 $$\n",
    "$$ \\kappa i \\omega \\angle p + k^2\\Phi = 0 $$\n",
    "\n",
    "$$ \\angle p = ik^2 \\Phi \\dfrac{1}{\\omega \\kappa} $$\n",
    "\n",
    "$$ \\nabla p = ik^2\\dfrac{1}{\\omega \\kappa}\\nabla \\Phi $$\n",
    "\n",
    "$$ v = i\\omega \\kappa \\dfrac{1}{k^2}\\nabla p $$\n",
    "\n",
    "Remember:\n",
    "$$ \\angle p = p_oe^{-ikx} \\rightarrow v = \\dfrac{\\omega}{\\kappa}{k} \\angle p $$\n",
    "\n",
    "$$ \\dfrac{\\angle p}{\\angle v} = \\dfrac{\\angle k}{\\omega \\kappa} $$\n",
    "\n",
    "These two waves will be slightly out of phase."
   ]
  },
  {
   "cell_type": "markdown",
   "metadata": {
    "hidden": true
   },
   "source": [
    "<img  src=\"IMG_0129.JPG\"/>"
   ]
  },
  {
   "cell_type": "markdown",
   "metadata": {
    "hidden": true
   },
   "source": [
    "<img  src=\"IMG_0130.JPG\"/>"
   ]
  },
  {
   "cell_type": "markdown",
   "metadata": {
    "hidden": true
   },
   "source": [
    "Rewriting this explicity:\n",
    "\n",
    "$$ \\angle p = p_o e^{-ikx} = p_oe^{-i(k-i\\alpha)x} = p_oe^{-\\alpha x}e^{-ikx} $$\n",
    "\n",
    "For intensity:\n",
    "\n",
    "$$ I = I_oe^{-2\\alpha x} $$\n",
    "\n",
    "There is no longer any more conservation of energy (within the wave), as some is carried to heat.\n",
    "\n",
    "There are two ways to represent the attenuation coefficient. The second is to use a dB scale.\n",
    "\n",
    "$$ \\alpha_{dB} = \\dfrac{20}{x}\\text{log}_{10}\\dfrac{p_o}{p(x)} = \\dfrac{10}{x}\\text{log}_{10}\\dfrac{I_o}{I(x)} $$\n",
    "$$ \\alpha_{dB} \\approx 8.686\\alpha $$\n",
    "\n",
    "Typically, the coefficient is written as follows. In datasheets, $\\alpha_o$ is given. To find the impedence for your specific application, you need to multiply by $f^2$. \n",
    "\n",
    "$$ \\alpha = \\alpha_o f^2 $$\n",
    "\n",
    "If there is not a fluid (e.g. different tissue types). Here, $ 1 < n < 2 $.\n",
    "$$ \\alpha = \\alpha_of^n $$\n",
    "\n"
   ]
  },
  {
   "cell_type": "markdown",
   "metadata": {
    "hidden": true
   },
   "source": [
    "<img  src=\"IMG_0131.JPG\"/>"
   ]
  },
  {
   "cell_type": "markdown",
   "metadata": {
    "heading_collapsed": true
   },
   "source": [
    "# Lecture 11"
   ]
  },
  {
   "cell_type": "markdown",
   "metadata": {
    "hidden": true
   },
   "source": [
    "## Last Lecture"
   ]
  },
  {
   "cell_type": "markdown",
   "metadata": {
    "hidden": true
   },
   "source": [
    "The intensity of the wave decreases. Mechanisms of attenuation are viscosity and sheer forces. Brining the energy from acoustic mode to thermal attenuates. There are other mechanisms for attenuation. There are also mechanisms to absorb ultrasound, turning ultrasound energy into thermal energy."
   ]
  },
  {
   "cell_type": "markdown",
   "metadata": {
    "hidden": true
   },
   "source": [
    "## Introduction to scattering"
   ]
  },
  {
   "cell_type": "markdown",
   "metadata": {
    "hidden": true
   },
   "source": [
    "Today, we discuss scattering, which shows up as attenuation. If this is a pure fluid, there is nothing to scatter the wave. If it is tissue, however, it is not homogeneous. These interfaces will scatter the incoming wave. Energy is still in the mechanical mode; only the direction has changed. Backscattering is when the wave is scattered 180$^o$ backward. It is the mechanism for contrast. It helps to identify types of tissue\n",
    "\n",
    "Question: why is the sky blue? We see light, even when not looking at the sun. We see scattering off molecules, called Rayleigh scattering. This is scattering off of molecules much smaller than the wavelength of the light. We will see it as the ratio of the object and wavelength later in lecture."
   ]
  },
  {
   "cell_type": "markdown",
   "metadata": {
    "hidden": true
   },
   "source": [
    "<img  src=\"IMG_0141.JPG\"/>"
   ]
  },
  {
   "cell_type": "markdown",
   "metadata": {
    "hidden": true
   },
   "source": [
    "In scattering, there are different types of problems. We will be interested to look at the properties of scattering.\n",
    "\n",
    "* $\\sigma$ - scattering cross-section\n",
    "* Shape of the scatterer (for example, a cell)\n",
    "\n",
    "Definitions:\n",
    "* $\\sigma_t = \\dfrac{\\text{time averaged scattered AND absorbed power}}{\\text{Time averaged incident intensity}} = \\dfrac{W_t}{I}$\n",
    "* [Area] = m^2 - here we talk about the area of the \"shadow\" ??\n",
    "* scattering cross-section - $\\sigma_s = \\dfrac{\\text{Time averaged scattered power}}{\\text{Incident Intensity}}$\n",
    "* $\\sigma_t = \\sigma_s + \\sigma_a$\n",
    "* $\\alpha_a = n\\sigma_a$\n",
    "\n",
    "$\\sigma_t$ describes scattering in any direction. Recall that $\\alpha$ is the absorption coefficient. It has units of 1/length. $n$ is the density of particles. If we talk about blood, and red blood cells are the scatterer, then $n$ is the concentration of red blood cells. $\\sigma_a$ is absorption cross section of an object, and n is the number of these objects per unit volume (concentration/density)."
   ]
  },
  {
   "cell_type": "markdown",
   "metadata": {
    "hidden": true
   },
   "source": [
    "<img  src=\"IMG_0142.JPG\"/>"
   ]
  },
  {
   "cell_type": "markdown",
   "metadata": {
    "hidden": true
   },
   "source": [
    "The differential cross-section has dependence on angle. This is because we integrate over the area\n",
    "$$ \\sigma_d(\\theta,\\varphi) = \\dfrac{\\text{Time averaged scattering in}(\\theta,\\varphi)\\text{ direction}}{\\text{Incident intensity}} $$\n",
    "\n",
    "$$ \\sigma_d = \\dfrac{dW_d}{d\\Omega} $$\n",
    "$$ d\\Omega = \\text{sin}\\theta d\\theta d\\varphi $$\n",
    "\n",
    "Basically, $d\\Omega$ is the change over the angle.\n",
    "\n",
    "The specific case of $\\theta = 180^o$ is the back scattering: $\\sigma_b = \\sigma_d(\\pi,0)$.\n",
    "\n",
    "Now we look at a sphere which is rigid. We are interested in finding the cross section. We will look at the wave and match the boundary conditions. The whole space is filled with two waves: the incident wave and the wave emerging from the sphere. Then we solve the boundary conditions on the sphere. We do this by describing the plane waves in term of an infinite sum of spherical waves. This is possible. We can decompose the planar wave into the spherical wave components. This is kind of like taking a Fourier transform, except the base components are different."
   ]
  },
  {
   "cell_type": "markdown",
   "metadata": {
    "hidden": true
   },
   "source": [
    "<img  src=\"IMG_0142.JPG\"/>"
   ]
  },
  {
   "cell_type": "markdown",
   "metadata": {
    "hidden": true
   },
   "source": [
    "The scattering field is related to the input pressure.\n",
    "\n",
    "Legendre function (safe to ignore, just for our information)\n",
    "$$ p_s(r) = p_{in}\\sqrt{\\dfrac{\\pi}{2\\pi r}}\\sum_{n=0}^{\\infty}\\dfrac{(-i)^{n+2}(2n_1)}{1+iK_n(k_o)}\\left[ J_{n+1/2}(kv) - iN_{n+1/2}(kr) \\right]P_n\\text{cos}\\theta $$\n",
    "\n",
    "We discuss small spheres: $ka\\ll 1$\n",
    "\n",
    "Here:\n",
    "\n",
    "$$ p_s(r,\\theta) = -p_{in}\\dfrac{k^2a^3}{3r}e^{-ikr}(1-\\dfrac{3}{2}\\text{cos}\\theta) $$\n",
    "\n",
    "We have two waves. We assumed one and calculated the other. The other is dependent on the scattering angle (this is the cos term). There are two terms in the parenthesis $(1-3/2\\text{cos}\\theta)$. Zero angle is where the cos=1. When cos=90$^o$. If we plot only the cos term, it has a butterfly shape, no radiation at 90$^o$. (See photo) This is called a dipole radiation. It can be produced by a moving object. The object can have a fixed dimension. If it is oscillation laterally, it will produce a dipole field of radiation. Energy is mostly transmitted forward, and none is transmitted up or down. This shows us that part of the scattering process is due to the plane wave moving the particle back and forth. There is also monopole radiation (this is the 1 term in the parenthesis)\n",
    "\n",
    "If we look at higher powers of the Legendre polynomial, we will have quadropole radiation, etc. However, these terms are negligibly small. The amplitude of the pressure waves is proportional to $k^2$, therefore proportional to wavelength."
   ]
  },
  {
   "cell_type": "markdown",
   "metadata": {
    "hidden": true
   },
   "source": [
    "<img  src=\"IMG_0145.JPG\"/>"
   ]
  },
  {
   "cell_type": "markdown",
   "metadata": {
    "hidden": true
   },
   "source": [
    "We must now calculate intensity.\n",
    "\n",
    "$$ I = p_s p_s^* \\dfrac{1}{2\\rho_oc_o} $$\n",
    "\n",
    "$$ I_s(r,\\theta) = p_{in}^2 \\dfrac{k^4a^6}{18\\rho_oc_or^2}(1-\\dfrac{3}{2}\\text{cos}\\theta)^2 $$\n",
    "\n",
    "Here, $a$ is the radius of the object.\n",
    "Power (integrating around the entire object)\n",
    "$$ W_s = \\int_0^{2\\pi}\\int_0^{\\pi}I_s(r,\\theta) r^2\\text{sin}\\theta d\\theta d\\varphi = \\int_0^{\\pi} I_s(r,\\theta) 2\\pi r^2 \\text{sin}\\theta d\\theta $$\n",
    "\n",
    "After evaluating the scattered power and normalizing it with the incident intensity, we can find the scattering cross-section.\n",
    "$$ \\sigma_s = \\dfrac{7}{9}\\pi k^4a^6 $$\n",
    "\n",
    "The scattering cross-section falls off as the wavelength gets lerger than the object. Falls off with $\\lambda^-4$"
   ]
  },
  {
   "cell_type": "markdown",
   "metadata": {
    "hidden": true
   },
   "source": [
    "<img  src=\"IMG_0146.JPG\"/>"
   ]
  },
  {
   "cell_type": "markdown",
   "metadata": {
    "hidden": true
   },
   "source": [
    "Scattering changes with size of the particles. When the particle is large enough, we see the effect of a shadow. The scattering power in the forward direction is coherently destructive with the incident wave. The incident and scattered wave will destructively interfere, creating a shadow. "
   ]
  },
  {
   "cell_type": "markdown",
   "metadata": {
    "hidden": true
   },
   "source": [
    "<img  src=\"IMG_0147.JPG\"/>"
   ]
  },
  {
   "cell_type": "markdown",
   "metadata": {
    "heading_collapsed": true
   },
   "source": [
    "# Lecture 12"
   ]
  },
  {
   "cell_type": "markdown",
   "metadata": {
    "hidden": true
   },
   "source": [
    "## Review"
   ]
  },
  {
   "cell_type": "markdown",
   "metadata": {
    "hidden": true
   },
   "source": [
    "We described an incoming wave on a particle. The particle will reflect the wave in all directions; this, we call scattering. The amount of scattering is proportional to the scattering cross-section. The differential cross section describes the power scattered at specific angles (normalized by the angle as well as the input intensity). This process of scattering will attenuate the intensity of the incoming wave.\n",
    "\n",
    "Similar to absorption. This is a more simple case, as the energy \"disappears\" as it gets transferred to thermal energy. Absorption is described by $ \\alpha = \\sigma_a n $ with units of $\\dfrac{[m]^2\\cdot \\text{number}}{m^3} = \\dfrac{1}{m}$.\n",
    "\n",
    "Scattering is a little more complex, as the scattered waves may still interfere. Last time, we looked at scattering cross-section of a single particle, specifically a rigid sphere. Next, we will extend it to a non-rigid sphere, and then looking at multiple objects."
   ]
  },
  {
   "cell_type": "markdown",
   "metadata": {
    "hidden": true
   },
   "source": [
    "<img  src=\"IMG_0148.JPG\"/>"
   ]
  },
  {
   "cell_type": "markdown",
   "metadata": {
    "hidden": true
   },
   "source": [
    "## Compressible Spherical Particle"
   ]
  },
  {
   "cell_type": "markdown",
   "metadata": {
    "hidden": true
   },
   "source": [
    "This case may be solved analytically. The scatterer has different density than the surrounding medium.\n",
    "\n",
    "We assume:\n",
    "* Particle is small ($ka \\ll 1$)\n",
    "* at large distane ($kr \\gg 1$)\n",
    "\n",
    "\n",
    "$$ p_s(r,\\theta) = p_{in} e^{-ikr} \\dfrac{k^2a^3}{3r} \\left[ \\dfrac{\\kappa_s - \\kappa_o}{\\kappa_o} + \\dfrac{3(\\rho_s-\\rho_o)}{2\\rho_s + \\rho_o}\\text{cos}\\theta \\right] $$\n",
    "\n",
    "We see again that the radiation is a combination of dipole and monopole radiation. The direction of oscillations creates the direction of the dipole. Because of the compressability of the sphere, the monopole radiation occurs. Imagine it gets compressed then released (I believe). This is similar to the rigid case, but the sources and amplitudes are different."
   ]
  },
  {
   "cell_type": "markdown",
   "metadata": {
    "hidden": true
   },
   "source": [
    "<img  src=\"IMG_0149.JPG\"/>"
   ]
  },
  {
   "cell_type": "markdown",
   "metadata": {
    "hidden": true
   },
   "source": [
    "## Multiple Scatterers"
   ]
  },
  {
   "cell_type": "markdown",
   "metadata": {
    "hidden": true
   },
   "source": [
    "There are several scatteres. We use the term solid angle to describe a portion of the spherical surface. The solid angle of the entire surface is $4\\pi$, as the surface area is $4\\pi r^2$. In scattering, we assume the solid angle is part of a larger sphere.\n",
    "\n",
    "The solid angle is measured as the $\\text{sin}\\theta \\Delta \\theta \\cdot \\Delta \\varphi$. In the drawing, imagine that $\\Delta \\varphi=2\\pi$. In this case, the solid angle $\\Omega = \\theta\\text{sin}(\\theta) 2\\pi$.\n",
    "\n",
    "Imagine the density ofhtep articles are causing the scattering of the wave. Some of it is detected at a later detector. The total power of the wave within that angle is $P_s$.\n",
    "\n",
    "Specifically, let's talk about backscattering. It works for any angle, but here, we specifically speak about $P_{bs}$ for backscatter. There is one diference between this case and the single particle. The power is a combination of many scatterers within a volume. Therefore, we need to specify the volume of the scatterers, $V$. So, defining the backscattering coefficient, $\\sigma_{bsc}$. **This is not the scattering cross section!!!**. scattering cross section is $\\sigma_b$ and has units $m^2$. It is the backscattering coefficient and has the same units as absorption, $[\\dfrac{1}{m}]$.\n",
    "\n",
    "For example, $\\sigma_b$ could be the scattering of a single red blood cell. To get the backscattering of the group, we would need to multiply by the density of blood cells, $n$.\n",
    "\n",
    "$$ \\sigma_{bsc} = \\sigma_{b}\\cdot n \\dfrac{<V_s^2>}{<V_s>^2} $$\n",
    "\n",
    "Deriving this from power and the solid angle:\n",
    "\n",
    "$$ \\sigma_{bsc} = \\dfrac{P_{bs}}{\\Omega I_{in}V} $$"
   ]
  },
  {
   "cell_type": "markdown",
   "metadata": {
    "hidden": true
   },
   "source": [
    "<img  src=\"IMG_0150.JPG\"/>"
   ]
  },
  {
   "cell_type": "markdown",
   "metadata": {
    "hidden": true
   },
   "source": [
    "$$\\sigma_{bsc} = \\dfrac{1}{v}\\cdot 2\\dfrac{<\\bar{p^2}_s>}{p_{in}^2}$$\n",
    "\n",
    "We mean two different methods of averaging. Here, $\\bar{p}$ indicates time averaging. $<p>$ is the ensemble averaging. If we look at the scatterers, they may be arranged differently. Each of these instances would give a different scattering output (e.g. the particles all interfere destructively). We sum up all the scenarios. \n",
    "\n",
    "Note, take the pressure, then square it, then take the ensemble averaging.\n",
    "\n",
    "$$ p_s(r,t)= \\dfrac{p_{in}}{r}\\dfrac{\\sqrt{\\sigma_b}}{<V_s>} \\sum_1^N V_n^s \\text{cos}(\\omega t + \\varphi_n) $$\n",
    "\n",
    "$V_n$ is the volume of the nth paritcle. Each particle has its own magnitude and phase.\n",
    "\n",
    "Translating this into scattering cross section of single compressible sphere:\n",
    "\n",
    "$$ \\sigma_b = \\left(\\dfrac{k^2<V_s>}{4\\pi}\\right)^2 \\left[ \\dfrac{\\kappa_s - \\kappa_o}{\\kappa_o} - \\dfrac{\\rho_s-\\rho_o}{\\rho_o} \\right] $$\n",
    "\n",
    "$$ \\varphi_n = 2k(\\bar{r_n}\\cdot\\hat{r_i} - kr$$\n",
    "\n",
    "$$ p_s = \\dfrac{p_{in}}{r} \\dfrac{\\sqrt{\\sigma_b}}{<V_s>}\\left[ \\text{cos}(\\omega t) \\sum_1^n V_n^s \\text{cos}(\\varphi_n) - \\text{sin}(\\omega t) \\sum_1^n V_n^s \\text{sin}(\\varphi_n) \\right] $$\n",
    "\n",
    "Quick annotations:\n",
    "* $A_1 = \\sum_1^n V_n^s \\text{cos}(\\varphi_n)$\n",
    "* $sum_1^n V_n^s \\text{sin}(\\varphi_n)$\n",
    "\n",
    "Basically, here we are summing the amplitude and phase of a bunch of random particles. Using these results and assumptions:\n",
    "\n",
    "$$ \\sigma_{bsc} = \\sigma_b\\dfrac{N}{V}\\dfrac{<V_s^2>}{<V_s>^2} $$\n",
    "\n",
    "* $\\dfrac{<V_s^2>}{<V_s>^2}$ refers to variability in sizes\n",
    "* $\\dfrac{N}{V}$ refers to density\n",
    "* $V_n^s$ is volume of nth object. s referers to scatterer\n",
    "* $<V_s>$ is the average volume of the scatterers\n",
    "* $V$ is the total volume\n",
    "\n",
    "Now we have approach to find backscattering from the scattering cross-section.\n",
    "\n",
    "Assumptions that were not even mentioned:\n",
    "* multiple scattering (wave scatters on more than one particle). We only take the first-order process\n",
    "* Also no correlation between the location of each scatterer. That is, when we sum up the process, we assume the locations are completely random.\n",
    "\n",
    "We can look it up in the textbook, page 393. It talks about the backscattering coefficient which is related to density. Here, N/V refers to the number of cells divided by the total volume.\n",
    "\n",
    "$$ H = \\dfrac{N}{V} \\cdot <V_s> $$\n",
    "\n",
    "Unfortunately, experimentation does not quite follow this. As the graph shows, the scattering deviates from linearity due to other effects, such as finite size. Obviously, when we have a sparse distribution. It is interesting to note that, as density increases, we see similar values to that of low density. This is because, at high density, the medium is essentially the particles and the medium now becomes like the particles (because there are so many particles, the empty space becomes rarer)"
   ]
  },
  {
   "cell_type": "markdown",
   "metadata": {
    "hidden": true
   },
   "source": [
    "<img  src=\"IMG_0151.JPG\"/>"
   ]
  },
  {
   "cell_type": "markdown",
   "metadata": {
    "hidden": true
   },
   "source": [
    "<img  src=\"IMG_0152.JPG\"/>"
   ]
  },
  {
   "cell_type": "markdown",
   "metadata": {
    "hidden": true
   },
   "source": [
    "<img  src=\"IMG_0153.JPG\"/>"
   ]
  },
  {
   "cell_type": "markdown",
   "metadata": {
    "heading_collapsed": true
   },
   "source": [
    "# Lecture 13"
   ]
  },
  {
   "cell_type": "markdown",
   "metadata": {
    "hidden": true
   },
   "source": [
    "We are switching to a different topic. We are getting to mathematics of wave propagation. It would be useful to know tools to shed more light onto real propagation of waves in real situations. Starting from wave equation, we can write down a general solution. We will start with:\n",
    "\n",
    "$$ \\dfrac{\\partial^{2}}{\\partial t^{2}}\\Psi - c^{2}\\nabla^{2}\\Psi = 0 $$\n",
    "\n",
    "After incorperating external forces, the wave equation becomes:\n",
    "\n",
    "\n",
    "$$ \\dfrac{\\partial^{2}}{\\partial t^{2}}\\Psi - c^{2}\\nabla^{2}\\Psi = -4\\pi q(\\bar{r},t) $$\n",
    "\n",
    "Where q is a wave source. We also didn't have any way of incorperating boundary and initial conditions. The other term will be taking into account the existing wave at the initial time(initial conditions).\n",
    "\n",
    "Goal: consider the wave equation within a volume. For some mechanism:"
   ]
  },
  {
   "cell_type": "markdown",
   "metadata": {
    "hidden": true
   },
   "source": [
    "<img  src=\"IMG_0157.JPG\"/>"
   ]
  },
  {
   "cell_type": "markdown",
   "metadata": {
    "hidden": true
   },
   "source": [
    "$ \\Psi(r,t) $ for $r \\in S$\n",
    "$\\Psi(r,t=t_{o})$\n",
    "$\\dfrac{\\partial \\Psi(r,t)}{\\partial t} \\rvert_{t=t_{0}} $\n",
    "\n",
    "We can use greens function to help us solve the equation. Here, the solution to the wave equation from an impulse source is defined as $G(r,t|r_{o},t_{o})$. This impulse is at a specific location $r_{o}$ at a certain time $t_{o}$. A note about G: we invented it. We know exactly what it is. It varies from problem to problem for exactly what it is, but it must always satisfy Green's Theorem (not discussed here).\n",
    "\n",
    "$$ \\nabla^{2}G - \\dfrac{1}{c^{2}}\\dfrac{\\partial^{2}G}{\\partial t^{2}} = -4\\pi\\delta(r-r_{o})\\delta(t-t_{o}) $$\n",
    "\n",
    "Initial conditions:\n",
    "* $ G(rt|r_{o}t_{o}) = 0 $ for $t<t_{o}$\n",
    "* $ \\dfrac{\\partial G}{\\partial t} = 0 $ for $t<t_{o}$\n",
    "\n",
    "If a wave originates a spatial coordinate $r_{1}$, and is measured at some separate spatial coordinate $r_{2}$ which experiences the wave at some time point after $t_{o}$, it is an interesting phenomenon that the same phenomenon may be expressed where the source is now $r_{2}$ and the measurement is $r_{1}$. Basically, switching the order of the transducer and receiver is mathematically okay. This is shown mathematically as:\n",
    "\n",
    "$$ G(r,t|r_{o},t_{o}) = G(r_{o},-t_{o}|r,-t) $$\n",
    "\n",
    "* Define: eq(1): $ \\nabla_{0}^{2}(r_{0},t_{o}) - \\dfrac{1}{c^{2}}\\dfrac{\\partial \\Psi}{\\partial t_{o}} = -4\\pi q(r_{o},t_{o})$\n",
    "* Define: eq(2) :$ \\nabla^{2}_{o}G(rt|r_{o}t_{o}) - \\dfrac{1}{c^{2}}\\dfrac{\\partial^{2}G}{\\partial t_{o}^{2}} = -4\\pi\\delta(r-r_{o})\\delta(t-t_{o}) $\n",
    "\n",
    "Take the operation: Multiple the top by G and multiply the bottom by $\\Psi$ and subtract. Then integrate over all space.\n",
    "\n",
    "$$ \\int_{V} \\int_{t} \\left[ eq(1)\\cdot G - eq(2) \\cdot \\Psi \\right] d^{3}xdt $$\n",
    "\n",
    "\n",
    "$$ \\int_{0}^{t}dt_{o}\\int_{V}d^{3}x\\left[ G\\nabla^{2}_{o}\\Psi - \\Psi\\nabla_{o}^{2}G + \\dfrac{1}{c^{2}}\\left( \\dfrac{\\partial^{2}G}{\\partial t_{0}^{2}} \\Psi 0 G\\dfrac{\\partial^{2} \\Psi}{\\partial t_{o}^{2}} \\right) \\right] = 4\\pi\\left[ \\Psi(r,t) - \\int_{0}^{t}dt_{o}\\int d^{3}xq(r_{o},t_{o})G \\right] $$"
   ]
  },
  {
   "cell_type": "markdown",
   "metadata": {
    "hidden": true
   },
   "source": [
    "<img  src=\"IMG_0158.JPG\"/>"
   ]
  },
  {
   "cell_type": "markdown",
   "metadata": {
    "collapsed": true,
    "hidden": true
   },
   "source": [
    "$$ \\nabla^{2}\\Psi = \\nabla\\cdot(\\nabla\\Psi) $$\n",
    "\n",
    "Volume -> Surface\n",
    "$$ \\int\\nabla\\cdot E dV = \\int E\\cdot ds $$\n",
    "\n",
    "$$ \\int_{0}^{t}dt_{o}\\int d\\bar{s} \\cdot \\left( G\\nabla_{o}\\Psi - \\Psi \\nabla_{o}G \\right) + \\dfrac{1}{c^{2}}\\int d^{3}x\\left[ \\dfrac{\\partial G}{\\partial t_{o}}\\Psi - G\\dfrac{\\partial \\Psi}{\\partial t_{o}} \\right]\\rvert_{0}^{t} + 4\\pi\\int_{o}^{t}dt_{o}\\int d^{3}xq(r_{o},t_{o})G = 4\\pi \\Psi(r,t) $$\n",
    "\n",
    "Breaking this up into three terms, each separated by the plus sign. Specifically at $t_{o}$, $\\dfrac{\\partial G}{\\partial t_{0}} = 0$ because the wave will not have time to travel there yet.\n",
    "\n",
    "Backing it up:\n",
    "\n",
    "$$ \\nabla_{o}^{2}G(r,t|r_{o}t_{o}) - \\dfrac{1}{c^{2}}\\dfrac{\\partial^{2}G(rt|r_{o}t_{o})}{\\partial t_{o}^{2}} = -4\\pi q(r_{o},t_{o}) $$\n",
    "$$ 4\\pi(r,t) = 4\\pi\\int_{0}^{t} dt_{o} \\int d^{3}r_{o}G(r,t|r_{o},t_{o}) q(r_{o},t_{o}) + \\int_{0}^{t}dt \\int_{S} ds\\cdot\\left( G\\nabla_{o}\\Psi - \\Psi\\nabla_{o}G \\right) - \\dfrac{1}{c^{2}}\\int d^{3}r_{o}\\left[\\dfrac{\\partial G(r,t|r_{o},t_{o})}{\\partial t_{o}} - G(r,t|r_{o},0) \\dfrac{\\partial \\Psi}{\\partial t_{o}}\\right] $$\n",
    "\n",
    "|----------------1--------------| |--------------2------------| |-------------------3-------------------|\n",
    "\n",
    "We dissect this equation into 3 portions:\n",
    "* 1 (3 in the picture): This describes the effect of a source $q$ on the wave. The source is propagated through the mechanism described by $G$. This is specific to the application, but in general describes the physical mechanism which propagates the source. We would use this portion of the equation to describe, say, 2 point sources.\n",
    "* 2 (1 in the picture): This describes the boundary condition. We would use this portion to describe, say, a transducer placed on the side of the object.\n",
    "* 3 (2 in the picture): If there is no source or boundary condition, there may still be a wave from previous conditions. (I think)"
   ]
  },
  {
   "cell_type": "markdown",
   "metadata": {
    "hidden": true
   },
   "source": [
    "<img  src=\"IMG_0160.JPG\"/>"
   ]
  },
  {
   "cell_type": "markdown",
   "metadata": {
    "heading_collapsed": true
   },
   "source": [
    "# Lecture 14"
   ]
  },
  {
   "cell_type": "markdown",
   "metadata": {
    "hidden": true
   },
   "source": [
    "Last class, came up with something useful, now convince that it's actually useful.\n",
    "\n",
    "$$ \\Phi_o(r) = \\Phi(r,t=0) $$\n",
    "\n",
    "One equation proken into 3 parts:\n",
    "term 1 (sources):\n",
    "$$ 4\\pi\\Phi(r,t) = 4\\pi\\int_0^{t} dt_o \\int_V d^3r_o G(r,t|r_o,t_o)q(r_o,t_o) $$\n",
    "term 2 (boundaries) (note $\\nabla_o$ is w.r.t. S not r aka w.r.t the boundary):\n",
    "$$ + \\int dx \\cdot(G\\nabla_o\\Phi - \\Phi\\nabla_oG) $$\n",
    "term 3 (initial conditions):\n",
    "$$ -\\dfrac{1}{c^2}\\int d^3 r_o \\left[ \\dfrac{\\partial G}{\\partial t_o}\\big \\rvert_{t_o=0}\\Phi_o(r_o) - G(r,t|r_o,0)\\dfrac{\\partial \\Phi}{\\partial t}\\big \\rvert_{t_o = 0} \\right] $$\n",
    "\n",
    "If we choose a green's function which satisfies the same boundary condition which also applies to the primary function (???), the second term vanishes. This will be the case where we have a plane and we know the conditions of the surface. We can then choose a Green's funciton to eliminate the second term.\n",
    "\n",
    "If we choose Green's function to just be a spherical wave and there is a planar surface, Green's function would not satisfy the boundary condition. The good part though is that Green's function is similar. We can include Green's function easier if we use imaginary sources.\n",
    "\n",
    "Let us continue for the case where there is infinite volume (2nd term vanishes because the surface is integrated an infinite distance away). We assume everything we deal with is local. Consisting of a limited space means infinitely away there is no pressure. We also assume no sources (no 1st term). We do assume there is some initial distribution of pressure. The question next is how will it propagate. Since there is no specific boundary to deal with, we will assume the Green's function looks like:\n",
    "\n",
    "We choose an expanding spherical wave. We know that a solution to the spherical wave looks like $\\dfrac{1}{r}f(r-ct)$. Therefore, we choose $f$ to look like a delta. The Green's function looks like:\n",
    "\n",
    "$$ g(r,t|r_o,t_o) = \\dfrac{1}{r}\\delta(r-c(t-t_o)) $$\n",
    "\n",
    "Note that greens function was $G$. It is now $g$. The change of notation was used to avoid confusion later in the derivation.\n",
    "\n",
    "Next, we specify the initial conditions:\n",
    "\n",
    "* $\\Phi(r,0) = \\Phi_o(r)$\n",
    "* $\\dfrac{ \\partial\\Phi}{\\partial t}\\big \\rvert_{t=0} = \\dfrac{1}{\\rho_o}p_o(r)$\n",
    "\n",
    "Here, $p_o$ is the initial distribution of pressure.\n",
    "\n",
    "$$ \\Phi(r,t) = \\dfrac{-1}{4\\pi c^2}\\int d^3r_o\\left[ \\delta^\\prime(\\dfrac{|r-r_o|}{c} - t) \\Phi_o(r_o)\\dfrac{1}{|r-r_o|} - \\delta(\\dfrac{|r-r_o|}{c} - t)\\dfrac{1}{\\rho_o}p_o(r_o)\\dfrac{1}{|r-r_o|} \\right] $$\n",
    "\n",
    "here, $\\delta^\\prime(t) = \\dfrac{\\partial \\delta(t)}{\\partial t}$\n",
    "\n",
    "Also, it is useful to note of $\\delta$\n",
    "\n",
    "$ \\int_{a}^{b} f(x)\\delta(x)dx = f(0)  $ for $ a < 0 < b $\n",
    "$ \\int_{a}^{b} f(x)\\delta(x)dx = 0  $ otherwise\n",
    "\n",
    "Also the result of:\n",
    "\n",
    "$\\int_{a}^{b} f(x)\\delta^\\prime(x)dx = -f^\\prime(0)  $ for $ a < 0 < b $\n",
    "$\\int_{a}^{b} f(x)\\delta^\\prime(x)dx = 0  $ otherwise"
   ]
  },
  {
   "cell_type": "markdown",
   "metadata": {
    "hidden": true
   },
   "source": [
    "<img  src=\"IMG_0162.JPG\"/>"
   ]
  },
  {
   "cell_type": "markdown",
   "metadata": {
    "hidden": true
   },
   "source": [
    "<img  src=\"IMG_0161.JPG\"/>"
   ]
  },
  {
   "cell_type": "markdown",
   "metadata": {
    "hidden": true
   },
   "source": [
    "Let's set our observation point for the origin ($r=0). Also moving to spherical coordinates:\n",
    "\n",
    "$$ \\Phi(0,t) = \\dfrac{1}{4\\pi c^2}\\int d\\Omega_o \\int dr_o \\left[ r_o\\delta(\\dfrac{r_o}{c} - t)\\dfrac{1}{\\rho_o}p_o(r_o,\\theta_o,\\vartheta_o) - r_o\\delta^\\prime(\\dfrac{r_o}{c} -t) \\Phi_o(r_o,\\theta_o,\\vartheta_o) \\right] $$\n",
    "\n",
    "Here:\n",
    "* $d^3r = r_o^2 dr_o d\\Omega_o$\n",
    "* $ d\\Omega_o = \\sin(\\theta_o)d\\theta_o d\\vartheta_o $\n",
    "\n",
    "The dotted plane in the image is rotated in the xy plane. The angle between z-axis and $\\bar{r_o} = \\theta_o$. The projection of $\\bar{r_o}$ onto the xy plane maes an angle with the x-axis. This is $\\vartheta_o$.\n",
    "\n",
    "The distribution of pressure is arbitrary, as is the distributijon of $\\Phi_o)$. Using the properties of $\\delta$, we may complete the integral $\\int dr_o$. Not the one over the angles.\n",
    "\n",
    "$$ \\Phi(0,t) = \\dfrac{1}{4\\pi}\\int d\\Omega \\left[ t\\dfrac{1}{\\rho_o}p_o(ct,\\theta_o,\\vartheta) + \\dfrac{\\partial}{\\partial t}\\left( t\\Phi_o(ct,\\theta_o,\\vartheta_o) \\right) \\right] $$\n",
    "\n",
    "If we want to know the pressure at any point, we need to evaluate the above equation. The method would be to make the observation point at the origin. Knowing the pressure distribution given in spherical coordinates, we may apply this integral over the angles. We can see here that the pressure we need t otake is evaluated at a specific distance at the origin, given as $ct$ in the term $p_o(ct,\\theta_o,\\vartheta_o)$. It's important to note that this is only a 2D integration, over a spherical shell. The radius of this shell is $ct$. Therefore this is the shell we need to integrate over.\n",
    "\n",
    "Let's do one step further. Say we know pressure $p_o=p_{in}$ at $r<a$ where $a$ is the radius of the sphere. And we know velocity distribution $v_o=0$ everwhere. Let's talk about the case of photoacoustic imaging. Light is absorbed by an object. What if we have a sphere which is gray, allowing light to be partially absorbed. Say it absorbs 1\\% of the light. Let's also assume the laser illumination is also a femptosecond, so approximately a delta function. What do we know about the acoustic pressure and velocity? There will be some pressure inside, uniform. The pressure outside is 0 (not hydrostatic pressure, but the acoustic pressure). The profile of the pressure looks like a step function. Finally, let's specify the observation point. Say the detector is located some distance away at a distance of $l$.\n",
    "\n",
    "There is no dependence on $\\vartheta_o$, but there is some dependence on $\\theta_o$. If there is zero velocity, what does this mean about $\\Phi$? Recall $v = -\\nabla\\Phi$. This means that $\\Phi$ is any constant (we assume 0). We need a function where $\\Phi(r,t)$ has a time derivative. $\\Phi=0$ everywhere outside the sphere. We can specify a funciton which has a nonzero time derivative but a zero spatial derivative. This sets the term $\\dfrac{\\partial}{\\partial}\\left[ t\\Phi_o(ct,\\theta_o,\\vartheta_o) \\right]=0$. We need to use this for the task next week."
   ]
  },
  {
   "cell_type": "markdown",
   "metadata": {
    "collapsed": true,
    "heading_collapsed": true
   },
   "source": [
    "# Lecture 15"
   ]
  },
  {
   "cell_type": "markdown",
   "metadata": {
    "heading_collapsed": true,
    "hidden": true
   },
   "source": [
    "## Announcements:"
   ]
  },
  {
   "cell_type": "markdown",
   "metadata": {
    "hidden": true
   },
   "source": [
    "* Exam is after the spring break"
   ]
  },
  {
   "cell_type": "markdown",
   "metadata": {
    "hidden": true
   },
   "source": [
    "## Huygen's Principle of waves"
   ]
  },
  {
   "cell_type": "markdown",
   "metadata": {
    "hidden": true
   },
   "source": [
    "Goes back to 1690. Each element of a wavefront may be regarded as the center of a secondary distirbance which give rise to spherical wavelets.\n",
    "-- Borne and Wolf"
   ]
  },
  {
   "cell_type": "markdown",
   "metadata": {
    "hidden": true
   },
   "source": [
    "<img  src=\"IMG_0164.JPG\"/>"
   ]
  },
  {
   "cell_type": "markdown",
   "metadata": {
    "hidden": true
   },
   "source": [
    "A wavefront describes the points along the wave with the same phase. The wavefront can be described as an array of point sources. The wavefront at some point later may be described as the sum of all these point sources.\n",
    "\n",
    "Moving forward ~200 years, Kirchhoff analyzed the wave equation (same one we derived). He started from  the general solution and asked the question: a surface encloses the volume. The spatial derivative of $\\Phi$ is given along its surface. What is the acoustic pressure or velocity potential at any point inside. We assume no internal sources $q$ and at $t=0$, $\\phi=0$.\n",
    "\n"
   ]
  },
  {
   "cell_type": "markdown",
   "metadata": {
    "hidden": true
   },
   "source": [
    "<img  src=\"IMG_0166.JPG\"/>"
   ]
  },
  {
   "cell_type": "markdown",
   "metadata": {
    "hidden": true
   },
   "source": [
    "$$ \\phi = \\dfrac{1}{4 \\pi}\\int_0^t dt_0 \\int_S d\\bar{s} \\cdot \\left[ G\\nabla_o \\phi - \\phi \\nabla_oG \\right] $$\n",
    "\n",
    "$$ G = \\dfrac{1}{R}\\delta(t_o - t) + \\dfrac{R}{C} $$\n",
    "\n",
    "By choosing this particular green function, we consider no reflections from the boundary. This boundary is not a physical boundary, it is simply a specific region. \n",
    "\n",
    "Notations:\n",
    "* Points along the surface are denoted with a $o$ such as $r_o$.\n",
    "* $\\bar{r} - \\bar{r_o} = \\bar{R}$ and $R = |\\bar{R}|$\n",
    "\n",
    "$$ \\phi(r,t) = \\dfrac{1}{4\\pi}\\int_0^t dt_o \\int d\\bar{s}\\cdot \\left[  \\dfrac{\\delta(t_o - t + \\dfrac{R}{C})}{R}\\nabla_o\\phi - \\phi \\nabla_o \\left(\\dfrac{\\delta(t_o - t + \\dfrac{R}{C})}{R}\\right) \\right] $$\n",
    "\n",
    "Here $\\nabla_o$ is the derivative along the surface and C is the speed of sound:\n",
    "\n",
    "$$ \\nabla_o = \\dfrac{\\partial}{\\partial x}\\hat{x} + \\dfrac{\\partial}{\\partial y}\\hat{y} + \\dfrac{\\partial}{\\partial z}\\hat{z} $$\n",
    "\n",
    "Now what? Lol, use the $\\delta$ functions, silly! That's why there there; to solve the integral.\n",
    "\n",
    "So, keep the surface integral. Only do the time integral. So switch the order. The time integral can be solved using the delta fuctions."
   ]
  },
  {
   "cell_type": "markdown",
   "metadata": {
    "hidden": true
   },
   "source": [
    "<img  src=\"IMG_0167.JPG\"/>"
   ]
  },
  {
   "cell_type": "markdown",
   "metadata": {
    "hidden": true
   },
   "source": [
    "Beginning with only the time integral:\n",
    "\n",
    "$$ \\int_0^t \\dfrac{1}{R}\\delta(t_o - t + \\dfrac{R}{C}) \\nabla_o\\phi(r_o,t_o) dt_o = \\dfrac{1}{R}\\nabla_o \\phi(r_o,t-\\dfrac{R}{c}) $$\n",
    "\n",
    "Over the integration, $\\delta(t_o-t+\\dfrac{R}{c})$ is the only 1 at a single value: $t_o = t-\\dfrac{R}{c}$. Thats how we get the equality.\n",
    "\n",
    "$$ \\int_0^t \\phi \\nabla_o\\left[ \\dfrac{\\delta(t_o - t + \\dfrac{R}{c})}{R} \\right]dt_o = \\int_0^t \\phi\\dfrac{\\partial}{\\partial R}\\left[ \\dfrac{\\delta(t_o - t + \\dfrac{R}{c}}{R} \\right]\\nabla_o R dt_o $$\n",
    "\n",
    "Note that:\n",
    "\n",
    "$$ R^2 = (x-x_o)^2 + (y-y_o)^2 + (z-z_o)^2 $$\n",
    "\n",
    "Breaking up derivative:\n",
    "\n",
    "$$ \\dfrac{\\partial R^2}{\\partial x_o} = -2(x-x_o)  $$\n",
    "$$ \\dfrac{\\partial R^2}{\\partial x_o} = \\dfrac{\\partial R^2}{\\partial R}\\cdot \\dfrac{\\partial R}{\\partial x_o} = 2R \\dfrac{\\partial R}{\\partial x_o} $$\n",
    "$$ \\dfrac{\\partial R}{\\partial x_o} = \\dfrac{-1}{R} (x-x_o) $$\n",
    "\n",
    "$$ \\nabla_o R = \\dfrac{-1}{R}(x-x_o) \\hat{x} + \\dfrac{-1}{R}(y-y_o) \\hat{y} + \\dfrac{-1}{R}(z-z_o)\\hat{z} $$\n",
    "$$ \\nabla_o R = \\dfrac{-1}{R}\\bar{R} $$\n",
    "\n",
    "Now back to the main derivation:\n",
    "\n",
    "$$ \\int_0^t \\phi(r_o,t_o) \\dfrac{\\bar{R}}{R^3} \\left[ \\delta(t-t_o + \\dfrac{R}{c}) + \\dfrac{R}{c}\\delta\\prime(t_o - t + \\dfrac{R}{c})\\right]dt_o $$\n",
    "$$ = -\\dfrac{\\bar{R}}{R^3}\\left[ \\phi(r_o,t-\\dfrac{R}{c}) + \\dfrac{R}{c}\\left(\\dfrac{\\partial \\phi(r_o,t_o)}{\\partial t}\\right) \\big \\rvert_{t-\\dfrac{R}{c}} \\right] $$\n",
    "\n",
    "$$ \\phi(r,t) = \\dfrac{1}{4\\pi} \\int_S d\\bar{S} \\cdot \\left[ \\dfrac{1}{R}\\nabla_o \\phi(r_o,t_o) + \\dfrac{\\bar{R}}{R^3}\\phi(r_o,t_o) - \\dfrac{\\bar{R}}{cR^2}\\dfrac{\\partial}{\\partial t_o}\\phi(r_o,t_o) \\right]\\big \\rvert{t_o = t-\\dfrac{R}{c}} $$\n",
    "\n",
    "This is the kirchhoff integral theorem.\n",
    "\n",
    "We sum up the contributions of each spherical wave at the appropriate arrival time (the spherical sources will be spread out along the wavefront and arrive at slightly different times).\n",
    "\n",
    "The velocity can be seen in $\\nabla_o\\phi(r_o,t_o)$. We can eliminate thee middle term. Let us examine why:\n",
    "\n",
    "Comparing the first and second terms: \n",
    "1. $\\dfrac{1}{R} k \\phi \\propto \\dfrac{k}{R} = \\dfrac{1}{\\lambda R}$\n",
    "2. $\\dfrac{1}{R^2} \\phi \\propto \\dfrac{1}{R \\cdot R}$\n",
    "3. $\\dfrac{\\omega}{cR} \\phi \\propto \\dfrac{k}{R} = \\dfrac{1}{\\lambda R}$\n",
    "\n",
    "If we are interested in a point away from the surface, and the distance is much larger than the wavelength, then $2 \\ll 1$. Therefore, we can ignore the middle term."
   ]
  },
  {
   "cell_type": "markdown",
   "metadata": {
    "hidden": true
   },
   "source": [
    "<img  src=\"IMG_0168.JPG\"/>"
   ]
  },
  {
   "cell_type": "markdown",
   "metadata": {
    "hidden": true
   },
   "source": [
    "Suppose we know the acoustic velocity at a certain point. What is the acoustic potential? it is given by treating each point as a spherical source.\n",
    "\n",
    "We eliminated part 2 because we are so far from the surface. Unless we are really interested about being close to the transducer, we can eliminate it. We will discuss how to model the transducer next period. For the discussion now, imagine that there is some interface with water and air. If we can assume the pressure is 0, but the velocity is not, we can eliminate the 3rd term too. If we know the pressure and velocity, we cannot elimitate the 3rd term.\n",
    "\n",
    "This is the formula. Integrate the points along the source at the relevant time."
   ]
  },
  {
   "cell_type": "markdown",
   "metadata": {
    "hidden": true
   },
   "source": [
    "<img  src=\"IMG_0169.JPG\"/>"
   ]
  },
  {
   "cell_type": "markdown",
   "metadata": {},
   "source": [
    "# Lecture 16"
   ]
  },
  {
   "cell_type": "markdown",
   "metadata": {},
   "source": [
    "Announcements:\n",
    "\n",
    "We have an exam coming up. The software for ultrasound simulations can be found online. We will be left to examine these on our own time.\n",
    "\n",
    "We will be talking about boundary conditions to solve the calculation of the acoustic field. We will assume there is a surface which is driving the acoustic field. This is because we put the transducer onn the surface. The shape of the transducer is given. The question is what is the field given the shape ofthe transducer. We will see that what we need to do is integrate the contributions from each portion of the transducer."
   ]
  },
  {
   "cell_type": "markdown",
   "metadata": {},
   "source": [
    "Again, we use the surface term of the general solution:\n",
    "\n",
    "Integrating over time since it could have a temporal dynamic. This is what we need to calculate:\n",
    "$$ \\phi(r,t) = \\int_0^t dt_o \\int_S \\cdot \\left[ G \\nabla_o \\phi - \\phi \\nabla_o G \\right]  $$\n",
    "\n",
    "We need to find a green's function G which describes the source at the surface which affects the point within the volume. There are two extreme cases we will consider: the surface is either rigid or free. Now if it is a free surface, then the pressure is 0; the transducer cannot drive with pressure. It must be driven with velocity. This means we know the velocity of the surface. If we know velocity, we know the $G\\nabla_o \\phi$ term, and we would like $\\phi \\nabla_o G=0$. In the other case, where we know the pressure, $G\\nabla_o \\phi=0$ term, and we would like to know the term $\\phi \\nabla_o G$.\n",
    "\n",
    "Table:\n",
    "\n",
    "| BC:       | Known (on surface) | Green's Function      |\n",
    "| Newman:   |  $\\nabla_o$        |    $\\nabla_o G_N=0$   |\n",
    "| Dirichlet |  $\\phi$            |  $ G_D = 0$           |\n",
    "\n",
    "Now we can come up with a Green's function which satisfies these conditions. We take one set of conditions, we get nondirectional radiation. We take the other, we get directional. \n",
    "\n",
    "$$ G_N(r,t|r_o,t_o) = \\dfrac{1}{R}\\delta(t_o-t|\\dfrac{R}{C}) + \\dfrac{1}{R\\prime}\\delta(t_o-t+\\dfrac{R\\prime}{c}) $$\n",
    "\n",
    "$$ G_D(r,t|r_o,t_o) = \\dfrac{1}{R}\\delta(t_o-t|\\dfrac{R}{C}) - \\dfrac{1}{R\\prime}\\delta(t_o-t+\\dfrac{R\\prime}{c}) $$"
   ]
  },
  {
   "cell_type": "markdown",
   "metadata": {},
   "source": [
    "<img  src=\"IMG_0170.JPG\"/>"
   ]
  },
  {
   "cell_type": "markdown",
   "metadata": {},
   "source": [
    "We build these Green's function from the contribution of two sources. They have the same separation from the surface. If the combine them with a minus sign, we have $G_D = 0$ at the surface. There is some deparation between them, $d$.\n",
    "\n",
    "If we pick a boundary condition, say Newman. We have a velocity on the surface. We want to solve for $\\phi_N(r,t)$.\n",
    "\n",
    "$$ \\phi_N(r,t) = \\dfrac{1}{2\\pi}\\int d\\bar{s_o} \\cdot \\nabla_o \\phi(r_o,t_o) \\big \\rvert_{t_0 = t-\\dfrac{R}{c}} $$\n",
    "$$ \\phi_N(r,t) = \\dfrac{1}{2\\pi}\\int \\dfrac{v_n(t-\\dfrac{R}{c}}{R} d\\bar{s_o} $$\n",
    "\n",
    "We have switched here to the normal velocity (not a vector).\n",
    "$$ v = -\\nabla \\phi $$\n",
    "$$ v_n(t) = \\bar{v}(r_o,t)\\cdot \\hat{x} $$\n",
    "\n",
    "We are integrating along the surface the velocity arriving at the point of interest at time $t$. This is known as Rayleigh Integral.\n",
    "\n",
    "We can also write down the boundary conditions for the Dirichlet boundary condition. Without derivation.\n",
    "\n",
    "$$ \\phi_D(r,t) = \\dfrac{1}{2\\pi}\\int \\dfrac{1}{cR} \\dfrac{\\partial \\phi}{\\partial t}\\big \\rvert_{t_o = t-\\dfrac{R}{c}} \\hat{R} \\cdot d\\bar{S}_o $$\n",
    "$$ = \\dfrac{1}{2\\pi\\rho c}\\int\\dfrac{1}{R}p(t-\\dfrac{R}{c}) \\cos(\\hat{n},\\hat{R}) dS_o $$"
   ]
  },
  {
   "cell_type": "markdown",
   "metadata": {},
   "source": [
    "<img  src=\"IMG_0172.JPG\"/>"
   ]
  },
  {
   "cell_type": "markdown",
   "metadata": {},
   "source": [
    "We will define some quantities which are useful in simulation. These are called the spatial impulse response.\n",
    "\n",
    "$$ \\phi_N(r,t) = \\dfrac{1}{2\\pi\\int_S \\dfrac{v_n(t-\\dfrac{R}{c})}{R}dS $$\n",
    "\n",
    "Let us draw a transducer on the xy plane. Let us separate it into spatial and temporal components. For a uniform distribution, $\\xi=1$. This could also vary depending on the transducer. $v_o(t)$ varies w.r.t. time.\n",
    "\n",
    "$$ v_n(x,y,t) = \\xi(s,y) v_o(t) $$\n",
    "$$ \\phi_N(r,t) = \\dfrac{1}{2\\pi}\\iint\\dfrac{1}{R}v_o(t-\\dfrac{R}{c}) \\xi(x,y) dx dy $$\n",
    "\n",
    "We next rewrite the velocity function in terms of a convolution integral.\n",
    "\n",
    "$$ v_o(t-\\dfrac{R}{c}) = \\int_{-\\infty}^{\\infty}v_o(z) \\delta(t-\\dfrac{R}{c} 0 z) dz $$\n",
    "\n",
    "Substituting into $\\phi_N$\n",
    "\n",
    "$$ \\phi_N(r,t) = \\int_{-\\infty}^{\\infty}v_o(z) \\iint \\dfrac{1}{2\\pi R}\\xi(x,y)\\delta(t-\\dfrac{R}{c} - z) dx dy dz $$\n",
    "\n",
    "Next we define a function called $h$.\n",
    "\n",
    "$$ h(r,t) = \\iint \\dfrac{1}{2\\pi R}\\xi(x,y) \\delta(t-\\dfrac{R}{c}) dx dy $$\n",
    "\n",
    "Substituting this into $\\phi_N)$\n",
    "\n",
    "$$ \\phi_N(r,t) = \\int_{-\\infty}^{\\infty}v_o(z) h(r,t-z) dz $$\n",
    "\n",
    "Writing this in terms of a convolution:\n",
    "\n",
    "$$ \\phi_N(r,t) = v_o(t) \\times h(r,t) $$\n",
    "\n",
    "This is called the spatial impulse response. The impulse refers to the termporal activation of the transducer; it still has the spatial characteristics of the transducer described by $\\xi(x,y)$.  "
   ]
  }
 ],
 "metadata": {
  "anaconda-cloud": {},
  "kernelspec": {
   "display_name": "Python [conda root]",
   "language": "python",
   "name": "conda-root-py"
  },
  "language_info": {
   "codemirror_mode": {
    "name": "ipython",
    "version": 3
   },
   "file_extension": ".py",
   "mimetype": "text/x-python",
   "name": "python",
   "nbconvert_exporter": "python",
   "pygments_lexer": "ipython3",
   "version": "3.5.2"
  },
  "latex_envs": {
   "LaTeX_envs_menu_present": true,
   "bibliofile": "biblio.bib",
   "cite_by": "apalike",
   "current_citInitial": 1,
   "eqLabelWithNumbers": true,
   "eqNumInitial": 1,
   "labels_anchors": false,
   "latex_user_defs": false,
   "report_style_numbering": false,
   "user_envs_cfg": false
  },
  "toc": {
   "colors": {
    "hover_highlight": "#DAA520",
    "running_highlight": "#FF0000",
    "selected_highlight": "#FFD700"
   },
   "moveMenuLeft": true,
   "nav_menu": {
    "height": "84px",
    "width": "252px"
   },
   "navigate_menu": true,
   "number_sections": true,
   "sideBar": true,
   "threshold": 4,
   "toc_cell": false,
   "toc_section_display": "block",
   "toc_window_display": false
  }
 },
 "nbformat": 4,
 "nbformat_minor": 1
}
