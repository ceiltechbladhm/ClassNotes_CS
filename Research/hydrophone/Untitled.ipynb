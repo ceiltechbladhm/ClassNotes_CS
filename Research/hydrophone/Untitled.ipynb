{
 "cells": [
  {
   "cell_type": "markdown",
   "metadata": {},
   "source": [
    "# Getting Started"
   ]
  },
  {
   "cell_type": "markdown",
   "metadata": {},
   "source": [
    "To get started, the hydrophone must be attached.\n",
    "\n",
    "## Leveling\n",
    "\n",
    "The hydrophone must be parallel to the surface of the water. Adjust the holding points until the needle is just parallel to the water. A good trick is to lower the hydrophone to the surface of the water to check.\n",
    "\n"
   ]
  },
  {
   "cell_type": "markdown",
   "metadata": {},
   "source": [
    "# On the Computer"
   ]
  },
  {
   "cell_type": "markdown",
   "metadata": {},
   "source": [
    "Under the IPC server, go to parameters --> microsequence --> imaging1 --> AmpSTF = 20 and AmpSA = 60\n",
    "\n",
    "Values for these are typically AmpSTF = 35 and AmpSA = 90 typically. \n",
    "\n"
   ]
  },
  {
   "cell_type": "markdown",
   "metadata": {},
   "source": [
    "# Debugging"
   ]
  },
  {
   "cell_type": "markdown",
   "metadata": {},
   "source": [
    "## Underperforming channels\n",
    "\n",
    "Some of the channels were underperforming. How do we know?\n",
    "\n",
    "The hydrophone scan shows that the beam is being steered to the right. This means that the DMUA is outputting less energy on the right than the left.\n",
    "\n",
    "Testing for the channels:\n",
    "We attach the dummy load to see if any of the channels are out. We would know whether a channel was missing if the bowtie that shows for this load were missing stripes.\n",
    "\n",
    "## Waterbox twisted?\n",
    "\n",
    "How to check if the hydrophone is orthogonal to the middle of the DMUA? The box can be completely centered, but the tightness of the screws on the DMUA can twist it one direction or another. We need to make sure the DMUA is orthogonal. We do this by imaging with STF, selecting the intensity to be 3 dB (there should only be a small white dot which represents the tip of the hydrophone), and moving along the x-axis. If the dot is level during the entire move, it is centered.\n",
    "\n",
    "## Array_BATCH_1 missing\n",
    "\n",
    "Sometimes this file is missing. Run the clean.bat file. This will remove the bad file. Then go to\n",
    "\n",
    "C:\\Projects\\developer_qt5\\script\\microdes\\mapping\n",
    "\n",
    "Replace the ARRAY_BATCH_1 file with the backup located either in the same folder of the \"Backup\" subfolder\n",
    "\n"
   ]
  }
 ],
 "metadata": {
  "anaconda-cloud": {},
  "kernelspec": {
   "display_name": "Python [conda root]",
   "language": "python",
   "name": "conda-root-py"
  },
  "language_info": {
   "codemirror_mode": {
    "name": "ipython",
    "version": 3
   },
   "file_extension": ".py",
   "mimetype": "text/x-python",
   "name": "python",
   "nbconvert_exporter": "python",
   "pygments_lexer": "ipython3",
   "version": "3.5.2"
  },
  "latex_envs": {
   "LaTeX_envs_menu_present": true,
   "bibliofile": "biblio.bib",
   "cite_by": "apalike",
   "current_citInitial": 1,
   "eqLabelWithNumbers": true,
   "eqNumInitial": 1,
   "labels_anchors": false,
   "latex_user_defs": false,
   "report_style_numbering": false,
   "user_envs_cfg": false
  },
  "toc": {
   "colors": {
    "hover_highlight": "#DAA520",
    "running_highlight": "#FF0000",
    "selected_highlight": "#FFD700"
   },
   "moveMenuLeft": true,
   "nav_menu": {
    "height": "66px",
    "width": "252px"
   },
   "navigate_menu": true,
   "number_sections": true,
   "sideBar": true,
   "threshold": 4,
   "toc_cell": false,
   "toc_section_display": "block",
   "toc_window_display": false
  }
 },
 "nbformat": 4,
 "nbformat_minor": 1
}
