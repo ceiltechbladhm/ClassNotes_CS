{
 "cells": [
  {
   "cell_type": "markdown",
   "metadata": {},
   "source": [
    "# Two Piston Setup"
   ]
  },
  {
   "cell_type": "markdown",
   "metadata": {},
   "source": [
    "## Equipment"
   ]
  },
  {
   "cell_type": "markdown",
   "metadata": {},
   "source": [
    "2 200 MHz computer controller pulser receiver.\n",
    "\n",
    "One does pulse-echo imaging, and both produces the original wave and captures the reflection. The other receives the transmission."
   ]
  },
  {
   "cell_type": "markdown",
   "metadata": {},
   "source": [
    "<img  src=\"IMG_0535.JPG\"/>"
   ]
  },
  {
   "cell_type": "markdown",
   "metadata": {},
   "source": [
    "TDS5104B Tektronixs Digital Oscilloscope\n",
    "\n",
    "Used to sample the signal from the pulse-receivers and transmit them to the computer."
   ]
  },
  {
   "cell_type": "markdown",
   "metadata": {},
   "source": [
    "<img  src=\"IMG_0538.JPG\"/>"
   ]
  },
  {
   "cell_type": "markdown",
   "metadata": {},
   "source": [
    "Motor Controller\n",
    "\n",
    "Quicksilver Silverdust\n",
    "Serial Number: QCI-D1-IGB\n",
    "\n"
   ]
  },
  {
   "cell_type": "markdown",
   "metadata": {},
   "source": [
    "<img  src=\"IMG_0537.JPG\"/>"
   ]
  },
  {
   "cell_type": "markdown",
   "metadata": {},
   "source": [
    "Cables:\n",
    "* 3 Coaxial Cables (Each sould be connectedt on oscilloscope)\n",
    "* 4 Serial RS 232 cables \n",
    "    * 3 should be connected between one of 3 motors and the MOTOR/ENC port on the Quicksilver controllers\n",
    "    * 1 to computer and the CAN port on the Quicksilver Controllers (needs a USB to serial adapter)\n",
    "* Ethernet cable - (not used yet) will be used to transmit data from oscope to computer\n",
    "* GPIB cable - controls the oscope from the computer"
   ]
  },
  {
   "cell_type": "markdown",
   "metadata": {},
   "source": [
    "Power Box\n",
    "\n",
    "Powers motor controllers. "
   ]
  },
  {
   "cell_type": "markdown",
   "metadata": {},
   "source": [
    "<img  src=\"IMG_0539.JPG\"/>"
   ]
  },
  {
   "cell_type": "markdown",
   "metadata": {
    "heading_collapsed": true
   },
   "source": [
    "## Manuals"
   ]
  },
  {
   "cell_type": "markdown",
   "metadata": {
    "hidden": true
   },
   "source": [
    "Ultrasonic Pulser Reveiver"
   ]
  },
  {
   "cell_type": "markdown",
   "metadata": {
    "hidden": true
   },
   "source": [
    "<img  src=\"IMG_0540.JPG\"/>"
   ]
  },
  {
   "cell_type": "markdown",
   "metadata": {},
   "source": [
    "## Procedure "
   ]
  },
  {
   "cell_type": "markdown",
   "metadata": {},
   "source": [
    "### Connecting the Motor Contollers\n",
    "\n",
    "* Plug serial cables into the MOTOR/ENC portion. Make sure to match the labels on the cables to the correct motor above. \n",
    "* Screw power wires into the motor controller. Connect all V+ and V- to the correct ports on the power.\n",
    "* Plug serial cable into the CAN port of the Quicksilver controller. Connect the USB/Serial adapter to the other end, then plug the USB into the computer. "
   ]
  },
  {
   "cell_type": "markdown",
   "metadata": {},
   "source": [
    "### Connecting to the Pulse Receivers"
   ]
  },
  {
   "cell_type": "markdown",
   "metadata": {},
   "source": [
    "Beginning in the from of the pulse receiver, we will set up the connections to the transducers.\n",
    "* Connect a coaxial cable to the Receive channel (marked R) of the top box. The other end will be connected to one of the transducers.\n",
    "* Connect another coaxial cable to the Transmit/Receive channel (marked T/R) of the bottom box. The other end will be connected to the other transducer.\n",
    "\n",
    "For the back of the pulse receiver, we will connect to the oscilloscope.\n",
    "* Connect a coaxial cable \n"
   ]
  },
  {
   "cell_type": "markdown",
   "metadata": {},
   "source": [
    "### Connecting to the oscilloscope"
   ]
  },
  {
   "cell_type": "markdown",
   "metadata": {},
   "source": [
    "* Echo pulse on channel 1\n",
    "* Transmission pulse on channel 2\n",
    "* Channel 4 has the trigger for setup\n",
    "* Connect the GPIB cable end to the oscope and the USB end to the computer\n",
    "* Connect the ethernet from the oscope to the computer.\n",
    "\n",
    "The oscilloscope is a Windows Vista program. Must be on. If having trouble connecting, try restarting oscope. \n",
    "\n",
    "Fast acquizition mode - allows one to collect x number of triggers within 1 data file\n",
    "\n",
    "** Make sure the oscope is not directly connected to the transducers!!!** The transducers should be connected through boxes???, which respectively amplify and dampen the signal. This ensures that the high voltages required to generate a pulse from the transducer never touch the oscope. "
   ]
  },
  {
   "cell_type": "markdown",
   "metadata": {
    "heading_collapsed": true
   },
   "source": [
    "#### Back side of scope"
   ]
  },
  {
   "cell_type": "markdown",
   "metadata": {
    "hidden": true
   },
   "source": [
    "<img  src=\"OscilloscopeConnection1.png\"/>"
   ]
  },
  {
   "cell_type": "markdown",
   "metadata": {},
   "source": [
    "#### Front Side of Scope"
   ]
  },
  {
   "cell_type": "markdown",
   "metadata": {},
   "source": [
    "<img  src=\"OscilloscopeConnection_2.png\"/>"
   ]
  },
  {
   "cell_type": "markdown",
   "metadata": {},
   "source": [
    "### Connecting the Computer to the Motor\n",
    "\n",
    "All the code is located:\n",
    "\n",
    "C:/Projects/TransmissionExperiment/scope\n",
    "\n",
    "Look at Planar_Charac.m. Has everything, connecting with scope and motor. One thing we know, never actually tell pulse receiver what to do. We must set them up separately. They can be on and going at all times. \n",
    "\n",
    "In TransmissionExperiment Folder, 3 folders:\n",
    "* motor - functions to move motor\n",
    "* scope - Full of testing scripts. Usually run everything from this folder. \n",
    "\n",
    "Troubleshooting Notes:\n",
    "* Anything is up for modification. All can be adjusted\n",
    "* Keysight IO library needed to be downloaded. Used for I/O with the motor. \n",
    "* Need to get admin rights for a computer. \n",
    "* In Matlab, we connect with the scope and the motor through GPIB - General Purpose Interface Bus. \n",
    "* Adulent libraries. Interfaces Matlab with the motors.\n",
    "\n",
    "Programming Notes\n",
    "* Oscope - object in Matlab. Connects in gpib through the agilent libraries.\n",
    "* Write commands to the oscope through this. \n",
    "* Takes 4-6 hours to characterize (Parker didn't know how to optimize for speed). Can be improved. Needs GPIB cable. Collect all the data, move the motor through every position, THEN send all the data back to Matlab. Communication takes the longest. Could also transmit over the ethernet cable rather than the USB. \n",
    "* Also create an object for motor. Uses same libraries.\n",
    "* Move motor to a position, transmit 50 waveforms, copy back to the computer. Repeat this sequence. Movements are very tiny. \n",
    "* Keyspan - brand of the serial to USB connector. Need driver.\n",
    "\n",
    "Code Notes:\n",
    "* We do the amplitude adjustments on the oscilloscope itself. \n",
    "* Resolution - how close data points are (mm). Right now, 0.25 mm spacings. 5440 points, at 5s/scan, takes 10 hour.\n",
    "* Pausemovement - Move, pause, measruement. Hopefully can remove thanks to fast frame. If we just measure 200 lines of data without stopping, we can significantly decrease the time. \n",
    "* Samples - measurements per location. Don't need to stop to make these measurements. \n",
    "* Set up plane in which we measure and width of plane\n",
    "* Set up data matricies. Measure all data from scope. When using multiple waveforms per location, we do averaging. \n",
    "* fopen(Oscope) - opens communication between oscope and matlab\n",
    "* Motor -defined as a serial connection. Open motor too.\n",
    "* Check - did we actually connect to the scope\n",
    "* Expecting reply back, use fscanf, prints info from scope\n",
    "* encode sample rate (should be 50-100 MHz), record length, and time scale\n",
    "* Verticle scale (make sure we are using fully dynamic range on oscope itself).\n",
    "* Sets up trigger (listen to channel 4). \n",
    "* WFMOUTpre - interrogating scope. How is it set up, record to data.\n",
    "* Save data of scope setup\n",
    "* Move motor to top-left corner plane. Motor is extra shakey (not hooked onto wall, and it is too high).\n",
    "* Moving to collect data. \n",
    "* Direction 1 - z. Direction 2 - y. Do this way such that the bar opens outward, can make sure skull is in the middle.\n",
    "* When you query data from the oscope, it comes back as an ascii string. Theres an algorithm which parses it. ECHOwav - string which has value of the data points measured from channel 1. Transmission 1 - holds the ascii data from all points for channel 2. Every loop, variables are cleared. Turned off edge detection (channel 4) for the scope, reset mode to averaging, then number of averages to 50. After pulling the data, goes into string file. First 6 or 7 characters are garbage. After that, the remainder of strings are data points. After pulling data, scope runs free to clear buffer. Must clear buffer after. Maybe don't need. Restart averaging should clear buffer. Put data where it needs to go. Average it if we need. Save to the data matrices. Move motor, small motions. Move relative to direction 1. Wait to settle vibrations from movement. Restart until we complete all solumns and rows.\n",
    "* oscope - gbip(..., 7,1) - 7,1 is the GPIB address location. 7 comes from the instrumentation control\n",
    "    * matlab has insrument control under the apps tab\n",
    "    * Scan for hardward. Sees GPIB->agilent-Board-7. \n",
    "    * creates a gpib interface. creates interface object under Instrument Obbjects ->InterfaceObject->GPIB7-1\n",
    "    * Buffer size = 10^6 size of data.\n",
    "* open oscope using fopen(Oscope). This opens interface under the intraface object above\n",
    "* fprintf(oscope,' \n",
    "* fscanf - queries the data from the oscope\n",
    "    * Tektronix - model\n",
    "    * TDS4104B - serial number\n",
    "* fprintf(Oscope, 'DATA:ENCdg ASCII') \n",
    "* For everythign look under Transmissionexperiment->Scope\n",
    "\n",
    "* 'Data:Source Ch1' - get data from channel 1. CURVE? actually gets data"
   ]
  },
  {
   "cell_type": "markdown",
   "metadata": {},
   "source": [
    "### Motor Commands\n",
    "\n",
    "* \n",
    "\n",
    "Notes:\n",
    "* Motor has home location. Can set manually using the controllers. Use Make_home function. \n",
    "* Move_absolute. Given that it has a home, can use this function to move to an absolute location. \n",
    "* Move_relative. Move a distance from current location. Primairly use this function. Set speed at 10 mm/s. \n",
    "* Move_relative_speed - Set distance and speed to use. \n",
    "\n",
    "Debugging Notes:\n",
    "* If the motor reaches the end of its dynamic range, it freezes. You can check if this is happening by seeing a blinking green light on the Quicksilver motor controller. Fix this by unplugging the motor power and plugging it back in."
   ]
  },
  {
   "cell_type": "markdown",
   "metadata": {
    "collapsed": true
   },
   "source": [
    "### Transducers"
   ]
  },
  {
   "cell_type": "markdown",
   "metadata": {},
   "source": [
    "* Get a pair of matching transducers from the case. Matching transducers means that they share a focal length and a center frequency. This information is written on the outside of the transducers.\n",
    "* Align the transducers exactly 1\" apart. The entire width is 1 7/8\" apart, so this means that each transducer neads to be 7/16\" from the edge. \n",
    "\n",
    "The left transducer acts as the pulse echo. (Connects to the bottom pulse receiver). The right acts as transmitted wave receiver. (Connects to the top pulse receiver). The color tags can be used to trace the connections."
   ]
  },
  {
   "cell_type": "markdown",
   "metadata": {},
   "source": [
    "<img  src=\"TransducerSetup.PNG\"/>"
   ]
  },
  {
   "cell_type": "markdown",
   "metadata": {},
   "source": [
    "## Long Term Improvements"
   ]
  },
  {
   "cell_type": "markdown",
   "metadata": {},
   "source": [
    "* Lowering the motor\n",
    "* Fabricate a holder for other sized transducers.\n",
    "    * Also might need a new connection between transducers and the oscope\n",
    "* Note, we may want to switch to a different oscilloscope in the future. \n"
   ]
  },
  {
   "cell_type": "code",
   "execution_count": null,
   "metadata": {
    "collapsed": true
   },
   "outputs": [],
   "source": []
  }
 ],
 "metadata": {
  "anaconda-cloud": {},
  "kernelspec": {
   "display_name": "Python [default]",
   "language": "python",
   "name": "python3"
  },
  "language_info": {
   "codemirror_mode": {
    "name": "ipython",
    "version": 3
   },
   "file_extension": ".py",
   "mimetype": "text/x-python",
   "name": "python",
   "nbconvert_exporter": "python",
   "pygments_lexer": "ipython3",
   "version": "3.5.2"
  },
  "latex_envs": {
   "LaTeX_envs_menu_present": true,
   "bibliofile": "biblio.bib",
   "cite_by": "apalike",
   "current_citInitial": 1,
   "eqLabelWithNumbers": true,
   "eqNumInitial": 1,
   "labels_anchors": false,
   "latex_user_defs": false,
   "report_style_numbering": false,
   "user_envs_cfg": false
  },
  "toc": {
   "colors": {
    "hover_highlight": "#DAA520",
    "running_highlight": "#FF0000",
    "selected_highlight": "#FFD700"
   },
   "moveMenuLeft": true,
   "nav_menu": {
    "height": "135px",
    "width": "252px"
   },
   "navigate_menu": true,
   "number_sections": true,
   "sideBar": true,
   "threshold": 4,
   "toc_cell": false,
   "toc_section_display": "block",
   "toc_window_display": false
  }
 },
 "nbformat": 4,
 "nbformat_minor": 1
}
