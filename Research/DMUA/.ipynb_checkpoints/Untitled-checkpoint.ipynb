{
 "cells": [
  {
   "cell_type": "markdown",
   "metadata": {},
   "source": [
    "# Setup"
   ]
  },
  {
   "cell_type": "markdown",
   "metadata": {},
   "source": [
    "Log into Matlab. \n",
    "\n",
    "Adaptice stimulation config. \n",
    "\n",
    "The rubber material is used to encapusalte the water. WE use some grase to ensure a seal around the trnasducer. Stops leakage of water. Hooks ujp to the degasser. \n",
    "\n",
    "Controlling the valvues. Open voth valuvues. When we place the sheet over the transducer, it is originally filled with air. Thevalve connected nearest the transducer should be open. Blue thing points towards the closed path. \n",
    "\n",
    "Hook up the DMUA, requires degassed water. \n",
    "\n",
    "FPGA is on the breadboard.  \n",
    "\n",
    "Measurement across each channel. Demiload - fake electrical test for the amplifie. 32 channels of signals. Ouput directly from the amplifier itself. ONe channel which is dead. Will perform a little under.\n",
    "\n"
   ]
  },
  {
   "cell_type": "markdown",
   "metadata": {},
   "source": [
    "# Positioning the DMUA Transducer"
   ]
  },
  {
   "cell_type": "markdown",
   "metadata": {},
   "source": [
    "Begin by centering the array pproximately over the head. Begin imaging (does not have to be connnected to the rat's head). Trying to put the probe right above the animals head, then drop down on top of it. \n",
    "\n",
    "Modify two parameters: Imaging->Stream->Stream1->Volume config. Count = 1024, Resolution = speed (in mms/s)/23. (23 is fps for SA imaging).\n",
    "\n",
    "Once contact, do volume scan. This will result in a 3D rendering of the skull. Start the scan from most negative position possible. ONly moves in the positive direction. Open pipe, clear stream 1 buffer, go to imaing window, click volume scan button, set parameters how we wish. Set the red box around the size of the skull itself. Save data. Go to volume scan window now, click preprocess volume data.\n",
    "\n",
    "Mechanical scan of the DMUA ofthe course of the rats scan. Collecting SA imaging frames. Volume scan happens pretty rapidly. Skull slice thinkness high, means quality resolution isn't as good. We do this in the first place so we know where we're going (gives landmarks any surgeon would understand). Points in the skull. \n",
    "\n",
    "Minute of cooldown time, then another 5 of delivery. \n",
    "In the adaptive config button, there are imaging parameters and therapy parameters. Parker predefined therapy waveforms. 3.5 Mhz with different modulation frequencies. We can load this signal in, determine and amplitude, set registry values. \n",
    "\n",
    "Ex: TherapyAmp: 0.1. Go to matlab, pull the variables from ipc_reg. Run apative_Stimulation_script. Generates three figures. Loads both the imagin and therapy pulse. Combines them .\n",
    "\n"
   ]
  },
  {
   "cell_type": "markdown",
   "metadata": {},
   "source": [
    "# Tutorial"
   ]
  },
  {
   "cell_type": "markdown",
   "metadata": {},
   "source": [
    "First thing, turn on the system. Do a volume scan. IPC server window, parameters tab. Modify two parameters: Imaging->Stream->Stream1->Volume config. Count = 1024, Resolution = speed (in mms/s)/23. (23 is fps for SA imaging).\n",
    "\n",
    "Typically 2 speeds. Count is max number of frames cancollect during volume scan. Resoltuion is distance between frames. We want to make sure we span the distance without overfilling the buffer. 75% is usually what we shoot for for the buffer fill. Want to see where motor stops. \n",
    "\n",
    "Problem: the motor moves before imaging starts. Volume always shows a distance less than what you've told the motor to travel. This is why we do it 75%; so we can see the steady state. For this type of study, we do 23 fps, 7mm scans. 0.25 mm/s speed. So the resolution is 0.25/23 = 0.0109.  Make sure we won't fill up buffer. $7/0.25 \\cdot 23 = 644$. This is the number of frames we will use for distance volume scan. We will then let it go longer than that to see where the motor stops moving as a final landmark point to move back towards. \n",
    "\n",
    "To perform volume scan\n",
    "\n",
    "Picture (Start of scan)\n",
    "\n",
    "On the render engine, go to imaging pane, click volume scan, set parameters (Picture ConfigurationValues). After inputting the parameters, push green checkmark butto9n. When we push it, the motor starts moving and it starts to image. The user is required to stop imaging before the buffer fills. How do we know? In the PIC server window, processes pane, shows all the processes working to gether. To find the imaging buffer, right flick PIPE, then show. Opens the pipe process in own window. This is the pipe UI window (Picture PIPE UI). Find imagin buffer, click Stream 1 pane on right side, then click buffer control pane underneath.\n",
    "\n",
    "Clearing buffer, under pipeline, reset buffer, (picture, reset buffer).\n",
    "\n",
    "IPC Server, click star. Go to shortcut panel. (Picture: ShortcutPanel). Under motor control tab. (Picture MoveMotor). Three axis. Start with y axis, move to the approximate correct spot to lower the DMUA mechanically onto the animal (not with motor). Max speed when toucing animal, 1 mm/s.\n",
    "\n",
    "Under render engine, click arrow in top, right hand corner. Select imaging. Bring up imaging tab. Picture (Ultrasound_almostthere). Large white spot in middle is trachea. This view allows us to see the whole neck/throat reciton. We look for pulsation. (see video) Once we see the trachea and pulsations, we pick as side and zoom in on the split. Arbitrarily, we go to the right corotid artery. Looking for the split (will occur in the zplane). \n",
    "\n",
    "Once we center the corotid artery, we visually find. We track the pulsations until we see 2 pulsation (see video). Stacked right on top of one another. Move towards the tail, see them combine, then start the volume scan to see where it goes from 1 vessel to 2. Moved back ~3mm from bifurcation. Before we push start on volume scan, reset the buffer (Picture ResetBuffer). Confirm empty with the Pipeline engine, buffer control tab. Track the pulsation. Wait until the animal stops changing. Then click the Stop imaging at 80%. \n",
    "\n",
    "Once we collect the data, we need to process the volume scan data. In the volume scan pane, click reporcess volume scan. Resolution should match the IP. Move red box dots represents M2D region.  Picture M2DBox. This box is what defines the region over whic hthe volume processing occurs. Once we preprocess, go to Render Engine Property Window (left side of window) (Picture (RenderEnginePropertyWindow)). Settings need to be (Picture VolumeScanProperties).  (Picture VolumeScan Properties_RenderEngineColor). \n",
    "\n",
    "Next we look at the 3D data. Go along the temporal axis, look for bifurcation. Look at the Temporal-Lateral for two vessels longwise and the Lateral Axiel for the two vessels cross section. With the volume scan, because we let it go over, we see some stretching.\n",
    "\n",
    "Move back 4 mm from 7 (7-3 mm). In this particular instance, this is the location of the bifurcation. We're getting a lot of data. Corotid artery >50um. \n",
    "\n",
    "ONce you determine the area betwen vessels. Applying a point for ablation. Right click on the Image view window, Add prove point. Right clikc on the probe point you just created, to to properties, set critical to target. (Picture: CriticalProbePoint_BAD). Picture( PropeOpointProberties_Target_Good). Stop imaging (dont try to deliver therapy while imaging). Change the colormap too. Picture( RenterEnginePropertiewWindow_Colormap-Default_ForTherapy). Two colormaps: one for imaging and one for therapy. IN shortcut window, in therapy pane, (Picture Lesion foratmation Buttion_InshortcutWindow). Two more boxes. Red box is also for HIFU beam whole area. Green box is related to scan detection. Blue is where the legion will be formed. Paramters we care about: amplitude, hold time, HIFU time. We can look at the echogenicity change, we can modify.  (Picture LegionFormationParameters_LookAtAmplutdueHoldTimeandHIFUTime).  Click continue.  \n",
    "\n",
    "Start applying the therapy. Data automatically saves for legion formation. Should organize where it saves (data_0, data_1, ...). Take this and move to the plane 1. This is helps for post-processing organization. \n",
    "\n",
    "Typicaly move 0.5 mm between planes. Because of slice thickness (don't want to alias or leave gaps). \n",
    "\n",
    "Wait in between shots to let ambient temp return to normal, also for bubbles to dissipate. 60-90 seconds.\n",
    "\n",
    "Reset the buffer. \n",
    "\n",
    "Projects/developer_qt5/config/registry/"
   ]
  }
 ],
 "metadata": {
  "anaconda-cloud": {},
  "kernelspec": {
   "display_name": "Python [default]",
   "language": "python",
   "name": "python3"
  },
  "language_info": {
   "codemirror_mode": {
    "name": "ipython",
    "version": 3
   },
   "file_extension": ".py",
   "mimetype": "text/x-python",
   "name": "python",
   "nbconvert_exporter": "python",
   "pygments_lexer": "ipython3",
   "version": "3.5.2"
  },
  "latex_envs": {
   "LaTeX_envs_menu_present": true,
   "bibliofile": "biblio.bib",
   "cite_by": "apalike",
   "current_citInitial": 1,
   "eqLabelWithNumbers": true,
   "eqNumInitial": 1,
   "labels_anchors": false,
   "latex_user_defs": false,
   "report_style_numbering": false,
   "user_envs_cfg": false
  },
  "toc": {
   "colors": {
    "hover_highlight": "#DAA520",
    "running_highlight": "#FF0000",
    "selected_highlight": "#FFD700"
   },
   "moveMenuLeft": true,
   "nav_menu": {
    "height": "48px",
    "width": "252px"
   },
   "navigate_menu": true,
   "number_sections": true,
   "sideBar": true,
   "threshold": 4,
   "toc_cell": false,
   "toc_section_display": "block",
   "toc_window_display": false
  }
 },
 "nbformat": 4,
 "nbformat_minor": 1
}
