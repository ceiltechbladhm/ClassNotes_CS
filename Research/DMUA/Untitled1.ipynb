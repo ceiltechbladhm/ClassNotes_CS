{
 "cells": [
  {
   "cell_type": "markdown",
   "metadata": {},
   "source": [
    "# Adaptive Imaging"
   ]
  },
  {
   "cell_type": "markdown",
   "metadata": {},
   "source": [
    "## Adaptive imaging through skull"
   ]
  },
  {
   "cell_type": "markdown",
   "metadata": {},
   "source": [
    "A rat skull was embedded in a phantom of gelatin. Thin plastic tubing was run through in the caudal-rostral direction of the skull. \n",
    "\n",
    "Added probe points to the skull and wire. A dimmer point along the tubing was selected.\n",
    "\n",
    "There seems to be some difference in timing. \n",
    "\n",
    "We can watch the delay profile. the slope is a measure of steering. waveFormRefC is the critical point. Sloping comes from target point coming off axis.\n",
    "\n",
    "Keep the critical point near the target point? \n",
    "\n",
    "In registry 'Stream1/Beamformer/'\n",
    "AlineOffset - able to shift the alines\n",
    "ipc_reg('path to variable','variable') - pulls value\n",
    "ipc_reg('path to variable','variable=value') - push value\n",
    "We can not only interrogate, but also push things into the registry.\n",
    "\n",
    "We did inverse filtering. Imaging stream, stream \n",
    "\n",
    "Therapy and imaging buffers. Use info to transmit a waveform of some duty cycle to control the buffers. We can use the single buffer for 18k buffer or 2 8k buffers. WE can actually transmit data and switch between buffers almost seamlessly. The easiest is to use the two buffers.\n",
    "\n",
    "Work on timing of the adaptive imaging process. How fast can we refocus? Think of it as tracking. The time needed to download the waveforms need to be taken into account as well.\n",
    "\n",
    "ipc_reg('/Imaging/Stram/Stram1/Engines/Bemaaformer/','AlineOffset=200');\n",
    "\n"
   ]
  }
 ],
 "metadata": {
  "anaconda-cloud": {},
  "kernelspec": {
   "display_name": "Python [conda root]",
   "language": "python",
   "name": "conda-root-py"
  },
  "language_info": {
   "codemirror_mode": {
    "name": "ipython",
    "version": 3
   },
   "file_extension": ".py",
   "mimetype": "text/x-python",
   "name": "python",
   "nbconvert_exporter": "python",
   "pygments_lexer": "ipython3",
   "version": "3.5.2"
  },
  "latex_envs": {
   "LaTeX_envs_menu_present": true,
   "bibliofile": "biblio.bib",
   "cite_by": "apalike",
   "current_citInitial": 1,
   "eqLabelWithNumbers": true,
   "eqNumInitial": 1,
   "labels_anchors": false,
   "latex_user_defs": false,
   "report_style_numbering": false,
   "user_envs_cfg": false
  },
  "toc": {
   "colors": {
    "hover_highlight": "#DAA520",
    "running_highlight": "#FF0000",
    "selected_highlight": "#FFD700"
   },
   "moveMenuLeft": true,
   "nav_menu": {
    "height": "48px",
    "width": "252px"
   },
   "navigate_menu": true,
   "number_sections": true,
   "sideBar": true,
   "threshold": 4,
   "toc_cell": false,
   "toc_section_display": "block",
   "toc_window_display": false
  }
 },
 "nbformat": 4,
 "nbformat_minor": 1
}
