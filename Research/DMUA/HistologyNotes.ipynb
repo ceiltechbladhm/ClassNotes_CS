{
 "cells": [
  {
   "cell_type": "markdown",
   "metadata": {},
   "source": [
    "Fixation\n",
    "\n",
    "Use piriform formaldahyde\n",
    "\n",
    "cross-links proteins and traps any and all proteins in their current configuration. this includeds the microglia we are wanting to look for. Typically the first is treat with piriform formaldahyde.\n",
    "\n",
    "After tissue sits (depends on thickness) we do overnight. Rinse it off, wash in basically detergent, breaks apart the cell membranes and allows the next thing (dye or such) to enter the cells. We are using a nuclear stain. This permeabilization allows the stain to enter and bind to DNA. Stain with antibodies (not useful for ultrasound), but can look for dopamine and look for something that makes dopamine. My nuclear stain is excited by UV light, so we take it to a microscope with UV. Count microglia. Present in nervous system all the time, but higher at sights of injury. We want to count microglia on a control nerve and count them in our tissue that's been ultrasounded and see if that's been increased. Checking for injury. Microglia doesn't mean that cells have been irreversiably damage.\n",
    "\n",
    "We have a flourophor that turns the tissue transparent. Take a whole bunch of "
   ]
  }
 ],
 "metadata": {
  "anaconda-cloud": {},
  "kernelspec": {
   "display_name": "Python [conda root]",
   "language": "python",
   "name": "conda-root-py"
  },
  "language_info": {
   "codemirror_mode": {
    "name": "ipython",
    "version": 3
   },
   "file_extension": ".py",
   "mimetype": "text/x-python",
   "name": "python",
   "nbconvert_exporter": "python",
   "pygments_lexer": "ipython3",
   "version": "3.5.2"
  },
  "latex_envs": {
   "LaTeX_envs_menu_present": true,
   "bibliofile": "biblio.bib",
   "cite_by": "apalike",
   "current_citInitial": 1,
   "eqLabelWithNumbers": true,
   "eqNumInitial": 1,
   "labels_anchors": false,
   "latex_user_defs": false,
   "report_style_numbering": false,
   "user_envs_cfg": false
  },
  "toc": {
   "colors": {
    "hover_highlight": "#DAA520",
    "running_highlight": "#FF0000",
    "selected_highlight": "#FFD700"
   },
   "moveMenuLeft": true,
   "nav_menu": {
    "height": "12px",
    "width": "252px"
   },
   "navigate_menu": true,
   "number_sections": true,
   "sideBar": true,
   "threshold": 4,
   "toc_cell": false,
   "toc_section_display": "block",
   "toc_window_display": false
  }
 },
 "nbformat": 4,
 "nbformat_minor": 1
}
