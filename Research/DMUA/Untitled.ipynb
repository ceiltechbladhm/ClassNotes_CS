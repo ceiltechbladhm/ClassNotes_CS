{
 "cells": [
  {
   "cell_type": "markdown",
   "metadata": {},
   "source": [
    "# Setup"
   ]
  },
  {
   "cell_type": "markdown",
   "metadata": {},
   "source": [
    "Log into Matlab. \n",
    "\n",
    "Adaptice stimulation config. \n",
    "\n",
    "The rubber material is used to encapusalte the water. WE use some grase to ensure a seal around the trnasducer. Stops leakage of water. Hooks ujp to the degasser. \n",
    "\n",
    "Controlling the valvues. Open voth valuvues. When we place the sheet over the transducer, it is originally filled with air. Thevalve connected nearest the transducer should be open. Blue thing points towards the closed path. \n",
    "\n",
    "Hook up the DMUA, requires degassed water. \n",
    "\n",
    "FPGA is on the breadboard.  \n",
    "\n",
    "Measurement across each channel. Demiload - fake electrical test for the amplifie. 32 channels of signals. Ouput directly from the amplifier itself. ONe channel which is dead. Will perform a little under.\n",
    "\n"
   ]
  },
  {
   "cell_type": "markdown",
   "metadata": {},
   "source": [
    "# Positioning the DMUA Transducer"
   ]
  },
  {
   "cell_type": "markdown",
   "metadata": {},
   "source": [
    "Begin by centering the array pproximately over the head. Begin imaging (does not have to be connnected to the rat's head). Trying to put the probe right above the animals head, then drop down on top of it. \n",
    "\n",
    "Modify two parameters: Imaging->Stream->Stream1->Volume config. Count = 1024, Resolution = speed (in mms/s)/23. (23 is fps for SA imaging).\n",
    "\n",
    "Once contact, do volume scan. This will result in a 3D rendering of the skull. Start the scan from most negative position possible. ONly moves in the positive direction. Open pipe, clear stream 1 buffer, go to imaing window, click volume scan button, set parameters how we wish. Set the red box around the size of the skull itself. Save data. Go to volume scan window now, click preprocess volume data.\n",
    "\n",
    "Mechanical scan of the DMUA ofthe course of the rats scan. Collecting SA imaging frames. Volume scan happens pretty rapidly. Skull slice thinkness high, means quality resolution isn't as good. We do this in the first place so we know where we're going (gives landmarks any surgeon would understand). Points in the skull. \n",
    "\n",
    "Minute of cooldown time, then another 5 of delivery. \n",
    "In the adaptive config button, there are imaging parameters and therapy parameters. Parker predefined therapy waveforms. 3.5 Mhz with different modulation frequencies. We can load this signal in, determine and amplitude, set registry values. \n",
    "\n",
    "Ex: TherapyAmp: 0.1. Go to matlab, pull the variables from ipc_reg. Run apative_Stimulation_script. Generates three figures. Loads both the imagin and therapy pulse. Combines them ."
   ]
  }
 ],
 "metadata": {
  "anaconda-cloud": {},
  "kernelspec": {
   "display_name": "Python [default]",
   "language": "python",
   "name": "python3"
  },
  "language_info": {
   "codemirror_mode": {
    "name": "ipython",
    "version": 3
   },
   "file_extension": ".py",
   "mimetype": "text/x-python",
   "name": "python",
   "nbconvert_exporter": "python",
   "pygments_lexer": "ipython3",
   "version": "3.5.2"
  },
  "latex_envs": {
   "LaTeX_envs_menu_present": true,
   "bibliofile": "biblio.bib",
   "cite_by": "apalike",
   "current_citInitial": 1,
   "eqLabelWithNumbers": true,
   "eqNumInitial": 1,
   "labels_anchors": false,
   "latex_user_defs": false,
   "report_style_numbering": false,
   "user_envs_cfg": false
  },
  "toc": {
   "colors": {
    "hover_highlight": "#DAA520",
    "running_highlight": "#FF0000",
    "selected_highlight": "#FFD700"
   },
   "moveMenuLeft": true,
   "nav_menu": {
    "height": "48px",
    "width": "252px"
   },
   "navigate_menu": true,
   "number_sections": true,
   "sideBar": true,
   "threshold": 4,
   "toc_cell": false,
   "toc_section_display": "block",
   "toc_window_display": false
  }
 },
 "nbformat": 4,
 "nbformat_minor": 1
}
