{
 "cells": [
  {
   "cell_type": "markdown",
   "metadata": {},
   "source": [
    "# Mouse Study Set up"
   ]
  },
  {
   "cell_type": "markdown",
   "metadata": {},
   "source": [
    "The mouse gets aneshesia. Afterwards, it is brought over to the nose bar, ventral side up. The tubes are taken from the anestesia and connected to the nose bar. After this, the neck is shaved, and Nair is applied to a cotton swab and is used to remove all the hair.\n",
    "\n",
    "DMUA is positioned over the mouse's neck. Goal is to target the carteroid artery branch.\n",
    "\n",
    "Engines/Beamformer:\n",
    "kd - directionality factor. Low kd means that we get a wider field of view but increased grating lobe noise. Set to 3. It will be a lot easier to find the blood vessels anyways.\n",
    "\n",
    "Saline is used first. We are imaging on the right side of the rat (left side of the image). Data is saved under F/Shared/Data/04_18_2018. Very good reference\n",
    "\n",
    "Pulse inversion is when you send the positive pulse then the negative polarity, then do subtractive beamforming to find the differences.\n",
    "\n",
    "Frame rate is lower with SA imaging; take care to take into account when doing volume scanning. Bifercated before 3 mm. We still have a wall; when we see the noise. Processing to make sure we see the lumen.\n",
    "\n",
    "200 uL of the agent was injected.\n",
    "\n",
    "Lesion formation.:\n",
    "\n",
    "Microsequence/common\n",
    "PreHIFUTime:2\n",
    "PostHIFU 8.0\n",
    "\n",
    "In shortcut panel for lesion formation\n",
    "Amp: 0.6 (changed to 0.55 later)\n",
    "Hold time 0.04\n",
    "HIFUTime: 0.5 (seconds total)\n",
    "\n",
    "Amplitude change is due to differences in skin thickness in the animal. We want to avoid thermal activity when possible. When we raised up the amplitude here, there is less skin between the skin and the caroted artery. \n",
    "\n",
    "Sub-therapy is seen at amplitude 0.35\n",
    "\n"
   ]
  },
  {
   "cell_type": "markdown",
   "metadata": {},
   "source": [
    "# Observations"
   ]
  },
  {
   "cell_type": "markdown",
   "metadata": {},
   "source": [
    "Color occured at the top instead of at the target site.  For the lesion formation, the colors represent power distribution. Color at the skin interface means that nearly all the power was deposited in the skin, causing a blister. When this happens, the blister acts as a power block, which \"shadows\" all energy below. You can see this in the lesion formation power deposition rendering. The energy below the blister is completely dark, representing no tissue absorption there.  Due to hitting the skin. A blister seems to have fomed; there is a divot below the skin and a small shield above on the ultrasound imaging. Resolution is to take the animal away from the DMUA. "
   ]
  }
 ],
 "metadata": {
  "anaconda-cloud": {},
  "kernelspec": {
   "display_name": "Python [conda root]",
   "language": "python",
   "name": "conda-root-py"
  },
  "language_info": {
   "codemirror_mode": {
    "name": "ipython",
    "version": 3
   },
   "file_extension": ".py",
   "mimetype": "text/x-python",
   "name": "python",
   "nbconvert_exporter": "python",
   "pygments_lexer": "ipython3",
   "version": "3.5.2"
  },
  "latex_envs": {
   "LaTeX_envs_menu_present": true,
   "bibliofile": "biblio.bib",
   "cite_by": "apalike",
   "current_citInitial": 1,
   "eqLabelWithNumbers": true,
   "eqNumInitial": 1,
   "labels_anchors": false,
   "latex_user_defs": false,
   "report_style_numbering": false,
   "user_envs_cfg": false
  },
  "toc": {
   "colors": {
    "hover_highlight": "#DAA520",
    "running_highlight": "#FF0000",
    "selected_highlight": "#FFD700"
   },
   "moveMenuLeft": true,
   "nav_menu": {
    "height": "30px",
    "width": "252px"
   },
   "navigate_menu": true,
   "number_sections": true,
   "sideBar": true,
   "threshold": 4,
   "toc_cell": false,
   "toc_section_display": "block",
   "toc_window_display": false
  }
 },
 "nbformat": 4,
 "nbformat_minor": 1
}
