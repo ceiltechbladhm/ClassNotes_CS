{
 "cells": [
  {
   "cell_type": "markdown",
   "metadata": {
    "heading_collapsed": true
   },
   "source": [
    "# Lecture 2 (Additive Process)"
   ]
  },
  {
   "cell_type": "markdown",
   "metadata": {
    "heading_collapsed": true,
    "hidden": true
   },
   "source": [
    "## Important thin films"
   ]
  },
  {
   "cell_type": "markdown",
   "metadata": {
    "hidden": true
   },
   "source": [
    "### Thermal Silicon Oxide"
   ]
  },
  {
   "cell_type": "markdown",
   "metadata": {
    "hidden": true
   },
   "source": [
    "Amorphous material\n",
    "insulating layer\n",
    "mask\n",
    "Sacrificial layer\n",
    "Impurities such as Na and K diffuse througi t\n",
    "Most dopands except Ga diffuse poorly through it\n",
    "Thickness usually less that 1$\\mu$m"
   ]
  },
  {
   "cell_type": "markdown",
   "metadata": {
    "hidden": true
   },
   "source": [
    "### Silicon Oxide"
   ]
  },
  {
   "cell_type": "markdown",
   "metadata": {
    "hidden": true
   },
   "source": [
    "### Polysilicon Films"
   ]
  },
  {
   "cell_type": "markdown",
   "metadata": {
    "hidden": true
   },
   "source": [
    "* Low Pressure Chemical Vapor Deposition\n",
    "* Initially amorphous but may crystalize during deposition\n",
    "* Transition from small grains at the film/substrate\n",
    "* Interface to coumnar crystallites on top\n",
    "* Dopants impurities and temperture influence crystal orientation\n"
   ]
  },
  {
   "cell_type": "markdown",
   "metadata": {
    "hidden": true
   },
   "source": [
    "### Silicon Nitride"
   ]
  },
  {
   "cell_type": "markdown",
   "metadata": {
    "hidden": true
   },
   "source": [
    "* Amorphous\n",
    "* Isulator between conducting\n",
    "* Cannot be but direction on silicon\n",
    "* Highly selective in etch rates\n",
    "* Important in mechanical membranes (such as microlenses)"
   ]
  },
  {
   "cell_type": "markdown",
   "metadata": {
    "hidden": true
   },
   "source": [
    "### Phosphosilicate Glass"
   ]
  },
  {
   "cell_type": "markdown",
   "metadata": {
    "hidden": true
   },
   "source": [
    "* Soften and flow at lower temperatures, enabling smoothing of topography\n",
    "* Serve as a dielevtric between metal layers\n",
    "* Getting and flow capabilities (decontaminate environment)\n",
    "* Passivation voat to profide mechanical protection\n",
    "* Creating by addition of phosphine to the gas stream"
   ]
  },
  {
   "cell_type": "markdown",
   "metadata": {
    "hidden": true
   },
   "source": [
    "### Metal Films"
   ]
  },
  {
   "cell_type": "markdown",
   "metadata": {
    "hidden": true
   },
   "source": [
    "* Al and W are commonly used\n",
    "* Specific absorption\n",
    "* W will nucleate on Si or metal surfacesbut not on dielectric such as oxides and nitride"
   ]
  },
  {
   "cell_type": "markdown",
   "metadata": {
    "heading_collapsed": true,
    "hidden": true
   },
   "source": [
    "## Thin Film Deposition Processes"
   ]
  },
  {
   "cell_type": "markdown",
   "metadata": {
    "hidden": true
   },
   "source": [
    "### Physical Vapor Deposition"
   ]
  },
  {
   "cell_type": "markdown",
   "metadata": {
    "hidden": true
   },
   "source": [
    "Material transported in vapor form from a source to a substrate through a vaccuum"
   ]
  },
  {
   "cell_type": "markdown",
   "metadata": {
    "hidden": true
   },
   "source": [
    "### Chemical Vapor Deposition"
   ]
  },
  {
   "cell_type": "markdown",
   "metadata": {
    "hidden": true
   },
   "source": [
    "Deposits of a solid on a heated surface from a chemical reaction in vapor phase"
   ]
  },
  {
   "cell_type": "markdown",
   "metadata": {
    "hidden": true
   },
   "source": [
    "### Epitaxial Deposition"
   ]
  },
  {
   "cell_type": "markdown",
   "metadata": {
    "hidden": true
   },
   "source": [
    "Single crystal layer can be deposited onto the surface of a substate wafer"
   ]
  },
  {
   "cell_type": "markdown",
   "metadata": {
    "heading_collapsed": true,
    "hidden": true
   },
   "source": [
    "## Thermal Evaporation"
   ]
  },
  {
   "cell_type": "markdown",
   "metadata": {
    "hidden": true
   },
   "source": [
    " "
   ]
  },
  {
   "cell_type": "markdown",
   "metadata": {
    "hidden": true
   },
   "source": [
    "<img  src=\"Selection_004.png\"/>"
   ]
  },
  {
   "cell_type": "markdown",
   "metadata": {
    "heading_collapsed": true,
    "hidden": true
   },
   "source": [
    "## E-Beam Evaporator and Crucible"
   ]
  },
  {
   "cell_type": "markdown",
   "metadata": {
    "hidden": true
   },
   "source": [
    "These high melting points may cause damage if it is somehting other that Si, like plastic. These evaporated films are highly disordered with large stress"
   ]
  },
  {
   "cell_type": "markdown",
   "metadata": {
    "hidden": true
   },
   "source": [
    "### Sputter Deposition"
   ]
  },
  {
   "cell_type": "markdown",
   "metadata": {
    "hidden": true
   },
   "source": [
    "Scrubbing unnecessary species out. Excited species come in, and the materials come away. These materials can then be transported to some sort of target. The sputter ing is accomplished when an ion strikes a material which then forms on the substrate.\n",
    "\n",
    "DC supttering - energetic ions come from plasma. The Gas is usually Ar. Kinetic energy of ion determines the yield."
   ]
  },
  {
   "cell_type": "markdown",
   "metadata": {
    "hidden": true
   },
   "source": [
    "#### Sputtering Equpment"
   ]
  },
  {
   "cell_type": "markdown",
   "metadata": {
    "hidden": true
   },
   "source": [
    "Multiple materials from which sputtering occurs. Materials loaded into vaccuum chamber lock. Because it is difficult to maintain a vaccuum, a lock is used; this lock allows a little thing to be inserted into a larger vaccuum."
   ]
  },
  {
   "cell_type": "markdown",
   "metadata": {
    "heading_collapsed": true,
    "hidden": true
   },
   "source": [
    "## Chemical Vapor Deposition"
   ]
  },
  {
   "cell_type": "markdown",
   "metadata": {
    "hidden": true
   },
   "source": [
    "Good filling of deep recesees, not restricted to line of sight, vaccuums which are hard are not required. "
   ]
  },
  {
   "cell_type": "markdown",
   "metadata": {
    "hidden": true
   },
   "source": [
    "### Deposition Methods"
   ]
  },
  {
   "cell_type": "markdown",
   "metadata": {
    "hidden": true
   },
   "source": [
    "* Atmospheric Pressure chemical vapor depositon\n",
    "* Low pressure CVD\n",
    "* Plasma Enchanced CVD"
   ]
  },
  {
   "cell_type": "markdown",
   "metadata": {
    "hidden": true
   },
   "source": [
    "The deposition surface process occurs as follow:\n",
    "* Gases enter through a force flow technique\n",
    "* Through the boundary layer\n",
    "* Chemical reqctions occurs at substrate\n",
    "  "
   ]
  },
  {
   "cell_type": "markdown",
   "metadata": {
    "hidden": true
   },
   "source": [
    "### Specific Thin Films"
   ]
  },
  {
   "cell_type": "markdown",
   "metadata": {
    "hidden": true
   },
   "source": [
    "SiO2 - can be deposited with CVD by reacting silane and oxygen in a LPCVD reactor.\n",
    "\n",
    "TEOS refers to decomposing tetra-ethyl-ortho-silicate as a method of depositing SiO2.\n",
    "\n",
    "An additional option is to use dichlorosilane"
   ]
  },
  {
   "cell_type": "markdown",
   "metadata": {
    "hidden": true
   },
   "source": [
    "### Thin Film Properties"
   ]
  },
  {
   "cell_type": "markdown",
   "metadata": {
    "hidden": true
   },
   "source": [
    " * Epitaxy (growth of a crystal on a thin film)\n",
    " * Gas-[hase precipitation\n",
    " * Thermal Expansion stress (spacking can occur during cooling)\n",
    " \n",
    " Conrol the process my manipulating temperature and pressure. Ceramics are amorphous"
   ]
  },
  {
   "cell_type": "markdown",
   "metadata": {
    "hidden": true
   },
   "source": [
    "### Atomic Layer Deposition (ALD)"
   ]
  },
  {
   "cell_type": "markdown",
   "metadata": {
    "hidden": true
   },
   "source": [
    "Grow the substate to precursors (various gases). They are never present in presence of reactor. These are set up by the technician.\n",
    "\n",
    "Features:\n",
    "\n",
    "* 100\\% film density guarantees ideal material proteries\n",
    "* Insensitive to dust\n",
    "* Thickness is digitally controlled\n",
    "* Perfect 3D conformability, 100\\% step coverage\n",
    "* Low of defect density\n",
    "* Gentle deposition for sensitive substrates, no plasma"
   ]
  },
  {
   "cell_type": "markdown",
   "metadata": {
    "heading_collapsed": true,
    "hidden": true
   },
   "source": [
    "## Ion Implantation"
   ]
  },
  {
   "cell_type": "markdown",
   "metadata": {
    "hidden": true
   },
   "source": [
    "1. Ion implantation, the dopant element is ionized, accelerated, then driven into the substrate.\n",
    "2. The Electrical conductivity of an intrinsic semiconductor cna be increased throug doping.\n",
    "3. Doping can be used to control etching by reducing the etch rates.\n",
    "4. Sources for n-type doping include antimony, arsenic, and phosphorous; and for p-type doping, boron."
   ]
  },
  {
   "cell_type": "markdown",
   "metadata": {
    "hidden": true
   },
   "source": [
    "### Controlled Etching"
   ]
  },
  {
   "cell_type": "markdown",
   "metadata": {
    "hidden": true
   },
   "source": [
    "Anisotropic etchants:\n",
    "* Etch Si preferentially along preferred crystallographic directions\n",
    "* Show a reduction of etch rate in heavily doped p-type regions\n",
    "Boron"
   ]
  },
  {
   "cell_type": "markdown",
   "metadata": {
    "hidden": true
   },
   "source": [
    "### Web-bulk surface micromachining"
   ]
  },
  {
   "cell_type": "markdown",
   "metadata": {
    "hidden": true
   },
   "source": [
    "Features are sculptured in bulk materials like Si\n",
    "IC typically have aspect ratios of 1-2 while in BioMEMS, the ratio may be up to 400."
   ]
  },
  {
   "cell_type": "markdown",
   "metadata": {
    "hidden": true
   },
   "source": [
    "### Si Orientation"
   ]
  },
  {
   "cell_type": "markdown",
   "metadata": {
    "hidden": true
   },
   "source": [
    " The plane 111 has the highest atom packing density and is relatively non-etching compared to the others."
   ]
  },
  {
   "cell_type": "markdown",
   "metadata": {
    "heading_collapsed": true,
    "hidden": true
   },
   "source": [
    "## Etching Agents"
   ]
  },
  {
   "cell_type": "markdown",
   "metadata": {
    "hidden": true
   },
   "source": [
    "Anisotropically etchants are alkaline\n",
    "Isotropic etchants are acidic"
   ]
  },
  {
   "cell_type": "markdown",
   "metadata": {
    "heading_collapsed": true,
    "hidden": true
   },
   "source": [
    "## Structural Elements"
   ]
  },
  {
   "cell_type": "markdown",
   "metadata": {
    "hidden": true
   },
   "source": [
    "Common elements include polysilicon, polymice, silicon Nitride and W.\n",
    "\n",
    "Polymide can be sued with Al as a sacrificial layer\n",
    "\n",
    "Silicon Nitride is a good structural material and electrical layer\n",
    "\n",
    "Tungsten can be applied by the CVD over silicon dioxide and again HF is a suitable etchant to remove the silicon dioxide layer"
   ]
  },
  {
   "cell_type": "markdown",
   "metadata": {
    "heading_collapsed": true,
    "hidden": true
   },
   "source": [
    "## Critical Point Drying"
   ]
  },
  {
   "cell_type": "markdown",
   "metadata": {
    "hidden": true
   },
   "source": [
    "Stiction  - a collapse of a structure or bridge (unclear)\n",
    "\n",
    "To prevent stiction, Critical Point drying is used"
   ]
  },
  {
   "cell_type": "markdown",
   "metadata": {
    "heading_collapsed": true,
    "hidden": true
   },
   "source": [
    "## Deep reactive Ion Etching (DRIE)"
   ]
  },
  {
   "cell_type": "markdown",
   "metadata": {
    "hidden": true
   },
   "source": [
    "Sulfur hexaflouride is aflowed during the etching cycle and octaflurocyclobutane during the sidewall protection cycle. this coats all the surfaces to protect them.\n",
    "\n",
    "SF6 tends to be more diretional. By alternateing etching and protecting, using both chemicals, we can etch very deep."
   ]
  },
  {
   "cell_type": "markdown",
   "metadata": {
    "hidden": true
   },
   "source": [
    "<img  src=\"DeepReactingIonEtching.png\"/>"
   ]
  },
  {
   "cell_type": "markdown",
   "metadata": {
    "heading_collapsed": true,
    "hidden": true
   },
   "source": [
    "## Atomic Force Microscopy"
   ]
  },
  {
   "cell_type": "markdown",
   "metadata": {
    "hidden": true
   },
   "source": [
    "Important, but I totally missed it."
   ]
  },
  {
   "cell_type": "markdown",
   "metadata": {
    "hidden": true
   },
   "source": [
    "## Substrate Bonding"
   ]
  },
  {
   "cell_type": "markdown",
   "metadata": {
    "hidden": true
   },
   "source": [
    "Bringing 2 wafers together.\n",
    "\n",
    "Silicon Direct Bonding\n",
    "Anodic Bonding\n",
    "Intermediate Adhesive Layers"
   ]
  },
  {
   "cell_type": "markdown",
   "metadata": {},
   "source": [
    "# Soft Fabrication and Polymers"
   ]
  },
  {
   "cell_type": "markdown",
   "metadata": {},
   "source": [
    "Announcements:\n",
    "* Essay style questions in test\n",
    "* Try to remember important chemical reactions"
   ]
  },
  {
   "cell_type": "markdown",
   "metadata": {},
   "source": [
    "## Biomaterials"
   ]
  },
  {
   "cell_type": "markdown",
   "metadata": {},
   "source": [
    "Natural, synthetic and biological materials.\n",
    "\n",
    "Classes of biomaterials:\n",
    "* Implanted or have other direct contact with living tissue\n",
    "* Transport or containment function (in vitro)\n",
    "* Process function (functionalized materials)"
   ]
  },
  {
   "cell_type": "markdown",
   "metadata": {},
   "source": [
    "## Advantages of Polymers"
   ]
  },
  {
   "cell_type": "markdown",
   "metadata": {},
   "source": [
    "* Improved and easier machinability\n",
    "* Optical transparency for ertain detection strategies\n",
    "* Biocompatibility"
   ]
  },
  {
   "cell_type": "markdown",
   "metadata": {},
   "source": [
    "## Micro-Contact Printing $\\mu$CP"
   ]
  },
  {
   "cell_type": "markdown",
   "metadata": {},
   "source": [
    "Once can make a SAM and use it to stamp on a pattern."
   ]
  },
  {
   "cell_type": "markdown",
   "metadata": {},
   "source": [
    "## PDMS (Silicone) Stamp"
   ]
  },
  {
   "cell_type": "markdown",
   "metadata": {},
   "source": [
    "The stamp can be used to pick up biological material, then stamp it onto something else.\n",
    "\n",
    "Example: Our goal is to float the magnetic beads away from the rest of the nonmagnetic beads. This is accomplished by flowing through ferromatnetic material which is embedded into the silicon. To do this, we need to create two things.\n",
    "\n",
    "First thing is to pattern some insulation. Then, the passageway needs to be patterned. PDMS is poured on top of this pattern; the impression is then placed on top of the ferromagnetic material. The two structures are bonded by exposing it to UV. We literally align it usying the eyeballs. Inspect the alignment to ensure things are okay."
   ]
  },
  {
   "cell_type": "markdown",
   "metadata": {},
   "source": [
    "## Micromolding"
   ]
  },
  {
   "cell_type": "markdown",
   "metadata": {},
   "source": [
    "### Injection Molding"
   ]
  },
  {
   "cell_type": "markdown",
   "metadata": {},
   "source": [
    "Pellets are placed into a hopper, heated, then injected into a mold. Most toys are made this way. \n",
    "\n",
    "Variotherm Process - the mold is heated as well as the plastic polymer. A vaccuum can even be added to get tiny grooves"
   ]
  },
  {
   "cell_type": "markdown",
   "metadata": {},
   "source": [
    "### Hot Embossing"
   ]
  },
  {
   "cell_type": "markdown",
   "metadata": {},
   "source": [
    "Injection compression molding"
   ]
  },
  {
   "cell_type": "markdown",
   "metadata": {},
   "source": [
    "### Thermoforming"
   ]
  },
  {
   "cell_type": "markdown",
   "metadata": {},
   "source": [
    "## Interesting notes\n",
    "\n",
    "Hydrogels - when stimulus is applied at a critical level, hydrogels swell or shrink. Possible to use this as a value to shut off things in microfluidic devices"
   ]
  },
  {
   "cell_type": "code",
   "execution_count": null,
   "metadata": {
    "collapsed": true
   },
   "outputs": [],
   "source": []
  },
  {
   "cell_type": "code",
   "execution_count": null,
   "metadata": {
    "collapsed": true
   },
   "outputs": [],
   "source": []
  },
  {
   "cell_type": "markdown",
   "metadata": {},
   "source": [
    " "
   ]
  }
 ],
 "metadata": {
  "anaconda-cloud": {},
  "kernelspec": {
   "display_name": "Python [conda root]",
   "language": "python",
   "name": "conda-root-py"
  },
  "language_info": {
   "codemirror_mode": {
    "name": "ipython",
    "version": 3
   },
   "file_extension": ".py",
   "mimetype": "text/x-python",
   "name": "python",
   "nbconvert_exporter": "python",
   "pygments_lexer": "ipython3",
   "version": "3.5.2"
  },
  "latex_envs": {
   "LaTeX_envs_menu_present": true,
   "bibliofile": "biblio.bib",
   "cite_by": "apalike",
   "current_citInitial": 1,
   "eqLabelWithNumbers": true,
   "eqNumInitial": 1,
   "labels_anchors": false,
   "latex_user_defs": false,
   "report_style_numbering": false,
   "user_envs_cfg": false
  },
  "toc": {
   "colors": {
    "hover_highlight": "#DAA520",
    "running_highlight": "#FF0000",
    "selected_highlight": "#FFD700"
   },
   "moveMenuLeft": true,
   "nav_menu": {
    "height": "512px",
    "width": "252px"
   },
   "navigate_menu": true,
   "number_sections": true,
   "sideBar": true,
   "threshold": 4,
   "toc_cell": false,
   "toc_section_display": "block",
   "toc_window_display": false
  }
 },
 "nbformat": 4,
 "nbformat_minor": 1
}
