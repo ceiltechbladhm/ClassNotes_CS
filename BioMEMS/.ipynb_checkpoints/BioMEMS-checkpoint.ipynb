{
 "cells": [
  {
   "cell_type": "markdown",
   "metadata": {
    "heading_collapsed": true
   },
   "source": [
    "# Lecture 2 (Additive Process)"
   ]
  },
  {
   "cell_type": "markdown",
   "metadata": {
    "heading_collapsed": true,
    "hidden": true
   },
   "source": [
    "## Important thin films"
   ]
  },
  {
   "cell_type": "markdown",
   "metadata": {
    "hidden": true
   },
   "source": [
    "### Thermal Silicon Oxide"
   ]
  },
  {
   "cell_type": "markdown",
   "metadata": {
    "hidden": true
   },
   "source": [
    "Amorphous material\n",
    "insulating layer\n",
    "mask\n",
    "Sacrificial layer\n",
    "Impurities such as Na and K diffuse througi t\n",
    "Most dopands except Ga diffuse poorly through it\n",
    "Thickness usually less that 1$\\mu$m"
   ]
  },
  {
   "cell_type": "markdown",
   "metadata": {
    "hidden": true
   },
   "source": [
    "### Silicon Oxide"
   ]
  },
  {
   "cell_type": "markdown",
   "metadata": {
    "hidden": true
   },
   "source": [
    "### Polysilicon Films"
   ]
  },
  {
   "cell_type": "markdown",
   "metadata": {
    "hidden": true
   },
   "source": [
    "* Low Pressure Chemical Vapor Deposition\n",
    "* Initially amorphous but may crystalize during deposition\n",
    "* Transition from small grains at the film/substrate\n",
    "* Interface to coumnar crystallites on top\n",
    "* Dopants impurities and temperture influence crystal orientation\n"
   ]
  },
  {
   "cell_type": "markdown",
   "metadata": {
    "hidden": true
   },
   "source": [
    "### Silicon Nitride"
   ]
  },
  {
   "cell_type": "markdown",
   "metadata": {
    "hidden": true
   },
   "source": [
    "* Amorphous\n",
    "* Isulator between conducting\n",
    "* Cannot be but direction on silicon\n",
    "* Highly selective in etch rates\n",
    "* Important in mechanical membranes (such as microlenses)"
   ]
  },
  {
   "cell_type": "markdown",
   "metadata": {
    "hidden": true
   },
   "source": [
    "### Phosphosilicate Glass"
   ]
  },
  {
   "cell_type": "markdown",
   "metadata": {
    "hidden": true
   },
   "source": [
    "* Soften and flow at lower temperatures, enabling smoothing of topography\n",
    "* Serve as a dielevtric between metal layers\n",
    "* Getting and flow capabilities (decontaminate environment)\n",
    "* Passivation voat to profide mechanical protection\n",
    "* Creating by addition of phosphine to the gas stream"
   ]
  },
  {
   "cell_type": "markdown",
   "metadata": {
    "hidden": true
   },
   "source": [
    "### Metal Films"
   ]
  },
  {
   "cell_type": "markdown",
   "metadata": {
    "hidden": true
   },
   "source": [
    "* Al and W are commonly used\n",
    "* Specific absorption\n",
    "* W will nucleate on Si or metal surfacesbut not on dielectric such as oxides and nitride"
   ]
  },
  {
   "cell_type": "markdown",
   "metadata": {
    "heading_collapsed": true,
    "hidden": true
   },
   "source": [
    "## Thin Film Deposition Processes"
   ]
  },
  {
   "cell_type": "markdown",
   "metadata": {
    "hidden": true
   },
   "source": [
    "### Physical Vapor Deposition"
   ]
  },
  {
   "cell_type": "markdown",
   "metadata": {
    "hidden": true
   },
   "source": [
    "Material transported in vapor form from a source to a substrate through a vaccuum"
   ]
  },
  {
   "cell_type": "markdown",
   "metadata": {
    "hidden": true
   },
   "source": [
    "### Chemical Vapor Deposition"
   ]
  },
  {
   "cell_type": "markdown",
   "metadata": {
    "hidden": true
   },
   "source": [
    "Deposits of a solid on a heated surface from a chemical reaction in vapor phase"
   ]
  },
  {
   "cell_type": "markdown",
   "metadata": {
    "hidden": true
   },
   "source": [
    "### Epitaxial Deposition"
   ]
  },
  {
   "cell_type": "markdown",
   "metadata": {
    "hidden": true
   },
   "source": [
    "Single crystal layer can be deposited onto the surface of a substate wafer"
   ]
  },
  {
   "cell_type": "markdown",
   "metadata": {
    "heading_collapsed": true,
    "hidden": true
   },
   "source": [
    "## Thermal Evaporation"
   ]
  },
  {
   "cell_type": "markdown",
   "metadata": {
    "hidden": true
   },
   "source": [
    " "
   ]
  },
  {
   "cell_type": "markdown",
   "metadata": {
    "hidden": true
   },
   "source": [
    "<img  src=\"Selection_004.png\"/>"
   ]
  },
  {
   "cell_type": "markdown",
   "metadata": {
    "heading_collapsed": true,
    "hidden": true
   },
   "source": [
    "## E-Beam Evaporator and Crucible"
   ]
  },
  {
   "cell_type": "markdown",
   "metadata": {
    "hidden": true
   },
   "source": [
    "These high melting points may cause damage if it is somehting other that Si, like plastic. These evaporated films are highly disordered with large stress"
   ]
  },
  {
   "cell_type": "markdown",
   "metadata": {
    "hidden": true
   },
   "source": [
    "### Sputter Deposition"
   ]
  },
  {
   "cell_type": "markdown",
   "metadata": {
    "hidden": true
   },
   "source": [
    "Scrubbing unnecessary species out. Excited species come in, and the materials come away. These materials can then be transported to some sort of target. The sputter ing is accomplished when an ion strikes a material which then forms on the substrate.\n",
    "\n",
    "DC supttering - energetic ions come from plasma. The Gas is usually Ar. Kinetic energy of ion determines the yield."
   ]
  },
  {
   "cell_type": "markdown",
   "metadata": {
    "hidden": true
   },
   "source": [
    "#### Sputtering Equpment"
   ]
  },
  {
   "cell_type": "markdown",
   "metadata": {
    "hidden": true
   },
   "source": [
    "Multiple materials from which sputtering occurs. Materials loaded into vaccuum chamber lock. Because it is difficult to maintain a vaccuum, a lock is used; this lock allows a little thing to be inserted into a larger vaccuum."
   ]
  },
  {
   "cell_type": "markdown",
   "metadata": {
    "heading_collapsed": true,
    "hidden": true
   },
   "source": [
    "## Chemical Vapor Deposition"
   ]
  },
  {
   "cell_type": "markdown",
   "metadata": {
    "hidden": true
   },
   "source": [
    "Good filling of deep recesees, not restricted to line of sight, vaccuums which are hard are not required. "
   ]
  },
  {
   "cell_type": "markdown",
   "metadata": {
    "hidden": true
   },
   "source": [
    "### Deposition Methods"
   ]
  },
  {
   "cell_type": "markdown",
   "metadata": {
    "hidden": true
   },
   "source": [
    "* Atmospheric Pressure chemical vapor depositon\n",
    "* Low pressure CVD\n",
    "* Plasma Enchanced CVD"
   ]
  },
  {
   "cell_type": "markdown",
   "metadata": {
    "hidden": true
   },
   "source": [
    "The deposition surface process occurs as follow:\n",
    "* Gases enter through a force flow technique\n",
    "* Through the boundary layer\n",
    "* Chemical reqctions occurs at substrate\n",
    "  "
   ]
  },
  {
   "cell_type": "markdown",
   "metadata": {
    "hidden": true
   },
   "source": [
    "### Specific Thin Films"
   ]
  },
  {
   "cell_type": "markdown",
   "metadata": {
    "hidden": true
   },
   "source": [
    "SiO2 - can be deposited with CVD by reacting silane and oxygen in a LPCVD reactor.\n",
    "\n",
    "TEOS refers to decomposing tetra-ethyl-ortho-silicate as a method of depositing SiO2.\n",
    "\n",
    "An additional option is to use dichlorosilane"
   ]
  },
  {
   "cell_type": "markdown",
   "metadata": {
    "hidden": true
   },
   "source": [
    "### Thin Film Properties"
   ]
  },
  {
   "cell_type": "markdown",
   "metadata": {
    "hidden": true
   },
   "source": [
    " * Epitaxy (growth of a crystal on a thin film)\n",
    " * Gas-[hase precipitation\n",
    " * Thermal Expansion stress (spacking can occur during cooling)\n",
    " \n",
    " Conrol the process my manipulating temperature and pressure. Ceramics are amorphous"
   ]
  },
  {
   "cell_type": "markdown",
   "metadata": {
    "hidden": true
   },
   "source": [
    "### Atomic Layer Deposition (ALD)"
   ]
  },
  {
   "cell_type": "markdown",
   "metadata": {
    "hidden": true
   },
   "source": [
    "Grow the substate to precursors (various gases). They are never present in presence of reactor. These are set up by the technician.\n",
    "\n",
    "Features:\n",
    "\n",
    "* 100\\% film density guarantees ideal material proteries\n",
    "* Insensitive to dust\n",
    "* Thickness is digitally controlled\n",
    "* Perfect 3D conformability, 100\\% step coverage\n",
    "* Low of defect density\n",
    "* Gentle deposition for sensitive substrates, no plasma"
   ]
  },
  {
   "cell_type": "markdown",
   "metadata": {
    "heading_collapsed": true,
    "hidden": true
   },
   "source": [
    "## Ion Implantation"
   ]
  },
  {
   "cell_type": "markdown",
   "metadata": {
    "hidden": true
   },
   "source": [
    "1. Ion implantation, the dopant element is ionized, accelerated, then driven into the substrate.\n",
    "2. The Electrical conductivity of an intrinsic semiconductor cna be increased throug doping.\n",
    "3. Doping can be used to control etching by reducing the etch rates.\n",
    "4. Sources for n-type doping include antimony, arsenic, and phosphorous; and for p-type doping, boron."
   ]
  },
  {
   "cell_type": "markdown",
   "metadata": {
    "hidden": true
   },
   "source": [
    "### Controlled Etching"
   ]
  },
  {
   "cell_type": "markdown",
   "metadata": {
    "hidden": true
   },
   "source": [
    "Anisotropic etchants:\n",
    "* Etch Si preferentially along preferred crystallographic directions\n",
    "* Show a reduction of etch rate in heavily doped p-type regions\n",
    "Boron"
   ]
  },
  {
   "cell_type": "markdown",
   "metadata": {
    "hidden": true
   },
   "source": [
    "### Web-bulk surface micromachining"
   ]
  },
  {
   "cell_type": "markdown",
   "metadata": {
    "hidden": true
   },
   "source": [
    "Features are sculptured in bulk materials like Si\n",
    "IC typically have aspect ratios of 1-2 while in BioMEMS, the ratio may be up to 400."
   ]
  },
  {
   "cell_type": "markdown",
   "metadata": {
    "hidden": true
   },
   "source": [
    "### Si Orientation"
   ]
  },
  {
   "cell_type": "markdown",
   "metadata": {
    "hidden": true
   },
   "source": [
    " The plane 111 has the highest atom packing density and is relatively non-etching compared to the others."
   ]
  },
  {
   "cell_type": "markdown",
   "metadata": {
    "heading_collapsed": true,
    "hidden": true
   },
   "source": [
    "## Etching Agents"
   ]
  },
  {
   "cell_type": "markdown",
   "metadata": {
    "hidden": true
   },
   "source": [
    "Anisotropically etchants are alkaline\n",
    "Isotropic etchants are acidic"
   ]
  },
  {
   "cell_type": "markdown",
   "metadata": {
    "heading_collapsed": true,
    "hidden": true
   },
   "source": [
    "## Structural Elements"
   ]
  },
  {
   "cell_type": "markdown",
   "metadata": {
    "hidden": true
   },
   "source": [
    "Common elements include polysilicon, polymice, silicon Nitride and W.\n",
    "\n",
    "Polymide can be sued with Al as a sacrificial layer\n",
    "\n",
    "Silicon Nitride is a good structural material and electrical layer\n",
    "\n",
    "Tungsten can be applied by the CVD over silicon dioxide and again HF is a suitable etchant to remove the silicon dioxide layer"
   ]
  },
  {
   "cell_type": "markdown",
   "metadata": {
    "heading_collapsed": true,
    "hidden": true
   },
   "source": [
    "## Critical Point Drying"
   ]
  },
  {
   "cell_type": "markdown",
   "metadata": {
    "hidden": true
   },
   "source": [
    "Stiction  - a collapse of a structure or bridge (unclear)\n",
    "\n",
    "To prevent stiction, Critical Point drying is used"
   ]
  },
  {
   "cell_type": "markdown",
   "metadata": {
    "heading_collapsed": true,
    "hidden": true
   },
   "source": [
    "## Deep reactive Ion Etching (DRIE)"
   ]
  },
  {
   "cell_type": "markdown",
   "metadata": {
    "hidden": true
   },
   "source": [
    "Sulfur hexaflouride is aflowed during the etching cycle and octaflurocyclobutane during the sidewall protection cycle. this coats all the surfaces to protect them.\n",
    "\n",
    "SF6 tends to be more diretional. By alternateing etching and protecting, using both chemicals, we can etch very deep."
   ]
  },
  {
   "cell_type": "markdown",
   "metadata": {
    "hidden": true
   },
   "source": [
    "<img  src=\"DeepReactingIonEtching.png\"/>"
   ]
  },
  {
   "cell_type": "markdown",
   "metadata": {
    "heading_collapsed": true,
    "hidden": true
   },
   "source": [
    "## Atomic Force Microscopy"
   ]
  },
  {
   "cell_type": "markdown",
   "metadata": {
    "hidden": true
   },
   "source": [
    "Important, but I totally missed it."
   ]
  },
  {
   "cell_type": "markdown",
   "metadata": {
    "hidden": true
   },
   "source": [
    "## Substrate Bonding"
   ]
  },
  {
   "cell_type": "markdown",
   "metadata": {
    "hidden": true
   },
   "source": [
    "Bringing 2 wafers together.\n",
    "\n",
    "Silicon Direct Bonding\n",
    "Anodic Bonding\n",
    "Intermediate Adhesive Layers"
   ]
  },
  {
   "cell_type": "markdown",
   "metadata": {
    "heading_collapsed": true
   },
   "source": [
    "# Soft Fabrication and Polymers"
   ]
  },
  {
   "cell_type": "markdown",
   "metadata": {
    "hidden": true
   },
   "source": [
    "Announcements:\n",
    "* Essay style questions in test\n",
    "* Try to remember important chemical reactions"
   ]
  },
  {
   "cell_type": "markdown",
   "metadata": {
    "hidden": true
   },
   "source": [
    "## Biomaterials"
   ]
  },
  {
   "cell_type": "markdown",
   "metadata": {
    "hidden": true
   },
   "source": [
    "Natural, synthetic and biological materials.\n",
    "\n",
    "Classes of biomaterials:\n",
    "* Implanted or have other direct contact with living tissue\n",
    "* Transport or containment function (in vitro)\n",
    "* Process function (functionalized materials)"
   ]
  },
  {
   "cell_type": "markdown",
   "metadata": {
    "hidden": true
   },
   "source": [
    "## Advantages of Polymers"
   ]
  },
  {
   "cell_type": "markdown",
   "metadata": {
    "hidden": true
   },
   "source": [
    "* Improved and easier machinability\n",
    "* Optical transparency for ertain detection strategies\n",
    "* Biocompatibility"
   ]
  },
  {
   "cell_type": "markdown",
   "metadata": {
    "hidden": true
   },
   "source": [
    "## Micro-Contact Printing $\\mu$CP"
   ]
  },
  {
   "cell_type": "markdown",
   "metadata": {
    "hidden": true
   },
   "source": [
    "Once can make a SAM and use it to stamp on a pattern."
   ]
  },
  {
   "cell_type": "markdown",
   "metadata": {
    "hidden": true
   },
   "source": [
    "## PDMS (Silicone) Stamp"
   ]
  },
  {
   "cell_type": "markdown",
   "metadata": {
    "hidden": true
   },
   "source": [
    "The stamp can be used to pick up biological material, then stamp it onto something else.\n",
    "\n",
    "Example: Our goal is to float the magnetic beads away from the rest of the nonmagnetic beads. This is accomplished by flowing through ferromatnetic material which is embedded into the silicon. To do this, we need to create two things.\n",
    "\n",
    "First thing is to pattern some insulation. Then, the passageway needs to be patterned. PDMS is poured on top of this pattern; the impression is then placed on top of the ferromagnetic material. The two structures are bonded by exposing it to UV. We literally align it usying the eyeballs. Inspect the alignment to ensure things are okay."
   ]
  },
  {
   "cell_type": "markdown",
   "metadata": {
    "hidden": true
   },
   "source": [
    "## Micromolding"
   ]
  },
  {
   "cell_type": "markdown",
   "metadata": {
    "hidden": true
   },
   "source": [
    "### Injection Molding"
   ]
  },
  {
   "cell_type": "markdown",
   "metadata": {
    "hidden": true
   },
   "source": [
    "Pellets are placed into a hopper, heated, then injected into a mold. Most toys are made this way. \n",
    "\n",
    "Variotherm Process - the mold is heated as well as the plastic polymer. A vaccuum can even be added to get tiny grooves"
   ]
  },
  {
   "cell_type": "markdown",
   "metadata": {
    "hidden": true
   },
   "source": [
    "### Hot Embossing"
   ]
  },
  {
   "cell_type": "markdown",
   "metadata": {
    "hidden": true
   },
   "source": [
    "Injection compression molding"
   ]
  },
  {
   "cell_type": "markdown",
   "metadata": {
    "hidden": true
   },
   "source": [
    "### Thermoforming"
   ]
  },
  {
   "cell_type": "markdown",
   "metadata": {
    "hidden": true
   },
   "source": [
    "## Interesting notes\n",
    "\n",
    "Hydrogels - when stimulus is applied at a critical level, hydrogels swell or shrink. Possible to use this as a value to shut off things in microfluidic devices"
   ]
  },
  {
   "cell_type": "markdown",
   "metadata": {
    "collapsed": true,
    "heading_collapsed": true
   },
   "source": [
    "# Microfluidic Devices"
   ]
  },
  {
   "cell_type": "markdown",
   "metadata": {
    "hidden": true
   },
   "source": [
    "Transport considerations:\n",
    "\n",
    "* Required Sample size\n",
    "* Characteristics of luis\n",
    "* Reynolds number and Laminar flow\n",
    "* Surface Area to volume\n",
    "* Diffusion\n",
    "* Electrokinetic phenomenon\n",
    "\n",
    "Typical device components:\n",
    "* Microducts\n",
    "* Nozzles\n",
    "* pumps\n",
    "* Turbines\n",
    "* Microvalves\n",
    "* Sensors\n",
    "* Filters\n",
    "* needles\n",
    "* Mixers\n",
    "* Reactors\n",
    "* Dispensors\n",
    "\n",
    "Conventional fluidic devices typically go as small as ml range. Microfluidics can go to 1 picoliter. Beyond this is nanotechnology.\n",
    "\n",
    "Ypical Serum Analyte Concentrations\n",
    "\n",
    "Determining our sample volume:\n",
    "\n",
    "$$V_{required} = \\dfrac{1}{\\eta_sN_AA_i}$$\n",
    "$\\eta$ is the sensor effeciency\n",
    "\n",
    "For esample, Potassium cans a concnetration of 3.5-5.3 mmol/L in a serum. Assum an efifcinecy of 0.1. The smallest volume required is 0.47e-20 L.\n",
    "\n",
    "What is a fluid\n",
    "\n",
    "A fluid is a substance that deforms contniuously under the application of shear stress of any magnitude.\n",
    "\n",
    "Newtonian fluid: shear force is directly proportional to the rate of strain.\n",
    "\n",
    "Some definitions:\n",
    "\n",
    "Viscosity\n",
    "\n",
    "Kinematic viscosity:\n",
    "\n",
    "Relates\n",
    "\n",
    "Specific weight:\n",
    "The weight per unit volume: $\\gamma = \\rho g$.\n",
    "\n",
    "Specific gravity:\n",
    "Ratio of density of the fluid to the density of water.\n",
    "\n",
    "Flow considrations:\n",
    "\n",
    "* Assuming the continuum assumption. The fluid characteristics very contihnuously throughout the fluid. May not be true with certain molecular content.\n",
    "* Laminar vs transitional and turbulent flow (based on Reynolds number)\n",
    "* Fluid kinematics\n",
    "* Hagen-Poiseullie flow\n",
    "* Poiseuille's law\n",
    "* SA to V\n",
    "* Diffusion\n",
    "\n",
    "Factors influencing flow:\n",
    "* Kinematic properties\n",
    "* Transport properties\n",
    "* Thermodynamics\n",
    "* surface tension\n",
    "* Vapor pressure\n",
    "* Surface accomedation\n",
    "\n",
    "Reynolds Number:\n",
    "Reynolds numbers smaller than ~2100 typically indicate laminar flow. Greater than 4000 are turbulent. In-between is transitional.\n",
    "$Re - \\dfrac{\\rho VD}{\\mu}$\n",
    "$\\rho$ Fluid density\n",
    "V - mean fluid velocity\n",
    "D - pipe diameter\n",
    "$\\mu$ viscosity\n",
    "\n",
    "When a doctor uses a stethoscope, he is listenting for a brui? Because fluid flows faster in smaller things, if you have plaque, it will flow faster.\n",
    "\n",
    "An esample:\n",
    "$\\mu=10^{-3}$ density of 1e3 kg/m3 in a channel with fluid velocity of 10m/s, where Reynolds number is a 1000.\n",
    "\n",
    "With channels < 1mm in width and height, velocities not greater than cm/s range, the rynolds number for flow will be so low that all flow will be laminar.\n",
    "\n",
    "Laminary, velocity not a a random funciton for time.\n",
    "Usefule for sorting by particle size\n",
    "\n",
    "At low Reynolds numbers, hard to mix two streams.They only mix by diffusion. As SA to V increases, the surface tension increases, leading to nonlinear free-boundary problems.\n",
    "AS the suspended particle sizes approach the size ofthe channel, there is a breakdown of the traditional constitutive equations."
   ]
  },
  {
   "cell_type": "markdown",
   "metadata": {
    "hidden": true
   },
   "source": [
    "## Fluid Kinematics"
   ]
  },
  {
   "cell_type": "markdown",
   "metadata": {
    "hidden": true
   },
   "source": [
    "A field representaion of flow is the representation of fluid parameters as a function of spatial coordinates and time. \n",
    "For most problems, we can assume 1 or 2 of the velocity components is small.\n",
    "\n",
    "The particle location is in terms of its position vector. The velocity of the particle is the time rte of change of the position vector.\\\n",
    "\n",
    "The direciton of the fluid velocity relative to the x-axis.\n",
    "\n",
    "A streamline is a line which is everywhere tangent to the velocity field. In steady flows, the stramline is the same as the path line, the line traced out by a given particle as it flows from one point to another.\n",
    "\n",
    "The velocity field is know as a function of x and y, the equation may be integrated for an equation for all the streamlines. This is called the stream function. \n",
    "\n",
    "It is possible to estimate velocities as the velocities are inversely proportional to the streamline spacing. Around a right angle, bend, the inner has faster flow.\n",
    "\n",
    "Hagen-Poiseullie flow.\n",
    "Steady, incompressible laminar flow through a circular tube of constant cross section. The celocity distribution .\n",
    "\n",
    "Velocity Distribution.\n",
    "\n",
    "The velocity distribution tends to be parabolic. It is greatest at the center, and slowest at the wall.\n",
    "\n",
    "Poseuille's law describes the relationship between the volume rate of flow, Q, passing throug hthe tube and the pressure gradient. Doubling the tube radius froduces a 16x increase in flow.\n",
    "\n"
   ]
  },
  {
   "cell_type": "markdown",
   "metadata": {
    "hidden": true
   },
   "source": [
    "## Surface Area to Volume"
   ]
  },
  {
   "cell_type": "markdown",
   "metadata": {
    "hidden": true
   },
   "source": [
    "$SAV = 2/r$"
   ]
  },
  {
   "cell_type": "markdown",
   "metadata": {
    "hidden": true
   },
   "source": [
    "## Diffusion"
   ]
  },
  {
   "cell_type": "markdown",
   "metadata": {
    "hidden": true
   },
   "source": [
    "In laminar flow, mix mostly by diffusion.\n",
    "\n",
    "For example, take hemoglobin. How long does it take to diffuse 1 cm in water? (58 days!!!). Bad decision. What about 10 $\\mu$m? only 5 seconds."
   ]
  },
  {
   "cell_type": "markdown",
   "metadata": {
    "hidden": true
   },
   "source": [
    "## Design Considerations"
   ]
  },
  {
   "cell_type": "markdown",
   "metadata": {
    "hidden": true
   },
   "source": [
    "Optimal size domain is between 10 - 100 $\\mu$m.  At smaller dimensions, detection is too difficult and at greater dimenison, unaided mixing is too slow. Therefore, typical cross seciton diameter will be ~2e-3 mm$^2$. Flow range will be 1-20 nL/sec."
   ]
  },
  {
   "cell_type": "markdown",
   "metadata": {
    "hidden": true
   },
   "source": [
    "## Summary"
   ]
  },
  {
   "cell_type": "markdown",
   "metadata": {
    "hidden": true
   },
   "source": [
    "* Sensors is a big area in microfluidics devices\n",
    "* Typical device components\n",
    "* Transport process considerations. Dimensional Considerations\n",
    "* Volumes required to detect analytes\n",
    "* Fluid dynamics based on the continuum assumption\n",
    "* Surface area to volume\n",
    "* Diffusion"
   ]
  },
  {
   "cell_type": "markdown",
   "metadata": {
    "hidden": true
   },
   "source": [
    "## Part 2"
   ]
  },
  {
   "cell_type": "markdown",
   "metadata": {
    "hidden": true
   },
   "source": [
    "Electro-osmiosis - fluid movleemt relative to a stationary charged or conducting surface through application of an electric field.\n",
    "\n",
    "Electrophoresis - IN the presence of an electric field the particle can be induced to move relative to a stationary (e.g. gel) or moving liquid\n",
    "\n",
    "Dielectric - something which doesn't conduct\n",
    "\n",
    "Electrowetting - Take a drop, move it around, cut it in half, apparently very cool. :)"
   ]
  },
  {
   "cell_type": "markdown",
   "metadata": {
    "hidden": true
   },
   "source": [
    "Electric Double layer\n",
    "\n",
    "If there is a wall, it will have some charge. If there are fluids with electolytes, counter ions (ions w/ opposite charge) are attracted to the wall. They stickto the wall (called immobile ions). The realtive distribution decreases the ions in the free liquid."
   ]
  },
  {
   "cell_type": "markdown",
   "metadata": {
    "collapsed": true,
    "heading_collapsed": true
   },
   "source": [
    "# Drug Delivery Systems"
   ]
  },
  {
   "cell_type": "markdown",
   "metadata": {
    "hidden": true
   },
   "source": [
    "Two years ago, ther ewas an article that showed a drug delivery system. This had been around for 10 years.\n",
    "\n",
    "There are several classification of micropumps.\n",
    "\n",
    "Mechanical Desplacement micropump:\n",
    "* Some mechanical part moves (like a diaphram). Some moving part is needed. These include piezoelectric.\n",
    "* One way valves can create flow.\n",
    "\n",
    "Electrostatic pumps\n",
    "* Use electrostatic forces\n",
    "* Has very small stroke voluem.\n",
    "* Low power and fast response.\n",
    "* Good for peristaltic pumping\n",
    "\n",
    "Piezoelectric pump\n",
    "\n",
    "Thermopneumatic Micropump\n",
    "* Air is cooled and heated.\n",
    "* Driving power is pretty high. Slow response\n",
    "\n",
    "Shape memory alloy\n",
    "* Pseudoelasticity and shape memory\n",
    "\n",
    "Bimetallic Micropump\n",
    "* Generate large forces. Requires relatively low voltages. Slow switching times\n",
    "* Metals expand at different rates\n",
    "\n",
    "Ionic-Conductive Micropump\n",
    "* Actuated in aqueous environments.\n",
    "* Activated by stress gradients created from ionic movemetns due to an electric field\n",
    "* Electric field of a polymer\n",
    "\n",
    "Magneto-kinetic micropumps\n",
    "Electrokinetic micropumps\n",
    "Dynamic pumps\n",
    "\n",
    "Ejection from microwells\n",
    "* Voltage can be used to inject the phosphors\n",
    "\n",
    "Needles:\n",
    "* Drugs can be ejected using small needles\n",
    "* These can deliver by burstin the capsle or diffusion"
   ]
  },
  {
   "cell_type": "markdown",
   "metadata": {
    "heading_collapsed": true
   },
   "source": [
    "# Medical applications"
   ]
  },
  {
   "cell_type": "markdown",
   "metadata": {
    "hidden": true
   },
   "source": [
    "Immunology\n",
    "\n",
    "Variable region: determines which substance to bind to. Hypervariable (HV1-3) and Framework regions\n",
    "Constant regions: Determines mechanism to destrol agent\n",
    "\n",
    "Antibodies\n",
    "\n",
    "Elisa\n",
    "Enzyme-linked Immunosorbent Assay\n",
    "Available on chip\n",
    "\n",
    "Chemiluminescense (CL)\n",
    "* generation of light from chemical reaction\n",
    "* ???\n",
    "\n",
    "Nephelometry\n",
    "* antibodies bond to antigen of interest. Licht is scattered and measured\n",
    "\n",
    "Lipoprotein Analysis\n",
    "* \n",
    "\n",
    "Spectrophotometric Assays\n",
    "* Measure absorption at aspecific wavelengths\n",
    "* Fluid plus reagents\n",
    "\n",
    "Protein Electrophoresis\n",
    "* \n",
    "\n",
    "Hemopoiesis\n",
    "* Stem cells produce a number of other cells. If we take the proerythoblast cell path, we end up with erythrocytes (red blood cells). White blood cells follow Myeloblast, lymphoblast, and monoblasts. If we look for lukemia, we look for abnormal levels of granulocytes and agranulocytes. We can also look for blast cells in the blood.\n",
    "\n",
    "Complete blood count\n",
    "* If we can pass blood cells trhough an aperture of known size, the impedence changes between the circuits. We can get an idea of their volumes because of it.\n",
    "\n",
    "Basic Flow sytometry\n",
    "* Cells flow in a single stream. A laser is shot through the stream. We measure side scattered and forward scattered. \n",
    "\n",
    "Peripheral Blood Smear\n",
    "* Drop blood on a glas slide. Push forward and smear really fast. The edge is a feathered edge. Ater staining, the microscope can be used to examine it.\n",
    "\n",
    "Sedimentation Rate\n",
    "* Place blood in tube. Wait an hour and watch how quicly it settles. It his high for people with arthritus.\n",
    "\n",
    "Immunology: Antinuclear Antibodies\n",
    "* For some reason, sometime something goes wrong with antibodies and they start attacking the body. These are called antinuclear antibodies. We can add fluorescent labled antibodies. There will be some pattern of flourescent, suck as specled or homogeneous. Can use to diagnose.\n",
    "\n",
    "Immunofixation:\n",
    "* Urine sample onto overlying strips soaked in specific antisera strips. After washing fixing and staining, we can look for patterns.\n",
    "\n",
    "Direct and Indirect Immunofluorescence\n",
    "* Both of these techniques smear a serum placed on a slide.\n",
    "* With direct, fluorescent labled antibody against the antigen of interest.\n",
    "* Indirect uses smae process, except a fluorescent labeled antibody is added. Don't know why\n",
    "\n",
    "Microbiology: Bacterial\n",
    "* "
   ]
  },
  {
   "cell_type": "markdown",
   "metadata": {
    "heading_collapsed": true
   },
   "source": [
    "# Lecture 6"
   ]
  },
  {
   "cell_type": "markdown",
   "metadata": {
    "hidden": true
   },
   "source": [
    "It is very diffucult to service our microsystems.\n",
    "\n",
    "Operations should be simple and minimally invasice to allow rapid healing. They should funciton within the environment. Sterilization to prevent indroduction organisms. They also minimize an immune response. "
   ]
  },
  {
   "cell_type": "markdown",
   "metadata": {},
   "source": [
    "# Lecture 7"
   ]
  },
  {
   "cell_type": "markdown",
   "metadata": {
    "heading_collapsed": true
   },
   "source": [
    "## Group 1 - MIcrofluidic device for Insulin Dependent Diabetic patients"
   ]
  },
  {
   "cell_type": "markdown",
   "metadata": {
    "hidden": true
   },
   "source": [
    "Improving therapty for diabetic patient\n",
    "\n",
    "Beta cells generate insulin needed to regulate a person blood-glucose level\n",
    "\n",
    "two types: concerned with Type 1 (chronic autoimmune system). Over  million people with diabeties. Large market.\n",
    "\n",
    "Most common: syringes, insulin pumps. Can be programmed. Patients can also give extra dose. Some patients struggle to regulate. Also possible to do islet cell allotransplantation. The donors pancreas is transported. A collegen bond is brokendown. This sepearates the cells from the tissue. Then digestion; it is cut up into pieces. The shaker agitates it (separates it further). Then purification. (Focusing on this phase). Purify the solution, (need a not for this type of therapy (2 pancreases per patient)). The current method is using a centrifuge to separate the cells. Some downfalls; smaller cells are lost. Some wantto increase the purity of the cells. This method is always looking for more donors.\n",
    "\n",
    "The new idea is to create an improved therapy. The idea is to combine microfluidic device with flow cytometry. A strream of cells is put into the device. The twists separate the cells. Flow cytometry allows for selection of islet cells based on size and NADH produciton.\n",
    "\n",
    "The current device use a program imaging system based on parameters (cells ize and metabolism). The exact size is based Legrandgian smooth hydronamic approach. This effectively selects for the btube, decreases the sheer stress on the cells. Never exceeds 1 Pa on the cells (limit to 100 Pa). It also accoutns for particle lift-off. The integration zone is what is used to ID features based on detection of those features. If a feature is detectd, a signal is sent to the microvalve. The focusing of the particles. The particle velocity scales linearly wiht velocity. This is key for needing to focus. The more twists and turns allow for better separation. From there, it should go to flow cytometry.\n",
    "\n",
    "Flow cytometry is a high=trhoughput device used to analyze intact cells. This allows measurements to be taken ove a period of time. It can measure up to 12 parameters. It does this by shining a laser through single-file cells. It can then measure forward scatter and side scatter; it can analyze, but not sort.\n",
    "\n",
    "To sort these cells, we would use flourescence acivated cell sorting. It forms uniform sized droplet around thecell. Once it apsses through the laser, it is marked + or -. The droplet either gets charged or not based on this. A + event would correspond to the flourescent detection. The + charge and - charge are sorted by voltage later.\n",
    "\n",
    "We will combine these by separating the islet cells using this method. Want to use size and NADH production. This would improve therapy. To separate by size, we would program the detector for a threshold of forward scatter. To separate by NADH production (this is a mark for metabolism). This should correlate to active cell producing. It is intrinsically a flourescent molecule. This has been seen by separating stem cell aggregates. This would help with stem cell therapies.\n",
    "\n",
    "To fabricate, we would use PDMS fabrication. The first one to layer negative photoresist (Su-8). It would be layered over a base. The UV would cure the negative photoresist. Create half the pattern. ONce the pattern is crated, the would laver of PDMS. Repeat this again with a mirrored image. Use pressure and heat to finish.\n",
    "\n",
    "Biocompatibility. The main focus is that it works wel with cells. Possible to also use glass. Size, cm scale. It has to fit the cells but cannot interrupt the flow. Must accomodate curves that are 2-3 mm in width.\n",
    "\n",
    "The limitations:\n",
    "\n",
    "NOt much in the microfluidic device. Some trial and error would be needed. Flow cytometry would be needed. The surface charges would be distrubed. The separation would be solved with a complex object parametric object analyzer and sorter.  Analyzing the 3D construct: the viability would use a cell-type and matrix composition differ relative to position. Soluiton is to use multiphoton Laser scanning microscopy. "
   ]
  },
  {
   "cell_type": "markdown",
   "metadata": {
    "heading_collapsed": true
   },
   "source": [
    "## Group 2 - Biomimetic Cutanous Mechanoreceptor Field for Tactile Sensation in Articicial Skin"
   ]
  },
  {
   "cell_type": "markdown",
   "metadata": {
    "hidden": true
   },
   "source": [
    "2 million with limb loss. The goal has been to resore natural movement. Typically 2 types of devices: passive (like the polycentric knee) and active (such as BCI-controlled arm)\n",
    "\n",
    "Recent focus (since 2010) has been trying to obtain sensing to close the loop. With sensing, we can get fine control. 80\\% of people have some phantom limb pain. With a passively controlled phostetic, you would feel the sensation from the leg. In active, too! :)\n",
    "\n",
    "Focusing on a prosthetic limb with better sensation. The most advanced adtive sensing limb comes from Johns Hopkins. Position sensors, torque, touch, propioception.  A potentiometer. Strain gauges They do try to localize the contact sensors; but, in this device, the sensory cortex get stimulated. They had blinded tests to distinguish between which finger was being touched. 100 sensors total.  Not all are being ged into the brain. Some is only used in the prosthetic.\n",
    "\n",
    "The project would focus on making a more realistic sensing hand.The mechanosensors of 4 varieties. The artifical skin would go over the hand. Optimize sensor location would minimize amount of sensors needed. Lateral inhibition to better localize sensation. Look at main 2 features: spatial resolution and the receptice field size. Location and density of detectors. The field size would have to do with signal processing. The frequency stimulus would also change the response. Rapid vs slow-adaptiong.\n",
    "\n",
    "The first type of sensor would repicate the Meissner's Corpuscle. Senses light touch. The analog would be implemented with a certical cantilever with the upward bend. For testing, concerned with signal processing. They would use nearest neighbor algorithm. The fabrication is relaly simple. Slicon etching. Then put a chromium layer on top of that. The etch off the shape. Then a magnetic field would be used to bend the shape.\n",
    "\n",
    "The second sensor would be the Merkel's Disk. This senses pressure and is slowly adapting. The best way to create this would be with a piezoelectric diaphram pressure sensor. We would replicate with different thicknesses. \n",
    "\n",
    "Pacinian Corpuscle. This is tricky. NOt clearly understood. Essentially, an unmylinated nerve ending acts as a transducer to trigger the nerve. They would use a strain gage. The capsule is soft on the outside; gets harder toward center.\n",
    "\n",
    "Ruffini ending - sustained pressure. Slowly adapting.\n",
    "\n",
    "The analogue here comes from a recieve. Can inlay 3D or flat strain gauge network in skin material. Signal not sent unless as cluster or pattern occurs in the network. The insulating coat is hard.\n",
    "\n",
    "The LDS process. Take a mold. Pattern mold with laser. Plate the etchings with gold, then assemble. Nerve cuffs prior work. A neural interface procides long-term stable natural touch perception. They found that over the course over a year after implantation, they could mimic the simulation of feeling. You can get regular input. One big idea is the location of the sensors. The densities of the hands would copy and pase the densities.\n",
    "\n",
    "Let's say we have a pin to poke the skin. The surrounding neurons help to narrow down the response to get better location of stimulation.\n",
    "\n",
    "Limitations: \n",
    "\n",
    "* Precision\n",
    "* Damage to sensors\n",
    "* Cost\n",
    "* Lifespan?\n",
    "* Interfacing\n",
    "* Power\n",
    "\n",
    "Biocompatibilty\n",
    "Artificial skin over the prosthetic. The main aspect which would touch is the electrode cuff. There is a long list of testing which could need to happen. IN research, the cuff electron has been sued  use platinum metalized-silicon rubber."
   ]
  },
  {
   "cell_type": "markdown",
   "metadata": {},
   "source": [
    "## Group 3 - Touch Sensors for Prosthetic Hands"
   ]
  },
  {
   "cell_type": "markdown",
   "metadata": {},
   "source": [
    "Upper extremetic amputations are most frequenty caused by severe taumatic injuries. Prosthesis can be used like a real hand. The send of touch is controlled by the somatosensory system. Without touch, loss of temperature, etc. 50,000 new amputations every year. 60% of amputations are between 20 and 64 years. Current upper limb prosthetics. Cosmetic purposes doesn't have much range of mofement. body powereed prosthetic uses cables attached to a harness. It utalyzes myoelectric proshtetic. Electrical action potential from nerces. Touch isn't on the market. Lots of research. John Hopkins developed a hand. The skin can feel pressure and send signals to the brain.\n",
    "\n",
    "The goal is to create a device which can provide feeling. Mimic a normal human hand can provide senstaion, pressure, and temperture. the piezoelectric effect for pressure sensing would be used. The crystals will be used to turn mechanical to electric. The advantage is that it is small and leastic design. It is also a passive sensor. The disadvantage is that it is only suitable for the detection of dynamic force. Thermodiode Temperature sensor is operated in a constant current circuit. The advantage is that is has an absolute temperature measuremnet. Has onchip integration. Wide temperature range. Each must e individually calibrated.\n",
    "\n",
    "Approx 70,000 sensors in the human hand. A piezo system costs $4 sensors appeach. circuits could be used to amplify the signal. To incorperate into ahand, we would send information into the nerve.\n",
    "\n",
    "Testing would involve having raw data. Can interact with the surroundings. Signal analysis is needed. Touch different types of materials or temperatures. \n",
    "\n",
    "Fabrication:\n",
    "1. Thin film coating of Si\n",
    "2. Deposation of layer\n",
    "3. Placement of maks\n",
    "4. Whole waver and use UV radiation\n",
    "5. Removing oxide and photoresist\n",
    "\n",
    "Limitations:\n",
    "Brain is very complex; the device is not. The integraed signal procesing is very complicated. The amplifier wiring is different. "
   ]
  },
  {
   "cell_type": "code",
   "execution_count": null,
   "metadata": {
    "collapsed": true
   },
   "outputs": [],
   "source": []
  },
  {
   "cell_type": "markdown",
   "metadata": {},
   "source": []
  },
  {
   "cell_type": "markdown",
   "metadata": {},
   "source": [
    " "
   ]
  }
 ],
 "metadata": {
  "anaconda-cloud": {},
  "kernelspec": {
   "display_name": "Python [conda root]",
   "language": "python",
   "name": "conda-root-py"
  },
  "language_info": {
   "codemirror_mode": {
    "name": "ipython",
    "version": 3
   },
   "file_extension": ".py",
   "mimetype": "text/x-python",
   "name": "python",
   "nbconvert_exporter": "python",
   "pygments_lexer": "ipython3",
   "version": "3.5.2"
  },
  "latex_envs": {
   "LaTeX_envs_menu_present": true,
   "bibliofile": "biblio.bib",
   "cite_by": "apalike",
   "current_citInitial": 1,
   "eqLabelWithNumbers": true,
   "eqNumInitial": 1,
   "labels_anchors": false,
   "latex_user_defs": false,
   "report_style_numbering": false,
   "user_envs_cfg": false
  },
  "toc": {
   "colors": {
    "hover_highlight": "#DAA520",
    "running_highlight": "#FF0000",
    "selected_highlight": "#FFD700"
   },
   "moveMenuLeft": true,
   "nav_menu": {
    "height": "512px",
    "width": "252px"
   },
   "navigate_menu": true,
   "number_sections": true,
   "sideBar": true,
   "threshold": 4,
   "toc_cell": false,
   "toc_section_display": "block",
   "toc_window_display": false
  }
 },
 "nbformat": 4,
 "nbformat_minor": 1
}
