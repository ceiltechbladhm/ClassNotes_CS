{
 "cells": [
  {
   "cell_type": "markdown",
   "metadata": {
    "heading_collapsed": true
   },
   "source": [
    "# Lecture 3 and 4 (probably)"
   ]
  },
  {
   "cell_type": "markdown",
   "metadata": {
    "hidden": true
   },
   "source": [
    "## Announcements"
   ]
  },
  {
   "cell_type": "markdown",
   "metadata": {
    "hidden": true
   },
   "source": [
    "* Next Thursday, we will not be meeting here\n",
    "* We will meet on the 31st for lectures\n",
    "* Next 2 classes after, we will be meeting at the Imaging centers"
   ]
  },
  {
   "cell_type": "markdown",
   "metadata": {
    "hidden": true
   },
   "source": [
    "## Diffraction Resolution"
   ]
  },
  {
   "cell_type": "markdown",
   "metadata": {
    "hidden": true
   },
   "source": [
    "Rule in microscopy; cannot image light which does not come back into the lens.\n",
    "\n",
    "The light efficiency  \n",
    "\n",
    "Numerical aperture:\n",
    "\n",
    "$$ NA=n\\text{sin}\\alpha $$"
   ]
  },
  {
   "cell_type": "markdown",
   "metadata": {
    "hidden": true
   },
   "source": [
    "As the dimension of the hole changes, the diffraction pattern changes. Notice that the patterns\n",
    "\n",
    "Question: How bright is it going to be? Max intensity is at zero"
   ]
  },
  {
   "cell_type": "markdown",
   "metadata": {
    "hidden": true
   },
   "source": [
    "<img  src=\"IMG_0086.JPG\"/>"
   ]
  },
  {
   "cell_type": "markdown",
   "metadata": {
    "hidden": true
   },
   "source": [
    "There can also be an envelope. The trend can repeat. As more complex systems arise, more compex interference patterns occur too. This is due to higher orders of diffraction. This is easily visualized by thinking about wavelets."
   ]
  },
  {
   "cell_type": "markdown",
   "metadata": {
    "hidden": true
   },
   "source": [
    "<img  src=\"IMG_0087.JPG\"/>"
   ]
  },
  {
   "cell_type": "markdown",
   "metadata": {
    "hidden": true
   },
   "source": [
    "On lectures 3+4, equation 5.11 The intensity of the field is related through the Fresnel Kirchoff integral formula. The three assumptions which reduce this equation are:\n",
    "\n",
    "* The $r$ term is taken out of the exponent. The angular spread is the diffracted light is small enough for the obliquity factor [cos - cos'] to not vary appreciably over the aperture.\n",
    "\n",
    "$$ U_p = C \\iint e^{ikr}DA $$\n",
    "\n",
    "Where $C$ lumps all the things taken out of the integral\n",
    "\n",
    "Start off with the 1-D case.\n",
    "\n",
    "$$dA = Ldy$$\n",
    "$$ r = r_0 + y\\text{sin}\\theta $$\n",
    "\n",
    "Remember that $r$ is the distance from the aperture. Know that $r=r_0$ at $y=0$.\n",
    "$L$ is the length of the slit. We assume it is infinitely long.\n",
    "$b$ is the width of the slit. This has a finite length\n",
    "\n",
    "$$ U_p = Ce^{ikr_0} \\int_{-b/2}^{b/2} e^{iky\\text{sin}\\theta}Ldy $$\n",
    "$$ U_p = 2Ce^{ikr_0}L\\dfrac{sin(1/2kb\\text{sin}\\theta)}{k\\text{sin}\\theta} = C'\\dfrac{\\text{sin}\\beta}{\\beta} $$\n",
    "\n",
    "Here:\n",
    "$$ \\beta = 1/2 kb\\text{sin}\\theta $$\n",
    "$$ C' = e^{ikr_0}CbL $$\n",
    "\n",
    "We do this for convenience.\n",
    "\n",
    "$$ E = E_0\\text{sin}(kx-wt) $$\n",
    "$$ I = |E|^2 $$\n",
    "$$ I = |U|^2 = I_0(\\dfrac{\\text{sin}\\beta}{\\beta})^2 $$\n",
    "$$ I_o = |Cbl|^2 $$\n",
    "\n",
    "Next, we move to a circular aperture.\n",
    "\n",
    "Define:\n",
    "* $R$ = radius of aperture\n",
    "* $y$ = variable of int\n",
    "* $dA$ = $2\\sqrt{R^2=y^2}dy$\n",
    "$$U = Ce^{ikr_0}\\int^{R}_{R} e^{iky\\text{sin}\\theta}2\\sqrt{R^2-y^2}dy$$\n",
    " Let: $u = y/r$ and $\\rho = KR\\text{sin}\\theta$\n",
    " \n",
    " $$U = \\int^{1}_{1}e^{i\\rho u}\\sqrt{1-u^2}du$$\n",
    " $$ = \\dfrac{\\pi J_1(\\rho}{\\rho} $$\n",
    " \n",
    "\n",
    "$J$ is a Bessel function. Bessel functions are solutions to a differential equation of this form:\n",
    "$$ x^2\\dfrac{\\partial^2 y}{\\partial x^2} + x\\dfrac{\\partial y}{\\partial x} + (x^2 - \\alpha^2)y=0  $$\n",
    "\n",
    "Important!!! Defines Airy Disk. Airy disk\n",
    "\n",
    "$$ I = I_0[\\dfrac{2J_1(\\rho)}{\\rho}]^2$$\n",
    "$$ I_o = (C\\pi R^2)^2 $$\n",
    "\n",
    "Solving for the zeros of intensity, we get for the first:\n",
    "\n",
    "$$\\rho = 3.83$$\n",
    "$$sin\\theta = \\dfrac{3.832}{KR} = \\dfrac{1.22 \\lambda}{D}$$\n",
    "$$r = D/2$$\n",
    "$$ r = \\dfrac{0.61 \\lambda}{\\text{sin}\\theta} $$\n",
    "\n",
    "This is the diffraction limit.\n"
   ]
  },
  {
   "cell_type": "markdown",
   "metadata": {
    "hidden": true
   },
   "source": [
    "## PSF"
   ]
  },
  {
   "cell_type": "markdown",
   "metadata": {
    "hidden": true
   },
   "source": [
    "The PSF is proportional to the zeros of the Bessel function\n",
    "\n",
    "$$\\text{PSF} \\propto \\dfrac{J_1(\\rho)}{\\rho}$$\n",
    "\n",
    "The problem of resolution is that it is impossible to infinitely resolve things. Trying to resolve two different peaks is impossible if the gaussian spread begins to significantly overlap. The \"saddle point\" between the peaks must be between 20\\% to 30\\%.\n",
    "\n",
    "The Sparrow criterion means that, instead of $0.61$, or the Rayleigh criterion, we have:\n",
    "\n",
    "$$r = \\dfrac{0.51 \\lambda}{\\text{sin}\\theta}$$\n",
    "$$ NA = n\\text{sin}\\theta $$"
   ]
  },
  {
   "cell_type": "markdown",
   "metadata": {
    "hidden": true
   },
   "source": [
    "## Now we focus on the z-plane"
   ]
  },
  {
   "cell_type": "markdown",
   "metadata": {
    "hidden": true
   },
   "source": [
    "We think about imaging each point. Points on a plane may be resolved okay, but points off the focal plane will not be resolved. We also wish to know how far off the focal plane we can measure.\n",
    "\n",
    "In general, our z-resolution is not nearly as good as our x-y resolution."
   ]
  },
  {
   "cell_type": "markdown",
   "metadata": {
    "hidden": true
   },
   "source": [
    "## Quick Summary"
   ]
  },
  {
   "cell_type": "markdown",
   "metadata": {
    "hidden": true
   },
   "source": [
    "You have a diffraction in any system which limits your resolution. Your PSF will determine this."
   ]
  },
  {
   "cell_type": "markdown",
   "metadata": {
    "hidden": true
   },
   "source": [
    "## Waves"
   ]
  },
  {
   "cell_type": "markdown",
   "metadata": {
    "hidden": true
   },
   "source": [
    "The wave equation is defined as:\n",
    "\n",
    "$$\\dfrac{\\partial^2 U}{\\partial^2 x} = \\dfrac{1}{u^2}\\dfrac{\\partial^2 U}{\\partial t^2}$$\n",
    "\n",
    "A solution to the wave equation is given as follows. Namely, it is a wave function. Note that there are many solutions to the wave equation.\n",
    "\n",
    "$$ U(x,t) = U_ocos(kx-\\omega t) $$\n",
    "\n",
    "Some terms to note:\n",
    " \n",
    "* $\\omega/k$ = constant = phase velocity\n",
    "* $k=\\frac{2\\pi}{\\lambda}$, $\\omega = 2\\pi f$ - spectroscopic wave number\n",
    "* $\\lambda = uT = \\frac{2\\pi}{k} = 1/\\sigma$ - where$\\sigma$ is the angular wave number\n",
    "* $f=u/\\lambda = \\omega/2\\pi = 1/T$\n",
    "\n",
    "$$ \\nabla^2U = \\dfrac{\\partial^2 U}{\\partial x^2} + \\dfrac{\\partial^2 U}{\\partial Y^2} + \\dfrac{\\partial^2 U}{\\partial z^2} = \\dfrac{1}{u^2}\\dfrac{\\partial^2 U}{\\partial t^2} $$\n",
    "\n",
    "Here, $U(x,y,z,t) = U_o\\text{cos}(\\bar{k}\\cdot\\bar{r} - \\omega t)$.\n",
    "\n",
    "Here:\n",
    "* r - position vector. $\\bar{r} = \\hat{i}x + \\hat{j}y + \\hat{k}z$\n",
    "* k - propagation vector; wave vector; k vector. $\\bar{r} = \\hat{i}k_x + \\hat{j}k_y + \\hat{k}k_z$\n",
    "\n",
    "$$ U = U_0 cos[(n\\cdot r - \\omega t)k] $$\n",
    "$$ =U_0 e^{i(k\\cdot r - \\omega t} $$\n",
    "\n",
    "Here:\n",
    "* n - unit vector\n",
    "\n"
   ]
  },
  {
   "cell_type": "markdown",
   "metadata": {
    "hidden": true
   },
   "source": [
    "<img  src=\"IMG_0088.JPG\"/>"
   ]
  },
  {
   "cell_type": "markdown",
   "metadata": {
    "hidden": true
   },
   "source": [
    "## Wave mixing"
   ]
  },
  {
   "cell_type": "markdown",
   "metadata": {
    "hidden": true
   },
   "source": [
    "We show how waves mix.\n",
    "\n",
    "$$ y(x,t) = y_1(x,t) + y_2(x,t) $$\n",
    "$$ y_1 = y_m\\text{sin}(kx-\\omega t + \\theta) $$\n",
    "$$ y_2 = y_m\\text{sin}(kx-\\omega t) $$\n",
    "\n",
    "Identity to use:\n",
    "\n",
    "$$ \\text{sin}a_1 + \\text{sin}a_2 = 2\\text{sin}[1/2(a_1+a_2)]\\text{cos}[1/2(a_1-a_2)] $$\n",
    "\n",
    "Let $a_1 = kx-\\omega t + \\theta$ and $a_2 = kx-\\omega t$\n",
    "\n",
    "$$ y_1 + y_2 = y_m\\text{sin}a_1 + y_m \\text{sin}a_2 $$\n",
    "$$ y(x,t) = [zy_m\\text{cos}\\theta/2]sin(kx - \\omega t + \\theta/2) $$\n",
    "\n",
    "Here, if $\\theta - 0$ , the amplitude is $2y_m$. This means the interference is constructive. Conversely, $\\theta = \\pi$ is destructive as the amplitude is 0.\n",
    "\n",
    "Additionally, let's say that we have waves of two slightly different frequencies. what is $\\omega + \\Delta \\omega$ and $\\omega - \\Delta \\omega$ so $k+\\Delta k$ and $k-\\Delta k$.\n",
    "\n",
    "$$ U=U_0 e^{i[(k+\\Delta k)x - (\\omega + \\Delta \\omega)t]} + U_0 e^{i[(k-\\Delta k)x - (\\omega - \\Delta \\omega)t]} $$\n",
    "$$ U = 2U_0e^{i(kx-\\omega t)}cos(x\\Delta k + t\\Delta \\omega) $$\n",
    "\n",
    "The first portion travels $\\propto \\omega/k$, or the phase velocity. The cos term travels $\\propto \\Delta \\omega/\\Delta k$, or the group velocity."
   ]
  },
  {
   "cell_type": "markdown",
   "metadata": {
    "heading_collapsed": true
   },
   "source": [
    "# Lecture 4.5"
   ]
  },
  {
   "cell_type": "markdown",
   "metadata": {
    "hidden": true
   },
   "source": [
    "## Vectoral Nature of Light"
   ]
  },
  {
   "cell_type": "markdown",
   "metadata": {
    "hidden": true
   },
   "source": [
    "Light is an electromagnetic wave. Light can be polarized after it goes through a polarizer. Light can also be scattered by matter. Polarization can be done in a lot of different ways. There are many ways to initaite different types of polarization.\n",
    "\n",
    "Scattering can be  done several ways too. Rayleigh scattering is in all directions. Mie scattering is mainly the forward direction.\n",
    "\n",
    "(Introduction was very rushed)"
   ]
  },
  {
   "cell_type": "markdown",
   "metadata": {
    "hidden": true
   },
   "source": [
    "EM wave: Described by Maxwell's equation:\n",
    "\n",
    "* $ B = \\mu_oH $\n",
    "* $ \\rho$ - electric charge density\n",
    "* $\\mu_o$ = permeability (materials ability to maintain a magnetic field)\n",
    "* $\\epsilon_o$  = permitivity (materials ability to maintain an electric field)\n",
    "* $J$ = current density\n",
    "* $\\sigma$ - conductivity\n",
    "* D = electric flux density\n",
    "\n",
    "* Faraday's law: $\\nabla \\times E = \\dfrac{\\partial B}{\\partial t} = -\\mu_o\\dfrac{\\partial H}{\\partial t}$\n",
    "* Gauss's Law (mag) $\\nabla \\cdot B = 0$\n",
    "* Gauss's Law (electricity) $\\nabla \\cdot E = \\dfrac{\\rho}{\\epsilon}$\n",
    "* Ampere's Law: $\\nabla \\times B = \\mu_o \\epsilon_o \\dfrac{\\partial E}{\\partial t} = \\nabla \\times \\H = \\epsilon_o\\dfrac{\\partial E}{\\partial t}$\n",
    "* $J = \\sigma E$\n",
    "* $D = \\epsilon E$\n",
    "\n",
    "On test!!!\n",
    "Derive wave equations from Faraday's law\n",
    "\n",
    "$$ \\nabla ^2 E - \\mu_o\\epsilon_o \\dfrac{\\partial E}{\\partial t} = 0$$\n",
    "\n",
    "Speed of light in a vacuum:\n",
    "$$ c = 1/\\sqrt{\\mu_o\\epsilon_o}$$\n",
    "\n",
    "In a medium, the speed of light is:\n",
    "$$ v = 1/\\sqrt{\\mu \\epsilon} $$\n",
    "\n",
    "Relative permitivity (Note, this is different than the wave vector!!! Most often, $k$ refers to the wave vector)\n",
    "$$ k = \\epsilon/\\epsilon_o $$\n",
    "\n",
    "\n",
    "\n",
    "Relative permeability:\n",
    "$$ k_m = \\mu/\\mu_o $$\n",
    "\n",
    "Energy: Poynting Theorem. The result of this is the time rate of flow of E-m energy per unit area\n",
    "$$ S = E \\times H $$\n",
    "\n",
    "Wave definitions:\n",
    "$$E = E_o\\text{cos}(k\\cdot r - \\omega t)$$\n",
    "$$H = H_o\\text{cos}(k\\cdot r - \\omega t)$$\n",
    "\n",
    "\n",
    "Applying this definition to the Poynting vector\n",
    "$$ S = E\\times H = \\text{cos}^2(k\\cdot r - \\omega t) $$\n",
    "$$ \\<S\\> = 1/2E_o \\times H_o $$\n",
    "$$ I K/K = In $$\n",
    "$$ I = 1/2 E_oH_o = n/(2\\Z_o)|E_o|^2 $$\n",
    "$$ Z_o = \\sqrt{\\mu_o/\\epsilon_o} $$\n",
    "$$ I \\propto |E_o|^2 $$\n",
    "\n",
    "Meet at MCB, for a guest lecture. "
   ]
  },
  {
   "cell_type": "markdown",
   "metadata": {
    "heading_collapsed": true
   },
   "source": [
    "# Lecture 8"
   ]
  },
  {
   "cell_type": "markdown",
   "metadata": {
    "hidden": true
   },
   "source": [
    "Flourescent microscopes.\n",
    "\n",
    "Fireflies give off light. They do this because they have molecules which react and release light. This is called luminescence (chemical reaction). Flourescence r\\emits light, but requires light as an input as well. Phosphorescence is similar to flourescence, except much longer.\n",
    "\n",
    "Contrast:\n",
    "$$ c = \\dfrac{I_{sur} - I_{obj}}{I_{sur} + {I_{obj}} $$\n",
    "\n",
    "Contrast is the fundamental goal of microscopy. The most popular technique is flourescence. This requires specific probes and microscope designs. Contrasting to optical resolution, contrast doesn't try to detect small object, but to make them stand our from the background.\n",
    "\n",
    "\n",
    "Optical Resolution Criteria:\n",
    "\n",
    "Rayleight criteria:\n",
    "$$ r_R = \\dfrac{0.61\\lambda}{NA} $$\n",
    "\n",
    "Sparrow ? Criteria:\n",
    "$$ r_s = dfrac{0.51\\lambda}{NA}$$\n",
    "\n",
    "$$ r = \\dfrac{\\lambda}{2NA} $$\n",
    "\n",
    "$$ r = \\dfrac{\\lambda}{NA_{ob} + N_{cor}} $$\n",
    "\n",
    "In the microscope, we have an Epi-flourescent lamphouse. In the old configurations, we would have a bulb. It's a very very bright bulb. The reason for this is that flourescence is very inefficeint. In older models, we bring light through the filters and mirrors into a detector. To do this, we need to have 1 of 2 things happen. Either have a broad spectrum of light and put it through a filter, or we need the specimen to flouresce at a different wavelenght. The Most popular lamps are mercury, xenon, and metal halide lamps. In more modern designs, we use LEDs, which put our high intensity light at low power cost with a very defined wavelength. WE can easily select the wavelength with different LEDs.\n",
    "\n",
    "Laser sources. Lasers use to be very expensive; now very cheap. Light which is coherent is in phase. Withing a narrow range, we are essentially monochromatic. It is very uniform and high power. All lasers have beam divergence, and will spread out eventually. 3 things cause this:\n",
    "\n",
    "* Not in a vacuum; lots of scattering\n",
    "* Diffraction from the aperture\n",
    "* Aberrations\n",
    "\n",
    "For continuous wave lasers, they follow a gaussian profile. They are brighter in the center, and drop off laterally. TEM00 mode is used for most imaging setups. For fundamental effects or size of beams, this may be an issue.\n",
    "\n",
    "Flourescence requires a molecule which is able to flouresce. The quantum yield is the ratio of absorbed photons to emitted photons. If a photon is absorbed, it is not necessairly re-emitted.\n",
    "\n",
    "$$Q_y = \\dfrac{\\text{Absorbed Photons}}{\\text{Emitted Photons}}$$\n",
    "\n",
    "Types of molecules made to emit light: Engineered/ Exogeneous/ Extrinsic\n",
    "Ex: Dyes, proteins, labeled, nanoparticles\n",
    "\n",
    "Certain types are Endogenous / Intrinsic\n",
    "Ex: Metabilic intermediates or Porphyins\n",
    "\n",
    "A lot of times, Endogeneous flourophores were considered to be noise; however, in recent years, they are now using them to understand biology.\n",
    "\n",
    "One of the most popular type of dyes are Alexa Dyes. They emit in a certain wavelength, very selectable. We can get some pretty bright cells without dyes; however, dyes can really help.\n",
    "\n",
    "In order for light to be emitted, it must first absorb light. Therefore, most dyes have a band for absorption and band for emission. If we shine a light at any point , we emit the full spectrum range (i.e. the shape of the emission curve does not depend on the exitation frequency of the incoming light)."
   ]
  },
  {
   "cell_type": "markdown",
   "metadata": {
    "hidden": true
   },
   "source": [
    "<img  src=\"IMG_0113.JPG\"/>"
   ]
  },
  {
   "cell_type": "markdown",
   "metadata": {
    "hidden": true
   },
   "source": [
    "## Light as a particle"
   ]
  },
  {
   "cell_type": "markdown",
   "metadata": {
    "hidden": true
   },
   "source": [
    "Energy of light is defined as (note, sometimes denoted as $\\Delta E$):\n",
    "\n",
    "$$ E = hv = hc/\\lambda $$\n",
    "\n",
    "Atoms have orbitals.When the electrons change states, or to a different cell, it requires energy. The light provides this energy.\n",
    "\n",
    "Intensity is viewed as an excitation from a population of molecules.\n",
    "\n",
    "$$ I = nE $$\n",
    "\n",
    "Reminder: photons not only have energy, they also have momentum. We'll revisit this later. If momentum is thought of as $p = mv = mc = h/\\lambda$, then the pressure, $P$ is defined as $P=\\dfrac{Nh\\nu}{c}$. How does a particle without mass have momentum? More on that later.\n",
    "\n",
    "We bring in the excitation energy, and a lot of things could happen. Possible that the light just goes on by. If the energy does actually interacts with it:\n",
    "\n",
    "* It could go back to its ground state\n",
    "* Give off heat\n",
    "* Energy can be sent to a nearby molecule\n",
    "* Intersystem crossing\n",
    "* Or! emit it as light\n",
    "\n",
    "Due to all these interactions, $E_{emission} < E_{absorption}$. Since this is true, $\\lambda_{emission} > \\lambda_{absorption}$. This is called Stokes Shift."
   ]
  },
  {
   "cell_type": "markdown",
   "metadata": {
    "hidden": true
   },
   "source": [
    "<img  src=\"IMG_0114.JPG\"/>"
   ]
  },
  {
   "cell_type": "markdown",
   "metadata": {
    "hidden": true
   },
   "source": [
    "Continuing with photon-matter interactions, we see that molecules start at some ground state S0,0, then goes to some excited state. There must be some relaxation state. We excite to S2,4. It drops the energy down to S1,0, then dump the energy, usually by emitting light. Now, it doesn't always drop down to S0,0. It could go to S0,4. This is why we have a variety of wavelengths. There are a lot of levels between orbitals."
   ]
  },
  {
   "cell_type": "markdown",
   "metadata": {
    "hidden": true
   },
   "source": [
    "<img  src=\"IMG_0115.JPG\"/>"
   ]
  },
  {
   "cell_type": "markdown",
   "metadata": {
    "hidden": true
   },
   "source": [
    "Let's say we have an emission spectrum and a excitation spectrum. On the other side of the sample is a detector. Since some of the light goes through the example, the detector can't be sensitive to the excitation frequency. To help with this, we use a dichromic mirror. The mirror will reflect a certain wavelength and allow another to pass through. There may be multiple detectors. Each of those will need different filters. These different filters are needed to examine portions of the signal. \n",
    "\n",
    "On exams: we define a light path and tell the instructor which wavelengths the filters and mirrors should be."
   ]
  },
  {
   "cell_type": "markdown",
   "metadata": {
    "hidden": true
   },
   "source": [
    "<img  src=\"IMG_0116.JPG\"/>"
   ]
  },
  {
   "cell_type": "markdown",
   "metadata": {
    "hidden": true
   },
   "source": [
    "With quantum yield, we assume the light has been absorbed and has a chance of emission. These electron transmission are quantum events. Absorption is governed by Beer's law. This is a means of expressing output intensity in terms of input intensity and an absorption. Let us assume that there is a cubette of absorbing molecules in an object $x$ cm thick. The more absorbers or the longer the path, the less light which gets through. \n",
    "\n",
    "Let us examine the change of intensity due to distance: $-\\dfrac{dI}{dt}$. It is decreasing, so usually written with a $-$. This change is a function of x. The $\\alpha$ is a fudge factor.\n",
    "\n",
    "$$ -\\dfrac{dI}{dx} = I \\alpha c $$\n",
    "$$ -\\int_{I_o}^{I_t} \\dfrac{dI}{I} = \\int_0^x\\alpha c dx $$\n",
    "$$ ln(\\dfrac{I_o}{I_t} = \\alpha cx $$\n",
    "$$ I_t = I_oe^{-\\alpha cx} $$\n",
    "\n",
    "Assumptions made so far:\n",
    "* Monochromatic\n",
    "* Perfect glass (no scatterers)\n",
    "* Homogeneous\n",
    "\n",
    "Definitions:\n",
    "* $A = \\text{log}_{10}(\\dfrac{I_o}PI_t} = \\dfrac{1}{ln10}\\alpha cx = \\epsilon cx)$ - abosrbance\n",
    "* Also defined as $A = -\\text{log}(T)$\n",
    "* $\\epsilon$ = molar extinction coefficient\n",
    "* transmitance is defined as $T = \\dfrac{I_o}{I_t}$"
   ]
  },
  {
   "cell_type": "markdown",
   "metadata": {
    "hidden": true
   },
   "source": [
    "<img  src=\"IMG_0117.JPG\"/>"
   ]
  },
  {
   "cell_type": "markdown",
   "metadata": {
    "hidden": true
   },
   "source": [
    "We can think about the infintescimally thin layer out of the path. We way that we have light going in and out. To evaluate what happens at the little slice of thickness $dx$ at a distance $x$ from the entrance. The cross-sectional area $S$ is filled with molecules, each having a molecular cross-section $\\sigma$. Assme the light incoming intensity is $I_x$ and after it has intensity $I_x-dx$. If we think about the cross section containing $dN$ molecules:\n",
    "\n",
    "$$ \\dfrac{dN}{dx} = cSN_a = NS $$\n",
    "\n",
    "The cross-sectional area is insuffient to think about capturing a photon. The better way to think about it is the fraction of area that can absorb, or $\\sigma/S$."
   ]
  },
  {
   "cell_type": "markdown",
   "metadata": {
    "hidden": true
   },
   "source": [
    "<img  src=\"IMG_0118.JPG\"/>"
   ]
  },
  {
   "cell_type": "markdown",
   "metadata": {},
   "source": [
    "# Lecture 9"
   ]
  },
  {
   "cell_type": "markdown",
   "metadata": {},
   "source": [
    "We started looking at a way to derive the extinction coefficient\n",
    "\n",
    "We have a thin volume within some volume, $dx$, with incoming light $I_x$ and outgoing $I_x - dI$\n",
    "\n",
    "We have some number of molecules we interact with per unit distance. A\n",
    "\n",
    "$$ \\dfrac{dN}{dx} = cSN_a = NS $$\n",
    "\n",
    "s I travel some distance, the whole area doesn't absorb light. Thus we define a cross-section of light. the fraction which can absorb isn't $S$; rather it is $\\sigma/S$.\n",
    "\n",
    "$\\dfrac{\\sigma}{S}$\n",
    "\n",
    "Therefore, the amount of light coming into the box is:\n",
    "\n",
    "$$-\\dfrac{dI}{I_x} = \\sigmaNdx$$\n",
    "$$-\\int^{I_t}_{I_o} \\dfrac{dI}{I} = \\int_0^x \\sigma Ndx$$\n",
    "$$ -(n(I_t) - ln(I_o) = N\\sigma(x-0) $$\n",
    "$$ln(\\dfrac{I_o}{I_t} = N\\sigma x $$\n",
    "$$\\text{log}_{10}(\\dfrac{I_o}{I_t}) = \\dfrac{1}{ln10}N\\sigma x$$\n",
    "\n",
    "$$ A = \\text{log}_{10}(\\dfrac{I_o}{I_t}) = \\epsilon cx $$\n",
    "\n",
    "Don't forget that here, $\\epsilon = \\dfrac{\\alpha}{2.303}$\n",
    "\n",
    "Substitution:\n",
    "\n",
    "$$ \\dfrac{1}{ln10}N_a c\\sigma x = \\epsilon cx $$\n",
    "$$ \\sigma = \\dfrac{ln10 \\epsilon}{N_a} \\implies 3.825 \\cdot 10^{-21}\\epsilon $$\n",
    "\n",
    "When we get into two-photon cross section, we might see $\\sigma_p$ or something, meaning the probability of catching 2 photons.\n",
    "\n",
    "As we will understand from exam 1, we have losses and scattering. We have a control arm. We will solve the problem. If we break the assumption, we need some math. All we do is integrate over all wavelengths.\n",
    "\n",
    "$$ f = \\dfrac{4\\text{ln}10\\epsilon_omc^2}{N_ac^2\\lambda_m}\\int\\epsilon(\\lambda)d\\lambda $$"
   ]
  },
  {
   "cell_type": "markdown",
   "metadata": {},
   "source": [
    "<img  src=\"IMG_0132.JPG\"/>"
   ]
  },
  {
   "cell_type": "markdown",
   "metadata": {},
   "source": [
    "## Quantum Description"
   ]
  },
  {
   "cell_type": "markdown",
   "metadata": {},
   "source": [
    "Energy must be supplied to move electrons between orbitals. We see that there are complex wave functions, even for simple hydrogen atoms. There's no in-between states.\n",
    "\n",
    "Lets consider things in terms of a wave function. The wave function is often referred to as a state function. We are thinking about the election being in \"ground\" or \"excited states\". If described well, we can describe all the configurable coordinates. In other words, different states in which it can exist. Has (x,y,z,t) coordinates. It has the property of a probability density function:\n",
    "\n",
    "$$ \\int |\\Psi|^2 = 1 $$\n",
    "\n",
    "This describes the probability that a function is in a particular state. If we wanted to say that a single electrion had some coordinates, and wanted to know the probability that it exists within certain coordinates:\n",
    "\n",
    "$$ x,y,z \\rightarrow x+\\Delta x, y+\\Delta y, z+\\Delta z $$\n",
    "$$ \\Psi(x,y,z,t)\\cdot \\Psi(x,y,z,t)\\Delta x, \\Delta y, \\Delta z $$\n",
    "\n",
    "Leaving out some math (don't want to get into it now)\n",
    "\n",
    "$$ \\iiint_{-\\inf}^{\\inf} \\Psi\\cdot\\Psi dxdydz = 1 $$\n",
    "\n",
    "We understand that there are certain \"allowable\" states which require defined energy for which to do that. We need the defined energy to move between states. These changes in states are known as the characteristic state, or the eigenstate. "
   ]
  },
  {
   "cell_type": "markdown",
   "metadata": {},
   "source": [
    "<img  src=\"IMG_0133.JPG\"/>"
   ]
  },
  {
   "cell_type": "markdown",
   "metadata": {},
   "source": [
    "Each of these states is associated with some state. These energies are referred to as the energy state. Let's talk about the time dependence of the function. There are a time-dependent and -independent forms of the schrodenger equation.\n",
    "\n",
    "Assume we have some wave function:\n",
    "\n",
    "$$ \\Psi(x,y,z,t) = \\varphi_n(x,y,z) e^{ \\dfrac{-iE_nt}{\\bar{h}} } $$\n",
    "\n",
    "Here: $\\bar{h} = \\dfrac{h}{2\\pi}$ where $h$ is plank's constant. $\\varphi_n(x,y,z)$ handles the spatial poriton, wereas the $e$ term handles the time. Moving on:\n",
    "\n",
    "$$ \\Psi_m^* \\cdot \\Psi_m = \\varphi e^{\\dfrac{iE_nt}{\\bar{h}}} \\varphi e^{\\dfrac{-iE_nt}{\\bar{h}}} = \\varphi_m^* \\varphi_m $$\n",
    "\n",
    "Since this is sinusoidal, we can solve for the wave equation without time dependence.\n",
    "\n",
    "$$ \\nabla^2 \\varphi + (\\dfrac{2\\pi}{\\lambda}^2\\varphi = 0 $$\n",
    "\n",
    "$$ \\nabla^2\\varphi + (\\dfrac{2\\pi p}{h})^2\\varphi = 0 $$\n",
    "\n",
    "$$ E = \\dfrac{1}{2}mu^2 + V $$\n",
    "$p = mu$\n",
    "so\n",
    "$$ p^2 = 2m(E-V) $$\n",
    "\n",
    "The kinetic portion is $\\dfrac{1}{2}mv^2$. The potential is $V$. I think that $p$ is momentum and $u$ is velocity.   \n",
    "\n",
    "This results in the famous equation, Schrodinger's equation. Thisis a solution to the wave equation. \n",
    "\n",
    "$$ \\nabla \\varphi + \\dfrac{8\\pi^2 m}{h^2}(E-V)\\varphi = 0 $$\n",
    "\n",
    "As a note, somethimes we see a $H$ in the term. It's a measure of the total energy in the system. It characterizes the energy of any given wave function."
   ]
  },
  {
   "cell_type": "markdown",
   "metadata": {},
   "source": [
    "## Standing Wave"
   ]
  },
  {
   "cell_type": "markdown",
   "metadata": {},
   "source": [
    "Let's think about a standing wave.\n",
    "\n",
    "$$ \\Psi(x,t) = B\\text{sin}(kx-\\omega t) $$\n",
    "$$ \\Psi(x,t) = \\text{sin}(kx+\\omega t) $$\n",
    "\n",
    "Superpostion (using fancy trig stuff) (also $A=2B$):\n",
    "$$ \\Psi(x,t) = A\\text{sin}(kx)\\text{cos}(\\omega t) $$\n",
    "\n",
    "Oscillations are propotional to the cos term. Amplitude is described by the sin term.\n",
    "\n",
    "$$ \\text{sin}(kx) = 0 \\implies \\Psi(x,t) = 0 $$\n",
    "\n",
    "Thinking about harmonics and standing waves, we can see that there are several solutions. $L$ is the distance between walls of the well. We can rewrite this whole thing:\n",
    "\n",
    "$$ \\Psi(x,t) = \\varphi(x)\\text{cos}(\\omega t) $$\n",
    "\n",
    "Looking at the nodes of these standing waves (n=1,2,3...):\n",
    "\n",
    "$$ \\lambda = \\dfrac{2L}{n} $$\n",
    "\n",
    "Distance between nodes: $\\dfrac{n\\lambda}{2} = L$\n",
    "\n",
    "We need to have a sufficiently long well (aka $L$) for a standing wave to exist.\n",
    "\n",
    "Picking back up from:\n",
    "\n",
    "$$ \\Psi(x,t) = \\varphi(x)\\text{cos}(\\omega t) $$\n",
    "$$ \\Psi(x,t) = \\varphi(x)(a\\text{cos}(\\omega t) + b\\text{sin}(\\omega t)) $$\n",
    "\n",
    "In physical terms, the coefficients must be real; in quantum terms, they must be complex.\n",
    "\n",
    "$$ \\varphi(x,t) = \\varphi(x) e^{i\\omega t} $$\n",
    "$$ E = \\bar{h}\\omega $$\n",
    "\n",
    "Earlier we have shown that, in terms of the standing wave, we really care about the spatial portion.\n",
    "\n",
    "We want to dig into how these states can exist or not. If we switch between thinking of a rope vs a discrete quantum event, it can switch between having a certain number of nodes.\n",
    "\n",
    "$$ \\varphi(x) = A\\text{sin}(kx) + B\\text{cos}(kx) $$\n",
    "\n",
    "If we think about these wave functions,, the total energy of the system is related to the energy it took to go from ground state to the excited state. One way we'll see it written:\n",
    "\n",
    "$$ \\Delta E = E_{Lomo} - E_{Homo} = \\dfrac{h^2}{8mL^2}(n^2_{lomo} - n^2{Homo}) $$\n",
    "\n",
    "Here, lomo = and homo= \n",
    "\n",
    "The energy required for a particle to change states is:\n",
    "$$ E_n = \\dfrac{n^2h^2}{8mL^2} $$\n",
    "\n",
    "Now we look at a particle in a box. There is infinite potential energy in a box an zero within the box (really it's constant, but we define it as 0). The \"forbidden states\" are outside the box. There's no force within the box.\n",
    "\n",
    "$$ E_{\\bar{h}} = \\dfrac{1}{2}mu^2$$\n",
    "$$ p = mu = \\dfrac{h}{\\lambda} $$\n",
    "$$ E_{\\bar{h}} = \\dfrac{p^2}{2m} $$\n",
    "\n",
    "For $0<x<L$\n",
    "$$ V(x) = 0 $$\n",
    "\n",
    "For $x\\geq L, x\\leq 0$:\n",
    "$$ V(x) = \\inf $$\n",
    "\n",
    "$$ \\Psi(x,t) = \\varphi(x) e^{i\\omega t} $$\n",
    "\n",
    "For $0<x<L$\n",
    "$$ \\varphi(x) = A\\text{sin}(kx) = B\\text{cos}(kx) $$\n",
    "\n",
    "Note, stationary wave is $A\\text{sin}(kx)$\n",
    "\n",
    "$ \\varphi(x) = 0 $ when x is outside the box.\n",
    "$$ \\varphi(0) = \\varphi(L) = 0 $$\n",
    "$$ \\varphi(0) = B = 0 \\implies A\\text{sin}(kx) = 0$$\n",
    "\n",
    "Knowing sin is zero:\n",
    "\n",
    "$$ kL \\implies \\pi, 2\\pi, 3\\pi, ... \\implies k = \\dfrac{n\\pi}{L}$$\n",
    "\n",
    "Therefore, for $n=1,2,3,...$:\n",
    "\n",
    "$$ \\lambda = \\dfrac{2\\pi}{k} = \\dfrac{2L}{n} $$\n",
    "\n",
    "$$ \\text{Energy} = E_{\\bar{h}}$$ \n",
    "\n",
    "$$ E = \\dfrac{p^2|{2m} $$\n",
    "$$ p = \\dfrac{h}{\\lambda} = \\dfrac{nh}{2L} $$\n",
    "\n",
    "$$ E_n = \\dfrac{n^2h^2}{8mL^2} $$\n",
    "\n",
    "Moving along with the standing wave, we can define the probability that we can find a wave in a certain state in a given space:\n",
    "\n",
    "$$ \\varphi(x) = A\\text{sin}(\\dfrac{n\\pi x}{L} $$\n",
    "$$ P(x\\text{ and }x+dx) = |\\varphi(x)|^2dx $$\n",
    "\n",
    "$$ \\int^{inf}_{-\\inf}|\\varphi(x)|^2 = 1 \\implies A^2\\int^{L}_{0}\\text{sin}^2(\\dfrac{n\\pi x}{L} dx $$\n",
    "\n",
    "There are energies which allow you to make state changes. Once you are in those configurations, we can dissapate energy. There is a probability which we will be in a state which allows us to emit a photon. \n"
   ]
  },
  {
   "cell_type": "code",
   "execution_count": null,
   "metadata": {
    "collapsed": true
   },
   "outputs": [],
   "source": [
    "$"
   ]
  }
 ],
 "metadata": {
  "anaconda-cloud": {},
  "kernelspec": {
   "display_name": "Python [conda root]",
   "language": "python",
   "name": "conda-root-py"
  },
  "language_info": {
   "codemirror_mode": {
    "name": "ipython",
    "version": 3
   },
   "file_extension": ".py",
   "mimetype": "text/x-python",
   "name": "python",
   "nbconvert_exporter": "python",
   "pygments_lexer": "ipython3",
   "version": "3.5.2"
  },
  "latex_envs": {
   "LaTeX_envs_menu_present": true,
   "bibliofile": "biblio.bib",
   "cite_by": "apalike",
   "current_citInitial": 1,
   "eqLabelWithNumbers": true,
   "eqNumInitial": 1,
   "labels_anchors": false,
   "latex_user_defs": false,
   "report_style_numbering": false,
   "user_envs_cfg": false
  },
  "toc": {
   "colors": {
    "hover_highlight": "#DAA520",
    "running_highlight": "#FF0000",
    "selected_highlight": "#FFD700"
   },
   "moveMenuLeft": true,
   "nav_menu": {
    "height": "157px",
    "width": "252px"
   },
   "navigate_menu": true,
   "number_sections": true,
   "sideBar": true,
   "threshold": 4,
   "toc_cell": false,
   "toc_section_display": "block",
   "toc_window_display": false
  }
 },
 "nbformat": 4,
 "nbformat_minor": 1
}
