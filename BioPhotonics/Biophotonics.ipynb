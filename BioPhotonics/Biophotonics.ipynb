{
 "cells": [
  {
   "cell_type": "markdown",
   "metadata": {
    "heading_collapsed": true
   },
   "source": [
    "# Preamble"
   ]
  },
  {
   "cell_type": "code",
   "execution_count": 1,
   "metadata": {
    "collapsed": false,
    "hidden": true
   },
   "outputs": [
    {
     "data": {
      "application/javascript": [
       "\n",
       "    var add_command_shortcuts = {\n",
       "            'Alt-w' : {\n",
       "                help    : 'Add Text Test',\n",
       "                help_index : 'aa',\n",
       "                handler : function() {\n",
       "                        var cell = IPython.notebook.get_selected_cell();\n",
       "        \t\tcell.code_mirror.replaceSelection('Testing');\n",
       "                }\n",
       "            }\n",
       "        };\n",
       "\n",
       "    var add_edit_shortcuts = {\n",
       "            'Alt-a' : {\n",
       "                help    : 'Insert alpha',\n",
       "                help_index : 'aa',\n",
       "                handler : function() {\n",
       "                    var cell = IPython.notebook.get_selected_cell();\n",
       "                    cell.code_mirror.replaceSelection('\\\\alpha');\n",
       "                }\n",
       "            },\n",
       "        'Alt-b' : {\n",
       "                help    : 'Insert beta',\n",
       "                help_index : 'aa',\n",
       "                handler : function() {\n",
       "                    var cell = IPython.notebook.get_selected_cell();\n",
       "                    cell.code_mirror.replaceSelection('\\\\beta');\n",
       "                }\n",
       "            },\n",
       "        'Alt-g' : {\n",
       "                help    : 'Insert gamma',\n",
       "                help_index : 'aa',\n",
       "                handler : function() {\n",
       "                    var cell = IPython.notebook.get_selected_cell();\n",
       "                    cell.code_mirror.replaceSelection('\\\\gamma');\n",
       "                }\n",
       "            },\n",
       "        'Alt-shift-g' : {\n",
       "                help    : 'Insert Gamma',\n",
       "                help_index : 'aa',\n",
       "                handler : function() {\n",
       "                    var cell = IPython.notebook.get_selected_cell();\n",
       "                    cell.code_mirror.replaceSelection('\\\\Gamma');\n",
       "                }\n",
       "            },\n",
       "        'Alt-Ctrl-d' : { //Change\n",
       "                help    : 'Insert delta',\n",
       "                help_index : 'aa',\n",
       "                handler : function() {\n",
       "                    var cell = IPython.notebook.get_selected_cell();\n",
       "                    cell.code_mirror.replaceSelection('\\\\delta');\n",
       "                }\n",
       "            },\n",
       "        'Alt-Ctrl-e' : {\n",
       "                help    : 'Insert epsilon',\n",
       "                help_index : 'aa',\n",
       "                handler : function() {\n",
       "                    var cell = IPython.notebook.get_selected_cell();\n",
       "                    cell.code_mirror.replaceSelection('\\\\epsilon');\n",
       "                }\n",
       "            },\n",
       "        'Alt-z' : {\n",
       "                help    : 'Insert zeta',\n",
       "                help_index : 'aa',\n",
       "                handler : function() {\n",
       "                    var cell = IPython.notebook.get_selected_cell();\n",
       "                    cell.code_mirror.replaceSelection('\\\\zeta');\n",
       "                }\n",
       "            },\n",
       "        'Alt-t' : {\n",
       "                help    : 'Insert theta',\n",
       "                help_index : 'aa',\n",
       "                handler : function() {\n",
       "                    var cell = IPython.notebook.get_selected_cell();\n",
       "                    cell.code_mirror.replaceSelection('\\\\theta');\n",
       "                }\n",
       "            },\n",
       "        'Alt-k' : {\n",
       "                help    : 'Insert kappa',\n",
       "                help_index : 'aa',\n",
       "                handler : function() {\n",
       "                    var cell = IPython.notebook.get_selected_cell();\n",
       "                    cell.code_mirror.replaceSelection('\\\\kappa');\n",
       "                }\n",
       "            },\n",
       "        'Alt-l' : {\n",
       "                help    : 'Insert lambda',\n",
       "                help_index : 'aa',\n",
       "                handler : function() {\n",
       "                    var cell = IPython.notebook.get_selected_cell();\n",
       "                    cell.code_mirror.replaceSelection('\\\\lambda');\n",
       "                }\n",
       "            },\n",
       "        'Alt-p' : {\n",
       "                help    : 'Insert pi',\n",
       "                help_index : 'aa',\n",
       "                handler : function() {\n",
       "                    var cell = IPython.notebook.get_selected_cell();\n",
       "                    cell.code_mirror.replaceSelection('\\\\pi');\n",
       "                }\n",
       "            },\n",
       "        'Alt-r' : {\n",
       "                help    : 'Insert rho',\n",
       "                help_index : 'aa',\n",
       "                handler : function() {\n",
       "                    var cell = IPython.notebook.get_selected_cell();\n",
       "                    cell.code_mirror.replaceSelection('\\\\rho');\n",
       "                }\n",
       "            },\n",
       "        'Alt-s' : {\n",
       "                help    : 'Insert sigma',\n",
       "                help_index : 'aa',\n",
       "                handler : function() {\n",
       "                    var cell = IPython.notebook.get_selected_cell();\n",
       "                    cell.code_mirror.replaceSelection('\\\\sigma');\n",
       "                }\n",
       "            },\n",
       "        'Alt-w' : {\n",
       "                help    : 'Insert omega',\n",
       "                help_index : 'aa',\n",
       "                handler : function() {\n",
       "                    var cell = IPython.notebook.get_selected_cell();\n",
       "                    cell.code_mirror.replaceSelection('\\\\omega');\n",
       "                }\n",
       "            },\n",
       "        'Ctrl-Alt-1' : {\n",
       "                help    : 'Insert dfrac',\n",
       "                help_index : 'aa',\n",
       "                handler : function() {\n",
       "                    var cell = IPython.notebook.get_selected_cell();\n",
       "                    cell.code_mirror.replaceSelection('\\\\dfrac{}{}');\n",
       "                    var cpos = cell.code_mirror.getCursor();\n",
       "                    cell.code_mirror.setCursor({line: cpos.line, ch: cpos.ch-3});\n",
       "                }\n",
       "            },\n",
       "        'Ctrl-Alt-2' : {\n",
       "                help    : 'Insert integral',\n",
       "                help_index : 'aa',\n",
       "                handler : function() {\n",
       "                    var cell = IPython.notebook.get_selected_cell();\n",
       "                    cell.code_mirror.replaceSelection('\\\\int_{}^{}');\n",
       "                    var cpos = cell.code_mirror.getCursor();\n",
       "                    cell.code_mirror.setCursor({line: cpos.line, ch: cpos.ch-4});\n",
       "                }\n",
       "            },\n",
       "        'Ctrl-Alt-3' : {\n",
       "                help    : 'Insert cos',\n",
       "                help_index : 'aa',\n",
       "                handler : function() {\n",
       "                    var cell = IPython.notebook.get_selected_cell();\n",
       "                    cell.code_mirror.replaceSelection('\\\\text{cos}');\n",
       "                }\n",
       "            },\n",
       "        'Ctrl-Alt-4' : {\n",
       "                help    : 'Insert sin',\n",
       "                help_index : 'aa',\n",
       "                handler : function() {\n",
       "                    var cell = IPython.notebook.get_selected_cell();\n",
       "                    cell.code_mirror.replaceSelection('\\\\text{sin}');\n",
       "                }\n",
       "            },\n",
       "        'Alt-0' : {\n",
       "                help    : 'Insert partial',\n",
       "                help_index : 'aa',\n",
       "                handler : function() {\n",
       "                    var cell = IPython.notebook.get_selected_cell();\n",
       "                    cell.code_mirror.replaceSelection('\\\\partial');\n",
       "                }\n",
       "            },\n",
       "        'Ctrl-Alt-n' : {\n",
       "                help    : 'Insert nabla',\n",
       "                help_index : 'aa',\n",
       "                handler : function() {\n",
       "                    var cell = IPython.notebook.get_selected_cell();\n",
       "                    cell.code_mirror.replaceSelection('\\\\nabla');\n",
       "                }\n",
       "            },\n",
       "        'Alt-Shift-t' : {\n",
       "                help    : 'Insert text',\n",
       "                help_index : 'aa',\n",
       "                handler : function() {\n",
       "                    var cell = IPython.notebook.get_selected_cell();\n",
       "                    cell.code_mirror.replaceSelection('\\\\text{}');\n",
       "                    var cpos = cell.code_mirror.getCursor();\n",
       "                    cell.code_mirror.setCursor({line: cpos.line, ch: cpos.ch-1});\n",
       "                }\n",
       "            },\n",
       "/*        'Shift-6' : {\n",
       "                help    : 'Insert superscript',\n",
       "                help_index : 'aa',\n",
       "                handler : function() {\n",
       "                    var cell = IPython.notebook.get_selected_cell();\n",
       "                    cell.code_mirror.replaceSelection('^{}');\n",
       "                    var cpos = cell.code_mirror.getCursor();\n",
       "                    cell.code_mirror.setCursor({line: cpos.line, ch: cpos.ch-1});\n",
       "                }\n",
       "            },\n",
       "        'Shift-_' : {\n",
       "                help    : 'Insert subscript',\n",
       "                help_index : 'aa',\n",
       "                handler : function() {\n",
       "                    var cell = IPython.notebook.get_selected_cell();\n",
       "                    cell.code_mirror.replaceSelection('_{}');\n",
       "                    var cpos = cell.code_mirror.getCursor();\n",
       "                    cell.code_mirror.setCursor({line: cpos.line, ch: cpos.ch-1});\n",
       "                }\n",
       "            },\n",
       "*/\n",
       "        };\n",
       "\n",
       "   // var load_ipython_extension = function() {\n",
       "        IPython.keyboard_manager.edit_shortcuts.add_shortcuts(add_edit_shortcuts);\n",
       "        IPython.keyboard_manager.command_shortcuts.add_shortcuts(add_command_shortcuts);\n",
       "    //};"
      ],
      "text/plain": [
       "<IPython.core.display.Javascript object>"
      ]
     },
     "metadata": {},
     "output_type": "display_data"
    }
   ],
   "source": [
    "%%javascript\n",
    "\n",
    "    var add_command_shortcuts = {\n",
    "            'Alt-w' : {\n",
    "                help    : 'Add Text Test',\n",
    "                help_index : 'aa',\n",
    "                handler : function() {\n",
    "                        var cell = IPython.notebook.get_selected_cell();\n",
    "        \t\tcell.code_mirror.replaceSelection('Testing');\n",
    "                }\n",
    "            }\n",
    "        };\n",
    "\n",
    "    var add_edit_shortcuts = {\n",
    "            'Alt-a' : {\n",
    "                help    : 'Insert alpha',\n",
    "                help_index : 'aa',\n",
    "                handler : function() {\n",
    "                    var cell = IPython.notebook.get_selected_cell();\n",
    "                    cell.code_mirror.replaceSelection('\\\\alpha');\n",
    "                }\n",
    "            },\n",
    "        'Alt-b' : {\n",
    "                help    : 'Insert beta',\n",
    "                help_index : 'aa',\n",
    "                handler : function() {\n",
    "                    var cell = IPython.notebook.get_selected_cell();\n",
    "                    cell.code_mirror.replaceSelection('\\\\beta');\n",
    "                }\n",
    "            },\n",
    "        'Alt-g' : {\n",
    "                help    : 'Insert gamma',\n",
    "                help_index : 'aa',\n",
    "                handler : function() {\n",
    "                    var cell = IPython.notebook.get_selected_cell();\n",
    "                    cell.code_mirror.replaceSelection('\\\\gamma');\n",
    "                }\n",
    "            },\n",
    "        'Alt-shift-g' : {\n",
    "                help    : 'Insert Gamma',\n",
    "                help_index : 'aa',\n",
    "                handler : function() {\n",
    "                    var cell = IPython.notebook.get_selected_cell();\n",
    "                    cell.code_mirror.replaceSelection('\\\\Gamma');\n",
    "                }\n",
    "            },\n",
    "        'Alt-Ctrl-d' : { //Change\n",
    "                help    : 'Insert delta',\n",
    "                help_index : 'aa',\n",
    "                handler : function() {\n",
    "                    var cell = IPython.notebook.get_selected_cell();\n",
    "                    cell.code_mirror.replaceSelection('\\\\delta');\n",
    "                }\n",
    "            },\n",
    "        'Alt-Ctrl-e' : {\n",
    "                help    : 'Insert epsilon',\n",
    "                help_index : 'aa',\n",
    "                handler : function() {\n",
    "                    var cell = IPython.notebook.get_selected_cell();\n",
    "                    cell.code_mirror.replaceSelection('\\\\epsilon');\n",
    "                }\n",
    "            },\n",
    "        'Alt-z' : {\n",
    "                help    : 'Insert zeta',\n",
    "                help_index : 'aa',\n",
    "                handler : function() {\n",
    "                    var cell = IPython.notebook.get_selected_cell();\n",
    "                    cell.code_mirror.replaceSelection('\\\\zeta');\n",
    "                }\n",
    "            },\n",
    "        'Alt-t' : {\n",
    "                help    : 'Insert theta',\n",
    "                help_index : 'aa',\n",
    "                handler : function() {\n",
    "                    var cell = IPython.notebook.get_selected_cell();\n",
    "                    cell.code_mirror.replaceSelection('\\\\theta');\n",
    "                }\n",
    "            },\n",
    "        'Alt-k' : {\n",
    "                help    : 'Insert kappa',\n",
    "                help_index : 'aa',\n",
    "                handler : function() {\n",
    "                    var cell = IPython.notebook.get_selected_cell();\n",
    "                    cell.code_mirror.replaceSelection('\\\\kappa');\n",
    "                }\n",
    "            },\n",
    "        'Alt-l' : {\n",
    "                help    : 'Insert lambda',\n",
    "                help_index : 'aa',\n",
    "                handler : function() {\n",
    "                    var cell = IPython.notebook.get_selected_cell();\n",
    "                    cell.code_mirror.replaceSelection('\\\\lambda');\n",
    "                }\n",
    "            },\n",
    "        'Alt-p' : {\n",
    "                help    : 'Insert pi',\n",
    "                help_index : 'aa',\n",
    "                handler : function() {\n",
    "                    var cell = IPython.notebook.get_selected_cell();\n",
    "                    cell.code_mirror.replaceSelection('\\\\pi');\n",
    "                }\n",
    "            },\n",
    "        'Alt-r' : {\n",
    "                help    : 'Insert rho',\n",
    "                help_index : 'aa',\n",
    "                handler : function() {\n",
    "                    var cell = IPython.notebook.get_selected_cell();\n",
    "                    cell.code_mirror.replaceSelection('\\\\rho');\n",
    "                }\n",
    "            },\n",
    "        'Alt-s' : {\n",
    "                help    : 'Insert sigma',\n",
    "                help_index : 'aa',\n",
    "                handler : function() {\n",
    "                    var cell = IPython.notebook.get_selected_cell();\n",
    "                    cell.code_mirror.replaceSelection('\\\\sigma');\n",
    "                }\n",
    "            },\n",
    "        'Alt-w' : {\n",
    "                help    : 'Insert omega',\n",
    "                help_index : 'aa',\n",
    "                handler : function() {\n",
    "                    var cell = IPython.notebook.get_selected_cell();\n",
    "                    cell.code_mirror.replaceSelection('\\\\omega');\n",
    "                }\n",
    "            },\n",
    "        'Ctrl-Alt-1' : {\n",
    "                help    : 'Insert dfrac',\n",
    "                help_index : 'aa',\n",
    "                handler : function() {\n",
    "                    var cell = IPython.notebook.get_selected_cell();\n",
    "                    cell.code_mirror.replaceSelection('\\\\dfrac{}{}');\n",
    "                    var cpos = cell.code_mirror.getCursor();\n",
    "                    cell.code_mirror.setCursor({line: cpos.line, ch: cpos.ch-3});\n",
    "                }\n",
    "            },\n",
    "        'Ctrl-Alt-2' : {\n",
    "                help    : 'Insert integral',\n",
    "                help_index : 'aa',\n",
    "                handler : function() {\n",
    "                    var cell = IPython.notebook.get_selected_cell();\n",
    "                    cell.code_mirror.replaceSelection('\\\\int_{}^{}');\n",
    "                    var cpos = cell.code_mirror.getCursor();\n",
    "                    cell.code_mirror.setCursor({line: cpos.line, ch: cpos.ch-4});\n",
    "                }\n",
    "            },\n",
    "        'Ctrl-Alt-3' : {\n",
    "                help    : 'Insert cos',\n",
    "                help_index : 'aa',\n",
    "                handler : function() {\n",
    "                    var cell = IPython.notebook.get_selected_cell();\n",
    "                    cell.code_mirror.replaceSelection('\\\\text{cos}');\n",
    "                }\n",
    "            },\n",
    "        'Ctrl-Alt-4' : {\n",
    "                help    : 'Insert sin',\n",
    "                help_index : 'aa',\n",
    "                handler : function() {\n",
    "                    var cell = IPython.notebook.get_selected_cell();\n",
    "                    cell.code_mirror.replaceSelection('\\\\text{sin}');\n",
    "                }\n",
    "            },\n",
    "        'Alt-0' : {\n",
    "                help    : 'Insert partial',\n",
    "                help_index : 'aa',\n",
    "                handler : function() {\n",
    "                    var cell = IPython.notebook.get_selected_cell();\n",
    "                    cell.code_mirror.replaceSelection('\\\\partial');\n",
    "                }\n",
    "            },\n",
    "        'Ctrl-Alt-n' : {\n",
    "                help    : 'Insert nabla',\n",
    "                help_index : 'aa',\n",
    "                handler : function() {\n",
    "                    var cell = IPython.notebook.get_selected_cell();\n",
    "                    cell.code_mirror.replaceSelection('\\\\nabla');\n",
    "                }\n",
    "            },\n",
    "        'Alt-Shift-t' : {\n",
    "                help    : 'Insert text',\n",
    "                help_index : 'aa',\n",
    "                handler : function() {\n",
    "                    var cell = IPython.notebook.get_selected_cell();\n",
    "                    cell.code_mirror.replaceSelection('\\\\text{}');\n",
    "                    var cpos = cell.code_mirror.getCursor();\n",
    "                    cell.code_mirror.setCursor({line: cpos.line, ch: cpos.ch-1});\n",
    "                }\n",
    "            },\n",
    "/*        'Shift-6' : {\n",
    "                help    : 'Insert superscript',\n",
    "                help_index : 'aa',\n",
    "                handler : function() {\n",
    "                    var cell = IPython.notebook.get_selected_cell();\n",
    "                    cell.code_mirror.replaceSelection('^{}');\n",
    "                    var cpos = cell.code_mirror.getCursor();\n",
    "                    cell.code_mirror.setCursor({line: cpos.line, ch: cpos.ch-1});\n",
    "                }\n",
    "            },\n",
    "        'Shift-_' : {\n",
    "                help    : 'Insert subscript',\n",
    "                help_index : 'aa',\n",
    "                handler : function() {\n",
    "                    var cell = IPython.notebook.get_selected_cell();\n",
    "                    cell.code_mirror.replaceSelection('_{}');\n",
    "                    var cpos = cell.code_mirror.getCursor();\n",
    "                    cell.code_mirror.setCursor({line: cpos.line, ch: cpos.ch-1});\n",
    "                }\n",
    "            },\n",
    "*/\n",
    "        };\n",
    "\n",
    "   // var load_ipython_extension = function() {\n",
    "        IPython.keyboard_manager.edit_shortcuts.add_shortcuts(add_edit_shortcuts);\n",
    "        IPython.keyboard_manager.command_shortcuts.add_shortcuts(add_command_shortcuts);\n",
    "    //};"
   ]
  },
  {
   "cell_type": "markdown",
   "metadata": {
    "heading_collapsed": true
   },
   "source": [
    "# Lecture 3 and 4 (probably)"
   ]
  },
  {
   "cell_type": "markdown",
   "metadata": {
    "hidden": true
   },
   "source": [
    "## Announcements"
   ]
  },
  {
   "cell_type": "markdown",
   "metadata": {
    "hidden": true
   },
   "source": [
    "* Next Thursday, we will not be meeting here\n",
    "* We will meet on the 31st for lectures\n",
    "* Next 2 classes after, we will be meeting at the Imaging centers"
   ]
  },
  {
   "cell_type": "markdown",
   "metadata": {
    "hidden": true
   },
   "source": [
    "## Diffraction Resolution"
   ]
  },
  {
   "cell_type": "markdown",
   "metadata": {
    "hidden": true
   },
   "source": [
    "Rule in microscopy; cannot image light which does not come back into the lens.\n",
    "\n",
    "The light efficiency  \n",
    "\n",
    "Numerical aperture:\n",
    "\n",
    "$$ NA=n\\text{sin}\\alpha $$"
   ]
  },
  {
   "cell_type": "markdown",
   "metadata": {
    "hidden": true
   },
   "source": [
    "As the dimension of the hole changes, the diffraction pattern changes. Notice that the patterns\n",
    "\n",
    "Question: How bright is it going to be? Max intensity is at zero"
   ]
  },
  {
   "cell_type": "markdown",
   "metadata": {
    "hidden": true
   },
   "source": [
    "<img  src=\"IMG_0086.JPG\"/>"
   ]
  },
  {
   "cell_type": "markdown",
   "metadata": {
    "hidden": true
   },
   "source": [
    "There can also be an envelope. The trend can repeat. As more complex systems arise, more compex interference patterns occur too. This is due to higher orders of diffraction. This is easily visualized by thinking about wavelets."
   ]
  },
  {
   "cell_type": "markdown",
   "metadata": {
    "hidden": true
   },
   "source": [
    "<img  src=\"IMG_0087.JPG\"/>"
   ]
  },
  {
   "cell_type": "markdown",
   "metadata": {
    "hidden": true
   },
   "source": [
    "On lectures 3+4, equation 5.11 The intensity of the field is related through the Fresnel Kirchoff integral formula. The three assumptions which reduce this equation are:\n",
    "\n",
    "* The $r$ term is taken out of the exponent. The angular spread is the diffracted light is small enough for the obliquity factor [cos - cos'] to not vary appreciably over the aperture.\n",
    "\n",
    "$$ U_p = C \\iint e^{ikr}DA $$\n",
    "\n",
    "Where $C$ lumps all the things taken out of the integral\n",
    "\n",
    "Start off with the 1-D case.\n",
    "\n",
    "$$dA = Ldy$$\n",
    "$$ r = r_0 + y\\text{sin}\\theta $$\n",
    "\n",
    "Remember that $r$ is the distance from the aperture. Know that $r=r_0$ at $y=0$.\n",
    "$L$ is the length of the slit. We assume it is infinitely long.\n",
    "$b$ is the width of the slit. This has a finite length\n",
    "\n",
    "$$ U_p = Ce^{ikr_0} \\int_{-b/2}^{b/2} e^{iky\\text{sin}\\theta}Ldy $$\n",
    "$$ U_p = 2Ce^{ikr_0}L\\dfrac{sin(1/2kb\\text{sin}\\theta)}{k\\text{sin}\\theta} = C'\\dfrac{\\text{sin}\\beta}{\\beta} $$\n",
    "\n",
    "Here:\n",
    "$$ \\beta = 1/2 kb\\text{sin}\\theta $$\n",
    "$$ C' = e^{ikr_0}CbL $$\n",
    "\n",
    "We do this for convenience.\n",
    "\n",
    "$$ E = E_0\\text{sin}(kx-wt) $$\n",
    "$$ I = |E|^2 $$\n",
    "$$ I = |U|^2 = I_0(\\dfrac{\\text{sin}\\beta}{\\beta})^2 $$\n",
    "$$ I_o = |Cbl|^2 $$\n",
    "\n",
    "Next, we move to a circular aperture.\n",
    "\n",
    "Define:\n",
    "* $R$ = radius of aperture\n",
    "* $y$ = variable of int\n",
    "* $dA$ = $2\\sqrt{R^2=y^2}dy$\n",
    "$$U = Ce^{ikr_0}\\int^{R}_{R} e^{iky\\text{sin}\\theta}2\\sqrt{R^2-y^2}dy$$\n",
    " Let: $u = y/r$ and $\\rho = KR\\text{sin}\\theta$\n",
    " \n",
    " $$U = \\int^{1}_{1}e^{i\\rho u}\\sqrt{1-u^2}du$$\n",
    " $$ = \\dfrac{\\pi J_1(\\rho}{\\rho} $$\n",
    " \n",
    "\n",
    "$J$ is a Bessel function. Bessel functions are solutions to a differential equation of this form:\n",
    "$$ x^2\\dfrac{\\partial^2 y}{\\partial x^2} + x\\dfrac{\\partial y}{\\partial x} + (x^2 - \\alpha^2)y=0  $$\n",
    "\n",
    "Important!!! Defines Airy Disk. Airy disk\n",
    "\n",
    "$$ I = I_0[\\dfrac{2J_1(\\rho)}{\\rho}]^2$$\n",
    "$$ I_o = (C\\pi R^2)^2 $$\n",
    "\n",
    "Solving for the zeros of intensity, we get for the first:\n",
    "\n",
    "$$\\rho = 3.83$$\n",
    "$$sin\\theta = \\dfrac{3.832}{KR} = \\dfrac{1.22 \\lambda}{D}$$\n",
    "$$r = D/2$$\n",
    "$$ r = \\dfrac{0.61 \\lambda}{\\text{sin}\\theta} $$\n",
    "\n",
    "This is the diffraction limit.\n"
   ]
  },
  {
   "cell_type": "markdown",
   "metadata": {
    "hidden": true
   },
   "source": [
    "## PSF"
   ]
  },
  {
   "cell_type": "markdown",
   "metadata": {
    "hidden": true
   },
   "source": [
    "The PSF is proportional to the zeros of the Bessel function\n",
    "\n",
    "$$\\text{PSF} \\propto \\dfrac{J_1(\\rho)}{\\rho}$$\n",
    "\n",
    "The problem of resolution is that it is impossible to infinitely resolve things. Trying to resolve two different peaks is impossible if the gaussian spread begins to significantly overlap. The \"saddle point\" between the peaks must be between 20\\% to 30\\%.\n",
    "\n",
    "The Sparrow criterion means that, instead of $0.61$, or the Rayleigh criterion, we have:\n",
    "\n",
    "$$r = \\dfrac{0.51 \\lambda}{\\text{sin}\\theta}$$\n",
    "$$ NA = n\\text{sin}\\theta $$"
   ]
  },
  {
   "cell_type": "markdown",
   "metadata": {
    "hidden": true
   },
   "source": [
    "## Now we focus on the z-plane"
   ]
  },
  {
   "cell_type": "markdown",
   "metadata": {
    "hidden": true
   },
   "source": [
    "We think about imaging each point. Points on a plane may be resolved okay, but points off the focal plane will not be resolved. We also wish to know how far off the focal plane we can measure.\n",
    "\n",
    "In general, our z-resolution is not nearly as good as our x-y resolution."
   ]
  },
  {
   "cell_type": "markdown",
   "metadata": {
    "hidden": true
   },
   "source": [
    "## Quick Summary"
   ]
  },
  {
   "cell_type": "markdown",
   "metadata": {
    "hidden": true
   },
   "source": [
    "You have a diffraction in any system which limits your resolution. Your PSF will determine this."
   ]
  },
  {
   "cell_type": "markdown",
   "metadata": {
    "hidden": true
   },
   "source": [
    "## Waves"
   ]
  },
  {
   "cell_type": "markdown",
   "metadata": {
    "hidden": true
   },
   "source": [
    "The wave equation is defined as:\n",
    "\n",
    "$$\\dfrac{\\partial^2 U}{\\partial^2 x} = \\dfrac{1}{u^2}\\dfrac{\\partial^2 U}{\\partial t^2}$$\n",
    "\n",
    "A solution to the wave equation is given as follows. Namely, it is a wave function. Note that there are many solutions to the wave equation.\n",
    "\n",
    "$$ U(x,t) = U_ocos(kx-\\omega t) $$\n",
    "\n",
    "Some terms to note:\n",
    " \n",
    "* $\\omega/k$ = constant = phase velocity\n",
    "* $k=\\frac{2\\pi}{\\lambda}$, $\\omega = 2\\pi f$ - spectroscopic wave number\n",
    "* $\\lambda = uT = \\frac{2\\pi}{k} = 1/\\sigma$ - where$\\sigma$ is the angular wave number\n",
    "* $f=u/\\lambda = \\omega/2\\pi = 1/T$\n",
    "\n",
    "$$ \\nabla^2U = \\dfrac{\\partial^2 U}{\\partial x^2} + \\dfrac{\\partial^2 U}{\\partial Y^2} + \\dfrac{\\partial^2 U}{\\partial z^2} = \\dfrac{1}{u^2}\\dfrac{\\partial^2 U}{\\partial t^2} $$\n",
    "\n",
    "Here, $U(x,y,z,t) = U_o\\text{cos}(\\bar{k}\\cdot\\bar{r} - \\omega t)$.\n",
    "\n",
    "Here:\n",
    "* r - position vector. $\\bar{r} = \\hat{i}x + \\hat{j}y + \\hat{k}z$\n",
    "* k - propagation vector; wave vector; k vector. $\\bar{r} = \\hat{i}k_x + \\hat{j}k_y + \\hat{k}k_z$\n",
    "\n",
    "$$ U = U_0 cos[(n\\cdot r - \\omega t)k] $$\n",
    "$$ =U_0 e^{i(k\\cdot r - \\omega t} $$\n",
    "\n",
    "Here:\n",
    "* n - unit vector\n",
    "\n"
   ]
  },
  {
   "cell_type": "markdown",
   "metadata": {
    "hidden": true
   },
   "source": [
    "<img  src=\"IMG_0088.JPG\"/>"
   ]
  },
  {
   "cell_type": "markdown",
   "metadata": {
    "hidden": true
   },
   "source": [
    "## Wave mixing"
   ]
  },
  {
   "cell_type": "markdown",
   "metadata": {
    "hidden": true
   },
   "source": [
    "We show how waves mix.\n",
    "\n",
    "$$ y(x,t) = y_1(x,t) + y_2(x,t) $$\n",
    "$$ y_1 = y_m\\text{sin}(kx-\\omega t + \\theta) $$\n",
    "$$ y_2 = y_m\\text{sin}(kx-\\omega t) $$\n",
    "\n",
    "Identity to use:\n",
    "\n",
    "$$ \\text{sin}a_1 + \\text{sin}a_2 = 2\\text{sin}[1/2(a_1+a_2)]\\text{cos}[1/2(a_1-a_2)] $$\n",
    "\n",
    "Let $a_1 = kx-\\omega t + \\theta$ and $a_2 = kx-\\omega t$\n",
    "\n",
    "$$ y_1 + y_2 = y_m\\text{sin}a_1 + y_m \\text{sin}a_2 $$\n",
    "$$ y(x,t) = [zy_m\\text{cos}\\theta/2]sin(kx - \\omega t + \\theta/2) $$\n",
    "\n",
    "Here, if $\\theta - 0$ , the amplitude is $2y_m$. This means the interference is constructive. Conversely, $\\theta = \\pi$ is destructive as the amplitude is 0.\n",
    "\n",
    "Additionally, let's say that we have waves of two slightly different frequencies. what is $\\omega + \\Delta \\omega$ and $\\omega - \\Delta \\omega$ so $k+\\Delta k$ and $k-\\Delta k$.\n",
    "\n",
    "$$ U=U_0 e^{i[(k+\\Delta k)x - (\\omega + \\Delta \\omega)t]} + U_0 e^{i[(k-\\Delta k)x - (\\omega - \\Delta \\omega)t]} $$\n",
    "$$ U = 2U_0e^{i(kx-\\omega t)}cos(x\\Delta k + t\\Delta \\omega) $$\n",
    "\n",
    "The first portion travels $\\propto \\omega/k$, or the phase velocity. The cos term travels $\\propto \\Delta \\omega/\\Delta k$, or the group velocity."
   ]
  },
  {
   "cell_type": "markdown",
   "metadata": {
    "heading_collapsed": true
   },
   "source": [
    "# Lecture 4.5"
   ]
  },
  {
   "cell_type": "markdown",
   "metadata": {
    "hidden": true
   },
   "source": [
    "## Vectoral Nature of Light"
   ]
  },
  {
   "cell_type": "markdown",
   "metadata": {
    "hidden": true
   },
   "source": [
    "Light is an electromagnetic wave. Light can be polarized after it goes through a polarizer. Light can also be scattered by matter. Polarization can be done in a lot of different ways. There are many ways to initaite different types of polarization.\n",
    "\n",
    "Scattering can be  done several ways too. Rayleigh scattering is in all directions. Mie scattering is mainly the forward direction.\n",
    "\n",
    "(Introduction was very rushed)"
   ]
  },
  {
   "cell_type": "markdown",
   "metadata": {
    "hidden": true
   },
   "source": [
    "EM wave: Described by Maxwell's equation:\n",
    "\n",
    "* $ B = \\mu_oH $\n",
    "* $ \\rho$ - electric charge density\n",
    "* $\\mu_o$ = permeability (materials ability to maintain a magnetic field)\n",
    "* $\\epsilon_o$  = permitivity (materials ability to maintain an electric field)\n",
    "* $J$ = current density\n",
    "* $\\sigma$ - conductivity\n",
    "* D = electric flux density\n",
    "\n",
    "* Faraday's law: $\\nabla \\times E = \\dfrac{\\partial B}{\\partial t} = -\\mu_o\\dfrac{\\partial H}{\\partial t}$\n",
    "* Gauss's Law (mag) $\\nabla \\cdot B = 0$\n",
    "* Gauss's Law (electricity) $\\nabla \\cdot E = \\dfrac{\\rho}{\\epsilon}$\n",
    "* Ampere's Law: $\\nabla \\times B = \\mu_o \\epsilon_o \\dfrac{\\partial E}{\\partial t} = \\nabla \\times \\H = \\epsilon_o\\dfrac{\\partial E}{\\partial t}$\n",
    "* $J = \\sigma E$\n",
    "* $D = \\epsilon E$\n",
    "\n",
    "On test!!!\n",
    "Derive wave equations from Faraday's law\n",
    "\n",
    "$$ \\nabla ^2 E - \\mu_o\\epsilon_o \\dfrac{\\partial E}{\\partial t} = 0$$\n",
    "\n",
    "Speed of light in a vacuum:\n",
    "$$ c = 1/\\sqrt{\\mu_o\\epsilon_o}$$\n",
    "\n",
    "In a medium, the speed of light is:\n",
    "$$ v = 1/\\sqrt{\\mu \\epsilon} $$\n",
    "\n",
    "Relative permitivity (Note, this is different than the wave vector!!! Most often, $k$ refers to the wave vector)\n",
    "$$ k = \\epsilon/\\epsilon_o $$\n",
    "\n",
    "\n",
    "\n",
    "Relative permeability:\n",
    "$$ k_m = \\mu/\\mu_o $$\n",
    "\n",
    "Energy: Poynting Theorem. The result of this is the time rate of flow of E-m energy per unit area\n",
    "$$ S = E \\times H $$\n",
    "\n",
    "Wave definitions:\n",
    "$$E = E_o\\text{cos}(k\\cdot r - \\omega t)$$\n",
    "$$H = H_o\\text{cos}(k\\cdot r - \\omega t)$$\n",
    "\n",
    "\n",
    "Applying this definition to the Poynting vector\n",
    "$$ S = E\\times H = \\text{cos}^2(k\\cdot r - \\omega t) $$\n",
    "$$ \\<S\\> = 1/2E_o \\times H_o $$\n",
    "$$ I K/K = In $$\n",
    "$$ I = 1/2 E_oH_o = n/(2\\Z_o)|E_o|^2 $$\n",
    "$$ Z_o = \\sqrt{\\mu_o/\\epsilon_o} $$\n",
    "$$ I \\propto |E_o|^2 $$\n",
    "\n",
    "Meet at MCB, for a guest lecture. "
   ]
  },
  {
   "cell_type": "markdown",
   "metadata": {
    "heading_collapsed": true
   },
   "source": [
    "# Lecture 8"
   ]
  },
  {
   "cell_type": "markdown",
   "metadata": {
    "hidden": true
   },
   "source": [
    "Flourescent microscopes.\n",
    "\n",
    "Fireflies give off light. They do this because they have molecules which react and release light. This is called luminescence (chemical reaction). Flourescence r\\emits light, but requires light as an input as well. Phosphorescence is similar to flourescence, except much longer.\n",
    "\n",
    "Contrast:\n",
    "$$ c = \\dfrac{I_{sur} - I_{obj}}{I_{sur} + {I_{obj}} $$\n",
    "\n",
    "Contrast is the fundamental goal of microscopy. The most popular technique is flourescence. This requires specific probes and microscope designs. Contrasting to optical resolution, contrast doesn't try to detect small object, but to make them stand our from the background.\n",
    "\n",
    "\n",
    "Optical Resolution Criteria:\n",
    "\n",
    "Rayleight criteria:\n",
    "$$ r_R = \\dfrac{0.61\\lambda}{NA} $$\n",
    "\n",
    "Sparrow ? Criteria:\n",
    "$$ r_s = dfrac{0.51\\lambda}{NA}$$\n",
    "\n",
    "$$ r = \\dfrac{\\lambda}{2NA} $$\n",
    "\n",
    "$$ r = \\dfrac{\\lambda}{NA_{ob} + N_{cor}} $$\n",
    "\n",
    "In the microscope, we have an Epi-flourescent lamphouse. In the old configurations, we would have a bulb. It's a very very bright bulb. The reason for this is that flourescence is very inefficeint. In older models, we bring light through the filters and mirrors into a detector. To do this, we need to have 1 of 2 things happen. Either have a broad spectrum of light and put it through a filter, or we need the specimen to flouresce at a different wavelenght. The Most popular lamps are mercury, xenon, and metal halide lamps. In more modern designs, we use LEDs, which put our high intensity light at low power cost with a very defined wavelength. WE can easily select the wavelength with different LEDs.\n",
    "\n",
    "Laser sources. Lasers use to be very expensive; now very cheap. Light which is coherent is in phase. Withing a narrow range, we are essentially monochromatic. It is very uniform and high power. All lasers have beam divergence, and will spread out eventually. 3 things cause this:\n",
    "\n",
    "* Not in a vacuum; lots of scattering\n",
    "* Diffraction from the aperture\n",
    "* Aberrations\n",
    "\n",
    "For continuous wave lasers, they follow a gaussian profile. They are brighter in the center, and drop off laterally. TEM00 mode is used for most imaging setups. For fundamental effects or size of beams, this may be an issue.\n",
    "\n",
    "Flourescence requires a molecule which is able to flouresce. The quantum yield is the ratio of absorbed photons to emitted photons. If a photon is absorbed, it is not necessairly re-emitted.\n",
    "\n",
    "$$Q_y = \\dfrac{\\text{Absorbed Photons}}{\\text{Emitted Photons}}$$\n",
    "\n",
    "Types of molecules made to emit light: Engineered/ Exogeneous/ Extrinsic\n",
    "Ex: Dyes, proteins, labeled, nanoparticles\n",
    "\n",
    "Certain types are Endogenous / Intrinsic\n",
    "Ex: Metabilic intermediates or Porphyins\n",
    "\n",
    "A lot of times, Endogeneous flourophores were considered to be noise; however, in recent years, they are now using them to understand biology.\n",
    "\n",
    "One of the most popular type of dyes are Alexa Dyes. They emit in a certain wavelength, very selectable. We can get some pretty bright cells without dyes; however, dyes can really help.\n",
    "\n",
    "In order for light to be emitted, it must first absorb light. Therefore, most dyes have a band for absorption and band for emission. If we shine a light at any point , we emit the full spectrum range (i.e. the shape of the emission curve does not depend on the exitation frequency of the incoming light)."
   ]
  },
  {
   "cell_type": "markdown",
   "metadata": {
    "hidden": true
   },
   "source": [
    "<img  src=\"IMG_0113.JPG\"/>"
   ]
  },
  {
   "cell_type": "markdown",
   "metadata": {
    "hidden": true
   },
   "source": [
    "## Light as a particle"
   ]
  },
  {
   "cell_type": "markdown",
   "metadata": {
    "hidden": true
   },
   "source": [
    "Energy of light is defined as (note, sometimes denoted as $\\Delta E$):\n",
    "\n",
    "$$ E = hv = hc/\\lambda $$\n",
    "\n",
    "Atoms have orbitals.When the electrons change states, or to a different cell, it requires energy. The light provides this energy.\n",
    "\n",
    "Intensity is viewed as an excitation from a population of molecules.\n",
    "\n",
    "$$ I = nE $$\n",
    "\n",
    "Reminder: photons not only have energy, they also have momentum. We'll revisit this later. If momentum is thought of as $p = mv = mc = h/\\lambda$, then the pressure, $P$ is defined as $P=\\dfrac{Nh\\nu}{c}$. How does a particle without mass have momentum? More on that later.\n",
    "\n",
    "We bring in the excitation energy, and a lot of things could happen. Possible that the light just goes on by. If the energy does actually interacts with it:\n",
    "\n",
    "* It could go back to its ground state\n",
    "* Give off heat\n",
    "* Energy can be sent to a nearby molecule\n",
    "* Intersystem crossing\n",
    "* Or! emit it as light\n",
    "\n",
    "Due to all these interactions, $E_{emission} < E_{absorption}$. Since this is true, $\\lambda_{emission} > \\lambda_{absorption}$. This is called Stokes Shift."
   ]
  },
  {
   "cell_type": "markdown",
   "metadata": {
    "hidden": true
   },
   "source": [
    "<img  src=\"IMG_0114.JPG\"/>"
   ]
  },
  {
   "cell_type": "markdown",
   "metadata": {
    "hidden": true
   },
   "source": [
    "Continuing with photon-matter interactions, we see that molecules start at some ground state S0,0, then goes to some excited state. There must be some relaxation state. We excite to S2,4. It drops the energy down to S1,0, then dump the energy, usually by emitting light. Now, it doesn't always drop down to S0,0. It could go to S0,4. This is why we have a variety of wavelengths. There are a lot of levels between orbitals."
   ]
  },
  {
   "cell_type": "markdown",
   "metadata": {
    "hidden": true
   },
   "source": [
    "<img  src=\"IMG_0115.JPG\"/>"
   ]
  },
  {
   "cell_type": "markdown",
   "metadata": {
    "hidden": true
   },
   "source": [
    "Let's say we have an emission spectrum and a excitation spectrum. On the other side of the sample is a detector. Since some of the light goes through the example, the detector can't be sensitive to the excitation frequency. To help with this, we use a dichromic mirror. The mirror will reflect a certain wavelength and allow another to pass through. There may be multiple detectors. Each of those will need different filters. These different filters are needed to examine portions of the signal. \n",
    "\n",
    "On exams: we define a light path and tell the instructor which wavelengths the filters and mirrors should be."
   ]
  },
  {
   "cell_type": "markdown",
   "metadata": {
    "hidden": true
   },
   "source": [
    "<img  src=\"IMG_0116.JPG\"/>"
   ]
  },
  {
   "cell_type": "markdown",
   "metadata": {
    "hidden": true
   },
   "source": [
    "With quantum yield, we assume the light has been absorbed and has a chance of emission. These electron transmission are quantum events. Absorption is governed by Beer's law. This is a means of expressing output intensity in terms of input intensity and an absorption. Let us assume that there is a cubette of absorbing molecules in an object $x$ cm thick. The more absorbers or the longer the path, the less light which gets through. \n",
    "\n",
    "Let us examine the change of intensity due to distance: $-\\dfrac{dI}{dt}$. It is decreasing, so usually written with a $-$. This change is a function of x. The $\\alpha$ is a fudge factor.\n",
    "\n",
    "$$ -\\dfrac{dI}{dx} = I \\alpha c $$\n",
    "$$ -\\int_{I_o}^{I_t} \\dfrac{dI}{I} = \\int_0^x\\alpha c dx $$\n",
    "$$ ln(\\dfrac{I_o}{I_t} = \\alpha cx $$\n",
    "$$ I_t = I_oe^{-\\alpha cx} $$\n",
    "\n",
    "Assumptions made so far:\n",
    "* Monochromatic\n",
    "* Perfect glass (no scatterers)\n",
    "* Homogeneous\n",
    "\n",
    "Definitions:\n",
    "* $A = \\text{log}_{10}(\\dfrac{I_o}PI_t} = \\dfrac{1}{ln10}\\alpha cx = \\epsilon cx)$ - abosrbance\n",
    "* Also defined as $A = -\\text{log}(T)$\n",
    "* $\\epsilon$ = molar extinction coefficient\n",
    "* transmitance is defined as $T = \\dfrac{I_o}{I_t}$"
   ]
  },
  {
   "cell_type": "markdown",
   "metadata": {
    "hidden": true
   },
   "source": [
    "<img  src=\"IMG_0117.JPG\"/>"
   ]
  },
  {
   "cell_type": "markdown",
   "metadata": {
    "hidden": true
   },
   "source": [
    "We can think about the infintescimally thin layer out of the path. We way that we have light going in and out. To evaluate what happens at the little slice of thickness $dx$ at a distance $x$ from the entrance. The cross-sectional area $S$ is filled with molecules, each having a molecular cross-section $\\sigma$. Assme the light incoming intensity is $I_x$ and after it has intensity $I_x-dx$. If we think about the cross section containing $dN$ molecules:\n",
    "\n",
    "$$ \\dfrac{dN}{dx} = cSN_a = NS $$\n",
    "\n",
    "The cross-sectional area is insuffient to think about capturing a photon. The better way to think about it is the fraction of area that can absorb, or $\\sigma/S$."
   ]
  },
  {
   "cell_type": "markdown",
   "metadata": {
    "hidden": true
   },
   "source": [
    "<img  src=\"IMG_0118.JPG\"/>"
   ]
  },
  {
   "cell_type": "markdown",
   "metadata": {
    "heading_collapsed": true
   },
   "source": [
    "# Lecture 9"
   ]
  },
  {
   "cell_type": "markdown",
   "metadata": {
    "hidden": true
   },
   "source": [
    "We started looking at a way to derive the extinction coefficient\n",
    "\n",
    "We have a thin volume within some volume, $dx$, with incoming light $I_x$ and outgoing $I_x - dI$\n",
    "\n",
    "We have some number of molecules we interact with per unit distance. A\n",
    "\n",
    "$$ \\dfrac{dN}{dx} = cSN_a = NS $$\n",
    "\n",
    "s I travel some distance, the whole area doesn't absorb light. Thus we define a cross-section of light. the fraction which can absorb isn't $S$; rather it is $\\sigma/S$.\n",
    "\n",
    "$\\dfrac{\\sigma}{S}$\n",
    "\n",
    "Therefore, the amount of light coming into the box is:\n",
    "\n",
    "$$-\\dfrac{dI}{I_x} = \\sigma Ndx$$\n",
    "$$-\\int^{I_t}_{I_o} \\dfrac{dI}{I} = \\int_0^x \\sigma Ndx$$\n",
    "$$ -(n(I_t) - ln(I_o) = N\\sigma(x-0) $$\n",
    "$$ln(\\dfrac{I_o}{I_t} = N\\sigma x $$\n",
    "$$\\text{log}_{10}(\\dfrac{I_o}{I_t}) = \\dfrac{1}{ln10}N\\sigma x$$\n",
    "\n",
    "$$ A = \\text{log}_{10}(\\dfrac{I_o}{I_t}) = \\epsilon cx $$\n",
    "\n",
    "Don't forget that here, $\\epsilon = \\dfrac{\\alpha}{2.303}$\n",
    "\n",
    "Substitution:\n",
    "\n",
    "$$ \\dfrac{1}{ln10}N_a c\\sigma x = \\epsilon cx $$\n",
    "$$ \\sigma = \\dfrac{ln10 \\epsilon}{N_a} \\implies 3.825 \\cdot 10^{-21}\\epsilon $$\n",
    "\n",
    "When we get into two-photon cross section, we might see $\\sigma_p$ or something, meaning the probability of catching 2 photons.\n",
    "\n",
    "As we will understand from exam 1, we have losses and scattering. We have a control arm. We will solve the problem. If we break the assumption, we need some math. All we do is integrate over all wavelengths.\n",
    "\n",
    "$$ f = \\dfrac{4\\text{ln}10\\epsilon_omc^2}{N_ac^2\\lambda_m}\\int\\epsilon(\\lambda)d\\lambda $$"
   ]
  },
  {
   "cell_type": "markdown",
   "metadata": {
    "hidden": true
   },
   "source": [
    "<img  src=\"IMG_0132.JPG\"/>"
   ]
  },
  {
   "cell_type": "markdown",
   "metadata": {
    "hidden": true
   },
   "source": [
    "## Quantum Description"
   ]
  },
  {
   "cell_type": "markdown",
   "metadata": {
    "hidden": true
   },
   "source": [
    "Energy must be supplied to move electrons between orbitals. We see that there are complex wave functions, even for simple hydrogen atoms. There's no in-between states.\n",
    "\n",
    "Lets consider things in terms of a wave function. The wave function is often referred to as a state function. We are thinking about the election being in \"ground\" or \"excited states\". If described well, we can describe all the configurable coordinates. In other words, different states in which it can exist. Has (x,y,z,t) coordinates. It has the property of a probability density function:\n",
    "\n",
    "$$ \\int |\\Psi|^2 = 1 $$\n",
    "\n",
    "This describes the probability that a function is in a particular state. If we wanted to say that a single electrion had some coordinates, and wanted to know the probability that it exists within certain coordinates:\n",
    "\n",
    "$$ x,y,z \\rightarrow x+\\Delta x, y+\\Delta y, z+\\Delta z $$\n",
    "$$ \\Psi(x,y,z,t)\\cdot \\Psi(x,y,z,t)\\Delta x, \\Delta y, \\Delta z $$\n",
    "\n",
    "Leaving out some math (don't want to get into it now)\n",
    "\n",
    "$$ \\iiint_{-\\infty}^{\\infty} \\Psi\\cdot\\Psi dxdydz = 1 $$\n",
    "\n",
    "We understand that there are certain \"allowable\" states which require defined energy for which to do that. We need the defined energy to move between states. These changes in states are known as the characteristic state, or the eigenstate. "
   ]
  },
  {
   "cell_type": "markdown",
   "metadata": {
    "hidden": true
   },
   "source": [
    "<img  src=\"IMG_0133.JPG\"/>"
   ]
  },
  {
   "cell_type": "markdown",
   "metadata": {
    "hidden": true
   },
   "source": [
    "Each of these states is associated with some state. These energies are referred to as the energy state. Let's talk about the time dependence of the function. There are a time-dependent and -independent forms of the schrodenger equation.\n",
    "\n",
    "Assume we have some wave function:\n",
    "\n",
    "$$ \\Psi(x,y,z,t) = \\varphi_n(x,y,z) e^{ \\dfrac{-iE_nt}{\\bar{h}} } $$\n",
    "\n",
    "Here: $\\bar{h} = \\dfrac{h}{2\\pi}$ where $h$ is plank's constant. $\\varphi_n(x,y,z)$ handles the spatial poriton, wereas the $e$ term handles the time. Moving on:\n",
    "\n",
    "$$ \\Psi_m^* \\cdot \\Psi_m = \\varphi e^{\\dfrac{iE_nt}{\\bar{h}}} \\varphi e^{\\dfrac{-iE_nt}{\\bar{h}}} = \\varphi_m^* \\varphi_m $$\n",
    "\n",
    "Since this is sinusoidal, we can solve for the wave equation without time dependence.\n",
    "\n",
    "$$ \\nabla^2 \\varphi + (\\dfrac{2\\pi}{\\lambda})^2\\varphi = 0 $$\n",
    "\n",
    "$$ \\nabla^2\\varphi + (\\dfrac{2\\pi p}{h})^2\\varphi = 0 $$\n",
    "\n",
    "$$ E = \\dfrac{1}{2}mu^2 + V $$\n",
    "$p = mu$\n",
    "so\n",
    "$$ p^2 = 2m(E-V) $$\n",
    "\n",
    "The kinetic portion is $\\dfrac{1}{2}mv^2$. The potential is $V$. I think that $p$ is momentum and $u$ is velocity.   \n",
    "\n",
    "This results in the famous equation, Schrodinger's equation. Thisis a solution to the wave equation. \n",
    "\n",
    "$$ \\nabla \\varphi + \\dfrac{8\\pi^2 m}{h^2}(E-V)\\varphi = 0 $$\n",
    "\n",
    "As a note, somethimes we see a $H$ in the term. It's a measure of the total energy in the system. It characterizes the energy of any given wave function."
   ]
  },
  {
   "cell_type": "markdown",
   "metadata": {
    "hidden": true
   },
   "source": [
    "<img  src=\"IMG_0135.JPG\"/>"
   ]
  },
  {
   "cell_type": "markdown",
   "metadata": {
    "hidden": true
   },
   "source": [
    "## Standing Wave"
   ]
  },
  {
   "cell_type": "markdown",
   "metadata": {
    "hidden": true
   },
   "source": [
    "Let's think about a standing wave.\n",
    "\n",
    "$$ \\Psi(x,t) = B\\text{sin}(kx-\\omega t) $$\n",
    "$$ \\Psi(x,t) = \\text{sin}(kx+\\omega t) $$\n",
    "\n",
    "Superpostion (using fancy trig stuff) (also $A=2B$):\n",
    "$$ \\Psi(x,t) = A\\text{sin}(kx)\\text{cos}(\\omega t) $$\n",
    "\n",
    "Oscillations are propotional to the cos term. Amplitude is described by the sin term.\n",
    "\n",
    "$$ \\text{sin}(kx) = 0 \\implies \\Psi(x,t) = 0 $$\n",
    "\n",
    "Thinking about harmonics and standing waves, we can see that there are several solutions. $L$ is the distance between walls of the well. We can rewrite this whole thing:\n",
    "\n",
    "$$ \\Psi(x,t) = \\varphi(x)\\text{cos}(\\omega t) $$\n",
    "\n",
    "Looking at the nodes of these standing waves (n=1,2,3...):\n",
    "\n",
    "$$ \\lambda = \\dfrac{2L}{n} $$\n",
    "\n",
    "Distance between nodes: $\\dfrac{n\\lambda}{2} = L$\n",
    "\n",
    "We need to have a sufficiently long well (aka $L$) for a standing wave to exist.\n",
    "\n",
    "Picking back up from:\n",
    "\n",
    "$$ \\Psi(x,t) = \\varphi(x)\\text{cos}(\\omega t) $$\n",
    "$$ \\Psi(x,t) = \\varphi(x)(a\\text{cos}(\\omega t) + b\\text{sin}(\\omega t)) $$\n",
    "\n",
    "In physical terms, the coefficients must be real; in quantum terms, they must be complex.\n",
    "\n",
    "$$ \\varphi(x,t) = \\varphi(x) e^{i\\omega t} $$\n",
    "$$ E = \\bar{h}\\omega $$\n",
    "\n",
    "Earlier we have shown that, in terms of the standing wave, we really care about the spatial portion.\n",
    "\n",
    "We want to dig into how these states can exist or not. If we switch between thinking of a rope vs a discrete quantum event, it can switch between having a certain number of nodes.\n",
    "\n",
    "$$ \\varphi(x) = A\\text{sin}(kx) + B\\text{cos}(kx) $$\n",
    "\n",
    "If we think about these wave functions,, the total energy of the system is related to the energy it took to go from ground state to the excited state. One way we'll see it written:\n",
    "\n",
    "$$ \\Delta E = E_{Lomo} - E_{Homo} = \\dfrac{h^2}{8mL^2}(n^2_{lomo} - n^2{Homo}) $$\n",
    "\n",
    "Here, lomo = and homo= \n",
    "\n",
    "The energy required for a particle to change states is:\n",
    "$$ E_n = \\dfrac{n^2h^2}{8mL^2} $$"
   ]
  },
  {
   "cell_type": "markdown",
   "metadata": {
    "hidden": true
   },
   "source": [
    "<img  src=\"IMG_0138.JPG\"/>"
   ]
  },
  {
   "cell_type": "markdown",
   "metadata": {
    "hidden": true
   },
   "source": [
    "Now we look at a particle in a box. There is infinite potential energy in a box an zero within the box (really it's constant, but we define it as 0). The \"forbidden states\" are outside the box. There's no force within the box.\n",
    "\n",
    "$$ E_{\\bar{h}} = \\dfrac{1}{2}mu^2$$\n",
    "$$ p = mu = \\dfrac{h}{\\lambda} $$\n",
    "$$ E_{\\bar{h}} = \\dfrac{p^2}{2m} $$\n",
    "\n",
    "For $0<x<L$\n",
    "$$ V(x) = 0 $$\n",
    "\n",
    "For $x\\geq L, x\\leq 0$:\n",
    "$$ V(x) = \\infty $$\n",
    "\n",
    "$$ \\Psi(x,t) = \\varphi(x) e^{i\\omega t} $$\n",
    "\n",
    "For $0<x<L$\n",
    "$$ \\varphi(x) = A\\text{sin}(kx) = B\\text{cos}(kx) $$\n",
    "\n",
    "Note, stationary wave is $A\\text{sin}(kx)$\n",
    "\n",
    "$ \\varphi(x) = 0 $ when x is outside the box.\n",
    "$$ \\varphi(0) = \\varphi(L) = 0 $$\n",
    "$$ \\varphi(0) = B = 0 \\implies A\\text{sin}(kx) = 0$$\n",
    "\n",
    "Knowing sin is zero:\n",
    "\n",
    "$$ kL \\implies \\pi, 2\\pi, 3\\pi, ... \\implies k = \\dfrac{n\\pi}{L}$$\n",
    "\n",
    "Therefore, for $n=1,2,3,...$:\n",
    "\n",
    "$$ \\lambda = \\dfrac{2\\pi}{k} = \\dfrac{2L}{n} $$\n",
    "\n",
    "$$ \\text{Energy} = E_{\\bar{h}}$$ \n",
    "\n",
    "$$ E = \\dfrac{p^2}{2m} $$\n",
    "$$ p = \\dfrac{h}{\\lambda} = \\dfrac{nh}{2L} $$\n",
    "\n",
    "$$ E_n = \\dfrac{n^2h^2}{8mL^2} $$\n",
    "\n",
    "Moving along with the standing wave, we can define the probability that we can find a wave in a certain state in a given space:\n",
    "\n",
    "$$ \\varphi(x) = A\\text{sin}(\\dfrac{n\\pi x}{L} $$\n",
    "$$ P(x\\text{ and }x+dx) = |\\varphi(x)|^2dx $$\n",
    "\n",
    "$$ \\int^{infty}_{-\\infty}|\\varphi(x)|^2 = 1 \\implies A^2\\int^{L}_{0}\\text{sin}^2(\\dfrac{n\\pi x}{L} dx $$\n",
    "\n",
    "There are energies which allow you to make state changes. Once you are in those configurations, we can dissapate energy. There is a probability which we will be in a state which allows us to emit a photon. "
   ]
  },
  {
   "cell_type": "markdown",
   "metadata": {
    "collapsed": true,
    "heading_collapsed": true
   },
   "source": [
    "# Lecture 10"
   ]
  },
  {
   "cell_type": "markdown",
   "metadata": {
    "hidden": true
   },
   "source": [
    "## Green Flourescent Protien"
   ]
  },
  {
   "cell_type": "markdown",
   "metadata": {
    "hidden": true
   },
   "source": [
    "Osamu Shimomura, Martin Ghalfie and Roger Y. Tsien won the nobel proze.\n",
    "\n",
    "Education interrupted by WWII; hired by assistant by a professor. What makes a molusk glow? Americans failed for years; he did it in under 1 year.\n",
    "\n",
    "Geneti map GFP. He assigned a grad student to get e-coli to produce protein. Measured the excitation wavelength; absorbed blue and emits in green. He would get GFP, put it behind the gene of interest, and know when the gene was used by when it flowed. DNA put into a worm; the promoter he used was in a touch receptor neuron.\n",
    "\n",
    "Also discovered GFP structure as a \"beer can\". Also stable (long lasting), small gene size, and no additional proteins are required to make it flouresce. All allow for use in live cell.\n",
    "\n",
    "Roger Tsien took the GFP and mutated it to expressed many different colors.\n",
    "\n",
    "After"
   ]
  },
  {
   "cell_type": "markdown",
   "metadata": {
    "heading_collapsed": true
   },
   "source": [
    "# Lecture 11"
   ]
  },
  {
   "cell_type": "markdown",
   "metadata": {
    "hidden": true
   },
   "source": [
    "Fluorescence microscopy.\n",
    "\n",
    "Announcements:\n",
    "* 1st 2nd and 3rd for the practicum\n",
    "\n",
    "We go from widefield microcopy and go to single and two-photon microscopy. We begin with a basic view of the microscope. Light from the objective shines through the sample; within the sample, there is some focal plane. Light may be reflected or scattered; some does not make it back to the objective. Only some fraction makes it back to the detector. This is known as the light budget.\n",
    "\n",
    "Imaging we have a bulb. Say 75 W lamp, small enough area to be pretty bright. We say that when the output of the light is put through a filter, 75\\% of the light is transmitted. Approximately 2 mW of light will pass. We have a 90\\% efficient dochromatic mirror, so losing 10\\% more. Now we have 1.8 mW light entering the aperture. The area of the specimin is 12 $\\mu m$ assumed. Approximately 40$\\mu m$ of FOV. The photon flux is $0.32 \\cdot 10^{21}$. This is ~1000x brigher than the sun hitting the earth.\n",
    "\n",
    "$$ I = nI_o $$\n",
    "\n",
    "In this equation, we change this to flourescence:\n",
    "\n",
    "$$ F = \\sigma Q I $$\n",
    "Where:\n",
    "* Q - quantum yield\n",
    "* I - intensity\n",
    "* $\\sigma$ - (brightness of molecule???)\n",
    "\n",
    "After the molecule is flouresced, it shoots light back. Unfortunately, the light collection is very small. Then, the light is attenuated at the filters and mirrors again. In total, we can detect only 10\\% of the inputted light.\n",
    "\n",
    "To make up for the lack of light, sometimes we use photomultiplier tubes. Efficiency is fairly low generally; 50\\% is pretty good for a standard camera.\n",
    "\n",
    "Dr. Provensano's microscope outperforms other systems because it takes up a large area, and therefore doesn't have as many mirrors or optics. Therefore, there is not as much abberation or light loss."
   ]
  },
  {
   "cell_type": "markdown",
   "metadata": {
    "hidden": true
   },
   "source": [
    "Recall that there is some excitation filter. The filter is used to filter out the source light from the frequency-shifted light produced from the specimen. We discussed this last class."
   ]
  },
  {
   "cell_type": "markdown",
   "metadata": {
    "hidden": true
   },
   "source": [
    "## Confocal Microscopy"
   ]
  },
  {
   "cell_type": "markdown",
   "metadata": {
    "hidden": true
   },
   "source": [
    "The idea of microscopy was originally done with 2 pinholes. The second pinhole blocks out of focus light. The idea progressed to a moving table; this idea didn't stick because the mechanical instability made it difficult.\n",
    "\n",
    "We take a laser through a dichroic mirror, then through rotating mirrors. This type of scanning is called raster scanning.\n",
    "\n",
    "In confocal microscopy, light is emitted from the specimen both within and outside of the focal plane. The pinhole is used to block this out-of-focus light. This is called optical sectioning. Unfortunately, this pinhole also excludes scattered light from the focal plane as well. If the light gets too small, we lose photons; however resolution is increased. As a consequence of having the pinhole, we can exceed the resolution of a wide-field microscope. If the pinhole becomes like a point source, the SNR is bad, even if optical resolution is good.\n",
    "\n",
    "Confocal resolution:\n",
    "\n",
    "$$ \\Delta x_{confocal} = 0.43\\dfrac{\\lambda_o}{NA_{objective}} $$\n",
    "\n",
    "Compare this to the 0.61 in the Rayleigh criterion.\n",
    "\n",
    "Two types of resolution:\n",
    "* Optical resolution. From the optics, max resolution we can get.\n",
    "* Contrast/SNR: distinguish sample from background\n",
    "\n",
    "Photons exist as Poisson statistics. This is used to describe discrete statistics. A photon is either there or not. This can be used to describe the difficulty with the pinhole. There is a potential drop-off of photon intensity from $10^9$ to $10^2$.\n",
    "\n",
    "\n"
   ]
  },
  {
   "cell_type": "markdown",
   "metadata": {
    "hidden": true
   },
   "source": [
    "## Practical consideration"
   ]
  },
  {
   "cell_type": "markdown",
   "metadata": {
    "hidden": true
   },
   "source": [
    "We've talked about microscopy foundations. Now we will apply them to microscopes practically.\n",
    "\n",
    "Regarding pixels, discratization bins all the light in a certain area. If we scan and set the parameters to have a low resolution (low pixel count), then we could possibly miss some information. We can change the pixel count because the \"pixels\" are determined by shifting the beam, recording the intensity, then assigning that intensity value to an array. Each measurement is made for pixels, but theres not actually a set limit. Typical values are 512x512 or 1024x1024. There is some overlap between pixels; however this overlap helps to create continuity between pixels.\n",
    "\n",
    "Sampling: in microscopy, the Nyquist criterion says that you should be sampling at 2x the highest spatial frequency of your sample. Undersampling can be very wrong\n",
    "\n",
    "\n",
    "\n"
   ]
  },
  {
   "cell_type": "markdown",
   "metadata": {
    "hidden": true
   },
   "source": [
    "## Multiphoton Microscopy"
   ]
  },
  {
   "cell_type": "markdown",
   "metadata": {
    "hidden": true
   },
   "source": [
    "This started from a theoretical description in a dissertation in 1931. She won a Nobel Prize later. In her thesis, she described double absorption and double emission. The first paper to implement this in a real microscope patented the technology; very recently has the patent ended.\n",
    "\n",
    "In continuous, light is emitted wherever light goes. The excitation looks like an hourglass. In multiphoton, only a dot is formed, at the waist of the hourglass. This happens because its the point of highest photon density.\n",
    "\n",
    "Twho photons are used to bridge the energy gap between orbitals. The sample is proportional to the square of the input of the signal (thus, nonlinear). Resolution is equal to confocal microscopy, optical resolution speaking. Effective resolution is the same. There is lower phototoxicity.\n",
    "\n",
    "Photons are pulsed at ~12 ns. The pulse width is about 12 fs. this is generated with mode-locked laser.\n",
    "\n",
    "Why not 3 photon microscopy? Lower probability.\n",
    "\n",
    "Optical sectioning. The probability of two photons interacting fall off with $z^{-2n}$. This means that a femptoliter of volume actually fluoresces.\n",
    "\n",
    "In real life, we must also worry about the efficiency of the set-up. Also, we don't need to have a pinhole."
   ]
  },
  {
   "cell_type": "markdown",
   "metadata": {},
   "source": [
    "# Lecture 12"
   ]
  },
  {
   "cell_type": "markdown",
   "metadata": {},
   "source": [
    "Photoacoustic imaging. Does anything between acoustic and acoustics. Or detection of acoustic waves using light and lasers. There used to be a sienctific war on the terminology. People felt very strongly about what we should call this topic. Some call it opto-acoustic. What we mean is that we excite ultrasound waves using light. Photoacoustic imaging is not that new. The first time this is introduced was Bell. He wrote about both generating light through sound and visa versa. He thought this would be the way to transmit audio signals. He thought light would be the carrier ofthe information. He would figure out how light would be modulated, then reconstruct an audio wave. This isn't ultrasound (still in audible), and wasn't a great success. However, in th 1970s - 80s, photoacoustics was used in the spectroscopy. IN this, the wavelength of light is varied; traditional imanging looks at the absorption of light. In photoacoustic spectroscopy, the light gets chopped by spinning wheel. The light then hits a sample, creating a photoacoustic effect. There is some sort of thermal expansion. It was used more in the agriculture world (dunno why???).\n",
    "\n",
    "What happens since then?\n",
    "\n",
    "Things were still in the audible range. Then the field evolved mostly due to the availability of pulse laser (ns pulse widths). This created a photoacoustic effect with much higher bandwidth. The same devices can be built with very short pulsed lasers. This is how it began. The wavelength is very short and opens up the possibility to do mulitchannel detection and image reconstruction. In the 90s, the field began to emerge.\n",
    "\n",
    "A sample with the tissue is nonhomogeneous. Some light is absorbed more than the others. The laser pulse is propagated throughout the tissue. The whole tissue is diffusively illuminated with the laser. The laser is not focused; more like diffused behaviour. Temporal behavior still very short. This then creates acoustic stress. due to light absorption. The pressure propagates radially outward as an acoustic wave and hits the detector. If this is due to imaging, we can use this to reconstruct an image. This is not the type of mechanical echo; it is based on the optical tissue. This allows us to see which tissue absorbed the imaging."
   ]
  },
  {
   "cell_type": "markdown",
   "metadata": {},
   "source": [
    "<img  src=\"IMG_0190.JPG\"/>"
   ]
  },
  {
   "cell_type": "markdown",
   "metadata": {},
   "source": [
    "What is the magitude of the pressure? It's pretty difficult to imagine light absorption being an effecient mechanism to create stress. If you thinkthat, then you're right; not efficient.\n",
    "\n",
    "Let's say we have a small sphere; at some point, it is illuminated by a laser pulse. The pulse is short; within the duration of illumination, the temperature is elevated due to light abosrption. This corresponsds to a rise in pressure. This is because, if you increase the temperature of a material, you get an increase in pressure. There is no time yet for the object to expand. The object stays the same size. No thermal expansion. To have any kind of change in the size of the object, the pressure must be relaxed. The pressure wave is released spherically outward. If we wait long enough, the temperature also returns; however the acoustic wave is generated by the release of pressure.\n",
    "\n",
    "Back to this pressure wave. The acoustic speed is smaller than the expanding pressure. The object is containing the pressure."
   ]
  },
  {
   "cell_type": "markdown",
   "metadata": {},
   "source": [
    "<img  src=\"IMG_0191.JPG\"/>"
   ]
  },
  {
   "cell_type": "markdown",
   "metadata": {},
   "source": [
    "If we use the information that the object hasn't expanded yet, we can figure out the other variables.\n",
    "\n",
    "Using the same relationship, we can back everything into a singular dimensionless coefficient as an easy estimate given by a certain acoustic signal. The typical range:\n",
    "\n",
    "$ 10-50 mJ/cm^2 $$$\n",
    "\n",
    "This is due to safety for skin exposure. Above this, we might feel burning too. The absorbed energy can be calculated by assuming things about the object. The temperature elevation is generally less than $1^o$. This causes a change in pressure on the order of 200 Pa. It can even be on the order of 10 Pa, and we can detect it still. So even though light is inefficient, the signals which are generated are still large enough to be detected.\n",
    "\n",
    "If we count acoustic energy as the wave epands, it will be only a few percent of the deposited energy by light. REst is heat conduted away. Displacement is around $1\\mu m$.\n",
    "\n",
    "To analyze photoacoustic imaging, we need some backgorund. The most prominent observation is that beams are not propagated through the tissue (we are not transparent). The largest difference between optics and tissue is the very strong effect of scattering. \n",
    "\n",
    "If photons enter a tissue, they could go through, change direction, or be absorbed."
   ]
  },
  {
   "cell_type": "markdown",
   "metadata": {},
   "source": [
    "<img  src=\"IMG_0192.JPG\"/>"
   ]
  },
  {
   "cell_type": "markdown",
   "metadata": {},
   "source": [
    "Then there is a useful observation, which is that most scattering occurs in cell tissue or organells. The scatterers are very dense in 3D. The situation is more like very short travel to scattering. The difference in optical refraction index is what causes the scattering. The changes are small, so the deflection is small; so what we have are small deflections, but many of them. There is a model which takes the scattering of small angles and maps it to look more like diffusion. The random walk is the equivelant of diffusion; if we look at the probability distribution of random wand and diffusion, they have the same distribution. So what we do is we couple more events to gether (maybe 10), and call them an effective scattering event. So we go from a real scattering coefficient to a normalized scattering coefficient. The average angle $<\\cos\\theta>$ is the average change in angle. Usually this is close to 1; however in the normalized equations, we want the mean to be 0 (to mimic random walk probability distribution). We then create the reduced scattering coefficient.\n",
    "\n",
    "\n",
    "The path is not linear. Therefore the path needs to be redefined to define effective abosrption.\n",
    "\n",
    "$$ \\mu-{eff} = \\sqrt{3\\mu_a\\mu_s\\prime} $$\n",
    "\n",
    "The effective absorption is what crates the rise of the acoustic signal.\n"
   ]
  },
  {
   "cell_type": "markdown",
   "metadata": {},
   "source": [
    "The next question is how far can we go with photoacoustic imaging. We can use our terminology so far. We can take the abosrption coefficeint and combine it with the scattering coefficient, etc. We also need to know the acoustic pressure so we can compare it to the noise level in a typical ultrasound detection. We can show that the light propagation is exponentially decaying.\n",
    "\n",
    "Let's look at penetration depth estimation. First, we look at the optical fluence at a given depth. Then we map to the generated acoustic pressure. This then maps to the detected acoustic pressure. The acoustic which will be detected undergoes more losses as it propagates back outside. Realistically, the noise level is around 10 Pa."
   ]
  },
  {
   "cell_type": "markdown",
   "metadata": {},
   "source": [
    "<img  src=\"IMG_0193.JPG\"/>"
   ]
  },
  {
   "cell_type": "markdown",
   "metadata": {},
   "source": [
    "Now we can see some photoacoustic imaging generated from an experiment. We can go 4-5 cm deep.\n",
    "\n",
    "Some guy claims to go 11 cm deep. Maybe, but stacked chickens, however, there is not a lot of blood in the tissue. This should cause losses.\n",
    "\n",
    "Q: is resolution limited to detector?\n",
    "A: yes, specifically the bandwidth of the detector. "
   ]
  },
  {
   "cell_type": "markdown",
   "metadata": {},
   "source": [
    "<img  src=\"IMG_0194.JPG\"/>"
   ]
  },
  {
   "cell_type": "markdown",
   "metadata": {},
   "source": [
    "People have done Gigahertz in frequencies; however, this increase isn't good as it decreases penetration depth. Frequency is determined by the size of the object and the size of the laser pulse.\n",
    "\n",
    "REsolution can be extremely high."
   ]
  },
  {
   "cell_type": "markdown",
   "metadata": {},
   "source": [
    "<img  src=\"IMG_0195.JPG\"/>"
   ]
  },
  {
   "cell_type": "markdown",
   "metadata": {},
   "source": [
    "The question is what can make the signal?\n",
    "\n",
    "* Endogenic - Hemoglobin, melanin, lipds, etc.\n",
    "* Exogenic - \n",
    "\n",
    "Wavelenght is the parameter which can be used to get more information about the abosrption. For example, for hemoglobin, we know that abosrption changes depending on whether or not it is bound.\n",
    "\n",
    "Lipids tend to absorb light in the infrared range. This is because the vibration is due to CH bonds. This makes it difficult, as water also absorbs around this range. Imaging is difficult about 1000 nm range."
   ]
  },
  {
   "cell_type": "markdown",
   "metadata": {},
   "source": [
    "A few examples; first is hemoglobin.\n",
    "\n",
    "High resolution, low penetration depth.\n",
    "\n",
    "Next, we can use nanoparticles as contrast agents. Also, we can use dyes. In biopsy and lymph nodes. the blue dyes can be a source for photoacoustic signals.\n",
    "\n",
    "We can look at the extinciton response change with the pH of the substance. It is therefore possible to do photoacoustic pH sensing. \n",
    "\n",
    "There is an extensive clinical trial for detecting breast cancer with photoacoustic imaging. There ae some results, going into larger studies now.\n",
    "\n",
    "In most cases, the transducer contains a lot of transducer. In a specific case, there is one element within the transducer, then it is rotated around the obect to give full imaging.\n",
    "\n",
    "Several companies have developed dedicated machines to small animals. iThera is an example. "
   ]
  }
 ],
 "metadata": {
  "anaconda-cloud": {},
  "kernelspec": {
   "display_name": "Python [conda root]",
   "language": "python",
   "name": "conda-root-py"
  },
  "language_info": {
   "codemirror_mode": {
    "name": "ipython",
    "version": 3
   },
   "file_extension": ".py",
   "mimetype": "text/x-python",
   "name": "python",
   "nbconvert_exporter": "python",
   "pygments_lexer": "ipython3",
   "version": "3.5.2"
  },
  "latex_envs": {
   "LaTeX_envs_menu_present": true,
   "bibliofile": "biblio.bib",
   "cite_by": "apalike",
   "current_citInitial": 1,
   "eqLabelWithNumbers": true,
   "eqNumInitial": 1,
   "labels_anchors": false,
   "latex_user_defs": false,
   "report_style_numbering": false,
   "user_envs_cfg": false
  },
  "toc": {
   "colors": {
    "hover_highlight": "#DAA520",
    "running_highlight": "#FF0000",
    "selected_highlight": "#FFD700"
   },
   "moveMenuLeft": true,
   "nav_menu": {
    "height": "157px",
    "width": "252px"
   },
   "navigate_menu": true,
   "number_sections": true,
   "sideBar": true,
   "threshold": 4,
   "toc_cell": false,
   "toc_section_display": "block",
   "toc_window_display": false
  }
 },
 "nbformat": 4,
 "nbformat_minor": 1
}
